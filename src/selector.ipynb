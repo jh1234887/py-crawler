{
 "cells": [
  {
   "cell_type": "markdown",
   "id": "8a4658f7",
   "metadata": {},
   "source": [
    "# Import modules"
   ]
  },
  {
   "cell_type": "code",
   "execution_count": 1,
   "id": "7c8ee6cd",
   "metadata": {},
   "outputs": [],
   "source": [
    "import json\n",
    "import requests\n",
    "import urllib.parse\n",
    "import time\n",
    "from bs4 import BeautifulSoup\n",
    "import pprint\n",
    "from extract_hwpx_latest import WebTextExtractor\n",
    "import nest_asyncio\n",
    "import asyncio\n",
    "from pprint import pprint\n",
    "import asyncio\n",
    "import re\n",
    "from urllib.parse import urljoin\n",
    "from bs4 import BeautifulSoup\n",
    "import traceback\n",
    "from crawl4ai import AsyncWebCrawler\n",
    "from extract_hwpx_latest import WebTextExtractor\n",
    "import nest_asyncio\n",
    "import asyncio\n",
    "import feedparser\n",
    "import urllib.request\n",
    "import nest_asyncio\n",
    "nest_asyncio.apply()\n",
    "headers = {\n",
    "    'User-Agent': 'Mozilla/5.0 (Windows NT 10.0; Win64; x64) AppleWebKit/537.36 (KHTML, like Gecko) Chrome/91.0.4472.124 Safari/537.36'\n",
    "}\n"
   ]
  },
  {
   "cell_type": "markdown",
   "id": "be34c92e",
   "metadata": {},
   "source": [
    "###  hwpx뷰어에서 텍스트 추출"
   ]
  },
  {
   "cell_type": "code",
   "execution_count": 2,
   "id": "38a095d6",
   "metadata": {},
   "outputs": [],
   "source": [
    "IFRAME_KEY = \"docviewer/skin/doc.html\"  # 미리보기 iframe 식별 키\n",
    "\n",
    "def _extract_urls_from_iframes(soup, base):\n",
    "    \"\"\"이미 열려 있는 프리뷰 iframe의 src 추출 (가장 확실/간단)\"\"\"\n",
    "    urls = set()\n",
    "    for iframe in soup.select(\"div.bbs_file_preview iframe[src]\"):\n",
    "        src = iframe.get(\"src\")\n",
    "        if src and IFRAME_KEY in src:\n",
    "            urls.add(urljoin(base, src))\n",
    "    return urls\n",
    "\n",
    "def _find_any_rs_suffix(soup):\n",
    "    \"\"\"\n",
    "    같은 페이지 내 다른 iframe에서 rs 파라미터만 떼어 재사용.\n",
    "    예: /docviewer/result/ntc0021/49374/1/202509\n",
    "    \"\"\"\n",
    "    any_iframe = soup.select_one(f\"div.bbs_file_preview iframe[src*='docviewer/result/']\")\n",
    "    if not any_iframe or not any_iframe.get(\"src\"):\n",
    "        return None\n",
    "    m = re.search(r\"[?&]rs=([^&]+)\", any_iframe[\"src\"])\n",
    "    return m.group(1) if m else None\n",
    "\n",
    "def _extract_urls_from_onclick(soup, base):\n",
    "    \"\"\"\n",
    "    onclick=\"fnConvertDocViewer('brd_id','seq','file_seq')\" + 파일명으로\n",
    "    미리보기 URL 조립. rs는 같은 페이지 iframe에서 재사용.\n",
    "    \"\"\"\n",
    "    urls = set()\n",
    "    onclick_re = re.compile(r\"fnConvertDocViewer\\('([^']+)','([^']+)','([^']+)'\\)\")\n",
    "    rs_suffix = _find_any_rs_suffix(soup)\n",
    "\n",
    "    for a in soup.select(\"a.bbs_icon_preveiw[onclick]\"):\n",
    "        m = onclick_re.search(a.get(\"onclick\", \"\"))\n",
    "        if not m:\n",
    "            continue\n",
    "        brd_id, seq, file_seq = m.groups()\n",
    "\n",
    "        li = a.find_parent(\"li\")\n",
    "        strong = li.select_one(\".bbs_file_cont > strong\") if li else None\n",
    "        filename = strong.get_text(strip=True) if strong else None\n",
    "\n",
    "        if not filename:\n",
    "            continue\n",
    "\n",
    "        # rs 추정/조립\n",
    "        rs = None\n",
    "        # 1) 같은 li에 프리뷰 iframe이 있으면 그걸 우선 신뢰\n",
    "        if li:\n",
    "            ifr = li.select_one(\"div.bbs_file_preview iframe[src]\")\n",
    "            if ifr and ifr.get(\"src\"):\n",
    "                m2 = re.search(r\"[?&]rs=([^&]+)\", ifr[\"src\"])\n",
    "                if m2:\n",
    "                    rs = m2.group(1)\n",
    "\n",
    "        # 2) 페이지 내 임의 iframe의 연월(YYYYMM)만 재사용\n",
    "        if not rs and rs_suffix:\n",
    "            # rs_suffix 예: /docviewer/result/ntc0021/49374/1/202509\n",
    "            tail = rs_suffix.strip(\"/\").split(\"/\")\n",
    "            yyyy_mm = tail[-1] if tail else \"\"\n",
    "            rs = f\"/docviewer/result/{brd_id}/{seq}/{file_seq}/{yyyy_mm}\"\n",
    "\n",
    "        if rs:\n",
    "            url = f\"/docviewer/skin/doc.html?fn={filename}&rs={rs}\"\n",
    "            urls.add(urljoin(base, url))\n",
    "\n",
    "    return urls\n",
    "def _extract_synapviewer_urls(soup, base, page_url):\n",
    "    \"\"\"\n",
    "    바로보기(synapviewer) 링크 추출\n",
    "    \"\"\"\n",
    "    urls = set()\n",
    "    synapviewer_re = re.compile(r\"window\\.open\\('(synapviewer\\.do[^']+)'\\)\")\n",
    "    \n",
    "    # 페이지 URL에서 경로 추출 (예: /home/)\n",
    "    from urllib.parse import urlparse\n",
    "    parsed = urlparse(page_url)\n",
    "    page_path = parsed.path.rsplit('/', 1)[0] + '/'  # 마지막 파일명 제거\n",
    "    \n",
    "    for div in soup.select(\"div[id^='fileDiv']\"):\n",
    "        links = div.select(\"a\")\n",
    "        for link in links:\n",
    "            onclick = link.get(\"onclick\", \"\")\n",
    "            m = synapviewer_re.search(onclick)\n",
    "            if m:\n",
    "                viewer_url = m.group(1)\n",
    "                # 상대 경로면 페이지 경로와 결합\n",
    "                if not viewer_url.startswith(('http://', 'https://', '/')):\n",
    "                    viewer_url = page_path + viewer_url\n",
    "                urls.add(urljoin(base, viewer_url))\n",
    "    \n",
    "    return urls\n",
    "\n",
    "# 또는 특정 fileDiv3만 추출하려면:\n",
    "def _extract_filediv3_synapviewer_url(soup, base):\n",
    "    \"\"\"\n",
    "    fileDiv3의 바로보기 링크만 추출\n",
    "    \"\"\"\n",
    "    synapviewer_re = re.compile(r\"window\\.open\\('(synapviewer\\.do[^']+)'\\)\")\n",
    "    \n",
    "    div3 = soup.select_one(\"#fileDiv3\")\n",
    "    if not div3:\n",
    "        return None\n",
    "    \n",
    "    for link in div3.select(\"a\"):\n",
    "        onclick = link.get(\"onclick\", \"\")\n",
    "        m = synapviewer_re.search(onclick)\n",
    "        if m:\n",
    "            return urljoin(base, m.group(1))\n",
    "    \n",
    "    return None\n",
    "async def extract_preview_urls(page_url: str, base_url: str = None):\n",
    "    \"\"\"\n",
    "    주어진 게시글 URL에서 미리보기 URL들(set)을 추출.\n",
    "    \"\"\"\n",
    "    if base_url is None:\n",
    "        from urllib.parse import urlparse\n",
    "        p = urlparse(page_url)\n",
    "        base_url = f\"{p.scheme}://{p.netloc}\"\n",
    "\n",
    "    async with AsyncWebCrawler() as crawler:\n",
    "        r = await crawler.arun(page_url)\n",
    "        html = r.html\n",
    "\n",
    "    soup = BeautifulSoup(html, \"html.parser\")\n",
    "\n",
    "    urls = set()\n",
    "    urls |= _extract_urls_from_iframes(soup, base_url)\n",
    "    urls |= _extract_synapviewer_urls(soup, base_url, page_url)  # page_url 전달\n",
    "    \n",
    "    return list(urls)"
   ]
  },
  {
   "cell_type": "markdown",
   "id": "7f2fb615",
   "metadata": {},
   "source": [
    "# hwpx sources"
   ]
  },
  {
   "cell_type": "code",
   "execution_count": null,
   "id": "02fa1cd7",
   "metadata": {},
   "outputs": [
    {
     "name": "stdout",
     "output_type": "stream",
     "text": [
      "식약처\n",
      "뉴스 기사 목록 사이트: https://www.mfds.go.kr/www/rss/brd.do?brdId=ntc0021\n",
      "Base URL: https://www.mfds.go.kr\n",
      "'보도자료' RSS 피드에서 가져온 기사 목록입니다.\n",
      "\n"
     ]
    },
    {
     "data": {
      "text/html": [
       "<pre style=\"white-space:pre;overflow-x:auto;line-height:normal;font-family:Menlo,'DejaVu Sans Mono',consolas,'Courier New',monospace\"><span style=\"color: #008080; text-decoration-color: #008080; font-weight: bold\">[</span><span style=\"color: #008080; text-decoration-color: #008080\">INIT</span><span style=\"color: #008080; text-decoration-color: #008080; font-weight: bold\">]</span><span style=\"color: #008080; text-decoration-color: #008080\">.... → Crawl4AI </span><span style=\"color: #008080; text-decoration-color: #008080; font-weight: bold\">0.7</span><span style=\"color: #008080; text-decoration-color: #008080\">.</span><span style=\"color: #008080; text-decoration-color: #008080; font-weight: bold\">4</span><span style=\"color: #008080; text-decoration-color: #008080\"> </span>\n",
       "</pre>\n"
      ],
      "text/plain": [
       "\u001b[1;36m[\u001b[0m\u001b[36mINIT\u001b[0m\u001b[1;36m]\u001b[0m\u001b[36m...\u001b[0m\u001b[36m. → Crawl4AI \u001b[0m\u001b[1;36m0.7\u001b[0m\u001b[36m.\u001b[0m\u001b[1;36m4\u001b[0m\u001b[36m \u001b[0m\n"
      ]
     },
     "metadata": {},
     "output_type": "display_data"
    },
    {
     "data": {
      "text/html": [
       "<pre style=\"white-space:pre;overflow-x:auto;line-height:normal;font-family:Menlo,'DejaVu Sans Mono',consolas,'Courier New',monospace\"><span style=\"color: #008000; text-decoration-color: #008000; font-weight: bold\">[</span><span style=\"color: #008000; text-decoration-color: #008000\">FETCH</span><span style=\"color: #008000; text-decoration-color: #008000; font-weight: bold\">]</span><span style=\"color: #008000; text-decoration-color: #008000\">... ↓ </span><span style=\"color: #008000; text-decoration-color: #008000; text-decoration: underline\">https://www.mfds.go.kr/brd/m_99/view.do?seq=49382</span><span style=\"color: #008000; text-decoration-color: #008000\">                                                    |</span>\n",
       "<span style=\"color: #008000; text-decoration-color: #008000\">✓ | ⏱: </span><span style=\"color: #008000; text-decoration-color: #008000; font-weight: bold\">2.</span><span style=\"color: #008000; text-decoration-color: #008000\">56s </span>\n",
       "</pre>\n"
      ],
      "text/plain": [
       "\u001b[1;32m[\u001b[0m\u001b[32mFETCH\u001b[0m\u001b[1;32m]\u001b[0m\u001b[32m...\u001b[0m\u001b[32m ↓ \u001b[0m\u001b[4;32mhttps://www.mfds.go.kr/brd/m_99/view.do?\u001b[0m\u001b[4;32mseq\u001b[0m\u001b[4;32m=\u001b[0m\u001b[4;32m49382\u001b[0m\u001b[32m                                                    |\u001b[0m\n",
       "\u001b[32m✓\u001b[0m\u001b[32m | ⏱: \u001b[0m\u001b[1;32m2.\u001b[0m\u001b[32m56s \u001b[0m\n"
      ]
     },
     "metadata": {},
     "output_type": "display_data"
    },
    {
     "data": {
      "text/html": [
       "<pre style=\"white-space:pre;overflow-x:auto;line-height:normal;font-family:Menlo,'DejaVu Sans Mono',consolas,'Courier New',monospace\"><span style=\"color: #008000; text-decoration-color: #008000; font-weight: bold\">[</span><span style=\"color: #008000; text-decoration-color: #008000\">SCRAPE</span><span style=\"color: #008000; text-decoration-color: #008000; font-weight: bold\">]</span><span style=\"color: #008000; text-decoration-color: #008000\">.. ◆ </span><span style=\"color: #008000; text-decoration-color: #008000; text-decoration: underline\">https://www.mfds.go.kr/brd/m_99/view.do?seq=49382</span><span style=\"color: #008000; text-decoration-color: #008000\">                                                    |</span>\n",
       "<span style=\"color: #008000; text-decoration-color: #008000\">✓ | ⏱: </span><span style=\"color: #008000; text-decoration-color: #008000; font-weight: bold\">0.</span><span style=\"color: #008000; text-decoration-color: #008000\">12s </span>\n",
       "</pre>\n"
      ],
      "text/plain": [
       "\u001b[1;32m[\u001b[0m\u001b[32mSCRAPE\u001b[0m\u001b[1;32m]\u001b[0m\u001b[32m.. ◆ \u001b[0m\u001b[4;32mhttps://www.mfds.go.kr/brd/m_99/view.do?\u001b[0m\u001b[4;32mseq\u001b[0m\u001b[4;32m=\u001b[0m\u001b[4;32m49382\u001b[0m\u001b[32m                                                    |\u001b[0m\n",
       "\u001b[32m✓\u001b[0m\u001b[32m | ⏱: \u001b[0m\u001b[1;32m0.\u001b[0m\u001b[32m12s \u001b[0m\n"
      ]
     },
     "metadata": {},
     "output_type": "display_data"
    },
    {
     "data": {
      "text/html": [
       "<pre style=\"white-space:pre;overflow-x:auto;line-height:normal;font-family:Menlo,'DejaVu Sans Mono',consolas,'Courier New',monospace\"><span style=\"color: #008000; text-decoration-color: #008000; font-weight: bold\">[</span><span style=\"color: #008000; text-decoration-color: #008000\">COMPLETE</span><span style=\"color: #008000; text-decoration-color: #008000; font-weight: bold\">]</span><span style=\"color: #008000; text-decoration-color: #008000\"> ● </span><span style=\"color: #008000; text-decoration-color: #008000; text-decoration: underline\">https://www.mfds.go.kr/brd/m_99/view.do?seq=49382</span><span style=\"color: #008000; text-decoration-color: #008000\">                                                    |</span>\n",
       "<span style=\"color: #008000; text-decoration-color: #008000\">✓ | ⏱: </span><span style=\"color: #008000; text-decoration-color: #008000; font-weight: bold\">2.</span><span style=\"color: #008000; text-decoration-color: #008000\">68s </span>\n",
       "</pre>\n"
      ],
      "text/plain": [
       "\u001b[1;32m[\u001b[0m\u001b[32mCOMPLETE\u001b[0m\u001b[1;32m]\u001b[0m\u001b[32m ● \u001b[0m\u001b[4;32mhttps://www.mfds.go.kr/brd/m_99/view.do?\u001b[0m\u001b[4;32mseq\u001b[0m\u001b[4;32m=\u001b[0m\u001b[4;32m49382\u001b[0m\u001b[32m                                                    |\u001b[0m\n",
       "\u001b[32m✓\u001b[0m\u001b[32m | ⏱: \u001b[0m\u001b[1;32m2.\u001b[0m\u001b[32m68s \u001b[0m\n"
      ]
     },
     "metadata": {},
     "output_type": "display_data"
    },
    {
     "name": "stdout",
     "output_type": "stream",
     "text": [
      "https://www.mfds.go.kr/docviewer/skin/doc.html?fn=20251001010248734.hwpx&rs=/docviewer/result/ntc0021/49382/1/202510\n",
      "페이지 로딩 중: https://www.mfds.go.kr/docviewer/skin/doc.html?fn=20251001010248734.hwpx&rs=/docviewer/result/ntc0021/49382/1/202510\n"
     ]
    },
    {
     "data": {
      "text/html": [
       "<pre style=\"white-space:pre;overflow-x:auto;line-height:normal;font-family:Menlo,'DejaVu Sans Mono',consolas,'Courier New',monospace\"><span style=\"color: #008080; text-decoration-color: #008080; font-weight: bold\">[</span><span style=\"color: #008080; text-decoration-color: #008080\">INIT</span><span style=\"color: #008080; text-decoration-color: #008080; font-weight: bold\">]</span><span style=\"color: #008080; text-decoration-color: #008080\">.... → Crawl4AI </span><span style=\"color: #008080; text-decoration-color: #008080; font-weight: bold\">0.7</span><span style=\"color: #008080; text-decoration-color: #008080\">.</span><span style=\"color: #008080; text-decoration-color: #008080; font-weight: bold\">4</span><span style=\"color: #008080; text-decoration-color: #008080\"> </span>\n",
       "</pre>\n"
      ],
      "text/plain": [
       "\u001b[1;36m[\u001b[0m\u001b[36mINIT\u001b[0m\u001b[1;36m]\u001b[0m\u001b[36m...\u001b[0m\u001b[36m. → Crawl4AI \u001b[0m\u001b[1;36m0.7\u001b[0m\u001b[36m.\u001b[0m\u001b[1;36m4\u001b[0m\u001b[36m \u001b[0m\n"
      ]
     },
     "metadata": {},
     "output_type": "display_data"
    },
    {
     "data": {
      "text/html": [
       "<pre style=\"white-space:pre;overflow-x:auto;line-height:normal;font-family:Menlo,'DejaVu Sans Mono',consolas,'Courier New',monospace\"><span style=\"color: #008000; text-decoration-color: #008000; font-weight: bold\">[</span><span style=\"color: #008000; text-decoration-color: #008000\">FETCH</span><span style=\"color: #008000; text-decoration-color: #008000; font-weight: bold\">]</span><span style=\"color: #008000; text-decoration-color: #008000\">... ↓ </span><span style=\"color: #008000; text-decoration-color: #008000; text-decoration: underline\">https://www.mfds.go.kr/brd/m_99/view.do?seq=49381</span><span style=\"color: #008000; text-decoration-color: #008000\">                                                    |</span>\n",
       "<span style=\"color: #008000; text-decoration-color: #008000\">✓ | ⏱: </span><span style=\"color: #008000; text-decoration-color: #008000; font-weight: bold\">2.</span><span style=\"color: #008000; text-decoration-color: #008000\">21s </span>\n",
       "</pre>\n"
      ],
      "text/plain": [
       "\u001b[1;32m[\u001b[0m\u001b[32mFETCH\u001b[0m\u001b[1;32m]\u001b[0m\u001b[32m...\u001b[0m\u001b[32m ↓ \u001b[0m\u001b[4;32mhttps://www.mfds.go.kr/brd/m_99/view.do?\u001b[0m\u001b[4;32mseq\u001b[0m\u001b[4;32m=\u001b[0m\u001b[4;32m49381\u001b[0m\u001b[32m                                                    |\u001b[0m\n",
       "\u001b[32m✓\u001b[0m\u001b[32m | ⏱: \u001b[0m\u001b[1;32m2.\u001b[0m\u001b[32m21s \u001b[0m\n"
      ]
     },
     "metadata": {},
     "output_type": "display_data"
    },
    {
     "data": {
      "text/html": [
       "<pre style=\"white-space:pre;overflow-x:auto;line-height:normal;font-family:Menlo,'DejaVu Sans Mono',consolas,'Courier New',monospace\"><span style=\"color: #008000; text-decoration-color: #008000; font-weight: bold\">[</span><span style=\"color: #008000; text-decoration-color: #008000\">SCRAPE</span><span style=\"color: #008000; text-decoration-color: #008000; font-weight: bold\">]</span><span style=\"color: #008000; text-decoration-color: #008000\">.. ◆ </span><span style=\"color: #008000; text-decoration-color: #008000; text-decoration: underline\">https://www.mfds.go.kr/brd/m_99/view.do?seq=49381</span><span style=\"color: #008000; text-decoration-color: #008000\">                                                    |</span>\n",
       "<span style=\"color: #008000; text-decoration-color: #008000\">✓ | ⏱: </span><span style=\"color: #008000; text-decoration-color: #008000; font-weight: bold\">0.</span><span style=\"color: #008000; text-decoration-color: #008000\">12s </span>\n",
       "</pre>\n"
      ],
      "text/plain": [
       "\u001b[1;32m[\u001b[0m\u001b[32mSCRAPE\u001b[0m\u001b[1;32m]\u001b[0m\u001b[32m.. ◆ \u001b[0m\u001b[4;32mhttps://www.mfds.go.kr/brd/m_99/view.do?\u001b[0m\u001b[4;32mseq\u001b[0m\u001b[4;32m=\u001b[0m\u001b[4;32m49381\u001b[0m\u001b[32m                                                    |\u001b[0m\n",
       "\u001b[32m✓\u001b[0m\u001b[32m | ⏱: \u001b[0m\u001b[1;32m0.\u001b[0m\u001b[32m12s \u001b[0m\n"
      ]
     },
     "metadata": {},
     "output_type": "display_data"
    },
    {
     "data": {
      "text/html": [
       "<pre style=\"white-space:pre;overflow-x:auto;line-height:normal;font-family:Menlo,'DejaVu Sans Mono',consolas,'Courier New',monospace\"><span style=\"color: #008000; text-decoration-color: #008000; font-weight: bold\">[</span><span style=\"color: #008000; text-decoration-color: #008000\">COMPLETE</span><span style=\"color: #008000; text-decoration-color: #008000; font-weight: bold\">]</span><span style=\"color: #008000; text-decoration-color: #008000\"> ● </span><span style=\"color: #008000; text-decoration-color: #008000; text-decoration: underline\">https://www.mfds.go.kr/brd/m_99/view.do?seq=49381</span><span style=\"color: #008000; text-decoration-color: #008000\">                                                    |</span>\n",
       "<span style=\"color: #008000; text-decoration-color: #008000\">✓ | ⏱: </span><span style=\"color: #008000; text-decoration-color: #008000; font-weight: bold\">2.</span><span style=\"color: #008000; text-decoration-color: #008000\">33s </span>\n",
       "</pre>\n"
      ],
      "text/plain": [
       "\u001b[1;32m[\u001b[0m\u001b[32mCOMPLETE\u001b[0m\u001b[1;32m]\u001b[0m\u001b[32m ● \u001b[0m\u001b[4;32mhttps://www.mfds.go.kr/brd/m_99/view.do?\u001b[0m\u001b[4;32mseq\u001b[0m\u001b[4;32m=\u001b[0m\u001b[4;32m49381\u001b[0m\u001b[32m                                                    |\u001b[0m\n",
       "\u001b[32m✓\u001b[0m\u001b[32m | ⏱: \u001b[0m\u001b[1;32m2.\u001b[0m\u001b[32m33s \u001b[0m\n"
      ]
     },
     "metadata": {},
     "output_type": "display_data"
    },
    {
     "name": "stdout",
     "output_type": "stream",
     "text": [
      "https://www.mfds.go.kr/docviewer/skin/doc.html?fn=20251001105811139.hwpx&rs=/docviewer/result/ntc0021/49381/1/202510\n",
      "페이지 로딩 중: https://www.mfds.go.kr/docviewer/skin/doc.html?fn=20251001105811139.hwpx&rs=/docviewer/result/ntc0021/49381/1/202510\n"
     ]
    },
    {
     "data": {
      "text/html": [
       "<pre style=\"white-space:pre;overflow-x:auto;line-height:normal;font-family:Menlo,'DejaVu Sans Mono',consolas,'Courier New',monospace\"><span style=\"color: #008080; text-decoration-color: #008080; font-weight: bold\">[</span><span style=\"color: #008080; text-decoration-color: #008080\">INIT</span><span style=\"color: #008080; text-decoration-color: #008080; font-weight: bold\">]</span><span style=\"color: #008080; text-decoration-color: #008080\">.... → Crawl4AI </span><span style=\"color: #008080; text-decoration-color: #008080; font-weight: bold\">0.7</span><span style=\"color: #008080; text-decoration-color: #008080\">.</span><span style=\"color: #008080; text-decoration-color: #008080; font-weight: bold\">4</span><span style=\"color: #008080; text-decoration-color: #008080\"> </span>\n",
       "</pre>\n"
      ],
      "text/plain": [
       "\u001b[1;36m[\u001b[0m\u001b[36mINIT\u001b[0m\u001b[1;36m]\u001b[0m\u001b[36m...\u001b[0m\u001b[36m. → Crawl4AI \u001b[0m\u001b[1;36m0.7\u001b[0m\u001b[36m.\u001b[0m\u001b[1;36m4\u001b[0m\u001b[36m \u001b[0m\n"
      ]
     },
     "metadata": {},
     "output_type": "display_data"
    },
    {
     "data": {
      "text/html": [
       "<pre style=\"white-space:pre;overflow-x:auto;line-height:normal;font-family:Menlo,'DejaVu Sans Mono',consolas,'Courier New',monospace\"><span style=\"color: #008000; text-decoration-color: #008000; font-weight: bold\">[</span><span style=\"color: #008000; text-decoration-color: #008000\">FETCH</span><span style=\"color: #008000; text-decoration-color: #008000; font-weight: bold\">]</span><span style=\"color: #008000; text-decoration-color: #008000\">... ↓ </span><span style=\"color: #008000; text-decoration-color: #008000; text-decoration: underline\">https://www.mfds.go.kr/brd/m_99/view.do?seq=49380</span><span style=\"color: #008000; text-decoration-color: #008000\">                                                    |</span>\n",
       "<span style=\"color: #008000; text-decoration-color: #008000\">✓ | ⏱: </span><span style=\"color: #008000; text-decoration-color: #008000; font-weight: bold\">2.</span><span style=\"color: #008000; text-decoration-color: #008000\">37s </span>\n",
       "</pre>\n"
      ],
      "text/plain": [
       "\u001b[1;32m[\u001b[0m\u001b[32mFETCH\u001b[0m\u001b[1;32m]\u001b[0m\u001b[32m...\u001b[0m\u001b[32m ↓ \u001b[0m\u001b[4;32mhttps://www.mfds.go.kr/brd/m_99/view.do?\u001b[0m\u001b[4;32mseq\u001b[0m\u001b[4;32m=\u001b[0m\u001b[4;32m49380\u001b[0m\u001b[32m                                                    |\u001b[0m\n",
       "\u001b[32m✓\u001b[0m\u001b[32m | ⏱: \u001b[0m\u001b[1;32m2.\u001b[0m\u001b[32m37s \u001b[0m\n"
      ]
     },
     "metadata": {},
     "output_type": "display_data"
    },
    {
     "data": {
      "text/html": [
       "<pre style=\"white-space:pre;overflow-x:auto;line-height:normal;font-family:Menlo,'DejaVu Sans Mono',consolas,'Courier New',monospace\"><span style=\"color: #008000; text-decoration-color: #008000; font-weight: bold\">[</span><span style=\"color: #008000; text-decoration-color: #008000\">SCRAPE</span><span style=\"color: #008000; text-decoration-color: #008000; font-weight: bold\">]</span><span style=\"color: #008000; text-decoration-color: #008000\">.. ◆ </span><span style=\"color: #008000; text-decoration-color: #008000; text-decoration: underline\">https://www.mfds.go.kr/brd/m_99/view.do?seq=49380</span><span style=\"color: #008000; text-decoration-color: #008000\">                                                    |</span>\n",
       "<span style=\"color: #008000; text-decoration-color: #008000\">✓ | ⏱: </span><span style=\"color: #008000; text-decoration-color: #008000; font-weight: bold\">0.</span><span style=\"color: #008000; text-decoration-color: #008000\">14s </span>\n",
       "</pre>\n"
      ],
      "text/plain": [
       "\u001b[1;32m[\u001b[0m\u001b[32mSCRAPE\u001b[0m\u001b[1;32m]\u001b[0m\u001b[32m.. ◆ \u001b[0m\u001b[4;32mhttps://www.mfds.go.kr/brd/m_99/view.do?\u001b[0m\u001b[4;32mseq\u001b[0m\u001b[4;32m=\u001b[0m\u001b[4;32m49380\u001b[0m\u001b[32m                                                    |\u001b[0m\n",
       "\u001b[32m✓\u001b[0m\u001b[32m | ⏱: \u001b[0m\u001b[1;32m0.\u001b[0m\u001b[32m14s \u001b[0m\n"
      ]
     },
     "metadata": {},
     "output_type": "display_data"
    },
    {
     "data": {
      "text/html": [
       "<pre style=\"white-space:pre;overflow-x:auto;line-height:normal;font-family:Menlo,'DejaVu Sans Mono',consolas,'Courier New',monospace\"><span style=\"color: #008000; text-decoration-color: #008000; font-weight: bold\">[</span><span style=\"color: #008000; text-decoration-color: #008000\">COMPLETE</span><span style=\"color: #008000; text-decoration-color: #008000; font-weight: bold\">]</span><span style=\"color: #008000; text-decoration-color: #008000\"> ● </span><span style=\"color: #008000; text-decoration-color: #008000; text-decoration: underline\">https://www.mfds.go.kr/brd/m_99/view.do?seq=49380</span><span style=\"color: #008000; text-decoration-color: #008000\">                                                    |</span>\n",
       "<span style=\"color: #008000; text-decoration-color: #008000\">✓ | ⏱: </span><span style=\"color: #008000; text-decoration-color: #008000; font-weight: bold\">2.</span><span style=\"color: #008000; text-decoration-color: #008000\">52s </span>\n",
       "</pre>\n"
      ],
      "text/plain": [
       "\u001b[1;32m[\u001b[0m\u001b[32mCOMPLETE\u001b[0m\u001b[1;32m]\u001b[0m\u001b[32m ● \u001b[0m\u001b[4;32mhttps://www.mfds.go.kr/brd/m_99/view.do?\u001b[0m\u001b[4;32mseq\u001b[0m\u001b[4;32m=\u001b[0m\u001b[4;32m49380\u001b[0m\u001b[32m                                                    |\u001b[0m\n",
       "\u001b[32m✓\u001b[0m\u001b[32m | ⏱: \u001b[0m\u001b[1;32m2.\u001b[0m\u001b[32m52s \u001b[0m\n"
      ]
     },
     "metadata": {},
     "output_type": "display_data"
    },
    {
     "name": "stdout",
     "output_type": "stream",
     "text": [
      "https://www.mfds.go.kr/docviewer/skin/doc.html?fn=20251001091804196.hwpx&rs=/docviewer/result/ntc0021/49380/1/202510\n",
      "페이지 로딩 중: https://www.mfds.go.kr/docviewer/skin/doc.html?fn=20251001091804196.hwpx&rs=/docviewer/result/ntc0021/49380/1/202510\n"
     ]
    },
    {
     "data": {
      "text/html": [
       "<pre style=\"white-space:pre;overflow-x:auto;line-height:normal;font-family:Menlo,'DejaVu Sans Mono',consolas,'Courier New',monospace\"><span style=\"color: #008080; text-decoration-color: #008080; font-weight: bold\">[</span><span style=\"color: #008080; text-decoration-color: #008080\">INIT</span><span style=\"color: #008080; text-decoration-color: #008080; font-weight: bold\">]</span><span style=\"color: #008080; text-decoration-color: #008080\">.... → Crawl4AI </span><span style=\"color: #008080; text-decoration-color: #008080; font-weight: bold\">0.7</span><span style=\"color: #008080; text-decoration-color: #008080\">.</span><span style=\"color: #008080; text-decoration-color: #008080; font-weight: bold\">4</span><span style=\"color: #008080; text-decoration-color: #008080\"> </span>\n",
       "</pre>\n"
      ],
      "text/plain": [
       "\u001b[1;36m[\u001b[0m\u001b[36mINIT\u001b[0m\u001b[1;36m]\u001b[0m\u001b[36m...\u001b[0m\u001b[36m. → Crawl4AI \u001b[0m\u001b[1;36m0.7\u001b[0m\u001b[36m.\u001b[0m\u001b[1;36m4\u001b[0m\u001b[36m \u001b[0m\n"
      ]
     },
     "metadata": {},
     "output_type": "display_data"
    },
    {
     "data": {
      "text/html": [
       "<pre style=\"white-space:pre;overflow-x:auto;line-height:normal;font-family:Menlo,'DejaVu Sans Mono',consolas,'Courier New',monospace\"><span style=\"color: #008000; text-decoration-color: #008000; font-weight: bold\">[</span><span style=\"color: #008000; text-decoration-color: #008000\">FETCH</span><span style=\"color: #008000; text-decoration-color: #008000; font-weight: bold\">]</span><span style=\"color: #008000; text-decoration-color: #008000\">... ↓ </span><span style=\"color: #008000; text-decoration-color: #008000; text-decoration: underline\">https://www.mfds.go.kr/brd/m_99/view.do?seq=49379</span><span style=\"color: #008000; text-decoration-color: #008000\">                                                    |</span>\n",
       "<span style=\"color: #008000; text-decoration-color: #008000\">✓ | ⏱: </span><span style=\"color: #008000; text-decoration-color: #008000; font-weight: bold\">2.</span><span style=\"color: #008000; text-decoration-color: #008000\">34s </span>\n",
       "</pre>\n"
      ],
      "text/plain": [
       "\u001b[1;32m[\u001b[0m\u001b[32mFETCH\u001b[0m\u001b[1;32m]\u001b[0m\u001b[32m...\u001b[0m\u001b[32m ↓ \u001b[0m\u001b[4;32mhttps://www.mfds.go.kr/brd/m_99/view.do?\u001b[0m\u001b[4;32mseq\u001b[0m\u001b[4;32m=\u001b[0m\u001b[4;32m49379\u001b[0m\u001b[32m                                                    |\u001b[0m\n",
       "\u001b[32m✓\u001b[0m\u001b[32m | ⏱: \u001b[0m\u001b[1;32m2.\u001b[0m\u001b[32m34s \u001b[0m\n"
      ]
     },
     "metadata": {},
     "output_type": "display_data"
    },
    {
     "data": {
      "text/html": [
       "<pre style=\"white-space:pre;overflow-x:auto;line-height:normal;font-family:Menlo,'DejaVu Sans Mono',consolas,'Courier New',monospace\"><span style=\"color: #008000; text-decoration-color: #008000; font-weight: bold\">[</span><span style=\"color: #008000; text-decoration-color: #008000\">SCRAPE</span><span style=\"color: #008000; text-decoration-color: #008000; font-weight: bold\">]</span><span style=\"color: #008000; text-decoration-color: #008000\">.. ◆ </span><span style=\"color: #008000; text-decoration-color: #008000; text-decoration: underline\">https://www.mfds.go.kr/brd/m_99/view.do?seq=49379</span><span style=\"color: #008000; text-decoration-color: #008000\">                                                    |</span>\n",
       "<span style=\"color: #008000; text-decoration-color: #008000\">✓ | ⏱: </span><span style=\"color: #808000; text-decoration-color: #808000; font-weight: bold\">0.</span><span style=\"color: #808000; text-decoration-color: #808000\">14</span><span style=\"color: #008000; text-decoration-color: #008000\">s </span>\n",
       "</pre>\n"
      ],
      "text/plain": [
       "\u001b[1;32m[\u001b[0m\u001b[32mSCRAPE\u001b[0m\u001b[1;32m]\u001b[0m\u001b[32m.. ◆ \u001b[0m\u001b[4;32mhttps://www.mfds.go.kr/brd/m_99/view.do?\u001b[0m\u001b[4;32mseq\u001b[0m\u001b[4;32m=\u001b[0m\u001b[4;32m49379\u001b[0m\u001b[32m                                                    |\u001b[0m\n",
       "\u001b[32m✓\u001b[0m\u001b[32m | ⏱: \u001b[0m\u001b[1;33m0.\u001b[0m\u001b[33m14\u001b[0m\u001b[32ms \u001b[0m\n"
      ]
     },
     "metadata": {},
     "output_type": "display_data"
    },
    {
     "data": {
      "text/html": [
       "<pre style=\"white-space:pre;overflow-x:auto;line-height:normal;font-family:Menlo,'DejaVu Sans Mono',consolas,'Courier New',monospace\"><span style=\"color: #008000; text-decoration-color: #008000; font-weight: bold\">[</span><span style=\"color: #008000; text-decoration-color: #008000\">COMPLETE</span><span style=\"color: #008000; text-decoration-color: #008000; font-weight: bold\">]</span><span style=\"color: #008000; text-decoration-color: #008000\"> ● </span><span style=\"color: #008000; text-decoration-color: #008000; text-decoration: underline\">https://www.mfds.go.kr/brd/m_99/view.do?seq=49379</span><span style=\"color: #008000; text-decoration-color: #008000\">                                                    |</span>\n",
       "<span style=\"color: #008000; text-decoration-color: #008000\">✓ | ⏱: </span><span style=\"color: #008000; text-decoration-color: #008000; font-weight: bold\">2.</span><span style=\"color: #008000; text-decoration-color: #008000\">49s </span>\n",
       "</pre>\n"
      ],
      "text/plain": [
       "\u001b[1;32m[\u001b[0m\u001b[32mCOMPLETE\u001b[0m\u001b[1;32m]\u001b[0m\u001b[32m ● \u001b[0m\u001b[4;32mhttps://www.mfds.go.kr/brd/m_99/view.do?\u001b[0m\u001b[4;32mseq\u001b[0m\u001b[4;32m=\u001b[0m\u001b[4;32m49379\u001b[0m\u001b[32m                                                    |\u001b[0m\n",
       "\u001b[32m✓\u001b[0m\u001b[32m | ⏱: \u001b[0m\u001b[1;32m2.\u001b[0m\u001b[32m49s \u001b[0m\n"
      ]
     },
     "metadata": {},
     "output_type": "display_data"
    },
    {
     "name": "stdout",
     "output_type": "stream",
     "text": [
      "https://www.mfds.go.kr/docviewer/skin/doc.html?fn=20251001090617692.hwpx&rs=/docviewer/result/ntc0021/49379/1/202510\n",
      "페이지 로딩 중: https://www.mfds.go.kr/docviewer/skin/doc.html?fn=20251001090617692.hwpx&rs=/docviewer/result/ntc0021/49379/1/202510\n"
     ]
    },
    {
     "data": {
      "text/html": [
       "<pre style=\"white-space:pre;overflow-x:auto;line-height:normal;font-family:Menlo,'DejaVu Sans Mono',consolas,'Courier New',monospace\"><span style=\"color: #008080; text-decoration-color: #008080; font-weight: bold\">[</span><span style=\"color: #008080; text-decoration-color: #008080\">INIT</span><span style=\"color: #008080; text-decoration-color: #008080; font-weight: bold\">]</span><span style=\"color: #008080; text-decoration-color: #008080\">.... → Crawl4AI </span><span style=\"color: #008080; text-decoration-color: #008080; font-weight: bold\">0.7</span><span style=\"color: #008080; text-decoration-color: #008080\">.</span><span style=\"color: #008080; text-decoration-color: #008080; font-weight: bold\">4</span><span style=\"color: #008080; text-decoration-color: #008080\"> </span>\n",
       "</pre>\n"
      ],
      "text/plain": [
       "\u001b[1;36m[\u001b[0m\u001b[36mINIT\u001b[0m\u001b[1;36m]\u001b[0m\u001b[36m...\u001b[0m\u001b[36m. → Crawl4AI \u001b[0m\u001b[1;36m0.7\u001b[0m\u001b[36m.\u001b[0m\u001b[1;36m4\u001b[0m\u001b[36m \u001b[0m\n"
      ]
     },
     "metadata": {},
     "output_type": "display_data"
    },
    {
     "data": {
      "text/html": [
       "<pre style=\"white-space:pre;overflow-x:auto;line-height:normal;font-family:Menlo,'DejaVu Sans Mono',consolas,'Courier New',monospace\"><span style=\"color: #008000; text-decoration-color: #008000; font-weight: bold\">[</span><span style=\"color: #008000; text-decoration-color: #008000\">FETCH</span><span style=\"color: #008000; text-decoration-color: #008000; font-weight: bold\">]</span><span style=\"color: #008000; text-decoration-color: #008000\">... ↓ </span><span style=\"color: #008000; text-decoration-color: #008000; text-decoration: underline\">https://www.mfds.go.kr/brd/m_99/view.do?seq=49378</span><span style=\"color: #008000; text-decoration-color: #008000\">                                                    |</span>\n",
       "<span style=\"color: #008000; text-decoration-color: #008000\">✓ | ⏱: </span><span style=\"color: #008000; text-decoration-color: #008000; font-weight: bold\">2.</span><span style=\"color: #008000; text-decoration-color: #008000\">20s </span>\n",
       "</pre>\n"
      ],
      "text/plain": [
       "\u001b[1;32m[\u001b[0m\u001b[32mFETCH\u001b[0m\u001b[1;32m]\u001b[0m\u001b[32m...\u001b[0m\u001b[32m ↓ \u001b[0m\u001b[4;32mhttps://www.mfds.go.kr/brd/m_99/view.do?\u001b[0m\u001b[4;32mseq\u001b[0m\u001b[4;32m=\u001b[0m\u001b[4;32m49378\u001b[0m\u001b[32m                                                    |\u001b[0m\n",
       "\u001b[32m✓\u001b[0m\u001b[32m | ⏱: \u001b[0m\u001b[1;32m2.\u001b[0m\u001b[32m20s \u001b[0m\n"
      ]
     },
     "metadata": {},
     "output_type": "display_data"
    },
    {
     "data": {
      "text/html": [
       "<pre style=\"white-space:pre;overflow-x:auto;line-height:normal;font-family:Menlo,'DejaVu Sans Mono',consolas,'Courier New',monospace\"><span style=\"color: #008000; text-decoration-color: #008000; font-weight: bold\">[</span><span style=\"color: #008000; text-decoration-color: #008000\">SCRAPE</span><span style=\"color: #008000; text-decoration-color: #008000; font-weight: bold\">]</span><span style=\"color: #008000; text-decoration-color: #008000\">.. ◆ </span><span style=\"color: #008000; text-decoration-color: #008000; text-decoration: underline\">https://www.mfds.go.kr/brd/m_99/view.do?seq=49378</span><span style=\"color: #008000; text-decoration-color: #008000\">                                                    |</span>\n",
       "<span style=\"color: #008000; text-decoration-color: #008000\">✓ | ⏱: </span><span style=\"color: #008000; text-decoration-color: #008000; font-weight: bold\">0.</span><span style=\"color: #008000; text-decoration-color: #008000\">09s </span>\n",
       "</pre>\n"
      ],
      "text/plain": [
       "\u001b[1;32m[\u001b[0m\u001b[32mSCRAPE\u001b[0m\u001b[1;32m]\u001b[0m\u001b[32m.. ◆ \u001b[0m\u001b[4;32mhttps://www.mfds.go.kr/brd/m_99/view.do?\u001b[0m\u001b[4;32mseq\u001b[0m\u001b[4;32m=\u001b[0m\u001b[4;32m49378\u001b[0m\u001b[32m                                                    |\u001b[0m\n",
       "\u001b[32m✓\u001b[0m\u001b[32m | ⏱: \u001b[0m\u001b[1;32m0.\u001b[0m\u001b[32m09s \u001b[0m\n"
      ]
     },
     "metadata": {},
     "output_type": "display_data"
    },
    {
     "data": {
      "text/html": [
       "<pre style=\"white-space:pre;overflow-x:auto;line-height:normal;font-family:Menlo,'DejaVu Sans Mono',consolas,'Courier New',monospace\"><span style=\"color: #008000; text-decoration-color: #008000; font-weight: bold\">[</span><span style=\"color: #008000; text-decoration-color: #008000\">COMPLETE</span><span style=\"color: #008000; text-decoration-color: #008000; font-weight: bold\">]</span><span style=\"color: #008000; text-decoration-color: #008000\"> ● </span><span style=\"color: #008000; text-decoration-color: #008000; text-decoration: underline\">https://www.mfds.go.kr/brd/m_99/view.do?seq=49378</span><span style=\"color: #008000; text-decoration-color: #008000\">                                                    |</span>\n",
       "<span style=\"color: #008000; text-decoration-color: #008000\">✓ | ⏱: </span><span style=\"color: #008000; text-decoration-color: #008000; font-weight: bold\">2.</span><span style=\"color: #008000; text-decoration-color: #008000\">30s </span>\n",
       "</pre>\n"
      ],
      "text/plain": [
       "\u001b[1;32m[\u001b[0m\u001b[32mCOMPLETE\u001b[0m\u001b[1;32m]\u001b[0m\u001b[32m ● \u001b[0m\u001b[4;32mhttps://www.mfds.go.kr/brd/m_99/view.do?\u001b[0m\u001b[4;32mseq\u001b[0m\u001b[4;32m=\u001b[0m\u001b[4;32m49378\u001b[0m\u001b[32m                                                    |\u001b[0m\n",
       "\u001b[32m✓\u001b[0m\u001b[32m | ⏱: \u001b[0m\u001b[1;32m2.\u001b[0m\u001b[32m30s \u001b[0m\n"
      ]
     },
     "metadata": {},
     "output_type": "display_data"
    },
    {
     "name": "stdout",
     "output_type": "stream",
     "text": [
      "https://www.mfds.go.kr/docviewer/skin/doc.html?fn=20250930065335122.hwpx&rs=/docviewer/result/ntc0021/49378/1/202510\n",
      "페이지 로딩 중: https://www.mfds.go.kr/docviewer/skin/doc.html?fn=20250930065335122.hwpx&rs=/docviewer/result/ntc0021/49378/1/202510\n"
     ]
    },
    {
     "data": {
      "text/html": [
       "<pre style=\"white-space:pre;overflow-x:auto;line-height:normal;font-family:Menlo,'DejaVu Sans Mono',consolas,'Courier New',monospace\"><span style=\"color: #008080; text-decoration-color: #008080; font-weight: bold\">[</span><span style=\"color: #008080; text-decoration-color: #008080\">INIT</span><span style=\"color: #008080; text-decoration-color: #008080; font-weight: bold\">]</span><span style=\"color: #008080; text-decoration-color: #008080\">.... → Crawl4AI </span><span style=\"color: #008080; text-decoration-color: #008080; font-weight: bold\">0.7</span><span style=\"color: #008080; text-decoration-color: #008080\">.</span><span style=\"color: #008080; text-decoration-color: #008080; font-weight: bold\">4</span><span style=\"color: #008080; text-decoration-color: #008080\"> </span>\n",
       "</pre>\n"
      ],
      "text/plain": [
       "\u001b[1;36m[\u001b[0m\u001b[36mINIT\u001b[0m\u001b[1;36m]\u001b[0m\u001b[36m...\u001b[0m\u001b[36m. → Crawl4AI \u001b[0m\u001b[1;36m0.7\u001b[0m\u001b[36m.\u001b[0m\u001b[1;36m4\u001b[0m\u001b[36m \u001b[0m\n"
      ]
     },
     "metadata": {},
     "output_type": "display_data"
    },
    {
     "data": {
      "text/html": [
       "<pre style=\"white-space:pre;overflow-x:auto;line-height:normal;font-family:Menlo,'DejaVu Sans Mono',consolas,'Courier New',monospace\"><span style=\"color: #008000; text-decoration-color: #008000; font-weight: bold\">[</span><span style=\"color: #008000; text-decoration-color: #008000\">FETCH</span><span style=\"color: #008000; text-decoration-color: #008000; font-weight: bold\">]</span><span style=\"color: #008000; text-decoration-color: #008000\">... ↓ </span><span style=\"color: #008000; text-decoration-color: #008000; text-decoration: underline\">https://www.mfds.go.kr/brd/m_99/view.do?seq=49377</span><span style=\"color: #008000; text-decoration-color: #008000\">                                                    |</span>\n",
       "<span style=\"color: #008000; text-decoration-color: #008000\">✓ | ⏱: </span><span style=\"color: #008000; text-decoration-color: #008000; font-weight: bold\">2.</span><span style=\"color: #008000; text-decoration-color: #008000\">46s </span>\n",
       "</pre>\n"
      ],
      "text/plain": [
       "\u001b[1;32m[\u001b[0m\u001b[32mFETCH\u001b[0m\u001b[1;32m]\u001b[0m\u001b[32m...\u001b[0m\u001b[32m ↓ \u001b[0m\u001b[4;32mhttps://www.mfds.go.kr/brd/m_99/view.do?\u001b[0m\u001b[4;32mseq\u001b[0m\u001b[4;32m=\u001b[0m\u001b[4;32m49377\u001b[0m\u001b[32m                                                    |\u001b[0m\n",
       "\u001b[32m✓\u001b[0m\u001b[32m | ⏱: \u001b[0m\u001b[1;32m2.\u001b[0m\u001b[32m46s \u001b[0m\n"
      ]
     },
     "metadata": {},
     "output_type": "display_data"
    },
    {
     "data": {
      "text/html": [
       "<pre style=\"white-space:pre;overflow-x:auto;line-height:normal;font-family:Menlo,'DejaVu Sans Mono',consolas,'Courier New',monospace\"><span style=\"color: #008000; text-decoration-color: #008000; font-weight: bold\">[</span><span style=\"color: #008000; text-decoration-color: #008000\">SCRAPE</span><span style=\"color: #008000; text-decoration-color: #008000; font-weight: bold\">]</span><span style=\"color: #008000; text-decoration-color: #008000\">.. ◆ </span><span style=\"color: #008000; text-decoration-color: #008000; text-decoration: underline\">https://www.mfds.go.kr/brd/m_99/view.do?seq=49377</span><span style=\"color: #008000; text-decoration-color: #008000\">                                                    |</span>\n",
       "<span style=\"color: #008000; text-decoration-color: #008000\">✓ | ⏱: </span><span style=\"color: #008000; text-decoration-color: #008000; font-weight: bold\">0.</span><span style=\"color: #008000; text-decoration-color: #008000\">13s </span>\n",
       "</pre>\n"
      ],
      "text/plain": [
       "\u001b[1;32m[\u001b[0m\u001b[32mSCRAPE\u001b[0m\u001b[1;32m]\u001b[0m\u001b[32m.. ◆ \u001b[0m\u001b[4;32mhttps://www.mfds.go.kr/brd/m_99/view.do?\u001b[0m\u001b[4;32mseq\u001b[0m\u001b[4;32m=\u001b[0m\u001b[4;32m49377\u001b[0m\u001b[32m                                                    |\u001b[0m\n",
       "\u001b[32m✓\u001b[0m\u001b[32m | ⏱: \u001b[0m\u001b[1;32m0.\u001b[0m\u001b[32m13s \u001b[0m\n"
      ]
     },
     "metadata": {},
     "output_type": "display_data"
    },
    {
     "data": {
      "text/html": [
       "<pre style=\"white-space:pre;overflow-x:auto;line-height:normal;font-family:Menlo,'DejaVu Sans Mono',consolas,'Courier New',monospace\"><span style=\"color: #008000; text-decoration-color: #008000; font-weight: bold\">[</span><span style=\"color: #008000; text-decoration-color: #008000\">COMPLETE</span><span style=\"color: #008000; text-decoration-color: #008000; font-weight: bold\">]</span><span style=\"color: #008000; text-decoration-color: #008000\"> ● </span><span style=\"color: #008000; text-decoration-color: #008000; text-decoration: underline\">https://www.mfds.go.kr/brd/m_99/view.do?seq=49377</span><span style=\"color: #008000; text-decoration-color: #008000\">                                                    |</span>\n",
       "<span style=\"color: #008000; text-decoration-color: #008000\">✓ | ⏱: </span><span style=\"color: #008000; text-decoration-color: #008000; font-weight: bold\">2.</span><span style=\"color: #008000; text-decoration-color: #008000\">60s </span>\n",
       "</pre>\n"
      ],
      "text/plain": [
       "\u001b[1;32m[\u001b[0m\u001b[32mCOMPLETE\u001b[0m\u001b[1;32m]\u001b[0m\u001b[32m ● \u001b[0m\u001b[4;32mhttps://www.mfds.go.kr/brd/m_99/view.do?\u001b[0m\u001b[4;32mseq\u001b[0m\u001b[4;32m=\u001b[0m\u001b[4;32m49377\u001b[0m\u001b[32m                                                    |\u001b[0m\n",
       "\u001b[32m✓\u001b[0m\u001b[32m | ⏱: \u001b[0m\u001b[1;32m2.\u001b[0m\u001b[32m60s \u001b[0m\n"
      ]
     },
     "metadata": {},
     "output_type": "display_data"
    },
    {
     "name": "stdout",
     "output_type": "stream",
     "text": [
      "https://www.mfds.go.kr/docviewer/skin/doc.html?fn=20250930035440274.hwpx&rs=/docviewer/result/ntc0021/49377/1/202510\n",
      "페이지 로딩 중: https://www.mfds.go.kr/docviewer/skin/doc.html?fn=20250930035440274.hwpx&rs=/docviewer/result/ntc0021/49377/1/202510\n"
     ]
    },
    {
     "data": {
      "text/html": [
       "<pre style=\"white-space:pre;overflow-x:auto;line-height:normal;font-family:Menlo,'DejaVu Sans Mono',consolas,'Courier New',monospace\"><span style=\"color: #008080; text-decoration-color: #008080; font-weight: bold\">[</span><span style=\"color: #008080; text-decoration-color: #008080\">INIT</span><span style=\"color: #008080; text-decoration-color: #008080; font-weight: bold\">]</span><span style=\"color: #008080; text-decoration-color: #008080\">.... → Crawl4AI </span><span style=\"color: #008080; text-decoration-color: #008080; font-weight: bold\">0.7</span><span style=\"color: #008080; text-decoration-color: #008080\">.</span><span style=\"color: #008080; text-decoration-color: #008080; font-weight: bold\">4</span><span style=\"color: #008080; text-decoration-color: #008080\"> </span>\n",
       "</pre>\n"
      ],
      "text/plain": [
       "\u001b[1;36m[\u001b[0m\u001b[36mINIT\u001b[0m\u001b[1;36m]\u001b[0m\u001b[36m...\u001b[0m\u001b[36m. → Crawl4AI \u001b[0m\u001b[1;36m0.7\u001b[0m\u001b[36m.\u001b[0m\u001b[1;36m4\u001b[0m\u001b[36m \u001b[0m\n"
      ]
     },
     "metadata": {},
     "output_type": "display_data"
    },
    {
     "data": {
      "text/html": [
       "<pre style=\"white-space:pre;overflow-x:auto;line-height:normal;font-family:Menlo,'DejaVu Sans Mono',consolas,'Courier New',monospace\"><span style=\"color: #008000; text-decoration-color: #008000; font-weight: bold\">[</span><span style=\"color: #008000; text-decoration-color: #008000\">FETCH</span><span style=\"color: #008000; text-decoration-color: #008000; font-weight: bold\">]</span><span style=\"color: #008000; text-decoration-color: #008000\">... ↓ </span><span style=\"color: #008000; text-decoration-color: #008000; text-decoration: underline\">https://www.mfds.go.kr/brd/m_99/view.do?seq=49376</span><span style=\"color: #008000; text-decoration-color: #008000\">                                                    |</span>\n",
       "<span style=\"color: #008000; text-decoration-color: #008000\">✓ | ⏱: </span><span style=\"color: #008000; text-decoration-color: #008000; font-weight: bold\">2.</span><span style=\"color: #008000; text-decoration-color: #008000\">30s </span>\n",
       "</pre>\n"
      ],
      "text/plain": [
       "\u001b[1;32m[\u001b[0m\u001b[32mFETCH\u001b[0m\u001b[1;32m]\u001b[0m\u001b[32m...\u001b[0m\u001b[32m ↓ \u001b[0m\u001b[4;32mhttps://www.mfds.go.kr/brd/m_99/view.do?\u001b[0m\u001b[4;32mseq\u001b[0m\u001b[4;32m=\u001b[0m\u001b[4;32m49376\u001b[0m\u001b[32m                                                    |\u001b[0m\n",
       "\u001b[32m✓\u001b[0m\u001b[32m | ⏱: \u001b[0m\u001b[1;32m2.\u001b[0m\u001b[32m30s \u001b[0m\n"
      ]
     },
     "metadata": {},
     "output_type": "display_data"
    },
    {
     "data": {
      "text/html": [
       "<pre style=\"white-space:pre;overflow-x:auto;line-height:normal;font-family:Menlo,'DejaVu Sans Mono',consolas,'Courier New',monospace\"><span style=\"color: #008000; text-decoration-color: #008000; font-weight: bold\">[</span><span style=\"color: #008000; text-decoration-color: #008000\">SCRAPE</span><span style=\"color: #008000; text-decoration-color: #008000; font-weight: bold\">]</span><span style=\"color: #008000; text-decoration-color: #008000\">.. ◆ </span><span style=\"color: #008000; text-decoration-color: #008000; text-decoration: underline\">https://www.mfds.go.kr/brd/m_99/view.do?seq=49376</span><span style=\"color: #008000; text-decoration-color: #008000\">                                                    |</span>\n",
       "<span style=\"color: #008000; text-decoration-color: #008000\">✓ | ⏱: </span><span style=\"color: #008000; text-decoration-color: #008000; font-weight: bold\">0.</span><span style=\"color: #008000; text-decoration-color: #008000\">14s </span>\n",
       "</pre>\n"
      ],
      "text/plain": [
       "\u001b[1;32m[\u001b[0m\u001b[32mSCRAPE\u001b[0m\u001b[1;32m]\u001b[0m\u001b[32m.. ◆ \u001b[0m\u001b[4;32mhttps://www.mfds.go.kr/brd/m_99/view.do?\u001b[0m\u001b[4;32mseq\u001b[0m\u001b[4;32m=\u001b[0m\u001b[4;32m49376\u001b[0m\u001b[32m                                                    |\u001b[0m\n",
       "\u001b[32m✓\u001b[0m\u001b[32m | ⏱: \u001b[0m\u001b[1;32m0.\u001b[0m\u001b[32m14s \u001b[0m\n"
      ]
     },
     "metadata": {},
     "output_type": "display_data"
    },
    {
     "data": {
      "text/html": [
       "<pre style=\"white-space:pre;overflow-x:auto;line-height:normal;font-family:Menlo,'DejaVu Sans Mono',consolas,'Courier New',monospace\"><span style=\"color: #008000; text-decoration-color: #008000; font-weight: bold\">[</span><span style=\"color: #008000; text-decoration-color: #008000\">COMPLETE</span><span style=\"color: #008000; text-decoration-color: #008000; font-weight: bold\">]</span><span style=\"color: #008000; text-decoration-color: #008000\"> ● </span><span style=\"color: #008000; text-decoration-color: #008000; text-decoration: underline\">https://www.mfds.go.kr/brd/m_99/view.do?seq=49376</span><span style=\"color: #008000; text-decoration-color: #008000\">                                                    |</span>\n",
       "<span style=\"color: #008000; text-decoration-color: #008000\">✓ | ⏱: </span><span style=\"color: #008000; text-decoration-color: #008000; font-weight: bold\">2.</span><span style=\"color: #008000; text-decoration-color: #008000\">45s </span>\n",
       "</pre>\n"
      ],
      "text/plain": [
       "\u001b[1;32m[\u001b[0m\u001b[32mCOMPLETE\u001b[0m\u001b[1;32m]\u001b[0m\u001b[32m ● \u001b[0m\u001b[4;32mhttps://www.mfds.go.kr/brd/m_99/view.do?\u001b[0m\u001b[4;32mseq\u001b[0m\u001b[4;32m=\u001b[0m\u001b[4;32m49376\u001b[0m\u001b[32m                                                    |\u001b[0m\n",
       "\u001b[32m✓\u001b[0m\u001b[32m | ⏱: \u001b[0m\u001b[1;32m2.\u001b[0m\u001b[32m45s \u001b[0m\n"
      ]
     },
     "metadata": {},
     "output_type": "display_data"
    },
    {
     "name": "stdout",
     "output_type": "stream",
     "text": [
      "https://www.mfds.go.kr/docviewer/skin/doc.html?fn=20250930010909282.hwpx&rs=/docviewer/result/ntc0021/49376/1/202510\n",
      "페이지 로딩 중: https://www.mfds.go.kr/docviewer/skin/doc.html?fn=20250930010909282.hwpx&rs=/docviewer/result/ntc0021/49376/1/202510\n"
     ]
    },
    {
     "data": {
      "text/html": [
       "<pre style=\"white-space:pre;overflow-x:auto;line-height:normal;font-family:Menlo,'DejaVu Sans Mono',consolas,'Courier New',monospace\"><span style=\"color: #008080; text-decoration-color: #008080; font-weight: bold\">[</span><span style=\"color: #008080; text-decoration-color: #008080\">INIT</span><span style=\"color: #008080; text-decoration-color: #008080; font-weight: bold\">]</span><span style=\"color: #008080; text-decoration-color: #008080\">.... → Crawl4AI </span><span style=\"color: #008080; text-decoration-color: #008080; font-weight: bold\">0.7</span><span style=\"color: #008080; text-decoration-color: #008080\">.</span><span style=\"color: #008080; text-decoration-color: #008080; font-weight: bold\">4</span><span style=\"color: #008080; text-decoration-color: #008080\"> </span>\n",
       "</pre>\n"
      ],
      "text/plain": [
       "\u001b[1;36m[\u001b[0m\u001b[36mINIT\u001b[0m\u001b[1;36m]\u001b[0m\u001b[36m...\u001b[0m\u001b[36m. → Crawl4AI \u001b[0m\u001b[1;36m0.7\u001b[0m\u001b[36m.\u001b[0m\u001b[1;36m4\u001b[0m\u001b[36m \u001b[0m\n"
      ]
     },
     "metadata": {},
     "output_type": "display_data"
    },
    {
     "data": {
      "text/html": [
       "<pre style=\"white-space:pre;overflow-x:auto;line-height:normal;font-family:Menlo,'DejaVu Sans Mono',consolas,'Courier New',monospace\"><span style=\"color: #008000; text-decoration-color: #008000; font-weight: bold\">[</span><span style=\"color: #008000; text-decoration-color: #008000\">FETCH</span><span style=\"color: #008000; text-decoration-color: #008000; font-weight: bold\">]</span><span style=\"color: #008000; text-decoration-color: #008000\">... ↓ </span><span style=\"color: #008000; text-decoration-color: #008000; text-decoration: underline\">https://www.mfds.go.kr/brd/m_99/view.do?seq=49375</span><span style=\"color: #008000; text-decoration-color: #008000\">                                                    |</span>\n",
       "<span style=\"color: #008000; text-decoration-color: #008000\">✓ | ⏱: </span><span style=\"color: #008000; text-decoration-color: #008000; font-weight: bold\">2.</span><span style=\"color: #008000; text-decoration-color: #008000\">06s </span>\n",
       "</pre>\n"
      ],
      "text/plain": [
       "\u001b[1;32m[\u001b[0m\u001b[32mFETCH\u001b[0m\u001b[1;32m]\u001b[0m\u001b[32m...\u001b[0m\u001b[32m ↓ \u001b[0m\u001b[4;32mhttps://www.mfds.go.kr/brd/m_99/view.do?\u001b[0m\u001b[4;32mseq\u001b[0m\u001b[4;32m=\u001b[0m\u001b[4;32m49375\u001b[0m\u001b[32m                                                    |\u001b[0m\n",
       "\u001b[32m✓\u001b[0m\u001b[32m | ⏱: \u001b[0m\u001b[1;32m2.\u001b[0m\u001b[32m06s \u001b[0m\n"
      ]
     },
     "metadata": {},
     "output_type": "display_data"
    },
    {
     "data": {
      "text/html": [
       "<pre style=\"white-space:pre;overflow-x:auto;line-height:normal;font-family:Menlo,'DejaVu Sans Mono',consolas,'Courier New',monospace\"><span style=\"color: #008000; text-decoration-color: #008000; font-weight: bold\">[</span><span style=\"color: #008000; text-decoration-color: #008000\">SCRAPE</span><span style=\"color: #008000; text-decoration-color: #008000; font-weight: bold\">]</span><span style=\"color: #008000; text-decoration-color: #008000\">.. ◆ </span><span style=\"color: #008000; text-decoration-color: #008000; text-decoration: underline\">https://www.mfds.go.kr/brd/m_99/view.do?seq=49375</span><span style=\"color: #008000; text-decoration-color: #008000\">                                                    |</span>\n",
       "<span style=\"color: #008000; text-decoration-color: #008000\">✓ | ⏱: </span><span style=\"color: #008000; text-decoration-color: #008000; font-weight: bold\">0.</span><span style=\"color: #008000; text-decoration-color: #008000\">14s </span>\n",
       "</pre>\n"
      ],
      "text/plain": [
       "\u001b[1;32m[\u001b[0m\u001b[32mSCRAPE\u001b[0m\u001b[1;32m]\u001b[0m\u001b[32m.. ◆ \u001b[0m\u001b[4;32mhttps://www.mfds.go.kr/brd/m_99/view.do?\u001b[0m\u001b[4;32mseq\u001b[0m\u001b[4;32m=\u001b[0m\u001b[4;32m49375\u001b[0m\u001b[32m                                                    |\u001b[0m\n",
       "\u001b[32m✓\u001b[0m\u001b[32m | ⏱: \u001b[0m\u001b[1;32m0.\u001b[0m\u001b[32m14s \u001b[0m\n"
      ]
     },
     "metadata": {},
     "output_type": "display_data"
    },
    {
     "data": {
      "text/html": [
       "<pre style=\"white-space:pre;overflow-x:auto;line-height:normal;font-family:Menlo,'DejaVu Sans Mono',consolas,'Courier New',monospace\"><span style=\"color: #008000; text-decoration-color: #008000; font-weight: bold\">[</span><span style=\"color: #008000; text-decoration-color: #008000\">COMPLETE</span><span style=\"color: #008000; text-decoration-color: #008000; font-weight: bold\">]</span><span style=\"color: #008000; text-decoration-color: #008000\"> ● </span><span style=\"color: #008000; text-decoration-color: #008000; text-decoration: underline\">https://www.mfds.go.kr/brd/m_99/view.do?seq=49375</span><span style=\"color: #008000; text-decoration-color: #008000\">                                                    |</span>\n",
       "<span style=\"color: #008000; text-decoration-color: #008000\">✓ | ⏱: </span><span style=\"color: #008000; text-decoration-color: #008000; font-weight: bold\">2.</span><span style=\"color: #008000; text-decoration-color: #008000\">21s </span>\n",
       "</pre>\n"
      ],
      "text/plain": [
       "\u001b[1;32m[\u001b[0m\u001b[32mCOMPLETE\u001b[0m\u001b[1;32m]\u001b[0m\u001b[32m ● \u001b[0m\u001b[4;32mhttps://www.mfds.go.kr/brd/m_99/view.do?\u001b[0m\u001b[4;32mseq\u001b[0m\u001b[4;32m=\u001b[0m\u001b[4;32m49375\u001b[0m\u001b[32m                                                    |\u001b[0m\n",
       "\u001b[32m✓\u001b[0m\u001b[32m | ⏱: \u001b[0m\u001b[1;32m2.\u001b[0m\u001b[32m21s \u001b[0m\n"
      ]
     },
     "metadata": {},
     "output_type": "display_data"
    },
    {
     "name": "stdout",
     "output_type": "stream",
     "text": [
      "https://www.mfds.go.kr/docviewer/skin/doc.html?fn=20250930012029822.hwpx&rs=/docviewer/result/ntc0021/49375/1/202510\n",
      "페이지 로딩 중: https://www.mfds.go.kr/docviewer/skin/doc.html?fn=20250930012029822.hwpx&rs=/docviewer/result/ntc0021/49375/1/202510\n"
     ]
    },
    {
     "data": {
      "text/html": [
       "<pre style=\"white-space:pre;overflow-x:auto;line-height:normal;font-family:Menlo,'DejaVu Sans Mono',consolas,'Courier New',monospace\"><span style=\"color: #008080; text-decoration-color: #008080; font-weight: bold\">[</span><span style=\"color: #008080; text-decoration-color: #008080\">INIT</span><span style=\"color: #008080; text-decoration-color: #008080; font-weight: bold\">]</span><span style=\"color: #008080; text-decoration-color: #008080\">.... → Crawl4AI </span><span style=\"color: #008080; text-decoration-color: #008080; font-weight: bold\">0.7</span><span style=\"color: #008080; text-decoration-color: #008080\">.</span><span style=\"color: #008080; text-decoration-color: #008080; font-weight: bold\">4</span><span style=\"color: #008080; text-decoration-color: #008080\"> </span>\n",
       "</pre>\n"
      ],
      "text/plain": [
       "\u001b[1;36m[\u001b[0m\u001b[36mINIT\u001b[0m\u001b[1;36m]\u001b[0m\u001b[36m...\u001b[0m\u001b[36m. → Crawl4AI \u001b[0m\u001b[1;36m0.7\u001b[0m\u001b[36m.\u001b[0m\u001b[1;36m4\u001b[0m\u001b[36m \u001b[0m\n"
      ]
     },
     "metadata": {},
     "output_type": "display_data"
    },
    {
     "data": {
      "text/html": [
       "<pre style=\"white-space:pre;overflow-x:auto;line-height:normal;font-family:Menlo,'DejaVu Sans Mono',consolas,'Courier New',monospace\"><span style=\"color: #008000; text-decoration-color: #008000; font-weight: bold\">[</span><span style=\"color: #008000; text-decoration-color: #008000\">FETCH</span><span style=\"color: #008000; text-decoration-color: #008000; font-weight: bold\">]</span><span style=\"color: #008000; text-decoration-color: #008000\">... ↓ </span><span style=\"color: #008000; text-decoration-color: #008000; text-decoration: underline\">https://www.mfds.go.kr/brd/m_99/view.do?seq=49374</span><span style=\"color: #008000; text-decoration-color: #008000\">                                                    |</span>\n",
       "<span style=\"color: #008000; text-decoration-color: #008000\">✓ | ⏱: </span><span style=\"color: #008000; text-decoration-color: #008000; font-weight: bold\">2.</span><span style=\"color: #008000; text-decoration-color: #008000\">51s </span>\n",
       "</pre>\n"
      ],
      "text/plain": [
       "\u001b[1;32m[\u001b[0m\u001b[32mFETCH\u001b[0m\u001b[1;32m]\u001b[0m\u001b[32m...\u001b[0m\u001b[32m ↓ \u001b[0m\u001b[4;32mhttps://www.mfds.go.kr/brd/m_99/view.do?\u001b[0m\u001b[4;32mseq\u001b[0m\u001b[4;32m=\u001b[0m\u001b[4;32m49374\u001b[0m\u001b[32m                                                    |\u001b[0m\n",
       "\u001b[32m✓\u001b[0m\u001b[32m | ⏱: \u001b[0m\u001b[1;32m2.\u001b[0m\u001b[32m51s \u001b[0m\n"
      ]
     },
     "metadata": {},
     "output_type": "display_data"
    },
    {
     "data": {
      "text/html": [
       "<pre style=\"white-space:pre;overflow-x:auto;line-height:normal;font-family:Menlo,'DejaVu Sans Mono',consolas,'Courier New',monospace\"><span style=\"color: #008000; text-decoration-color: #008000; font-weight: bold\">[</span><span style=\"color: #008000; text-decoration-color: #008000\">SCRAPE</span><span style=\"color: #008000; text-decoration-color: #008000; font-weight: bold\">]</span><span style=\"color: #008000; text-decoration-color: #008000\">.. ◆ </span><span style=\"color: #008000; text-decoration-color: #008000; text-decoration: underline\">https://www.mfds.go.kr/brd/m_99/view.do?seq=49374</span><span style=\"color: #008000; text-decoration-color: #008000\">                                                    |</span>\n",
       "<span style=\"color: #008000; text-decoration-color: #008000\">✓ | ⏱: </span><span style=\"color: #008000; text-decoration-color: #008000; font-weight: bold\">0.</span><span style=\"color: #008000; text-decoration-color: #008000\">14s </span>\n",
       "</pre>\n"
      ],
      "text/plain": [
       "\u001b[1;32m[\u001b[0m\u001b[32mSCRAPE\u001b[0m\u001b[1;32m]\u001b[0m\u001b[32m.. ◆ \u001b[0m\u001b[4;32mhttps://www.mfds.go.kr/brd/m_99/view.do?\u001b[0m\u001b[4;32mseq\u001b[0m\u001b[4;32m=\u001b[0m\u001b[4;32m49374\u001b[0m\u001b[32m                                                    |\u001b[0m\n",
       "\u001b[32m✓\u001b[0m\u001b[32m | ⏱: \u001b[0m\u001b[1;32m0.\u001b[0m\u001b[32m14s \u001b[0m\n"
      ]
     },
     "metadata": {},
     "output_type": "display_data"
    },
    {
     "data": {
      "text/html": [
       "<pre style=\"white-space:pre;overflow-x:auto;line-height:normal;font-family:Menlo,'DejaVu Sans Mono',consolas,'Courier New',monospace\"><span style=\"color: #008000; text-decoration-color: #008000; font-weight: bold\">[</span><span style=\"color: #008000; text-decoration-color: #008000\">COMPLETE</span><span style=\"color: #008000; text-decoration-color: #008000; font-weight: bold\">]</span><span style=\"color: #008000; text-decoration-color: #008000\"> ● </span><span style=\"color: #008000; text-decoration-color: #008000; text-decoration: underline\">https://www.mfds.go.kr/brd/m_99/view.do?seq=49374</span><span style=\"color: #008000; text-decoration-color: #008000\">                                                    |</span>\n",
       "<span style=\"color: #008000; text-decoration-color: #008000\">✓ | ⏱: </span><span style=\"color: #008000; text-decoration-color: #008000; font-weight: bold\">2.</span><span style=\"color: #008000; text-decoration-color: #008000\">65s </span>\n",
       "</pre>\n"
      ],
      "text/plain": [
       "\u001b[1;32m[\u001b[0m\u001b[32mCOMPLETE\u001b[0m\u001b[1;32m]\u001b[0m\u001b[32m ● \u001b[0m\u001b[4;32mhttps://www.mfds.go.kr/brd/m_99/view.do?\u001b[0m\u001b[4;32mseq\u001b[0m\u001b[4;32m=\u001b[0m\u001b[4;32m49374\u001b[0m\u001b[32m                                                    |\u001b[0m\n",
       "\u001b[32m✓\u001b[0m\u001b[32m | ⏱: \u001b[0m\u001b[1;32m2.\u001b[0m\u001b[32m65s \u001b[0m\n"
      ]
     },
     "metadata": {},
     "output_type": "display_data"
    },
    {
     "name": "stdout",
     "output_type": "stream",
     "text": [
      "https://www.mfds.go.kr/docviewer/skin/doc.html?fn=20250929092120147.hwpx&rs=/docviewer/result/ntc0021/49374/1/202510\n",
      "페이지 로딩 중: https://www.mfds.go.kr/docviewer/skin/doc.html?fn=20250929092120147.hwpx&rs=/docviewer/result/ntc0021/49374/1/202510\n"
     ]
    },
    {
     "data": {
      "text/html": [
       "<pre style=\"white-space:pre;overflow-x:auto;line-height:normal;font-family:Menlo,'DejaVu Sans Mono',consolas,'Courier New',monospace\"><span style=\"color: #008080; text-decoration-color: #008080; font-weight: bold\">[</span><span style=\"color: #008080; text-decoration-color: #008080\">INIT</span><span style=\"color: #008080; text-decoration-color: #008080; font-weight: bold\">]</span><span style=\"color: #008080; text-decoration-color: #008080\">.... → Crawl4AI </span><span style=\"color: #008080; text-decoration-color: #008080; font-weight: bold\">0.7</span><span style=\"color: #008080; text-decoration-color: #008080\">.</span><span style=\"color: #008080; text-decoration-color: #008080; font-weight: bold\">4</span><span style=\"color: #008080; text-decoration-color: #008080\"> </span>\n",
       "</pre>\n"
      ],
      "text/plain": [
       "\u001b[1;36m[\u001b[0m\u001b[36mINIT\u001b[0m\u001b[1;36m]\u001b[0m\u001b[36m...\u001b[0m\u001b[36m. → Crawl4AI \u001b[0m\u001b[1;36m0.7\u001b[0m\u001b[36m.\u001b[0m\u001b[1;36m4\u001b[0m\u001b[36m \u001b[0m\n"
      ]
     },
     "metadata": {},
     "output_type": "display_data"
    },
    {
     "data": {
      "text/html": [
       "<pre style=\"white-space:pre;overflow-x:auto;line-height:normal;font-family:Menlo,'DejaVu Sans Mono',consolas,'Courier New',monospace\"><span style=\"color: #008000; text-decoration-color: #008000; font-weight: bold\">[</span><span style=\"color: #008000; text-decoration-color: #008000\">FETCH</span><span style=\"color: #008000; text-decoration-color: #008000; font-weight: bold\">]</span><span style=\"color: #008000; text-decoration-color: #008000\">... ↓ </span><span style=\"color: #008000; text-decoration-color: #008000; text-decoration: underline\">https://www.mfds.go.kr/brd/m_99/view.do?seq=49373</span><span style=\"color: #008000; text-decoration-color: #008000\">                                                    |</span>\n",
       "<span style=\"color: #008000; text-decoration-color: #008000\">✓ | ⏱: </span><span style=\"color: #008000; text-decoration-color: #008000; font-weight: bold\">2.</span><span style=\"color: #008000; text-decoration-color: #008000\">17s </span>\n",
       "</pre>\n"
      ],
      "text/plain": [
       "\u001b[1;32m[\u001b[0m\u001b[32mFETCH\u001b[0m\u001b[1;32m]\u001b[0m\u001b[32m...\u001b[0m\u001b[32m ↓ \u001b[0m\u001b[4;32mhttps://www.mfds.go.kr/brd/m_99/view.do?\u001b[0m\u001b[4;32mseq\u001b[0m\u001b[4;32m=\u001b[0m\u001b[4;32m49373\u001b[0m\u001b[32m                                                    |\u001b[0m\n",
       "\u001b[32m✓\u001b[0m\u001b[32m | ⏱: \u001b[0m\u001b[1;32m2.\u001b[0m\u001b[32m17s \u001b[0m\n"
      ]
     },
     "metadata": {},
     "output_type": "display_data"
    },
    {
     "data": {
      "text/html": [
       "<pre style=\"white-space:pre;overflow-x:auto;line-height:normal;font-family:Menlo,'DejaVu Sans Mono',consolas,'Courier New',monospace\"><span style=\"color: #008000; text-decoration-color: #008000; font-weight: bold\">[</span><span style=\"color: #008000; text-decoration-color: #008000\">SCRAPE</span><span style=\"color: #008000; text-decoration-color: #008000; font-weight: bold\">]</span><span style=\"color: #008000; text-decoration-color: #008000\">.. ◆ </span><span style=\"color: #008000; text-decoration-color: #008000; text-decoration: underline\">https://www.mfds.go.kr/brd/m_99/view.do?seq=49373</span><span style=\"color: #008000; text-decoration-color: #008000\">                                                    |</span>\n",
       "<span style=\"color: #008000; text-decoration-color: #008000\">✓ | ⏱: </span><span style=\"color: #008000; text-decoration-color: #008000; font-weight: bold\">0.</span><span style=\"color: #008000; text-decoration-color: #008000\">13s </span>\n",
       "</pre>\n"
      ],
      "text/plain": [
       "\u001b[1;32m[\u001b[0m\u001b[32mSCRAPE\u001b[0m\u001b[1;32m]\u001b[0m\u001b[32m.. ◆ \u001b[0m\u001b[4;32mhttps://www.mfds.go.kr/brd/m_99/view.do?\u001b[0m\u001b[4;32mseq\u001b[0m\u001b[4;32m=\u001b[0m\u001b[4;32m49373\u001b[0m\u001b[32m                                                    |\u001b[0m\n",
       "\u001b[32m✓\u001b[0m\u001b[32m | ⏱: \u001b[0m\u001b[1;32m0.\u001b[0m\u001b[32m13s \u001b[0m\n"
      ]
     },
     "metadata": {},
     "output_type": "display_data"
    },
    {
     "data": {
      "text/html": [
       "<pre style=\"white-space:pre;overflow-x:auto;line-height:normal;font-family:Menlo,'DejaVu Sans Mono',consolas,'Courier New',monospace\"><span style=\"color: #008000; text-decoration-color: #008000; font-weight: bold\">[</span><span style=\"color: #008000; text-decoration-color: #008000\">COMPLETE</span><span style=\"color: #008000; text-decoration-color: #008000; font-weight: bold\">]</span><span style=\"color: #008000; text-decoration-color: #008000\"> ● </span><span style=\"color: #008000; text-decoration-color: #008000; text-decoration: underline\">https://www.mfds.go.kr/brd/m_99/view.do?seq=49373</span><span style=\"color: #008000; text-decoration-color: #008000\">                                                    |</span>\n",
       "<span style=\"color: #008000; text-decoration-color: #008000\">✓ | ⏱: </span><span style=\"color: #008000; text-decoration-color: #008000; font-weight: bold\">2.</span><span style=\"color: #008000; text-decoration-color: #008000\">32s </span>\n",
       "</pre>\n"
      ],
      "text/plain": [
       "\u001b[1;32m[\u001b[0m\u001b[32mCOMPLETE\u001b[0m\u001b[1;32m]\u001b[0m\u001b[32m ● \u001b[0m\u001b[4;32mhttps://www.mfds.go.kr/brd/m_99/view.do?\u001b[0m\u001b[4;32mseq\u001b[0m\u001b[4;32m=\u001b[0m\u001b[4;32m49373\u001b[0m\u001b[32m                                                    |\u001b[0m\n",
       "\u001b[32m✓\u001b[0m\u001b[32m | ⏱: \u001b[0m\u001b[1;32m2.\u001b[0m\u001b[32m32s \u001b[0m\n"
      ]
     },
     "metadata": {},
     "output_type": "display_data"
    },
    {
     "name": "stdout",
     "output_type": "stream",
     "text": [
      "https://www.mfds.go.kr/docviewer/skin/doc.html?fn=20250929092003451.hwpx&rs=/docviewer/result/ntc0021/49373/1/202510\n",
      "페이지 로딩 중: https://www.mfds.go.kr/docviewer/skin/doc.html?fn=20250929092003451.hwpx&rs=/docviewer/result/ntc0021/49373/1/202510\n"
     ]
    },
    {
     "data": {
      "text/html": [
       "<pre style=\"white-space:pre;overflow-x:auto;line-height:normal;font-family:Menlo,'DejaVu Sans Mono',consolas,'Courier New',monospace\"><span style=\"color: #008080; text-decoration-color: #008080; font-weight: bold\">[</span><span style=\"color: #008080; text-decoration-color: #008080\">INIT</span><span style=\"color: #008080; text-decoration-color: #008080; font-weight: bold\">]</span><span style=\"color: #008080; text-decoration-color: #008080\">.... → Crawl4AI </span><span style=\"color: #008080; text-decoration-color: #008080; font-weight: bold\">0.7</span><span style=\"color: #008080; text-decoration-color: #008080\">.</span><span style=\"color: #008080; text-decoration-color: #008080; font-weight: bold\">4</span><span style=\"color: #008080; text-decoration-color: #008080\"> </span>\n",
       "</pre>\n"
      ],
      "text/plain": [
       "\u001b[1;36m[\u001b[0m\u001b[36mINIT\u001b[0m\u001b[1;36m]\u001b[0m\u001b[36m...\u001b[0m\u001b[36m. → Crawl4AI \u001b[0m\u001b[1;36m0.7\u001b[0m\u001b[36m.\u001b[0m\u001b[1;36m4\u001b[0m\u001b[36m \u001b[0m\n"
      ]
     },
     "metadata": {},
     "output_type": "display_data"
    },
    {
     "data": {
      "text/html": [
       "<pre style=\"white-space:pre;overflow-x:auto;line-height:normal;font-family:Menlo,'DejaVu Sans Mono',consolas,'Courier New',monospace\"><span style=\"color: #008000; text-decoration-color: #008000; font-weight: bold\">[</span><span style=\"color: #008000; text-decoration-color: #008000\">FETCH</span><span style=\"color: #008000; text-decoration-color: #008000; font-weight: bold\">]</span><span style=\"color: #008000; text-decoration-color: #008000\">... ↓ </span><span style=\"color: #008000; text-decoration-color: #008000; text-decoration: underline\">https://www.mfds.go.kr/brd/m_99/view.do?seq=49372</span><span style=\"color: #008000; text-decoration-color: #008000\">                                                    |</span>\n",
       "<span style=\"color: #008000; text-decoration-color: #008000\">✓ | ⏱: </span><span style=\"color: #008000; text-decoration-color: #008000; font-weight: bold\">2.</span><span style=\"color: #008000; text-decoration-color: #008000\">28s </span>\n",
       "</pre>\n"
      ],
      "text/plain": [
       "\u001b[1;32m[\u001b[0m\u001b[32mFETCH\u001b[0m\u001b[1;32m]\u001b[0m\u001b[32m...\u001b[0m\u001b[32m ↓ \u001b[0m\u001b[4;32mhttps://www.mfds.go.kr/brd/m_99/view.do?\u001b[0m\u001b[4;32mseq\u001b[0m\u001b[4;32m=\u001b[0m\u001b[4;32m49372\u001b[0m\u001b[32m                                                    |\u001b[0m\n",
       "\u001b[32m✓\u001b[0m\u001b[32m | ⏱: \u001b[0m\u001b[1;32m2.\u001b[0m\u001b[32m28s \u001b[0m\n"
      ]
     },
     "metadata": {},
     "output_type": "display_data"
    },
    {
     "data": {
      "text/html": [
       "<pre style=\"white-space:pre;overflow-x:auto;line-height:normal;font-family:Menlo,'DejaVu Sans Mono',consolas,'Courier New',monospace\"><span style=\"color: #008000; text-decoration-color: #008000; font-weight: bold\">[</span><span style=\"color: #008000; text-decoration-color: #008000\">SCRAPE</span><span style=\"color: #008000; text-decoration-color: #008000; font-weight: bold\">]</span><span style=\"color: #008000; text-decoration-color: #008000\">.. ◆ </span><span style=\"color: #008000; text-decoration-color: #008000; text-decoration: underline\">https://www.mfds.go.kr/brd/m_99/view.do?seq=49372</span><span style=\"color: #008000; text-decoration-color: #008000\">                                                    |</span>\n",
       "<span style=\"color: #008000; text-decoration-color: #008000\">✓ | ⏱: </span><span style=\"color: #008000; text-decoration-color: #008000; font-weight: bold\">0.</span><span style=\"color: #008000; text-decoration-color: #008000\">09s </span>\n",
       "</pre>\n"
      ],
      "text/plain": [
       "\u001b[1;32m[\u001b[0m\u001b[32mSCRAPE\u001b[0m\u001b[1;32m]\u001b[0m\u001b[32m.. ◆ \u001b[0m\u001b[4;32mhttps://www.mfds.go.kr/brd/m_99/view.do?\u001b[0m\u001b[4;32mseq\u001b[0m\u001b[4;32m=\u001b[0m\u001b[4;32m49372\u001b[0m\u001b[32m                                                    |\u001b[0m\n",
       "\u001b[32m✓\u001b[0m\u001b[32m | ⏱: \u001b[0m\u001b[1;32m0.\u001b[0m\u001b[32m09s \u001b[0m\n"
      ]
     },
     "metadata": {},
     "output_type": "display_data"
    },
    {
     "data": {
      "text/html": [
       "<pre style=\"white-space:pre;overflow-x:auto;line-height:normal;font-family:Menlo,'DejaVu Sans Mono',consolas,'Courier New',monospace\"><span style=\"color: #008000; text-decoration-color: #008000; font-weight: bold\">[</span><span style=\"color: #008000; text-decoration-color: #008000\">COMPLETE</span><span style=\"color: #008000; text-decoration-color: #008000; font-weight: bold\">]</span><span style=\"color: #008000; text-decoration-color: #008000\"> ● </span><span style=\"color: #008000; text-decoration-color: #008000; text-decoration: underline\">https://www.mfds.go.kr/brd/m_99/view.do?seq=49372</span><span style=\"color: #008000; text-decoration-color: #008000\">                                                    |</span>\n",
       "<span style=\"color: #008000; text-decoration-color: #008000\">✓ | ⏱: </span><span style=\"color: #008000; text-decoration-color: #008000; font-weight: bold\">2.</span><span style=\"color: #008000; text-decoration-color: #008000\">38s </span>\n",
       "</pre>\n"
      ],
      "text/plain": [
       "\u001b[1;32m[\u001b[0m\u001b[32mCOMPLETE\u001b[0m\u001b[1;32m]\u001b[0m\u001b[32m ● \u001b[0m\u001b[4;32mhttps://www.mfds.go.kr/brd/m_99/view.do?\u001b[0m\u001b[4;32mseq\u001b[0m\u001b[4;32m=\u001b[0m\u001b[4;32m49372\u001b[0m\u001b[32m                                                    |\u001b[0m\n",
       "\u001b[32m✓\u001b[0m\u001b[32m | ⏱: \u001b[0m\u001b[1;32m2.\u001b[0m\u001b[32m38s \u001b[0m\n"
      ]
     },
     "metadata": {},
     "output_type": "display_data"
    },
    {
     "name": "stdout",
     "output_type": "stream",
     "text": [
      "https://www.mfds.go.kr/docviewer/skin/doc.html?fn=20250929093252951.hwpx&rs=/docviewer/result/ntc0021/49372/1/202510\n",
      "페이지 로딩 중: https://www.mfds.go.kr/docviewer/skin/doc.html?fn=20250929093252951.hwpx&rs=/docviewer/result/ntc0021/49372/1/202510\n"
     ]
    },
    {
     "data": {
      "text/html": [
       "<pre style=\"white-space:pre;overflow-x:auto;line-height:normal;font-family:Menlo,'DejaVu Sans Mono',consolas,'Courier New',monospace\"><span style=\"color: #008080; text-decoration-color: #008080; font-weight: bold\">[</span><span style=\"color: #008080; text-decoration-color: #008080\">INIT</span><span style=\"color: #008080; text-decoration-color: #008080; font-weight: bold\">]</span><span style=\"color: #008080; text-decoration-color: #008080\">.... → Crawl4AI </span><span style=\"color: #008080; text-decoration-color: #008080; font-weight: bold\">0.7</span><span style=\"color: #008080; text-decoration-color: #008080\">.</span><span style=\"color: #008080; text-decoration-color: #008080; font-weight: bold\">4</span><span style=\"color: #008080; text-decoration-color: #008080\"> </span>\n",
       "</pre>\n"
      ],
      "text/plain": [
       "\u001b[1;36m[\u001b[0m\u001b[36mINIT\u001b[0m\u001b[1;36m]\u001b[0m\u001b[36m...\u001b[0m\u001b[36m. → Crawl4AI \u001b[0m\u001b[1;36m0.7\u001b[0m\u001b[36m.\u001b[0m\u001b[1;36m4\u001b[0m\u001b[36m \u001b[0m\n"
      ]
     },
     "metadata": {},
     "output_type": "display_data"
    },
    {
     "data": {
      "text/html": [
       "<pre style=\"white-space:pre;overflow-x:auto;line-height:normal;font-family:Menlo,'DejaVu Sans Mono',consolas,'Courier New',monospace\"><span style=\"color: #008000; text-decoration-color: #008000; font-weight: bold\">[</span><span style=\"color: #008000; text-decoration-color: #008000\">FETCH</span><span style=\"color: #008000; text-decoration-color: #008000; font-weight: bold\">]</span><span style=\"color: #008000; text-decoration-color: #008000\">... ↓ </span><span style=\"color: #008000; text-decoration-color: #008000; text-decoration: underline\">https://www.mfds.go.kr/brd/m_99/view.do?seq=49371</span><span style=\"color: #008000; text-decoration-color: #008000\">                                                    |</span>\n",
       "<span style=\"color: #008000; text-decoration-color: #008000\">✓ | ⏱: </span><span style=\"color: #008000; text-decoration-color: #008000; font-weight: bold\">2.</span><span style=\"color: #008000; text-decoration-color: #008000\">14s </span>\n",
       "</pre>\n"
      ],
      "text/plain": [
       "\u001b[1;32m[\u001b[0m\u001b[32mFETCH\u001b[0m\u001b[1;32m]\u001b[0m\u001b[32m...\u001b[0m\u001b[32m ↓ \u001b[0m\u001b[4;32mhttps://www.mfds.go.kr/brd/m_99/view.do?\u001b[0m\u001b[4;32mseq\u001b[0m\u001b[4;32m=\u001b[0m\u001b[4;32m49371\u001b[0m\u001b[32m                                                    |\u001b[0m\n",
       "\u001b[32m✓\u001b[0m\u001b[32m | ⏱: \u001b[0m\u001b[1;32m2.\u001b[0m\u001b[32m14s \u001b[0m\n"
      ]
     },
     "metadata": {},
     "output_type": "display_data"
    },
    {
     "data": {
      "text/html": [
       "<pre style=\"white-space:pre;overflow-x:auto;line-height:normal;font-family:Menlo,'DejaVu Sans Mono',consolas,'Courier New',monospace\"><span style=\"color: #008000; text-decoration-color: #008000; font-weight: bold\">[</span><span style=\"color: #008000; text-decoration-color: #008000\">SCRAPE</span><span style=\"color: #008000; text-decoration-color: #008000; font-weight: bold\">]</span><span style=\"color: #008000; text-decoration-color: #008000\">.. ◆ </span><span style=\"color: #008000; text-decoration-color: #008000; text-decoration: underline\">https://www.mfds.go.kr/brd/m_99/view.do?seq=49371</span><span style=\"color: #008000; text-decoration-color: #008000\">                                                    |</span>\n",
       "<span style=\"color: #008000; text-decoration-color: #008000\">✓ | ⏱: </span><span style=\"color: #008000; text-decoration-color: #008000; font-weight: bold\">0.</span><span style=\"color: #008000; text-decoration-color: #008000\">13s </span>\n",
       "</pre>\n"
      ],
      "text/plain": [
       "\u001b[1;32m[\u001b[0m\u001b[32mSCRAPE\u001b[0m\u001b[1;32m]\u001b[0m\u001b[32m.. ◆ \u001b[0m\u001b[4;32mhttps://www.mfds.go.kr/brd/m_99/view.do?\u001b[0m\u001b[4;32mseq\u001b[0m\u001b[4;32m=\u001b[0m\u001b[4;32m49371\u001b[0m\u001b[32m                                                    |\u001b[0m\n",
       "\u001b[32m✓\u001b[0m\u001b[32m | ⏱: \u001b[0m\u001b[1;32m0.\u001b[0m\u001b[32m13s \u001b[0m\n"
      ]
     },
     "metadata": {},
     "output_type": "display_data"
    },
    {
     "data": {
      "text/html": [
       "<pre style=\"white-space:pre;overflow-x:auto;line-height:normal;font-family:Menlo,'DejaVu Sans Mono',consolas,'Courier New',monospace\"><span style=\"color: #008000; text-decoration-color: #008000; font-weight: bold\">[</span><span style=\"color: #008000; text-decoration-color: #008000\">COMPLETE</span><span style=\"color: #008000; text-decoration-color: #008000; font-weight: bold\">]</span><span style=\"color: #008000; text-decoration-color: #008000\"> ● </span><span style=\"color: #008000; text-decoration-color: #008000; text-decoration: underline\">https://www.mfds.go.kr/brd/m_99/view.do?seq=49371</span><span style=\"color: #008000; text-decoration-color: #008000\">                                                    |</span>\n",
       "<span style=\"color: #008000; text-decoration-color: #008000\">✓ | ⏱: </span><span style=\"color: #008000; text-decoration-color: #008000; font-weight: bold\">2.</span><span style=\"color: #008000; text-decoration-color: #008000\">28s </span>\n",
       "</pre>\n"
      ],
      "text/plain": [
       "\u001b[1;32m[\u001b[0m\u001b[32mCOMPLETE\u001b[0m\u001b[1;32m]\u001b[0m\u001b[32m ● \u001b[0m\u001b[4;32mhttps://www.mfds.go.kr/brd/m_99/view.do?\u001b[0m\u001b[4;32mseq\u001b[0m\u001b[4;32m=\u001b[0m\u001b[4;32m49371\u001b[0m\u001b[32m                                                    |\u001b[0m\n",
       "\u001b[32m✓\u001b[0m\u001b[32m | ⏱: \u001b[0m\u001b[1;32m2.\u001b[0m\u001b[32m28s \u001b[0m\n"
      ]
     },
     "metadata": {},
     "output_type": "display_data"
    },
    {
     "name": "stdout",
     "output_type": "stream",
     "text": [
      "https://www.mfds.go.kr/docviewer/skin/doc.html?fn=20250929091330632.hwpx&rs=/docviewer/result/ntc0021/49371/1/202510\n",
      "페이지 로딩 중: https://www.mfds.go.kr/docviewer/skin/doc.html?fn=20250929091330632.hwpx&rs=/docviewer/result/ntc0021/49371/1/202510\n"
     ]
    },
    {
     "data": {
      "text/html": [
       "<pre style=\"white-space:pre;overflow-x:auto;line-height:normal;font-family:Menlo,'DejaVu Sans Mono',consolas,'Courier New',monospace\"><span style=\"color: #008080; text-decoration-color: #008080; font-weight: bold\">[</span><span style=\"color: #008080; text-decoration-color: #008080\">INIT</span><span style=\"color: #008080; text-decoration-color: #008080; font-weight: bold\">]</span><span style=\"color: #008080; text-decoration-color: #008080\">.... → Crawl4AI </span><span style=\"color: #008080; text-decoration-color: #008080; font-weight: bold\">0.7</span><span style=\"color: #008080; text-decoration-color: #008080\">.</span><span style=\"color: #008080; text-decoration-color: #008080; font-weight: bold\">4</span><span style=\"color: #008080; text-decoration-color: #008080\"> </span>\n",
       "</pre>\n"
      ],
      "text/plain": [
       "\u001b[1;36m[\u001b[0m\u001b[36mINIT\u001b[0m\u001b[1;36m]\u001b[0m\u001b[36m...\u001b[0m\u001b[36m. → Crawl4AI \u001b[0m\u001b[1;36m0.7\u001b[0m\u001b[36m.\u001b[0m\u001b[1;36m4\u001b[0m\u001b[36m \u001b[0m\n"
      ]
     },
     "metadata": {},
     "output_type": "display_data"
    },
    {
     "data": {
      "text/html": [
       "<pre style=\"white-space:pre;overflow-x:auto;line-height:normal;font-family:Menlo,'DejaVu Sans Mono',consolas,'Courier New',monospace\"><span style=\"color: #008000; text-decoration-color: #008000; font-weight: bold\">[</span><span style=\"color: #008000; text-decoration-color: #008000\">FETCH</span><span style=\"color: #008000; text-decoration-color: #008000; font-weight: bold\">]</span><span style=\"color: #008000; text-decoration-color: #008000\">... ↓ </span><span style=\"color: #008000; text-decoration-color: #008000; text-decoration: underline\">https://www.mfds.go.kr/brd/m_99/view.do?seq=49370</span><span style=\"color: #008000; text-decoration-color: #008000\">                                                    |</span>\n",
       "<span style=\"color: #008000; text-decoration-color: #008000\">✓ | ⏱: </span><span style=\"color: #008000; text-decoration-color: #008000; font-weight: bold\">2.</span><span style=\"color: #008000; text-decoration-color: #008000\">24s </span>\n",
       "</pre>\n"
      ],
      "text/plain": [
       "\u001b[1;32m[\u001b[0m\u001b[32mFETCH\u001b[0m\u001b[1;32m]\u001b[0m\u001b[32m...\u001b[0m\u001b[32m ↓ \u001b[0m\u001b[4;32mhttps://www.mfds.go.kr/brd/m_99/view.do?\u001b[0m\u001b[4;32mseq\u001b[0m\u001b[4;32m=\u001b[0m\u001b[4;32m49370\u001b[0m\u001b[32m                                                    |\u001b[0m\n",
       "\u001b[32m✓\u001b[0m\u001b[32m | ⏱: \u001b[0m\u001b[1;32m2.\u001b[0m\u001b[32m24s \u001b[0m\n"
      ]
     },
     "metadata": {},
     "output_type": "display_data"
    },
    {
     "data": {
      "text/html": [
       "<pre style=\"white-space:pre;overflow-x:auto;line-height:normal;font-family:Menlo,'DejaVu Sans Mono',consolas,'Courier New',monospace\"><span style=\"color: #008000; text-decoration-color: #008000; font-weight: bold\">[</span><span style=\"color: #008000; text-decoration-color: #008000\">SCRAPE</span><span style=\"color: #008000; text-decoration-color: #008000; font-weight: bold\">]</span><span style=\"color: #008000; text-decoration-color: #008000\">.. ◆ </span><span style=\"color: #008000; text-decoration-color: #008000; text-decoration: underline\">https://www.mfds.go.kr/brd/m_99/view.do?seq=49370</span><span style=\"color: #008000; text-decoration-color: #008000\">                                                    |</span>\n",
       "<span style=\"color: #008000; text-decoration-color: #008000\">✓ | ⏱: </span><span style=\"color: #008000; text-decoration-color: #008000; font-weight: bold\">0.</span><span style=\"color: #008000; text-decoration-color: #008000\">12s </span>\n",
       "</pre>\n"
      ],
      "text/plain": [
       "\u001b[1;32m[\u001b[0m\u001b[32mSCRAPE\u001b[0m\u001b[1;32m]\u001b[0m\u001b[32m.. ◆ \u001b[0m\u001b[4;32mhttps://www.mfds.go.kr/brd/m_99/view.do?\u001b[0m\u001b[4;32mseq\u001b[0m\u001b[4;32m=\u001b[0m\u001b[4;32m49370\u001b[0m\u001b[32m                                                    |\u001b[0m\n",
       "\u001b[32m✓\u001b[0m\u001b[32m | ⏱: \u001b[0m\u001b[1;32m0.\u001b[0m\u001b[32m12s \u001b[0m\n"
      ]
     },
     "metadata": {},
     "output_type": "display_data"
    },
    {
     "data": {
      "text/html": [
       "<pre style=\"white-space:pre;overflow-x:auto;line-height:normal;font-family:Menlo,'DejaVu Sans Mono',consolas,'Courier New',monospace\"><span style=\"color: #008000; text-decoration-color: #008000; font-weight: bold\">[</span><span style=\"color: #008000; text-decoration-color: #008000\">COMPLETE</span><span style=\"color: #008000; text-decoration-color: #008000; font-weight: bold\">]</span><span style=\"color: #008000; text-decoration-color: #008000\"> ● </span><span style=\"color: #008000; text-decoration-color: #008000; text-decoration: underline\">https://www.mfds.go.kr/brd/m_99/view.do?seq=49370</span><span style=\"color: #008000; text-decoration-color: #008000\">                                                    |</span>\n",
       "<span style=\"color: #008000; text-decoration-color: #008000\">✓ | ⏱: </span><span style=\"color: #008000; text-decoration-color: #008000; font-weight: bold\">2.</span><span style=\"color: #008000; text-decoration-color: #008000\">38s </span>\n",
       "</pre>\n"
      ],
      "text/plain": [
       "\u001b[1;32m[\u001b[0m\u001b[32mCOMPLETE\u001b[0m\u001b[1;32m]\u001b[0m\u001b[32m ● \u001b[0m\u001b[4;32mhttps://www.mfds.go.kr/brd/m_99/view.do?\u001b[0m\u001b[4;32mseq\u001b[0m\u001b[4;32m=\u001b[0m\u001b[4;32m49370\u001b[0m\u001b[32m                                                    |\u001b[0m\n",
       "\u001b[32m✓\u001b[0m\u001b[32m | ⏱: \u001b[0m\u001b[1;32m2.\u001b[0m\u001b[32m38s \u001b[0m\n"
      ]
     },
     "metadata": {},
     "output_type": "display_data"
    },
    {
     "name": "stdout",
     "output_type": "stream",
     "text": [
      "https://www.mfds.go.kr/docviewer/skin/doc.html?fn=20250929091152498.hwpx&rs=/docviewer/result/ntc0021/49370/1/202510\n",
      "페이지 로딩 중: https://www.mfds.go.kr/docviewer/skin/doc.html?fn=20250929091152498.hwpx&rs=/docviewer/result/ntc0021/49370/1/202510\n"
     ]
    },
    {
     "data": {
      "text/html": [
       "<pre style=\"white-space:pre;overflow-x:auto;line-height:normal;font-family:Menlo,'DejaVu Sans Mono',consolas,'Courier New',monospace\"><span style=\"color: #008080; text-decoration-color: #008080; font-weight: bold\">[</span><span style=\"color: #008080; text-decoration-color: #008080\">INIT</span><span style=\"color: #008080; text-decoration-color: #008080; font-weight: bold\">]</span><span style=\"color: #008080; text-decoration-color: #008080\">.... → Crawl4AI </span><span style=\"color: #008080; text-decoration-color: #008080; font-weight: bold\">0.7</span><span style=\"color: #008080; text-decoration-color: #008080\">.</span><span style=\"color: #008080; text-decoration-color: #008080; font-weight: bold\">4</span><span style=\"color: #008080; text-decoration-color: #008080\"> </span>\n",
       "</pre>\n"
      ],
      "text/plain": [
       "\u001b[1;36m[\u001b[0m\u001b[36mINIT\u001b[0m\u001b[1;36m]\u001b[0m\u001b[36m...\u001b[0m\u001b[36m. → Crawl4AI \u001b[0m\u001b[1;36m0.7\u001b[0m\u001b[36m.\u001b[0m\u001b[1;36m4\u001b[0m\u001b[36m \u001b[0m\n"
      ]
     },
     "metadata": {},
     "output_type": "display_data"
    },
    {
     "data": {
      "text/html": [
       "<pre style=\"white-space:pre;overflow-x:auto;line-height:normal;font-family:Menlo,'DejaVu Sans Mono',consolas,'Courier New',monospace\"><span style=\"color: #008000; text-decoration-color: #008000; font-weight: bold\">[</span><span style=\"color: #008000; text-decoration-color: #008000\">FETCH</span><span style=\"color: #008000; text-decoration-color: #008000; font-weight: bold\">]</span><span style=\"color: #008000; text-decoration-color: #008000\">... ↓ </span><span style=\"color: #008000; text-decoration-color: #008000; text-decoration: underline\">https://www.mfds.go.kr/brd/m_99/view.do?seq=49369</span><span style=\"color: #008000; text-decoration-color: #008000\">                                                    |</span>\n",
       "<span style=\"color: #008000; text-decoration-color: #008000\">✓ | ⏱: </span><span style=\"color: #008000; text-decoration-color: #008000; font-weight: bold\">2.</span><span style=\"color: #008000; text-decoration-color: #008000\">27s </span>\n",
       "</pre>\n"
      ],
      "text/plain": [
       "\u001b[1;32m[\u001b[0m\u001b[32mFETCH\u001b[0m\u001b[1;32m]\u001b[0m\u001b[32m...\u001b[0m\u001b[32m ↓ \u001b[0m\u001b[4;32mhttps://www.mfds.go.kr/brd/m_99/view.do?\u001b[0m\u001b[4;32mseq\u001b[0m\u001b[4;32m=\u001b[0m\u001b[4;32m49369\u001b[0m\u001b[32m                                                    |\u001b[0m\n",
       "\u001b[32m✓\u001b[0m\u001b[32m | ⏱: \u001b[0m\u001b[1;32m2.\u001b[0m\u001b[32m27s \u001b[0m\n"
      ]
     },
     "metadata": {},
     "output_type": "display_data"
    },
    {
     "data": {
      "text/html": [
       "<pre style=\"white-space:pre;overflow-x:auto;line-height:normal;font-family:Menlo,'DejaVu Sans Mono',consolas,'Courier New',monospace\"><span style=\"color: #008000; text-decoration-color: #008000; font-weight: bold\">[</span><span style=\"color: #008000; text-decoration-color: #008000\">SCRAPE</span><span style=\"color: #008000; text-decoration-color: #008000; font-weight: bold\">]</span><span style=\"color: #008000; text-decoration-color: #008000\">.. ◆ </span><span style=\"color: #008000; text-decoration-color: #008000; text-decoration: underline\">https://www.mfds.go.kr/brd/m_99/view.do?seq=49369</span><span style=\"color: #008000; text-decoration-color: #008000\">                                                    |</span>\n",
       "<span style=\"color: #008000; text-decoration-color: #008000\">✓ | ⏱: </span><span style=\"color: #008000; text-decoration-color: #008000; font-weight: bold\">0.</span><span style=\"color: #008000; text-decoration-color: #008000\">14s </span>\n",
       "</pre>\n"
      ],
      "text/plain": [
       "\u001b[1;32m[\u001b[0m\u001b[32mSCRAPE\u001b[0m\u001b[1;32m]\u001b[0m\u001b[32m.. ◆ \u001b[0m\u001b[4;32mhttps://www.mfds.go.kr/brd/m_99/view.do?\u001b[0m\u001b[4;32mseq\u001b[0m\u001b[4;32m=\u001b[0m\u001b[4;32m49369\u001b[0m\u001b[32m                                                    |\u001b[0m\n",
       "\u001b[32m✓\u001b[0m\u001b[32m | ⏱: \u001b[0m\u001b[1;32m0.\u001b[0m\u001b[32m14s \u001b[0m\n"
      ]
     },
     "metadata": {},
     "output_type": "display_data"
    },
    {
     "data": {
      "text/html": [
       "<pre style=\"white-space:pre;overflow-x:auto;line-height:normal;font-family:Menlo,'DejaVu Sans Mono',consolas,'Courier New',monospace\"><span style=\"color: #008000; text-decoration-color: #008000; font-weight: bold\">[</span><span style=\"color: #008000; text-decoration-color: #008000\">COMPLETE</span><span style=\"color: #008000; text-decoration-color: #008000; font-weight: bold\">]</span><span style=\"color: #008000; text-decoration-color: #008000\"> ● </span><span style=\"color: #008000; text-decoration-color: #008000; text-decoration: underline\">https://www.mfds.go.kr/brd/m_99/view.do?seq=49369</span><span style=\"color: #008000; text-decoration-color: #008000\">                                                    |</span>\n",
       "<span style=\"color: #008000; text-decoration-color: #008000\">✓ | ⏱: </span><span style=\"color: #008000; text-decoration-color: #008000; font-weight: bold\">2.</span><span style=\"color: #008000; text-decoration-color: #008000\">42s </span>\n",
       "</pre>\n"
      ],
      "text/plain": [
       "\u001b[1;32m[\u001b[0m\u001b[32mCOMPLETE\u001b[0m\u001b[1;32m]\u001b[0m\u001b[32m ● \u001b[0m\u001b[4;32mhttps://www.mfds.go.kr/brd/m_99/view.do?\u001b[0m\u001b[4;32mseq\u001b[0m\u001b[4;32m=\u001b[0m\u001b[4;32m49369\u001b[0m\u001b[32m                                                    |\u001b[0m\n",
       "\u001b[32m✓\u001b[0m\u001b[32m | ⏱: \u001b[0m\u001b[1;32m2.\u001b[0m\u001b[32m42s \u001b[0m\n"
      ]
     },
     "metadata": {},
     "output_type": "display_data"
    },
    {
     "name": "stdout",
     "output_type": "stream",
     "text": [
      "https://www.mfds.go.kr/docviewer/skin/doc.html?fn=20250929101849992.hwpx&rs=/docviewer/result/ntc0021/49369/1/202510\n",
      "페이지 로딩 중: https://www.mfds.go.kr/docviewer/skin/doc.html?fn=20250929101849992.hwpx&rs=/docviewer/result/ntc0021/49369/1/202510\n"
     ]
    },
    {
     "data": {
      "text/html": [
       "<pre style=\"white-space:pre;overflow-x:auto;line-height:normal;font-family:Menlo,'DejaVu Sans Mono',consolas,'Courier New',monospace\"><span style=\"color: #008080; text-decoration-color: #008080; font-weight: bold\">[</span><span style=\"color: #008080; text-decoration-color: #008080\">INIT</span><span style=\"color: #008080; text-decoration-color: #008080; font-weight: bold\">]</span><span style=\"color: #008080; text-decoration-color: #008080\">.... → Crawl4AI </span><span style=\"color: #008080; text-decoration-color: #008080; font-weight: bold\">0.7</span><span style=\"color: #008080; text-decoration-color: #008080\">.</span><span style=\"color: #008080; text-decoration-color: #008080; font-weight: bold\">4</span><span style=\"color: #008080; text-decoration-color: #008080\"> </span>\n",
       "</pre>\n"
      ],
      "text/plain": [
       "\u001b[1;36m[\u001b[0m\u001b[36mINIT\u001b[0m\u001b[1;36m]\u001b[0m\u001b[36m...\u001b[0m\u001b[36m. → Crawl4AI \u001b[0m\u001b[1;36m0.7\u001b[0m\u001b[36m.\u001b[0m\u001b[1;36m4\u001b[0m\u001b[36m \u001b[0m\n"
      ]
     },
     "metadata": {},
     "output_type": "display_data"
    },
    {
     "data": {
      "text/html": [
       "<pre style=\"white-space:pre;overflow-x:auto;line-height:normal;font-family:Menlo,'DejaVu Sans Mono',consolas,'Courier New',monospace\"><span style=\"color: #008000; text-decoration-color: #008000; font-weight: bold\">[</span><span style=\"color: #008000; text-decoration-color: #008000\">FETCH</span><span style=\"color: #008000; text-decoration-color: #008000; font-weight: bold\">]</span><span style=\"color: #008000; text-decoration-color: #008000\">... ↓ </span><span style=\"color: #008000; text-decoration-color: #008000; text-decoration: underline\">https://www.mfds.go.kr/brd/m_99/view.do?seq=49368</span><span style=\"color: #008000; text-decoration-color: #008000\">                                                    |</span>\n",
       "<span style=\"color: #008000; text-decoration-color: #008000\">✓ | ⏱: </span><span style=\"color: #008000; text-decoration-color: #008000; font-weight: bold\">2.</span><span style=\"color: #008000; text-decoration-color: #008000\">28s </span>\n",
       "</pre>\n"
      ],
      "text/plain": [
       "\u001b[1;32m[\u001b[0m\u001b[32mFETCH\u001b[0m\u001b[1;32m]\u001b[0m\u001b[32m...\u001b[0m\u001b[32m ↓ \u001b[0m\u001b[4;32mhttps://www.mfds.go.kr/brd/m_99/view.do?\u001b[0m\u001b[4;32mseq\u001b[0m\u001b[4;32m=\u001b[0m\u001b[4;32m49368\u001b[0m\u001b[32m                                                    |\u001b[0m\n",
       "\u001b[32m✓\u001b[0m\u001b[32m | ⏱: \u001b[0m\u001b[1;32m2.\u001b[0m\u001b[32m28s \u001b[0m\n"
      ]
     },
     "metadata": {},
     "output_type": "display_data"
    },
    {
     "data": {
      "text/html": [
       "<pre style=\"white-space:pre;overflow-x:auto;line-height:normal;font-family:Menlo,'DejaVu Sans Mono',consolas,'Courier New',monospace\"><span style=\"color: #008000; text-decoration-color: #008000; font-weight: bold\">[</span><span style=\"color: #008000; text-decoration-color: #008000\">SCRAPE</span><span style=\"color: #008000; text-decoration-color: #008000; font-weight: bold\">]</span><span style=\"color: #008000; text-decoration-color: #008000\">.. ◆ </span><span style=\"color: #008000; text-decoration-color: #008000; text-decoration: underline\">https://www.mfds.go.kr/brd/m_99/view.do?seq=49368</span><span style=\"color: #008000; text-decoration-color: #008000\">                                                    |</span>\n",
       "<span style=\"color: #008000; text-decoration-color: #008000\">✓ | ⏱: </span><span style=\"color: #008000; text-decoration-color: #008000; font-weight: bold\">0.</span><span style=\"color: #008000; text-decoration-color: #008000\">13s </span>\n",
       "</pre>\n"
      ],
      "text/plain": [
       "\u001b[1;32m[\u001b[0m\u001b[32mSCRAPE\u001b[0m\u001b[1;32m]\u001b[0m\u001b[32m.. ◆ \u001b[0m\u001b[4;32mhttps://www.mfds.go.kr/brd/m_99/view.do?\u001b[0m\u001b[4;32mseq\u001b[0m\u001b[4;32m=\u001b[0m\u001b[4;32m49368\u001b[0m\u001b[32m                                                    |\u001b[0m\n",
       "\u001b[32m✓\u001b[0m\u001b[32m | ⏱: \u001b[0m\u001b[1;32m0.\u001b[0m\u001b[32m13s \u001b[0m\n"
      ]
     },
     "metadata": {},
     "output_type": "display_data"
    },
    {
     "data": {
      "text/html": [
       "<pre style=\"white-space:pre;overflow-x:auto;line-height:normal;font-family:Menlo,'DejaVu Sans Mono',consolas,'Courier New',monospace\"><span style=\"color: #008000; text-decoration-color: #008000; font-weight: bold\">[</span><span style=\"color: #008000; text-decoration-color: #008000\">COMPLETE</span><span style=\"color: #008000; text-decoration-color: #008000; font-weight: bold\">]</span><span style=\"color: #008000; text-decoration-color: #008000\"> ● </span><span style=\"color: #008000; text-decoration-color: #008000; text-decoration: underline\">https://www.mfds.go.kr/brd/m_99/view.do?seq=49368</span><span style=\"color: #008000; text-decoration-color: #008000\">                                                    |</span>\n",
       "<span style=\"color: #008000; text-decoration-color: #008000\">✓ | ⏱: </span><span style=\"color: #008000; text-decoration-color: #008000; font-weight: bold\">2.</span><span style=\"color: #008000; text-decoration-color: #008000\">42s </span>\n",
       "</pre>\n"
      ],
      "text/plain": [
       "\u001b[1;32m[\u001b[0m\u001b[32mCOMPLETE\u001b[0m\u001b[1;32m]\u001b[0m\u001b[32m ● \u001b[0m\u001b[4;32mhttps://www.mfds.go.kr/brd/m_99/view.do?\u001b[0m\u001b[4;32mseq\u001b[0m\u001b[4;32m=\u001b[0m\u001b[4;32m49368\u001b[0m\u001b[32m                                                    |\u001b[0m\n",
       "\u001b[32m✓\u001b[0m\u001b[32m | ⏱: \u001b[0m\u001b[1;32m2.\u001b[0m\u001b[32m42s \u001b[0m\n"
      ]
     },
     "metadata": {},
     "output_type": "display_data"
    },
    {
     "name": "stdout",
     "output_type": "stream",
     "text": [
      "https://www.mfds.go.kr/docviewer/skin/doc.html?fn=20250926035942830.hwpx&rs=/docviewer/result/ntc0021/49368/1/202510\n",
      "페이지 로딩 중: https://www.mfds.go.kr/docviewer/skin/doc.html?fn=20250926035942830.hwpx&rs=/docviewer/result/ntc0021/49368/1/202510\n"
     ]
    },
    {
     "data": {
      "text/html": [
       "<pre style=\"white-space:pre;overflow-x:auto;line-height:normal;font-family:Menlo,'DejaVu Sans Mono',consolas,'Courier New',monospace\"><span style=\"color: #008080; text-decoration-color: #008080; font-weight: bold\">[</span><span style=\"color: #008080; text-decoration-color: #008080\">INIT</span><span style=\"color: #008080; text-decoration-color: #008080; font-weight: bold\">]</span><span style=\"color: #008080; text-decoration-color: #008080\">.... → Crawl4AI </span><span style=\"color: #008080; text-decoration-color: #008080; font-weight: bold\">0.7</span><span style=\"color: #008080; text-decoration-color: #008080\">.</span><span style=\"color: #008080; text-decoration-color: #008080; font-weight: bold\">4</span><span style=\"color: #008080; text-decoration-color: #008080\"> </span>\n",
       "</pre>\n"
      ],
      "text/plain": [
       "\u001b[1;36m[\u001b[0m\u001b[36mINIT\u001b[0m\u001b[1;36m]\u001b[0m\u001b[36m...\u001b[0m\u001b[36m. → Crawl4AI \u001b[0m\u001b[1;36m0.7\u001b[0m\u001b[36m.\u001b[0m\u001b[1;36m4\u001b[0m\u001b[36m \u001b[0m\n"
      ]
     },
     "metadata": {},
     "output_type": "display_data"
    },
    {
     "data": {
      "text/html": [
       "<pre style=\"white-space:pre;overflow-x:auto;line-height:normal;font-family:Menlo,'DejaVu Sans Mono',consolas,'Courier New',monospace\"><span style=\"color: #008000; text-decoration-color: #008000; font-weight: bold\">[</span><span style=\"color: #008000; text-decoration-color: #008000\">FETCH</span><span style=\"color: #008000; text-decoration-color: #008000; font-weight: bold\">]</span><span style=\"color: #008000; text-decoration-color: #008000\">... ↓ </span><span style=\"color: #008000; text-decoration-color: #008000; text-decoration: underline\">https://www.mfds.go.kr/brd/m_99/view.do?seq=49367</span><span style=\"color: #008000; text-decoration-color: #008000\">                                                    |</span>\n",
       "<span style=\"color: #008000; text-decoration-color: #008000\">✓ | ⏱: </span><span style=\"color: #008000; text-decoration-color: #008000; font-weight: bold\">2.</span><span style=\"color: #008000; text-decoration-color: #008000\">22s </span>\n",
       "</pre>\n"
      ],
      "text/plain": [
       "\u001b[1;32m[\u001b[0m\u001b[32mFETCH\u001b[0m\u001b[1;32m]\u001b[0m\u001b[32m...\u001b[0m\u001b[32m ↓ \u001b[0m\u001b[4;32mhttps://www.mfds.go.kr/brd/m_99/view.do?\u001b[0m\u001b[4;32mseq\u001b[0m\u001b[4;32m=\u001b[0m\u001b[4;32m49367\u001b[0m\u001b[32m                                                    |\u001b[0m\n",
       "\u001b[32m✓\u001b[0m\u001b[32m | ⏱: \u001b[0m\u001b[1;32m2.\u001b[0m\u001b[32m22s \u001b[0m\n"
      ]
     },
     "metadata": {},
     "output_type": "display_data"
    },
    {
     "data": {
      "text/html": [
       "<pre style=\"white-space:pre;overflow-x:auto;line-height:normal;font-family:Menlo,'DejaVu Sans Mono',consolas,'Courier New',monospace\"><span style=\"color: #008000; text-decoration-color: #008000; font-weight: bold\">[</span><span style=\"color: #008000; text-decoration-color: #008000\">SCRAPE</span><span style=\"color: #008000; text-decoration-color: #008000; font-weight: bold\">]</span><span style=\"color: #008000; text-decoration-color: #008000\">.. ◆ </span><span style=\"color: #008000; text-decoration-color: #008000; text-decoration: underline\">https://www.mfds.go.kr/brd/m_99/view.do?seq=49367</span><span style=\"color: #008000; text-decoration-color: #008000\">                                                    |</span>\n",
       "<span style=\"color: #008000; text-decoration-color: #008000\">✓ | ⏱: </span><span style=\"color: #008000; text-decoration-color: #008000; font-weight: bold\">0.</span><span style=\"color: #008000; text-decoration-color: #008000\">13s </span>\n",
       "</pre>\n"
      ],
      "text/plain": [
       "\u001b[1;32m[\u001b[0m\u001b[32mSCRAPE\u001b[0m\u001b[1;32m]\u001b[0m\u001b[32m.. ◆ \u001b[0m\u001b[4;32mhttps://www.mfds.go.kr/brd/m_99/view.do?\u001b[0m\u001b[4;32mseq\u001b[0m\u001b[4;32m=\u001b[0m\u001b[4;32m49367\u001b[0m\u001b[32m                                                    |\u001b[0m\n",
       "\u001b[32m✓\u001b[0m\u001b[32m | ⏱: \u001b[0m\u001b[1;32m0.\u001b[0m\u001b[32m13s \u001b[0m\n"
      ]
     },
     "metadata": {},
     "output_type": "display_data"
    },
    {
     "data": {
      "text/html": [
       "<pre style=\"white-space:pre;overflow-x:auto;line-height:normal;font-family:Menlo,'DejaVu Sans Mono',consolas,'Courier New',monospace\"><span style=\"color: #008000; text-decoration-color: #008000; font-weight: bold\">[</span><span style=\"color: #008000; text-decoration-color: #008000\">COMPLETE</span><span style=\"color: #008000; text-decoration-color: #008000; font-weight: bold\">]</span><span style=\"color: #008000; text-decoration-color: #008000\"> ● </span><span style=\"color: #008000; text-decoration-color: #008000; text-decoration: underline\">https://www.mfds.go.kr/brd/m_99/view.do?seq=49367</span><span style=\"color: #008000; text-decoration-color: #008000\">                                                    |</span>\n",
       "<span style=\"color: #008000; text-decoration-color: #008000\">✓ | ⏱: </span><span style=\"color: #008000; text-decoration-color: #008000; font-weight: bold\">2.</span><span style=\"color: #008000; text-decoration-color: #008000\">36s </span>\n",
       "</pre>\n"
      ],
      "text/plain": [
       "\u001b[1;32m[\u001b[0m\u001b[32mCOMPLETE\u001b[0m\u001b[1;32m]\u001b[0m\u001b[32m ● \u001b[0m\u001b[4;32mhttps://www.mfds.go.kr/brd/m_99/view.do?\u001b[0m\u001b[4;32mseq\u001b[0m\u001b[4;32m=\u001b[0m\u001b[4;32m49367\u001b[0m\u001b[32m                                                    |\u001b[0m\n",
       "\u001b[32m✓\u001b[0m\u001b[32m | ⏱: \u001b[0m\u001b[1;32m2.\u001b[0m\u001b[32m36s \u001b[0m\n"
      ]
     },
     "metadata": {},
     "output_type": "display_data"
    },
    {
     "name": "stdout",
     "output_type": "stream",
     "text": [
      "https://www.mfds.go.kr/docviewer/skin/doc.html?fn=20251001073521531.hwpx&rs=/docviewer/result/ntc0021/49367/1/202510\n",
      "페이지 로딩 중: https://www.mfds.go.kr/docviewer/skin/doc.html?fn=20251001073521531.hwpx&rs=/docviewer/result/ntc0021/49367/1/202510\n"
     ]
    },
    {
     "data": {
      "text/html": [
       "<pre style=\"white-space:pre;overflow-x:auto;line-height:normal;font-family:Menlo,'DejaVu Sans Mono',consolas,'Courier New',monospace\"><span style=\"color: #008080; text-decoration-color: #008080; font-weight: bold\">[</span><span style=\"color: #008080; text-decoration-color: #008080\">INIT</span><span style=\"color: #008080; text-decoration-color: #008080; font-weight: bold\">]</span><span style=\"color: #008080; text-decoration-color: #008080\">.... → Crawl4AI </span><span style=\"color: #008080; text-decoration-color: #008080; font-weight: bold\">0.7</span><span style=\"color: #008080; text-decoration-color: #008080\">.</span><span style=\"color: #008080; text-decoration-color: #008080; font-weight: bold\">4</span><span style=\"color: #008080; text-decoration-color: #008080\"> </span>\n",
       "</pre>\n"
      ],
      "text/plain": [
       "\u001b[1;36m[\u001b[0m\u001b[36mINIT\u001b[0m\u001b[1;36m]\u001b[0m\u001b[36m...\u001b[0m\u001b[36m. → Crawl4AI \u001b[0m\u001b[1;36m0.7\u001b[0m\u001b[36m.\u001b[0m\u001b[1;36m4\u001b[0m\u001b[36m \u001b[0m\n"
      ]
     },
     "metadata": {},
     "output_type": "display_data"
    },
    {
     "data": {
      "text/html": [
       "<pre style=\"white-space:pre;overflow-x:auto;line-height:normal;font-family:Menlo,'DejaVu Sans Mono',consolas,'Courier New',monospace\"><span style=\"color: #008000; text-decoration-color: #008000; font-weight: bold\">[</span><span style=\"color: #008000; text-decoration-color: #008000\">FETCH</span><span style=\"color: #008000; text-decoration-color: #008000; font-weight: bold\">]</span><span style=\"color: #008000; text-decoration-color: #008000\">... ↓ </span><span style=\"color: #008000; text-decoration-color: #008000; text-decoration: underline\">https://www.mfds.go.kr/brd/m_99/view.do?seq=49366</span><span style=\"color: #008000; text-decoration-color: #008000\">                                                    |</span>\n",
       "<span style=\"color: #008000; text-decoration-color: #008000\">✓ | ⏱: </span><span style=\"color: #008000; text-decoration-color: #008000; font-weight: bold\">2.</span><span style=\"color: #008000; text-decoration-color: #008000\">38s </span>\n",
       "</pre>\n"
      ],
      "text/plain": [
       "\u001b[1;32m[\u001b[0m\u001b[32mFETCH\u001b[0m\u001b[1;32m]\u001b[0m\u001b[32m...\u001b[0m\u001b[32m ↓ \u001b[0m\u001b[4;32mhttps://www.mfds.go.kr/brd/m_99/view.do?\u001b[0m\u001b[4;32mseq\u001b[0m\u001b[4;32m=\u001b[0m\u001b[4;32m49366\u001b[0m\u001b[32m                                                    |\u001b[0m\n",
       "\u001b[32m✓\u001b[0m\u001b[32m | ⏱: \u001b[0m\u001b[1;32m2.\u001b[0m\u001b[32m38s \u001b[0m\n"
      ]
     },
     "metadata": {},
     "output_type": "display_data"
    },
    {
     "data": {
      "text/html": [
       "<pre style=\"white-space:pre;overflow-x:auto;line-height:normal;font-family:Menlo,'DejaVu Sans Mono',consolas,'Courier New',monospace\"><span style=\"color: #008000; text-decoration-color: #008000; font-weight: bold\">[</span><span style=\"color: #008000; text-decoration-color: #008000\">SCRAPE</span><span style=\"color: #008000; text-decoration-color: #008000; font-weight: bold\">]</span><span style=\"color: #008000; text-decoration-color: #008000\">.. ◆ </span><span style=\"color: #008000; text-decoration-color: #008000; text-decoration: underline\">https://www.mfds.go.kr/brd/m_99/view.do?seq=49366</span><span style=\"color: #008000; text-decoration-color: #008000\">                                                    |</span>\n",
       "<span style=\"color: #008000; text-decoration-color: #008000\">✓ | ⏱: </span><span style=\"color: #008000; text-decoration-color: #008000; font-weight: bold\">0.</span><span style=\"color: #008000; text-decoration-color: #008000\">13s </span>\n",
       "</pre>\n"
      ],
      "text/plain": [
       "\u001b[1;32m[\u001b[0m\u001b[32mSCRAPE\u001b[0m\u001b[1;32m]\u001b[0m\u001b[32m.. ◆ \u001b[0m\u001b[4;32mhttps://www.mfds.go.kr/brd/m_99/view.do?\u001b[0m\u001b[4;32mseq\u001b[0m\u001b[4;32m=\u001b[0m\u001b[4;32m49366\u001b[0m\u001b[32m                                                    |\u001b[0m\n",
       "\u001b[32m✓\u001b[0m\u001b[32m | ⏱: \u001b[0m\u001b[1;32m0.\u001b[0m\u001b[32m13s \u001b[0m\n"
      ]
     },
     "metadata": {},
     "output_type": "display_data"
    },
    {
     "data": {
      "text/html": [
       "<pre style=\"white-space:pre;overflow-x:auto;line-height:normal;font-family:Menlo,'DejaVu Sans Mono',consolas,'Courier New',monospace\"><span style=\"color: #008000; text-decoration-color: #008000; font-weight: bold\">[</span><span style=\"color: #008000; text-decoration-color: #008000\">COMPLETE</span><span style=\"color: #008000; text-decoration-color: #008000; font-weight: bold\">]</span><span style=\"color: #008000; text-decoration-color: #008000\"> ● </span><span style=\"color: #008000; text-decoration-color: #008000; text-decoration: underline\">https://www.mfds.go.kr/brd/m_99/view.do?seq=49366</span><span style=\"color: #008000; text-decoration-color: #008000\">                                                    |</span>\n",
       "<span style=\"color: #008000; text-decoration-color: #008000\">✓ | ⏱: </span><span style=\"color: #008000; text-decoration-color: #008000; font-weight: bold\">2.</span><span style=\"color: #008000; text-decoration-color: #008000\">52s </span>\n",
       "</pre>\n"
      ],
      "text/plain": [
       "\u001b[1;32m[\u001b[0m\u001b[32mCOMPLETE\u001b[0m\u001b[1;32m]\u001b[0m\u001b[32m ● \u001b[0m\u001b[4;32mhttps://www.mfds.go.kr/brd/m_99/view.do?\u001b[0m\u001b[4;32mseq\u001b[0m\u001b[4;32m=\u001b[0m\u001b[4;32m49366\u001b[0m\u001b[32m                                                    |\u001b[0m\n",
       "\u001b[32m✓\u001b[0m\u001b[32m | ⏱: \u001b[0m\u001b[1;32m2.\u001b[0m\u001b[32m52s \u001b[0m\n"
      ]
     },
     "metadata": {},
     "output_type": "display_data"
    },
    {
     "name": "stdout",
     "output_type": "stream",
     "text": [
      "https://www.mfds.go.kr/docviewer/skin/doc.html?fn=20250926090738432.hwpx&rs=/docviewer/result/ntc0021/49366/1/202510\n",
      "페이지 로딩 중: https://www.mfds.go.kr/docviewer/skin/doc.html?fn=20250926090738432.hwpx&rs=/docviewer/result/ntc0021/49366/1/202510\n"
     ]
    },
    {
     "data": {
      "text/html": [
       "<pre style=\"white-space:pre;overflow-x:auto;line-height:normal;font-family:Menlo,'DejaVu Sans Mono',consolas,'Courier New',monospace\"><span style=\"color: #008080; text-decoration-color: #008080; font-weight: bold\">[</span><span style=\"color: #008080; text-decoration-color: #008080\">INIT</span><span style=\"color: #008080; text-decoration-color: #008080; font-weight: bold\">]</span><span style=\"color: #008080; text-decoration-color: #008080\">.... → Crawl4AI </span><span style=\"color: #008080; text-decoration-color: #008080; font-weight: bold\">0.7</span><span style=\"color: #008080; text-decoration-color: #008080\">.</span><span style=\"color: #008080; text-decoration-color: #008080; font-weight: bold\">4</span><span style=\"color: #008080; text-decoration-color: #008080\"> </span>\n",
       "</pre>\n"
      ],
      "text/plain": [
       "\u001b[1;36m[\u001b[0m\u001b[36mINIT\u001b[0m\u001b[1;36m]\u001b[0m\u001b[36m...\u001b[0m\u001b[36m. → Crawl4AI \u001b[0m\u001b[1;36m0.7\u001b[0m\u001b[36m.\u001b[0m\u001b[1;36m4\u001b[0m\u001b[36m \u001b[0m\n"
      ]
     },
     "metadata": {},
     "output_type": "display_data"
    },
    {
     "data": {
      "text/html": [
       "<pre style=\"white-space:pre;overflow-x:auto;line-height:normal;font-family:Menlo,'DejaVu Sans Mono',consolas,'Courier New',monospace\"><span style=\"color: #008000; text-decoration-color: #008000; font-weight: bold\">[</span><span style=\"color: #008000; text-decoration-color: #008000\">FETCH</span><span style=\"color: #008000; text-decoration-color: #008000; font-weight: bold\">]</span><span style=\"color: #008000; text-decoration-color: #008000\">... ↓ </span><span style=\"color: #008000; text-decoration-color: #008000; text-decoration: underline\">https://www.mfds.go.kr/brd/m_99/view.do?seq=49365</span><span style=\"color: #008000; text-decoration-color: #008000\">                                                    |</span>\n",
       "<span style=\"color: #008000; text-decoration-color: #008000\">✓ | ⏱: </span><span style=\"color: #008000; text-decoration-color: #008000; font-weight: bold\">1.</span><span style=\"color: #008000; text-decoration-color: #008000\">93s </span>\n",
       "</pre>\n"
      ],
      "text/plain": [
       "\u001b[1;32m[\u001b[0m\u001b[32mFETCH\u001b[0m\u001b[1;32m]\u001b[0m\u001b[32m...\u001b[0m\u001b[32m ↓ \u001b[0m\u001b[4;32mhttps://www.mfds.go.kr/brd/m_99/view.do?\u001b[0m\u001b[4;32mseq\u001b[0m\u001b[4;32m=\u001b[0m\u001b[4;32m49365\u001b[0m\u001b[32m                                                    |\u001b[0m\n",
       "\u001b[32m✓\u001b[0m\u001b[32m | ⏱: \u001b[0m\u001b[1;32m1.\u001b[0m\u001b[32m93s \u001b[0m\n"
      ]
     },
     "metadata": {},
     "output_type": "display_data"
    },
    {
     "data": {
      "text/html": [
       "<pre style=\"white-space:pre;overflow-x:auto;line-height:normal;font-family:Menlo,'DejaVu Sans Mono',consolas,'Courier New',monospace\"><span style=\"color: #008000; text-decoration-color: #008000; font-weight: bold\">[</span><span style=\"color: #008000; text-decoration-color: #008000\">SCRAPE</span><span style=\"color: #008000; text-decoration-color: #008000; font-weight: bold\">]</span><span style=\"color: #008000; text-decoration-color: #008000\">.. ◆ </span><span style=\"color: #008000; text-decoration-color: #008000; text-decoration: underline\">https://www.mfds.go.kr/brd/m_99/view.do?seq=49365</span><span style=\"color: #008000; text-decoration-color: #008000\">                                                    |</span>\n",
       "<span style=\"color: #008000; text-decoration-color: #008000\">✓ | ⏱: </span><span style=\"color: #008000; text-decoration-color: #008000; font-weight: bold\">0.</span><span style=\"color: #008000; text-decoration-color: #008000\">09s </span>\n",
       "</pre>\n"
      ],
      "text/plain": [
       "\u001b[1;32m[\u001b[0m\u001b[32mSCRAPE\u001b[0m\u001b[1;32m]\u001b[0m\u001b[32m.. ◆ \u001b[0m\u001b[4;32mhttps://www.mfds.go.kr/brd/m_99/view.do?\u001b[0m\u001b[4;32mseq\u001b[0m\u001b[4;32m=\u001b[0m\u001b[4;32m49365\u001b[0m\u001b[32m                                                    |\u001b[0m\n",
       "\u001b[32m✓\u001b[0m\u001b[32m | ⏱: \u001b[0m\u001b[1;32m0.\u001b[0m\u001b[32m09s \u001b[0m\n"
      ]
     },
     "metadata": {},
     "output_type": "display_data"
    },
    {
     "data": {
      "text/html": [
       "<pre style=\"white-space:pre;overflow-x:auto;line-height:normal;font-family:Menlo,'DejaVu Sans Mono',consolas,'Courier New',monospace\"><span style=\"color: #008000; text-decoration-color: #008000; font-weight: bold\">[</span><span style=\"color: #008000; text-decoration-color: #008000\">COMPLETE</span><span style=\"color: #008000; text-decoration-color: #008000; font-weight: bold\">]</span><span style=\"color: #008000; text-decoration-color: #008000\"> ● </span><span style=\"color: #008000; text-decoration-color: #008000; text-decoration: underline\">https://www.mfds.go.kr/brd/m_99/view.do?seq=49365</span><span style=\"color: #008000; text-decoration-color: #008000\">                                                    |</span>\n",
       "<span style=\"color: #008000; text-decoration-color: #008000\">✓ | ⏱: </span><span style=\"color: #008000; text-decoration-color: #008000; font-weight: bold\">2.</span><span style=\"color: #008000; text-decoration-color: #008000\">03s </span>\n",
       "</pre>\n"
      ],
      "text/plain": [
       "\u001b[1;32m[\u001b[0m\u001b[32mCOMPLETE\u001b[0m\u001b[1;32m]\u001b[0m\u001b[32m ● \u001b[0m\u001b[4;32mhttps://www.mfds.go.kr/brd/m_99/view.do?\u001b[0m\u001b[4;32mseq\u001b[0m\u001b[4;32m=\u001b[0m\u001b[4;32m49365\u001b[0m\u001b[32m                                                    |\u001b[0m\n",
       "\u001b[32m✓\u001b[0m\u001b[32m | ⏱: \u001b[0m\u001b[1;32m2.\u001b[0m\u001b[32m03s \u001b[0m\n"
      ]
     },
     "metadata": {},
     "output_type": "display_data"
    },
    {
     "name": "stdout",
     "output_type": "stream",
     "text": [
      "https://www.mfds.go.kr/docviewer/skin/doc.html?fn=20250925012353526.hwpx&rs=/docviewer/result/ntc0021/49365/1/202510\n",
      "페이지 로딩 중: https://www.mfds.go.kr/docviewer/skin/doc.html?fn=20250925012353526.hwpx&rs=/docviewer/result/ntc0021/49365/1/202510\n"
     ]
    },
    {
     "data": {
      "text/html": [
       "<pre style=\"white-space:pre;overflow-x:auto;line-height:normal;font-family:Menlo,'DejaVu Sans Mono',consolas,'Courier New',monospace\"><span style=\"color: #008080; text-decoration-color: #008080; font-weight: bold\">[</span><span style=\"color: #008080; text-decoration-color: #008080\">INIT</span><span style=\"color: #008080; text-decoration-color: #008080; font-weight: bold\">]</span><span style=\"color: #008080; text-decoration-color: #008080\">.... → Crawl4AI </span><span style=\"color: #008080; text-decoration-color: #008080; font-weight: bold\">0.7</span><span style=\"color: #008080; text-decoration-color: #008080\">.</span><span style=\"color: #008080; text-decoration-color: #008080; font-weight: bold\">4</span><span style=\"color: #008080; text-decoration-color: #008080\"> </span>\n",
       "</pre>\n"
      ],
      "text/plain": [
       "\u001b[1;36m[\u001b[0m\u001b[36mINIT\u001b[0m\u001b[1;36m]\u001b[0m\u001b[36m...\u001b[0m\u001b[36m. → Crawl4AI \u001b[0m\u001b[1;36m0.7\u001b[0m\u001b[36m.\u001b[0m\u001b[1;36m4\u001b[0m\u001b[36m \u001b[0m\n"
      ]
     },
     "metadata": {},
     "output_type": "display_data"
    },
    {
     "data": {
      "text/html": [
       "<pre style=\"white-space:pre;overflow-x:auto;line-height:normal;font-family:Menlo,'DejaVu Sans Mono',consolas,'Courier New',monospace\"><span style=\"color: #008000; text-decoration-color: #008000; font-weight: bold\">[</span><span style=\"color: #008000; text-decoration-color: #008000\">FETCH</span><span style=\"color: #008000; text-decoration-color: #008000; font-weight: bold\">]</span><span style=\"color: #008000; text-decoration-color: #008000\">... ↓ </span><span style=\"color: #008000; text-decoration-color: #008000; text-decoration: underline\">https://www.mfds.go.kr/brd/m_99/view.do?seq=49364</span><span style=\"color: #008000; text-decoration-color: #008000\">                                                    |</span>\n",
       "<span style=\"color: #008000; text-decoration-color: #008000\">✓ | ⏱: </span><span style=\"color: #008000; text-decoration-color: #008000; font-weight: bold\">2.</span><span style=\"color: #008000; text-decoration-color: #008000\">31s </span>\n",
       "</pre>\n"
      ],
      "text/plain": [
       "\u001b[1;32m[\u001b[0m\u001b[32mFETCH\u001b[0m\u001b[1;32m]\u001b[0m\u001b[32m...\u001b[0m\u001b[32m ↓ \u001b[0m\u001b[4;32mhttps://www.mfds.go.kr/brd/m_99/view.do?\u001b[0m\u001b[4;32mseq\u001b[0m\u001b[4;32m=\u001b[0m\u001b[4;32m49364\u001b[0m\u001b[32m                                                    |\u001b[0m\n",
       "\u001b[32m✓\u001b[0m\u001b[32m | ⏱: \u001b[0m\u001b[1;32m2.\u001b[0m\u001b[32m31s \u001b[0m\n"
      ]
     },
     "metadata": {},
     "output_type": "display_data"
    },
    {
     "data": {
      "text/html": [
       "<pre style=\"white-space:pre;overflow-x:auto;line-height:normal;font-family:Menlo,'DejaVu Sans Mono',consolas,'Courier New',monospace\"><span style=\"color: #008000; text-decoration-color: #008000; font-weight: bold\">[</span><span style=\"color: #008000; text-decoration-color: #008000\">SCRAPE</span><span style=\"color: #008000; text-decoration-color: #008000; font-weight: bold\">]</span><span style=\"color: #008000; text-decoration-color: #008000\">.. ◆ </span><span style=\"color: #008000; text-decoration-color: #008000; text-decoration: underline\">https://www.mfds.go.kr/brd/m_99/view.do?seq=49364</span><span style=\"color: #008000; text-decoration-color: #008000\">                                                    |</span>\n",
       "<span style=\"color: #008000; text-decoration-color: #008000\">✓ | ⏱: </span><span style=\"color: #008000; text-decoration-color: #008000; font-weight: bold\">0.</span><span style=\"color: #008000; text-decoration-color: #008000\">08s </span>\n",
       "</pre>\n"
      ],
      "text/plain": [
       "\u001b[1;32m[\u001b[0m\u001b[32mSCRAPE\u001b[0m\u001b[1;32m]\u001b[0m\u001b[32m.. ◆ \u001b[0m\u001b[4;32mhttps://www.mfds.go.kr/brd/m_99/view.do?\u001b[0m\u001b[4;32mseq\u001b[0m\u001b[4;32m=\u001b[0m\u001b[4;32m49364\u001b[0m\u001b[32m                                                    |\u001b[0m\n",
       "\u001b[32m✓\u001b[0m\u001b[32m | ⏱: \u001b[0m\u001b[1;32m0.\u001b[0m\u001b[32m08s \u001b[0m\n"
      ]
     },
     "metadata": {},
     "output_type": "display_data"
    },
    {
     "data": {
      "text/html": [
       "<pre style=\"white-space:pre;overflow-x:auto;line-height:normal;font-family:Menlo,'DejaVu Sans Mono',consolas,'Courier New',monospace\"><span style=\"color: #008000; text-decoration-color: #008000; font-weight: bold\">[</span><span style=\"color: #008000; text-decoration-color: #008000\">COMPLETE</span><span style=\"color: #008000; text-decoration-color: #008000; font-weight: bold\">]</span><span style=\"color: #008000; text-decoration-color: #008000\"> ● </span><span style=\"color: #008000; text-decoration-color: #008000; text-decoration: underline\">https://www.mfds.go.kr/brd/m_99/view.do?seq=49364</span><span style=\"color: #008000; text-decoration-color: #008000\">                                                    |</span>\n",
       "<span style=\"color: #008000; text-decoration-color: #008000\">✓ | ⏱: </span><span style=\"color: #008000; text-decoration-color: #008000; font-weight: bold\">2.</span><span style=\"color: #008000; text-decoration-color: #008000\">39s </span>\n",
       "</pre>\n"
      ],
      "text/plain": [
       "\u001b[1;32m[\u001b[0m\u001b[32mCOMPLETE\u001b[0m\u001b[1;32m]\u001b[0m\u001b[32m ● \u001b[0m\u001b[4;32mhttps://www.mfds.go.kr/brd/m_99/view.do?\u001b[0m\u001b[4;32mseq\u001b[0m\u001b[4;32m=\u001b[0m\u001b[4;32m49364\u001b[0m\u001b[32m                                                    |\u001b[0m\n",
       "\u001b[32m✓\u001b[0m\u001b[32m | ⏱: \u001b[0m\u001b[1;32m2.\u001b[0m\u001b[32m39s \u001b[0m\n"
      ]
     },
     "metadata": {},
     "output_type": "display_data"
    },
    {
     "name": "stdout",
     "output_type": "stream",
     "text": [
      "https://www.mfds.go.kr/docviewer/skin/doc.html?fn=20250925095304192.hwpx&rs=/docviewer/result/ntc0021/49364/1/202510\n",
      "페이지 로딩 중: https://www.mfds.go.kr/docviewer/skin/doc.html?fn=20250925095304192.hwpx&rs=/docviewer/result/ntc0021/49364/1/202510\n"
     ]
    },
    {
     "data": {
      "text/html": [
       "<pre style=\"white-space:pre;overflow-x:auto;line-height:normal;font-family:Menlo,'DejaVu Sans Mono',consolas,'Courier New',monospace\"><span style=\"color: #008080; text-decoration-color: #008080; font-weight: bold\">[</span><span style=\"color: #008080; text-decoration-color: #008080\">INIT</span><span style=\"color: #008080; text-decoration-color: #008080; font-weight: bold\">]</span><span style=\"color: #008080; text-decoration-color: #008080\">.... → Crawl4AI </span><span style=\"color: #008080; text-decoration-color: #008080; font-weight: bold\">0.7</span><span style=\"color: #008080; text-decoration-color: #008080\">.</span><span style=\"color: #008080; text-decoration-color: #008080; font-weight: bold\">4</span><span style=\"color: #008080; text-decoration-color: #008080\"> </span>\n",
       "</pre>\n"
      ],
      "text/plain": [
       "\u001b[1;36m[\u001b[0m\u001b[36mINIT\u001b[0m\u001b[1;36m]\u001b[0m\u001b[36m...\u001b[0m\u001b[36m. → Crawl4AI \u001b[0m\u001b[1;36m0.7\u001b[0m\u001b[36m.\u001b[0m\u001b[1;36m4\u001b[0m\u001b[36m \u001b[0m\n"
      ]
     },
     "metadata": {},
     "output_type": "display_data"
    },
    {
     "data": {
      "text/html": [
       "<pre style=\"white-space:pre;overflow-x:auto;line-height:normal;font-family:Menlo,'DejaVu Sans Mono',consolas,'Courier New',monospace\"><span style=\"color: #008000; text-decoration-color: #008000; font-weight: bold\">[</span><span style=\"color: #008000; text-decoration-color: #008000\">FETCH</span><span style=\"color: #008000; text-decoration-color: #008000; font-weight: bold\">]</span><span style=\"color: #008000; text-decoration-color: #008000\">... ↓ </span><span style=\"color: #008000; text-decoration-color: #008000; text-decoration: underline\">https://www.mfds.go.kr/brd/m_99/view.do?seq=49363</span><span style=\"color: #008000; text-decoration-color: #008000\">                                                    |</span>\n",
       "<span style=\"color: #008000; text-decoration-color: #008000\">✓ | ⏱: </span><span style=\"color: #008000; text-decoration-color: #008000; font-weight: bold\">2.</span><span style=\"color: #008000; text-decoration-color: #008000\">46s </span>\n",
       "</pre>\n"
      ],
      "text/plain": [
       "\u001b[1;32m[\u001b[0m\u001b[32mFETCH\u001b[0m\u001b[1;32m]\u001b[0m\u001b[32m...\u001b[0m\u001b[32m ↓ \u001b[0m\u001b[4;32mhttps://www.mfds.go.kr/brd/m_99/view.do?\u001b[0m\u001b[4;32mseq\u001b[0m\u001b[4;32m=\u001b[0m\u001b[4;32m49363\u001b[0m\u001b[32m                                                    |\u001b[0m\n",
       "\u001b[32m✓\u001b[0m\u001b[32m | ⏱: \u001b[0m\u001b[1;32m2.\u001b[0m\u001b[32m46s \u001b[0m\n"
      ]
     },
     "metadata": {},
     "output_type": "display_data"
    },
    {
     "data": {
      "text/html": [
       "<pre style=\"white-space:pre;overflow-x:auto;line-height:normal;font-family:Menlo,'DejaVu Sans Mono',consolas,'Courier New',monospace\"><span style=\"color: #008000; text-decoration-color: #008000; font-weight: bold\">[</span><span style=\"color: #008000; text-decoration-color: #008000\">SCRAPE</span><span style=\"color: #008000; text-decoration-color: #008000; font-weight: bold\">]</span><span style=\"color: #008000; text-decoration-color: #008000\">.. ◆ </span><span style=\"color: #008000; text-decoration-color: #008000; text-decoration: underline\">https://www.mfds.go.kr/brd/m_99/view.do?seq=49363</span><span style=\"color: #008000; text-decoration-color: #008000\">                                                    |</span>\n",
       "<span style=\"color: #008000; text-decoration-color: #008000\">✓ | ⏱: </span><span style=\"color: #008000; text-decoration-color: #008000; font-weight: bold\">0.</span><span style=\"color: #008000; text-decoration-color: #008000\">08s </span>\n",
       "</pre>\n"
      ],
      "text/plain": [
       "\u001b[1;32m[\u001b[0m\u001b[32mSCRAPE\u001b[0m\u001b[1;32m]\u001b[0m\u001b[32m.. ◆ \u001b[0m\u001b[4;32mhttps://www.mfds.go.kr/brd/m_99/view.do?\u001b[0m\u001b[4;32mseq\u001b[0m\u001b[4;32m=\u001b[0m\u001b[4;32m49363\u001b[0m\u001b[32m                                                    |\u001b[0m\n",
       "\u001b[32m✓\u001b[0m\u001b[32m | ⏱: \u001b[0m\u001b[1;32m0.\u001b[0m\u001b[32m08s \u001b[0m\n"
      ]
     },
     "metadata": {},
     "output_type": "display_data"
    },
    {
     "data": {
      "text/html": [
       "<pre style=\"white-space:pre;overflow-x:auto;line-height:normal;font-family:Menlo,'DejaVu Sans Mono',consolas,'Courier New',monospace\"><span style=\"color: #008000; text-decoration-color: #008000; font-weight: bold\">[</span><span style=\"color: #008000; text-decoration-color: #008000\">COMPLETE</span><span style=\"color: #008000; text-decoration-color: #008000; font-weight: bold\">]</span><span style=\"color: #008000; text-decoration-color: #008000\"> ● </span><span style=\"color: #008000; text-decoration-color: #008000; text-decoration: underline\">https://www.mfds.go.kr/brd/m_99/view.do?seq=49363</span><span style=\"color: #008000; text-decoration-color: #008000\">                                                    |</span>\n",
       "<span style=\"color: #008000; text-decoration-color: #008000\">✓ | ⏱: </span><span style=\"color: #008000; text-decoration-color: #008000; font-weight: bold\">2.</span><span style=\"color: #008000; text-decoration-color: #008000\">55s </span>\n",
       "</pre>\n"
      ],
      "text/plain": [
       "\u001b[1;32m[\u001b[0m\u001b[32mCOMPLETE\u001b[0m\u001b[1;32m]\u001b[0m\u001b[32m ● \u001b[0m\u001b[4;32mhttps://www.mfds.go.kr/brd/m_99/view.do?\u001b[0m\u001b[4;32mseq\u001b[0m\u001b[4;32m=\u001b[0m\u001b[4;32m49363\u001b[0m\u001b[32m                                                    |\u001b[0m\n",
       "\u001b[32m✓\u001b[0m\u001b[32m | ⏱: \u001b[0m\u001b[1;32m2.\u001b[0m\u001b[32m55s \u001b[0m\n"
      ]
     },
     "metadata": {},
     "output_type": "display_data"
    },
    {
     "name": "stdout",
     "output_type": "stream",
     "text": [
      "https://www.mfds.go.kr/docviewer/skin/doc.html?fn=20250925090457846.hwpx&rs=/docviewer/result/ntc0021/49363/1/202510\n",
      "페이지 로딩 중: https://www.mfds.go.kr/docviewer/skin/doc.html?fn=20250925090457846.hwpx&rs=/docviewer/result/ntc0021/49363/1/202510\n"
     ]
    },
    {
     "data": {
      "text/html": [
       "<pre style=\"white-space:pre;overflow-x:auto;line-height:normal;font-family:Menlo,'DejaVu Sans Mono',consolas,'Courier New',monospace\"><span style=\"color: #008080; text-decoration-color: #008080; font-weight: bold\">[</span><span style=\"color: #008080; text-decoration-color: #008080\">INIT</span><span style=\"color: #008080; text-decoration-color: #008080; font-weight: bold\">]</span><span style=\"color: #008080; text-decoration-color: #008080\">.... → Crawl4AI </span><span style=\"color: #008080; text-decoration-color: #008080; font-weight: bold\">0.7</span><span style=\"color: #008080; text-decoration-color: #008080\">.</span><span style=\"color: #008080; text-decoration-color: #008080; font-weight: bold\">4</span><span style=\"color: #008080; text-decoration-color: #008080\"> </span>\n",
       "</pre>\n"
      ],
      "text/plain": [
       "\u001b[1;36m[\u001b[0m\u001b[36mINIT\u001b[0m\u001b[1;36m]\u001b[0m\u001b[36m...\u001b[0m\u001b[36m. → Crawl4AI \u001b[0m\u001b[1;36m0.7\u001b[0m\u001b[36m.\u001b[0m\u001b[1;36m4\u001b[0m\u001b[36m \u001b[0m\n"
      ]
     },
     "metadata": {},
     "output_type": "display_data"
    },
    {
     "data": {
      "text/html": [
       "<pre style=\"white-space:pre;overflow-x:auto;line-height:normal;font-family:Menlo,'DejaVu Sans Mono',consolas,'Courier New',monospace\"><span style=\"color: #008000; text-decoration-color: #008000; font-weight: bold\">[</span><span style=\"color: #008000; text-decoration-color: #008000\">FETCH</span><span style=\"color: #008000; text-decoration-color: #008000; font-weight: bold\">]</span><span style=\"color: #008000; text-decoration-color: #008000\">... ↓ </span><span style=\"color: #008000; text-decoration-color: #008000; text-decoration: underline\">https://www.mfds.go.kr/brd/m_99/view.do?seq=49362</span><span style=\"color: #008000; text-decoration-color: #008000\">                                                    |</span>\n",
       "<span style=\"color: #008000; text-decoration-color: #008000\">✓ | ⏱: </span><span style=\"color: #008000; text-decoration-color: #008000; font-weight: bold\">2.</span><span style=\"color: #008000; text-decoration-color: #008000\">02s </span>\n",
       "</pre>\n"
      ],
      "text/plain": [
       "\u001b[1;32m[\u001b[0m\u001b[32mFETCH\u001b[0m\u001b[1;32m]\u001b[0m\u001b[32m...\u001b[0m\u001b[32m ↓ \u001b[0m\u001b[4;32mhttps://www.mfds.go.kr/brd/m_99/view.do?\u001b[0m\u001b[4;32mseq\u001b[0m\u001b[4;32m=\u001b[0m\u001b[4;32m49362\u001b[0m\u001b[32m                                                    |\u001b[0m\n",
       "\u001b[32m✓\u001b[0m\u001b[32m | ⏱: \u001b[0m\u001b[1;32m2.\u001b[0m\u001b[32m02s \u001b[0m\n"
      ]
     },
     "metadata": {},
     "output_type": "display_data"
    },
    {
     "data": {
      "text/html": [
       "<pre style=\"white-space:pre;overflow-x:auto;line-height:normal;font-family:Menlo,'DejaVu Sans Mono',consolas,'Courier New',monospace\"><span style=\"color: #008000; text-decoration-color: #008000; font-weight: bold\">[</span><span style=\"color: #008000; text-decoration-color: #008000\">SCRAPE</span><span style=\"color: #008000; text-decoration-color: #008000; font-weight: bold\">]</span><span style=\"color: #008000; text-decoration-color: #008000\">.. ◆ </span><span style=\"color: #008000; text-decoration-color: #008000; text-decoration: underline\">https://www.mfds.go.kr/brd/m_99/view.do?seq=49362</span><span style=\"color: #008000; text-decoration-color: #008000\">                                                    |</span>\n",
       "<span style=\"color: #008000; text-decoration-color: #008000\">✓ | ⏱: </span><span style=\"color: #008000; text-decoration-color: #008000; font-weight: bold\">0.</span><span style=\"color: #008000; text-decoration-color: #008000\">14s </span>\n",
       "</pre>\n"
      ],
      "text/plain": [
       "\u001b[1;32m[\u001b[0m\u001b[32mSCRAPE\u001b[0m\u001b[1;32m]\u001b[0m\u001b[32m.. ◆ \u001b[0m\u001b[4;32mhttps://www.mfds.go.kr/brd/m_99/view.do?\u001b[0m\u001b[4;32mseq\u001b[0m\u001b[4;32m=\u001b[0m\u001b[4;32m49362\u001b[0m\u001b[32m                                                    |\u001b[0m\n",
       "\u001b[32m✓\u001b[0m\u001b[32m | ⏱: \u001b[0m\u001b[1;32m0.\u001b[0m\u001b[32m14s \u001b[0m\n"
      ]
     },
     "metadata": {},
     "output_type": "display_data"
    },
    {
     "data": {
      "text/html": [
       "<pre style=\"white-space:pre;overflow-x:auto;line-height:normal;font-family:Menlo,'DejaVu Sans Mono',consolas,'Courier New',monospace\"><span style=\"color: #008000; text-decoration-color: #008000; font-weight: bold\">[</span><span style=\"color: #008000; text-decoration-color: #008000\">COMPLETE</span><span style=\"color: #008000; text-decoration-color: #008000; font-weight: bold\">]</span><span style=\"color: #008000; text-decoration-color: #008000\"> ● </span><span style=\"color: #008000; text-decoration-color: #008000; text-decoration: underline\">https://www.mfds.go.kr/brd/m_99/view.do?seq=49362</span><span style=\"color: #008000; text-decoration-color: #008000\">                                                    |</span>\n",
       "<span style=\"color: #008000; text-decoration-color: #008000\">✓ | ⏱: </span><span style=\"color: #008000; text-decoration-color: #008000; font-weight: bold\">2.</span><span style=\"color: #008000; text-decoration-color: #008000\">16s </span>\n",
       "</pre>\n"
      ],
      "text/plain": [
       "\u001b[1;32m[\u001b[0m\u001b[32mCOMPLETE\u001b[0m\u001b[1;32m]\u001b[0m\u001b[32m ● \u001b[0m\u001b[4;32mhttps://www.mfds.go.kr/brd/m_99/view.do?\u001b[0m\u001b[4;32mseq\u001b[0m\u001b[4;32m=\u001b[0m\u001b[4;32m49362\u001b[0m\u001b[32m                                                    |\u001b[0m\n",
       "\u001b[32m✓\u001b[0m\u001b[32m | ⏱: \u001b[0m\u001b[1;32m2.\u001b[0m\u001b[32m16s \u001b[0m\n"
      ]
     },
     "metadata": {},
     "output_type": "display_data"
    },
    {
     "name": "stdout",
     "output_type": "stream",
     "text": [
      "https://www.mfds.go.kr/docviewer/skin/doc.html?fn=20250925090227879.hwpx&rs=/docviewer/result/ntc0021/49362/1/202510\n",
      "페이지 로딩 중: https://www.mfds.go.kr/docviewer/skin/doc.html?fn=20250925090227879.hwpx&rs=/docviewer/result/ntc0021/49362/1/202510\n"
     ]
    },
    {
     "data": {
      "text/html": [
       "<pre style=\"white-space:pre;overflow-x:auto;line-height:normal;font-family:Menlo,'DejaVu Sans Mono',consolas,'Courier New',monospace\"><span style=\"color: #008080; text-decoration-color: #008080; font-weight: bold\">[</span><span style=\"color: #008080; text-decoration-color: #008080\">INIT</span><span style=\"color: #008080; text-decoration-color: #008080; font-weight: bold\">]</span><span style=\"color: #008080; text-decoration-color: #008080\">.... → Crawl4AI </span><span style=\"color: #008080; text-decoration-color: #008080; font-weight: bold\">0.7</span><span style=\"color: #008080; text-decoration-color: #008080\">.</span><span style=\"color: #008080; text-decoration-color: #008080; font-weight: bold\">4</span><span style=\"color: #008080; text-decoration-color: #008080\"> </span>\n",
       "</pre>\n"
      ],
      "text/plain": [
       "\u001b[1;36m[\u001b[0m\u001b[36mINIT\u001b[0m\u001b[1;36m]\u001b[0m\u001b[36m...\u001b[0m\u001b[36m. → Crawl4AI \u001b[0m\u001b[1;36m0.7\u001b[0m\u001b[36m.\u001b[0m\u001b[1;36m4\u001b[0m\u001b[36m \u001b[0m\n"
      ]
     },
     "metadata": {},
     "output_type": "display_data"
    },
    {
     "data": {
      "text/html": [
       "<pre style=\"white-space:pre;overflow-x:auto;line-height:normal;font-family:Menlo,'DejaVu Sans Mono',consolas,'Courier New',monospace\"><span style=\"color: #008000; text-decoration-color: #008000; font-weight: bold\">[</span><span style=\"color: #008000; text-decoration-color: #008000\">FETCH</span><span style=\"color: #008000; text-decoration-color: #008000; font-weight: bold\">]</span><span style=\"color: #008000; text-decoration-color: #008000\">... ↓ </span><span style=\"color: #008000; text-decoration-color: #008000; text-decoration: underline\">https://www.mfds.go.kr/brd/m_99/view.do?seq=49361</span><span style=\"color: #008000; text-decoration-color: #008000\">                                                    |</span>\n",
       "<span style=\"color: #008000; text-decoration-color: #008000\">✓ | ⏱: </span><span style=\"color: #008000; text-decoration-color: #008000; font-weight: bold\">2.</span><span style=\"color: #008000; text-decoration-color: #008000\">09s </span>\n",
       "</pre>\n"
      ],
      "text/plain": [
       "\u001b[1;32m[\u001b[0m\u001b[32mFETCH\u001b[0m\u001b[1;32m]\u001b[0m\u001b[32m...\u001b[0m\u001b[32m ↓ \u001b[0m\u001b[4;32mhttps://www.mfds.go.kr/brd/m_99/view.do?\u001b[0m\u001b[4;32mseq\u001b[0m\u001b[4;32m=\u001b[0m\u001b[4;32m49361\u001b[0m\u001b[32m                                                    |\u001b[0m\n",
       "\u001b[32m✓\u001b[0m\u001b[32m | ⏱: \u001b[0m\u001b[1;32m2.\u001b[0m\u001b[32m09s \u001b[0m\n"
      ]
     },
     "metadata": {},
     "output_type": "display_data"
    },
    {
     "data": {
      "text/html": [
       "<pre style=\"white-space:pre;overflow-x:auto;line-height:normal;font-family:Menlo,'DejaVu Sans Mono',consolas,'Courier New',monospace\"><span style=\"color: #008000; text-decoration-color: #008000; font-weight: bold\">[</span><span style=\"color: #008000; text-decoration-color: #008000\">SCRAPE</span><span style=\"color: #008000; text-decoration-color: #008000; font-weight: bold\">]</span><span style=\"color: #008000; text-decoration-color: #008000\">.. ◆ </span><span style=\"color: #008000; text-decoration-color: #008000; text-decoration: underline\">https://www.mfds.go.kr/brd/m_99/view.do?seq=49361</span><span style=\"color: #008000; text-decoration-color: #008000\">                                                    |</span>\n",
       "<span style=\"color: #008000; text-decoration-color: #008000\">✓ | ⏱: </span><span style=\"color: #008000; text-decoration-color: #008000; font-weight: bold\">0.</span><span style=\"color: #008000; text-decoration-color: #008000\">14s </span>\n",
       "</pre>\n"
      ],
      "text/plain": [
       "\u001b[1;32m[\u001b[0m\u001b[32mSCRAPE\u001b[0m\u001b[1;32m]\u001b[0m\u001b[32m.. ◆ \u001b[0m\u001b[4;32mhttps://www.mfds.go.kr/brd/m_99/view.do?\u001b[0m\u001b[4;32mseq\u001b[0m\u001b[4;32m=\u001b[0m\u001b[4;32m49361\u001b[0m\u001b[32m                                                    |\u001b[0m\n",
       "\u001b[32m✓\u001b[0m\u001b[32m | ⏱: \u001b[0m\u001b[1;32m0.\u001b[0m\u001b[32m14s \u001b[0m\n"
      ]
     },
     "metadata": {},
     "output_type": "display_data"
    },
    {
     "data": {
      "text/html": [
       "<pre style=\"white-space:pre;overflow-x:auto;line-height:normal;font-family:Menlo,'DejaVu Sans Mono',consolas,'Courier New',monospace\"><span style=\"color: #008000; text-decoration-color: #008000; font-weight: bold\">[</span><span style=\"color: #008000; text-decoration-color: #008000\">COMPLETE</span><span style=\"color: #008000; text-decoration-color: #008000; font-weight: bold\">]</span><span style=\"color: #008000; text-decoration-color: #008000\"> ● </span><span style=\"color: #008000; text-decoration-color: #008000; text-decoration: underline\">https://www.mfds.go.kr/brd/m_99/view.do?seq=49361</span><span style=\"color: #008000; text-decoration-color: #008000\">                                                    |</span>\n",
       "<span style=\"color: #008000; text-decoration-color: #008000\">✓ | ⏱: </span><span style=\"color: #008000; text-decoration-color: #008000; font-weight: bold\">2.</span><span style=\"color: #008000; text-decoration-color: #008000\">24s </span>\n",
       "</pre>\n"
      ],
      "text/plain": [
       "\u001b[1;32m[\u001b[0m\u001b[32mCOMPLETE\u001b[0m\u001b[1;32m]\u001b[0m\u001b[32m ● \u001b[0m\u001b[4;32mhttps://www.mfds.go.kr/brd/m_99/view.do?\u001b[0m\u001b[4;32mseq\u001b[0m\u001b[4;32m=\u001b[0m\u001b[4;32m49361\u001b[0m\u001b[32m                                                    |\u001b[0m\n",
       "\u001b[32m✓\u001b[0m\u001b[32m | ⏱: \u001b[0m\u001b[1;32m2.\u001b[0m\u001b[32m24s \u001b[0m\n"
      ]
     },
     "metadata": {},
     "output_type": "display_data"
    },
    {
     "name": "stdout",
     "output_type": "stream",
     "text": [
      "https://www.mfds.go.kr/docviewer/skin/doc.html?fn=20250925090022692.hwpx&rs=/docviewer/result/ntc0021/49361/1/202510\n",
      "페이지 로딩 중: https://www.mfds.go.kr/docviewer/skin/doc.html?fn=20250925090022692.hwpx&rs=/docviewer/result/ntc0021/49361/1/202510\n"
     ]
    },
    {
     "data": {
      "text/html": [
       "<pre style=\"white-space:pre;overflow-x:auto;line-height:normal;font-family:Menlo,'DejaVu Sans Mono',consolas,'Courier New',monospace\"><span style=\"color: #008080; text-decoration-color: #008080; font-weight: bold\">[</span><span style=\"color: #008080; text-decoration-color: #008080\">INIT</span><span style=\"color: #008080; text-decoration-color: #008080; font-weight: bold\">]</span><span style=\"color: #008080; text-decoration-color: #008080\">.... → Crawl4AI </span><span style=\"color: #008080; text-decoration-color: #008080; font-weight: bold\">0.7</span><span style=\"color: #008080; text-decoration-color: #008080\">.</span><span style=\"color: #008080; text-decoration-color: #008080; font-weight: bold\">4</span><span style=\"color: #008080; text-decoration-color: #008080\"> </span>\n",
       "</pre>\n"
      ],
      "text/plain": [
       "\u001b[1;36m[\u001b[0m\u001b[36mINIT\u001b[0m\u001b[1;36m]\u001b[0m\u001b[36m...\u001b[0m\u001b[36m. → Crawl4AI \u001b[0m\u001b[1;36m0.7\u001b[0m\u001b[36m.\u001b[0m\u001b[1;36m4\u001b[0m\u001b[36m \u001b[0m\n"
      ]
     },
     "metadata": {},
     "output_type": "display_data"
    },
    {
     "data": {
      "text/html": [
       "<pre style=\"white-space:pre;overflow-x:auto;line-height:normal;font-family:Menlo,'DejaVu Sans Mono',consolas,'Courier New',monospace\"><span style=\"color: #008000; text-decoration-color: #008000; font-weight: bold\">[</span><span style=\"color: #008000; text-decoration-color: #008000\">FETCH</span><span style=\"color: #008000; text-decoration-color: #008000; font-weight: bold\">]</span><span style=\"color: #008000; text-decoration-color: #008000\">... ↓ </span><span style=\"color: #008000; text-decoration-color: #008000; text-decoration: underline\">https://www.mfds.go.kr/brd/m_99/view.do?seq=49360</span><span style=\"color: #008000; text-decoration-color: #008000\">                                                    |</span>\n",
       "<span style=\"color: #008000; text-decoration-color: #008000\">✓ | ⏱: </span><span style=\"color: #008000; text-decoration-color: #008000; font-weight: bold\">2.</span><span style=\"color: #008000; text-decoration-color: #008000\">07s </span>\n",
       "</pre>\n"
      ],
      "text/plain": [
       "\u001b[1;32m[\u001b[0m\u001b[32mFETCH\u001b[0m\u001b[1;32m]\u001b[0m\u001b[32m...\u001b[0m\u001b[32m ↓ \u001b[0m\u001b[4;32mhttps://www.mfds.go.kr/brd/m_99/view.do?\u001b[0m\u001b[4;32mseq\u001b[0m\u001b[4;32m=\u001b[0m\u001b[4;32m49360\u001b[0m\u001b[32m                                                    |\u001b[0m\n",
       "\u001b[32m✓\u001b[0m\u001b[32m | ⏱: \u001b[0m\u001b[1;32m2.\u001b[0m\u001b[32m07s \u001b[0m\n"
      ]
     },
     "metadata": {},
     "output_type": "display_data"
    },
    {
     "data": {
      "text/html": [
       "<pre style=\"white-space:pre;overflow-x:auto;line-height:normal;font-family:Menlo,'DejaVu Sans Mono',consolas,'Courier New',monospace\"><span style=\"color: #008000; text-decoration-color: #008000; font-weight: bold\">[</span><span style=\"color: #008000; text-decoration-color: #008000\">SCRAPE</span><span style=\"color: #008000; text-decoration-color: #008000; font-weight: bold\">]</span><span style=\"color: #008000; text-decoration-color: #008000\">.. ◆ </span><span style=\"color: #008000; text-decoration-color: #008000; text-decoration: underline\">https://www.mfds.go.kr/brd/m_99/view.do?seq=49360</span><span style=\"color: #008000; text-decoration-color: #008000\">                                                    |</span>\n",
       "<span style=\"color: #008000; text-decoration-color: #008000\">✓ | ⏱: </span><span style=\"color: #008000; text-decoration-color: #008000; font-weight: bold\">0.</span><span style=\"color: #008000; text-decoration-color: #008000\">09s </span>\n",
       "</pre>\n"
      ],
      "text/plain": [
       "\u001b[1;32m[\u001b[0m\u001b[32mSCRAPE\u001b[0m\u001b[1;32m]\u001b[0m\u001b[32m.. ◆ \u001b[0m\u001b[4;32mhttps://www.mfds.go.kr/brd/m_99/view.do?\u001b[0m\u001b[4;32mseq\u001b[0m\u001b[4;32m=\u001b[0m\u001b[4;32m49360\u001b[0m\u001b[32m                                                    |\u001b[0m\n",
       "\u001b[32m✓\u001b[0m\u001b[32m | ⏱: \u001b[0m\u001b[1;32m0.\u001b[0m\u001b[32m09s \u001b[0m\n"
      ]
     },
     "metadata": {},
     "output_type": "display_data"
    },
    {
     "data": {
      "text/html": [
       "<pre style=\"white-space:pre;overflow-x:auto;line-height:normal;font-family:Menlo,'DejaVu Sans Mono',consolas,'Courier New',monospace\"><span style=\"color: #008000; text-decoration-color: #008000; font-weight: bold\">[</span><span style=\"color: #008000; text-decoration-color: #008000\">COMPLETE</span><span style=\"color: #008000; text-decoration-color: #008000; font-weight: bold\">]</span><span style=\"color: #008000; text-decoration-color: #008000\"> ● </span><span style=\"color: #008000; text-decoration-color: #008000; text-decoration: underline\">https://www.mfds.go.kr/brd/m_99/view.do?seq=49360</span><span style=\"color: #008000; text-decoration-color: #008000\">                                                    |</span>\n",
       "<span style=\"color: #008000; text-decoration-color: #008000\">✓ | ⏱: </span><span style=\"color: #008000; text-decoration-color: #008000; font-weight: bold\">2.</span><span style=\"color: #008000; text-decoration-color: #008000\">17s </span>\n",
       "</pre>\n"
      ],
      "text/plain": [
       "\u001b[1;32m[\u001b[0m\u001b[32mCOMPLETE\u001b[0m\u001b[1;32m]\u001b[0m\u001b[32m ● \u001b[0m\u001b[4;32mhttps://www.mfds.go.kr/brd/m_99/view.do?\u001b[0m\u001b[4;32mseq\u001b[0m\u001b[4;32m=\u001b[0m\u001b[4;32m49360\u001b[0m\u001b[32m                                                    |\u001b[0m\n",
       "\u001b[32m✓\u001b[0m\u001b[32m | ⏱: \u001b[0m\u001b[1;32m2.\u001b[0m\u001b[32m17s \u001b[0m\n"
      ]
     },
     "metadata": {},
     "output_type": "display_data"
    },
    {
     "name": "stdout",
     "output_type": "stream",
     "text": [
      "https://www.mfds.go.kr/docviewer/skin/doc.html?fn=20250924030820648.hwpx&rs=/docviewer/result/ntc0021/49360/1/202510\n",
      "페이지 로딩 중: https://www.mfds.go.kr/docviewer/skin/doc.html?fn=20250924030820648.hwpx&rs=/docviewer/result/ntc0021/49360/1/202510\n"
     ]
    },
    {
     "data": {
      "text/html": [
       "<pre style=\"white-space:pre;overflow-x:auto;line-height:normal;font-family:Menlo,'DejaVu Sans Mono',consolas,'Courier New',monospace\"><span style=\"color: #008080; text-decoration-color: #008080; font-weight: bold\">[</span><span style=\"color: #008080; text-decoration-color: #008080\">INIT</span><span style=\"color: #008080; text-decoration-color: #008080; font-weight: bold\">]</span><span style=\"color: #008080; text-decoration-color: #008080\">.... → Crawl4AI </span><span style=\"color: #008080; text-decoration-color: #008080; font-weight: bold\">0.7</span><span style=\"color: #008080; text-decoration-color: #008080\">.</span><span style=\"color: #008080; text-decoration-color: #008080; font-weight: bold\">4</span><span style=\"color: #008080; text-decoration-color: #008080\"> </span>\n",
       "</pre>\n"
      ],
      "text/plain": [
       "\u001b[1;36m[\u001b[0m\u001b[36mINIT\u001b[0m\u001b[1;36m]\u001b[0m\u001b[36m...\u001b[0m\u001b[36m. → Crawl4AI \u001b[0m\u001b[1;36m0.7\u001b[0m\u001b[36m.\u001b[0m\u001b[1;36m4\u001b[0m\u001b[36m \u001b[0m\n"
      ]
     },
     "metadata": {},
     "output_type": "display_data"
    },
    {
     "data": {
      "text/html": [
       "<pre style=\"white-space:pre;overflow-x:auto;line-height:normal;font-family:Menlo,'DejaVu Sans Mono',consolas,'Courier New',monospace\"><span style=\"color: #008000; text-decoration-color: #008000; font-weight: bold\">[</span><span style=\"color: #008000; text-decoration-color: #008000\">FETCH</span><span style=\"color: #008000; text-decoration-color: #008000; font-weight: bold\">]</span><span style=\"color: #008000; text-decoration-color: #008000\">... ↓ </span><span style=\"color: #008000; text-decoration-color: #008000; text-decoration: underline\">https://www.mfds.go.kr/brd/m_99/view.do?seq=49359</span><span style=\"color: #008000; text-decoration-color: #008000\">                                                    |</span>\n",
       "<span style=\"color: #008000; text-decoration-color: #008000\">✓ | ⏱: </span><span style=\"color: #008000; text-decoration-color: #008000; font-weight: bold\">2.</span><span style=\"color: #008000; text-decoration-color: #008000\">12s </span>\n",
       "</pre>\n"
      ],
      "text/plain": [
       "\u001b[1;32m[\u001b[0m\u001b[32mFETCH\u001b[0m\u001b[1;32m]\u001b[0m\u001b[32m...\u001b[0m\u001b[32m ↓ \u001b[0m\u001b[4;32mhttps://www.mfds.go.kr/brd/m_99/view.do?\u001b[0m\u001b[4;32mseq\u001b[0m\u001b[4;32m=\u001b[0m\u001b[4;32m49359\u001b[0m\u001b[32m                                                    |\u001b[0m\n",
       "\u001b[32m✓\u001b[0m\u001b[32m | ⏱: \u001b[0m\u001b[1;32m2.\u001b[0m\u001b[32m12s \u001b[0m\n"
      ]
     },
     "metadata": {},
     "output_type": "display_data"
    },
    {
     "data": {
      "text/html": [
       "<pre style=\"white-space:pre;overflow-x:auto;line-height:normal;font-family:Menlo,'DejaVu Sans Mono',consolas,'Courier New',monospace\"><span style=\"color: #008000; text-decoration-color: #008000; font-weight: bold\">[</span><span style=\"color: #008000; text-decoration-color: #008000\">SCRAPE</span><span style=\"color: #008000; text-decoration-color: #008000; font-weight: bold\">]</span><span style=\"color: #008000; text-decoration-color: #008000\">.. ◆ </span><span style=\"color: #008000; text-decoration-color: #008000; text-decoration: underline\">https://www.mfds.go.kr/brd/m_99/view.do?seq=49359</span><span style=\"color: #008000; text-decoration-color: #008000\">                                                    |</span>\n",
       "<span style=\"color: #008000; text-decoration-color: #008000\">✓ | ⏱: </span><span style=\"color: #008000; text-decoration-color: #008000; font-weight: bold\">0.</span><span style=\"color: #008000; text-decoration-color: #008000\">09s </span>\n",
       "</pre>\n"
      ],
      "text/plain": [
       "\u001b[1;32m[\u001b[0m\u001b[32mSCRAPE\u001b[0m\u001b[1;32m]\u001b[0m\u001b[32m.. ◆ \u001b[0m\u001b[4;32mhttps://www.mfds.go.kr/brd/m_99/view.do?\u001b[0m\u001b[4;32mseq\u001b[0m\u001b[4;32m=\u001b[0m\u001b[4;32m49359\u001b[0m\u001b[32m                                                    |\u001b[0m\n",
       "\u001b[32m✓\u001b[0m\u001b[32m | ⏱: \u001b[0m\u001b[1;32m0.\u001b[0m\u001b[32m09s \u001b[0m\n"
      ]
     },
     "metadata": {},
     "output_type": "display_data"
    },
    {
     "data": {
      "text/html": [
       "<pre style=\"white-space:pre;overflow-x:auto;line-height:normal;font-family:Menlo,'DejaVu Sans Mono',consolas,'Courier New',monospace\"><span style=\"color: #008000; text-decoration-color: #008000; font-weight: bold\">[</span><span style=\"color: #008000; text-decoration-color: #008000\">COMPLETE</span><span style=\"color: #008000; text-decoration-color: #008000; font-weight: bold\">]</span><span style=\"color: #008000; text-decoration-color: #008000\"> ● </span><span style=\"color: #008000; text-decoration-color: #008000; text-decoration: underline\">https://www.mfds.go.kr/brd/m_99/view.do?seq=49359</span><span style=\"color: #008000; text-decoration-color: #008000\">                                                    |</span>\n",
       "<span style=\"color: #008000; text-decoration-color: #008000\">✓ | ⏱: </span><span style=\"color: #008000; text-decoration-color: #008000; font-weight: bold\">2.</span><span style=\"color: #008000; text-decoration-color: #008000\">22s </span>\n",
       "</pre>\n"
      ],
      "text/plain": [
       "\u001b[1;32m[\u001b[0m\u001b[32mCOMPLETE\u001b[0m\u001b[1;32m]\u001b[0m\u001b[32m ● \u001b[0m\u001b[4;32mhttps://www.mfds.go.kr/brd/m_99/view.do?\u001b[0m\u001b[4;32mseq\u001b[0m\u001b[4;32m=\u001b[0m\u001b[4;32m49359\u001b[0m\u001b[32m                                                    |\u001b[0m\n",
       "\u001b[32m✓\u001b[0m\u001b[32m | ⏱: \u001b[0m\u001b[1;32m2.\u001b[0m\u001b[32m22s \u001b[0m\n"
      ]
     },
     "metadata": {},
     "output_type": "display_data"
    },
    {
     "name": "stdout",
     "output_type": "stream",
     "text": [
      "https://www.mfds.go.kr/docviewer/skin/doc.html?fn=20250924090902635.hwpx&rs=/docviewer/result/ntc0021/49359/1/202510\n",
      "페이지 로딩 중: https://www.mfds.go.kr/docviewer/skin/doc.html?fn=20250924090902635.hwpx&rs=/docviewer/result/ntc0021/49359/1/202510\n"
     ]
    },
    {
     "data": {
      "text/html": [
       "<pre style=\"white-space:pre;overflow-x:auto;line-height:normal;font-family:Menlo,'DejaVu Sans Mono',consolas,'Courier New',monospace\"><span style=\"color: #008080; text-decoration-color: #008080; font-weight: bold\">[</span><span style=\"color: #008080; text-decoration-color: #008080\">INIT</span><span style=\"color: #008080; text-decoration-color: #008080; font-weight: bold\">]</span><span style=\"color: #008080; text-decoration-color: #008080\">.... → Crawl4AI </span><span style=\"color: #008080; text-decoration-color: #008080; font-weight: bold\">0.7</span><span style=\"color: #008080; text-decoration-color: #008080\">.</span><span style=\"color: #008080; text-decoration-color: #008080; font-weight: bold\">4</span><span style=\"color: #008080; text-decoration-color: #008080\"> </span>\n",
       "</pre>\n"
      ],
      "text/plain": [
       "\u001b[1;36m[\u001b[0m\u001b[36mINIT\u001b[0m\u001b[1;36m]\u001b[0m\u001b[36m...\u001b[0m\u001b[36m. → Crawl4AI \u001b[0m\u001b[1;36m0.7\u001b[0m\u001b[36m.\u001b[0m\u001b[1;36m4\u001b[0m\u001b[36m \u001b[0m\n"
      ]
     },
     "metadata": {},
     "output_type": "display_data"
    },
    {
     "data": {
      "text/html": [
       "<pre style=\"white-space:pre;overflow-x:auto;line-height:normal;font-family:Menlo,'DejaVu Sans Mono',consolas,'Courier New',monospace\"><span style=\"color: #008000; text-decoration-color: #008000; font-weight: bold\">[</span><span style=\"color: #008000; text-decoration-color: #008000\">FETCH</span><span style=\"color: #008000; text-decoration-color: #008000; font-weight: bold\">]</span><span style=\"color: #008000; text-decoration-color: #008000\">... ↓ </span><span style=\"color: #008000; text-decoration-color: #008000; text-decoration: underline\">https://www.mfds.go.kr/brd/m_99/view.do?seq=49358</span><span style=\"color: #008000; text-decoration-color: #008000\">                                                    |</span>\n",
       "<span style=\"color: #008000; text-decoration-color: #008000\">✓ | ⏱: </span><span style=\"color: #008000; text-decoration-color: #008000; font-weight: bold\">2.</span><span style=\"color: #008000; text-decoration-color: #008000\">16s </span>\n",
       "</pre>\n"
      ],
      "text/plain": [
       "\u001b[1;32m[\u001b[0m\u001b[32mFETCH\u001b[0m\u001b[1;32m]\u001b[0m\u001b[32m...\u001b[0m\u001b[32m ↓ \u001b[0m\u001b[4;32mhttps://www.mfds.go.kr/brd/m_99/view.do?\u001b[0m\u001b[4;32mseq\u001b[0m\u001b[4;32m=\u001b[0m\u001b[4;32m49358\u001b[0m\u001b[32m                                                    |\u001b[0m\n",
       "\u001b[32m✓\u001b[0m\u001b[32m | ⏱: \u001b[0m\u001b[1;32m2.\u001b[0m\u001b[32m16s \u001b[0m\n"
      ]
     },
     "metadata": {},
     "output_type": "display_data"
    },
    {
     "data": {
      "text/html": [
       "<pre style=\"white-space:pre;overflow-x:auto;line-height:normal;font-family:Menlo,'DejaVu Sans Mono',consolas,'Courier New',monospace\"><span style=\"color: #008000; text-decoration-color: #008000; font-weight: bold\">[</span><span style=\"color: #008000; text-decoration-color: #008000\">SCRAPE</span><span style=\"color: #008000; text-decoration-color: #008000; font-weight: bold\">]</span><span style=\"color: #008000; text-decoration-color: #008000\">.. ◆ </span><span style=\"color: #008000; text-decoration-color: #008000; text-decoration: underline\">https://www.mfds.go.kr/brd/m_99/view.do?seq=49358</span><span style=\"color: #008000; text-decoration-color: #008000\">                                                    |</span>\n",
       "<span style=\"color: #008000; text-decoration-color: #008000\">✓ | ⏱: </span><span style=\"color: #008000; text-decoration-color: #008000; font-weight: bold\">0.</span><span style=\"color: #008000; text-decoration-color: #008000\">14s </span>\n",
       "</pre>\n"
      ],
      "text/plain": [
       "\u001b[1;32m[\u001b[0m\u001b[32mSCRAPE\u001b[0m\u001b[1;32m]\u001b[0m\u001b[32m.. ◆ \u001b[0m\u001b[4;32mhttps://www.mfds.go.kr/brd/m_99/view.do?\u001b[0m\u001b[4;32mseq\u001b[0m\u001b[4;32m=\u001b[0m\u001b[4;32m49358\u001b[0m\u001b[32m                                                    |\u001b[0m\n",
       "\u001b[32m✓\u001b[0m\u001b[32m | ⏱: \u001b[0m\u001b[1;32m0.\u001b[0m\u001b[32m14s \u001b[0m\n"
      ]
     },
     "metadata": {},
     "output_type": "display_data"
    },
    {
     "data": {
      "text/html": [
       "<pre style=\"white-space:pre;overflow-x:auto;line-height:normal;font-family:Menlo,'DejaVu Sans Mono',consolas,'Courier New',monospace\"><span style=\"color: #008000; text-decoration-color: #008000; font-weight: bold\">[</span><span style=\"color: #008000; text-decoration-color: #008000\">COMPLETE</span><span style=\"color: #008000; text-decoration-color: #008000; font-weight: bold\">]</span><span style=\"color: #008000; text-decoration-color: #008000\"> ● </span><span style=\"color: #008000; text-decoration-color: #008000; text-decoration: underline\">https://www.mfds.go.kr/brd/m_99/view.do?seq=49358</span><span style=\"color: #008000; text-decoration-color: #008000\">                                                    |</span>\n",
       "<span style=\"color: #008000; text-decoration-color: #008000\">✓ | ⏱: </span><span style=\"color: #008000; text-decoration-color: #008000; font-weight: bold\">2.</span><span style=\"color: #008000; text-decoration-color: #008000\">30s </span>\n",
       "</pre>\n"
      ],
      "text/plain": [
       "\u001b[1;32m[\u001b[0m\u001b[32mCOMPLETE\u001b[0m\u001b[1;32m]\u001b[0m\u001b[32m ● \u001b[0m\u001b[4;32mhttps://www.mfds.go.kr/brd/m_99/view.do?\u001b[0m\u001b[4;32mseq\u001b[0m\u001b[4;32m=\u001b[0m\u001b[4;32m49358\u001b[0m\u001b[32m                                                    |\u001b[0m\n",
       "\u001b[32m✓\u001b[0m\u001b[32m | ⏱: \u001b[0m\u001b[1;32m2.\u001b[0m\u001b[32m30s \u001b[0m\n"
      ]
     },
     "metadata": {},
     "output_type": "display_data"
    },
    {
     "name": "stdout",
     "output_type": "stream",
     "text": [
      "https://www.mfds.go.kr/docviewer/skin/doc.html?fn=20250924090629197.hwpx&rs=/docviewer/result/ntc0021/49358/1/202510\n",
      "페이지 로딩 중: https://www.mfds.go.kr/docviewer/skin/doc.html?fn=20250924090629197.hwpx&rs=/docviewer/result/ntc0021/49358/1/202510\n"
     ]
    },
    {
     "data": {
      "text/html": [
       "<pre style=\"white-space:pre;overflow-x:auto;line-height:normal;font-family:Menlo,'DejaVu Sans Mono',consolas,'Courier New',monospace\"><span style=\"color: #008080; text-decoration-color: #008080; font-weight: bold\">[</span><span style=\"color: #008080; text-decoration-color: #008080\">INIT</span><span style=\"color: #008080; text-decoration-color: #008080; font-weight: bold\">]</span><span style=\"color: #008080; text-decoration-color: #008080\">.... → Crawl4AI </span><span style=\"color: #008080; text-decoration-color: #008080; font-weight: bold\">0.7</span><span style=\"color: #008080; text-decoration-color: #008080\">.</span><span style=\"color: #008080; text-decoration-color: #008080; font-weight: bold\">4</span><span style=\"color: #008080; text-decoration-color: #008080\"> </span>\n",
       "</pre>\n"
      ],
      "text/plain": [
       "\u001b[1;36m[\u001b[0m\u001b[36mINIT\u001b[0m\u001b[1;36m]\u001b[0m\u001b[36m...\u001b[0m\u001b[36m. → Crawl4AI \u001b[0m\u001b[1;36m0.7\u001b[0m\u001b[36m.\u001b[0m\u001b[1;36m4\u001b[0m\u001b[36m \u001b[0m\n"
      ]
     },
     "metadata": {},
     "output_type": "display_data"
    },
    {
     "data": {
      "text/html": [
       "<pre style=\"white-space:pre;overflow-x:auto;line-height:normal;font-family:Menlo,'DejaVu Sans Mono',consolas,'Courier New',monospace\"><span style=\"color: #008000; text-decoration-color: #008000; font-weight: bold\">[</span><span style=\"color: #008000; text-decoration-color: #008000\">FETCH</span><span style=\"color: #008000; text-decoration-color: #008000; font-weight: bold\">]</span><span style=\"color: #008000; text-decoration-color: #008000\">... ↓ </span><span style=\"color: #008000; text-decoration-color: #008000; text-decoration: underline\">https://www.mfds.go.kr/brd/m_99/view.do?seq=49357</span><span style=\"color: #008000; text-decoration-color: #008000\">                                                    |</span>\n",
       "<span style=\"color: #008000; text-decoration-color: #008000\">✓ | ⏱: </span><span style=\"color: #008000; text-decoration-color: #008000; font-weight: bold\">1.</span><span style=\"color: #008000; text-decoration-color: #008000\">99s </span>\n",
       "</pre>\n"
      ],
      "text/plain": [
       "\u001b[1;32m[\u001b[0m\u001b[32mFETCH\u001b[0m\u001b[1;32m]\u001b[0m\u001b[32m...\u001b[0m\u001b[32m ↓ \u001b[0m\u001b[4;32mhttps://www.mfds.go.kr/brd/m_99/view.do?\u001b[0m\u001b[4;32mseq\u001b[0m\u001b[4;32m=\u001b[0m\u001b[4;32m49357\u001b[0m\u001b[32m                                                    |\u001b[0m\n",
       "\u001b[32m✓\u001b[0m\u001b[32m | ⏱: \u001b[0m\u001b[1;32m1.\u001b[0m\u001b[32m99s \u001b[0m\n"
      ]
     },
     "metadata": {},
     "output_type": "display_data"
    },
    {
     "data": {
      "text/html": [
       "<pre style=\"white-space:pre;overflow-x:auto;line-height:normal;font-family:Menlo,'DejaVu Sans Mono',consolas,'Courier New',monospace\"><span style=\"color: #008000; text-decoration-color: #008000; font-weight: bold\">[</span><span style=\"color: #008000; text-decoration-color: #008000\">SCRAPE</span><span style=\"color: #008000; text-decoration-color: #008000; font-weight: bold\">]</span><span style=\"color: #008000; text-decoration-color: #008000\">.. ◆ </span><span style=\"color: #008000; text-decoration-color: #008000; text-decoration: underline\">https://www.mfds.go.kr/brd/m_99/view.do?seq=49357</span><span style=\"color: #008000; text-decoration-color: #008000\">                                                    |</span>\n",
       "<span style=\"color: #008000; text-decoration-color: #008000\">✓ | ⏱: </span><span style=\"color: #008000; text-decoration-color: #008000; font-weight: bold\">0.</span><span style=\"color: #008000; text-decoration-color: #008000\">13s </span>\n",
       "</pre>\n"
      ],
      "text/plain": [
       "\u001b[1;32m[\u001b[0m\u001b[32mSCRAPE\u001b[0m\u001b[1;32m]\u001b[0m\u001b[32m.. ◆ \u001b[0m\u001b[4;32mhttps://www.mfds.go.kr/brd/m_99/view.do?\u001b[0m\u001b[4;32mseq\u001b[0m\u001b[4;32m=\u001b[0m\u001b[4;32m49357\u001b[0m\u001b[32m                                                    |\u001b[0m\n",
       "\u001b[32m✓\u001b[0m\u001b[32m | ⏱: \u001b[0m\u001b[1;32m0.\u001b[0m\u001b[32m13s \u001b[0m\n"
      ]
     },
     "metadata": {},
     "output_type": "display_data"
    },
    {
     "data": {
      "text/html": [
       "<pre style=\"white-space:pre;overflow-x:auto;line-height:normal;font-family:Menlo,'DejaVu Sans Mono',consolas,'Courier New',monospace\"><span style=\"color: #008000; text-decoration-color: #008000; font-weight: bold\">[</span><span style=\"color: #008000; text-decoration-color: #008000\">COMPLETE</span><span style=\"color: #008000; text-decoration-color: #008000; font-weight: bold\">]</span><span style=\"color: #008000; text-decoration-color: #008000\"> ● </span><span style=\"color: #008000; text-decoration-color: #008000; text-decoration: underline\">https://www.mfds.go.kr/brd/m_99/view.do?seq=49357</span><span style=\"color: #008000; text-decoration-color: #008000\">                                                    |</span>\n",
       "<span style=\"color: #008000; text-decoration-color: #008000\">✓ | ⏱: </span><span style=\"color: #008000; text-decoration-color: #008000; font-weight: bold\">2.</span><span style=\"color: #008000; text-decoration-color: #008000\">14s </span>\n",
       "</pre>\n"
      ],
      "text/plain": [
       "\u001b[1;32m[\u001b[0m\u001b[32mCOMPLETE\u001b[0m\u001b[1;32m]\u001b[0m\u001b[32m ● \u001b[0m\u001b[4;32mhttps://www.mfds.go.kr/brd/m_99/view.do?\u001b[0m\u001b[4;32mseq\u001b[0m\u001b[4;32m=\u001b[0m\u001b[4;32m49357\u001b[0m\u001b[32m                                                    |\u001b[0m\n",
       "\u001b[32m✓\u001b[0m\u001b[32m | ⏱: \u001b[0m\u001b[1;32m2.\u001b[0m\u001b[32m14s \u001b[0m\n"
      ]
     },
     "metadata": {},
     "output_type": "display_data"
    },
    {
     "name": "stdout",
     "output_type": "stream",
     "text": [
      "https://www.mfds.go.kr/docviewer/skin/doc.html?fn=20250924095018809.hwpx&rs=/docviewer/result/ntc0021/49357/1/202510\n",
      "페이지 로딩 중: https://www.mfds.go.kr/docviewer/skin/doc.html?fn=20250924095018809.hwpx&rs=/docviewer/result/ntc0021/49357/1/202510\n"
     ]
    },
    {
     "data": {
      "text/html": [
       "<pre style=\"white-space:pre;overflow-x:auto;line-height:normal;font-family:Menlo,'DejaVu Sans Mono',consolas,'Courier New',monospace\"><span style=\"color: #008080; text-decoration-color: #008080; font-weight: bold\">[</span><span style=\"color: #008080; text-decoration-color: #008080\">INIT</span><span style=\"color: #008080; text-decoration-color: #008080; font-weight: bold\">]</span><span style=\"color: #008080; text-decoration-color: #008080\">.... → Crawl4AI </span><span style=\"color: #008080; text-decoration-color: #008080; font-weight: bold\">0.7</span><span style=\"color: #008080; text-decoration-color: #008080\">.</span><span style=\"color: #008080; text-decoration-color: #008080; font-weight: bold\">4</span><span style=\"color: #008080; text-decoration-color: #008080\"> </span>\n",
       "</pre>\n"
      ],
      "text/plain": [
       "\u001b[1;36m[\u001b[0m\u001b[36mINIT\u001b[0m\u001b[1;36m]\u001b[0m\u001b[36m...\u001b[0m\u001b[36m. → Crawl4AI \u001b[0m\u001b[1;36m0.7\u001b[0m\u001b[36m.\u001b[0m\u001b[1;36m4\u001b[0m\u001b[36m \u001b[0m\n"
      ]
     },
     "metadata": {},
     "output_type": "display_data"
    },
    {
     "data": {
      "text/html": [
       "<pre style=\"white-space:pre;overflow-x:auto;line-height:normal;font-family:Menlo,'DejaVu Sans Mono',consolas,'Courier New',monospace\"><span style=\"color: #008000; text-decoration-color: #008000; font-weight: bold\">[</span><span style=\"color: #008000; text-decoration-color: #008000\">FETCH</span><span style=\"color: #008000; text-decoration-color: #008000; font-weight: bold\">]</span><span style=\"color: #008000; text-decoration-color: #008000\">... ↓ </span><span style=\"color: #008000; text-decoration-color: #008000; text-decoration: underline\">https://www.mfds.go.kr/brd/m_99/view.do?seq=49356</span><span style=\"color: #008000; text-decoration-color: #008000\">                                                    |</span>\n",
       "<span style=\"color: #008000; text-decoration-color: #008000\">✓ | ⏱: </span><span style=\"color: #008000; text-decoration-color: #008000; font-weight: bold\">2.</span><span style=\"color: #008000; text-decoration-color: #008000\">43s </span>\n",
       "</pre>\n"
      ],
      "text/plain": [
       "\u001b[1;32m[\u001b[0m\u001b[32mFETCH\u001b[0m\u001b[1;32m]\u001b[0m\u001b[32m...\u001b[0m\u001b[32m ↓ \u001b[0m\u001b[4;32mhttps://www.mfds.go.kr/brd/m_99/view.do?\u001b[0m\u001b[4;32mseq\u001b[0m\u001b[4;32m=\u001b[0m\u001b[4;32m49356\u001b[0m\u001b[32m                                                    |\u001b[0m\n",
       "\u001b[32m✓\u001b[0m\u001b[32m | ⏱: \u001b[0m\u001b[1;32m2.\u001b[0m\u001b[32m43s \u001b[0m\n"
      ]
     },
     "metadata": {},
     "output_type": "display_data"
    },
    {
     "data": {
      "text/html": [
       "<pre style=\"white-space:pre;overflow-x:auto;line-height:normal;font-family:Menlo,'DejaVu Sans Mono',consolas,'Courier New',monospace\"><span style=\"color: #008000; text-decoration-color: #008000; font-weight: bold\">[</span><span style=\"color: #008000; text-decoration-color: #008000\">SCRAPE</span><span style=\"color: #008000; text-decoration-color: #008000; font-weight: bold\">]</span><span style=\"color: #008000; text-decoration-color: #008000\">.. ◆ </span><span style=\"color: #008000; text-decoration-color: #008000; text-decoration: underline\">https://www.mfds.go.kr/brd/m_99/view.do?seq=49356</span><span style=\"color: #008000; text-decoration-color: #008000\">                                                    |</span>\n",
       "<span style=\"color: #008000; text-decoration-color: #008000\">✓ | ⏱: </span><span style=\"color: #008000; text-decoration-color: #008000; font-weight: bold\">0.</span><span style=\"color: #008000; text-decoration-color: #008000\">13s </span>\n",
       "</pre>\n"
      ],
      "text/plain": [
       "\u001b[1;32m[\u001b[0m\u001b[32mSCRAPE\u001b[0m\u001b[1;32m]\u001b[0m\u001b[32m.. ◆ \u001b[0m\u001b[4;32mhttps://www.mfds.go.kr/brd/m_99/view.do?\u001b[0m\u001b[4;32mseq\u001b[0m\u001b[4;32m=\u001b[0m\u001b[4;32m49356\u001b[0m\u001b[32m                                                    |\u001b[0m\n",
       "\u001b[32m✓\u001b[0m\u001b[32m | ⏱: \u001b[0m\u001b[1;32m0.\u001b[0m\u001b[32m13s \u001b[0m\n"
      ]
     },
     "metadata": {},
     "output_type": "display_data"
    },
    {
     "data": {
      "text/html": [
       "<pre style=\"white-space:pre;overflow-x:auto;line-height:normal;font-family:Menlo,'DejaVu Sans Mono',consolas,'Courier New',monospace\"><span style=\"color: #008000; text-decoration-color: #008000; font-weight: bold\">[</span><span style=\"color: #008000; text-decoration-color: #008000\">COMPLETE</span><span style=\"color: #008000; text-decoration-color: #008000; font-weight: bold\">]</span><span style=\"color: #008000; text-decoration-color: #008000\"> ● </span><span style=\"color: #008000; text-decoration-color: #008000; text-decoration: underline\">https://www.mfds.go.kr/brd/m_99/view.do?seq=49356</span><span style=\"color: #008000; text-decoration-color: #008000\">                                                    |</span>\n",
       "<span style=\"color: #008000; text-decoration-color: #008000\">✓ | ⏱: </span><span style=\"color: #008000; text-decoration-color: #008000; font-weight: bold\">2.</span><span style=\"color: #008000; text-decoration-color: #008000\">57s </span>\n",
       "</pre>\n"
      ],
      "text/plain": [
       "\u001b[1;32m[\u001b[0m\u001b[32mCOMPLETE\u001b[0m\u001b[1;32m]\u001b[0m\u001b[32m ● \u001b[0m\u001b[4;32mhttps://www.mfds.go.kr/brd/m_99/view.do?\u001b[0m\u001b[4;32mseq\u001b[0m\u001b[4;32m=\u001b[0m\u001b[4;32m49356\u001b[0m\u001b[32m                                                    |\u001b[0m\n",
       "\u001b[32m✓\u001b[0m\u001b[32m | ⏱: \u001b[0m\u001b[1;32m2.\u001b[0m\u001b[32m57s \u001b[0m\n"
      ]
     },
     "metadata": {},
     "output_type": "display_data"
    },
    {
     "name": "stdout",
     "output_type": "stream",
     "text": [
      "https://www.mfds.go.kr/docviewer/skin/doc.html?fn=20250923111433685.hwpx&rs=/docviewer/result/ntc0021/49356/1/202510\n",
      "페이지 로딩 중: https://www.mfds.go.kr/docviewer/skin/doc.html?fn=20250923111433685.hwpx&rs=/docviewer/result/ntc0021/49356/1/202510\n"
     ]
    },
    {
     "data": {
      "text/html": [
       "<pre style=\"white-space:pre;overflow-x:auto;line-height:normal;font-family:Menlo,'DejaVu Sans Mono',consolas,'Courier New',monospace\"><span style=\"color: #008080; text-decoration-color: #008080; font-weight: bold\">[</span><span style=\"color: #008080; text-decoration-color: #008080\">INIT</span><span style=\"color: #008080; text-decoration-color: #008080; font-weight: bold\">]</span><span style=\"color: #008080; text-decoration-color: #008080\">.... → Crawl4AI </span><span style=\"color: #008080; text-decoration-color: #008080; font-weight: bold\">0.7</span><span style=\"color: #008080; text-decoration-color: #008080\">.</span><span style=\"color: #008080; text-decoration-color: #008080; font-weight: bold\">4</span><span style=\"color: #008080; text-decoration-color: #008080\"> </span>\n",
       "</pre>\n"
      ],
      "text/plain": [
       "\u001b[1;36m[\u001b[0m\u001b[36mINIT\u001b[0m\u001b[1;36m]\u001b[0m\u001b[36m...\u001b[0m\u001b[36m. → Crawl4AI \u001b[0m\u001b[1;36m0.7\u001b[0m\u001b[36m.\u001b[0m\u001b[1;36m4\u001b[0m\u001b[36m \u001b[0m\n"
      ]
     },
     "metadata": {},
     "output_type": "display_data"
    },
    {
     "data": {
      "text/html": [
       "<pre style=\"white-space:pre;overflow-x:auto;line-height:normal;font-family:Menlo,'DejaVu Sans Mono',consolas,'Courier New',monospace\"><span style=\"color: #008000; text-decoration-color: #008000; font-weight: bold\">[</span><span style=\"color: #008000; text-decoration-color: #008000\">FETCH</span><span style=\"color: #008000; text-decoration-color: #008000; font-weight: bold\">]</span><span style=\"color: #008000; text-decoration-color: #008000\">... ↓ </span><span style=\"color: #008000; text-decoration-color: #008000; text-decoration: underline\">https://www.mfds.go.kr/brd/m_99/view.do?seq=49355</span><span style=\"color: #008000; text-decoration-color: #008000\">                                                    |</span>\n",
       "<span style=\"color: #008000; text-decoration-color: #008000\">✓ | ⏱: </span><span style=\"color: #008000; text-decoration-color: #008000; font-weight: bold\">2.</span><span style=\"color: #008000; text-decoration-color: #008000\">16s </span>\n",
       "</pre>\n"
      ],
      "text/plain": [
       "\u001b[1;32m[\u001b[0m\u001b[32mFETCH\u001b[0m\u001b[1;32m]\u001b[0m\u001b[32m...\u001b[0m\u001b[32m ↓ \u001b[0m\u001b[4;32mhttps://www.mfds.go.kr/brd/m_99/view.do?\u001b[0m\u001b[4;32mseq\u001b[0m\u001b[4;32m=\u001b[0m\u001b[4;32m49355\u001b[0m\u001b[32m                                                    |\u001b[0m\n",
       "\u001b[32m✓\u001b[0m\u001b[32m | ⏱: \u001b[0m\u001b[1;32m2.\u001b[0m\u001b[32m16s \u001b[0m\n"
      ]
     },
     "metadata": {},
     "output_type": "display_data"
    },
    {
     "data": {
      "text/html": [
       "<pre style=\"white-space:pre;overflow-x:auto;line-height:normal;font-family:Menlo,'DejaVu Sans Mono',consolas,'Courier New',monospace\"><span style=\"color: #008000; text-decoration-color: #008000; font-weight: bold\">[</span><span style=\"color: #008000; text-decoration-color: #008000\">SCRAPE</span><span style=\"color: #008000; text-decoration-color: #008000; font-weight: bold\">]</span><span style=\"color: #008000; text-decoration-color: #008000\">.. ◆ </span><span style=\"color: #008000; text-decoration-color: #008000; text-decoration: underline\">https://www.mfds.go.kr/brd/m_99/view.do?seq=49355</span><span style=\"color: #008000; text-decoration-color: #008000\">                                                    |</span>\n",
       "<span style=\"color: #008000; text-decoration-color: #008000\">✓ | ⏱: </span><span style=\"color: #008000; text-decoration-color: #008000; font-weight: bold\">0.</span><span style=\"color: #008000; text-decoration-color: #008000\">14s </span>\n",
       "</pre>\n"
      ],
      "text/plain": [
       "\u001b[1;32m[\u001b[0m\u001b[32mSCRAPE\u001b[0m\u001b[1;32m]\u001b[0m\u001b[32m.. ◆ \u001b[0m\u001b[4;32mhttps://www.mfds.go.kr/brd/m_99/view.do?\u001b[0m\u001b[4;32mseq\u001b[0m\u001b[4;32m=\u001b[0m\u001b[4;32m49355\u001b[0m\u001b[32m                                                    |\u001b[0m\n",
       "\u001b[32m✓\u001b[0m\u001b[32m | ⏱: \u001b[0m\u001b[1;32m0.\u001b[0m\u001b[32m14s \u001b[0m\n"
      ]
     },
     "metadata": {},
     "output_type": "display_data"
    },
    {
     "data": {
      "text/html": [
       "<pre style=\"white-space:pre;overflow-x:auto;line-height:normal;font-family:Menlo,'DejaVu Sans Mono',consolas,'Courier New',monospace\"><span style=\"color: #008000; text-decoration-color: #008000; font-weight: bold\">[</span><span style=\"color: #008000; text-decoration-color: #008000\">COMPLETE</span><span style=\"color: #008000; text-decoration-color: #008000; font-weight: bold\">]</span><span style=\"color: #008000; text-decoration-color: #008000\"> ● </span><span style=\"color: #008000; text-decoration-color: #008000; text-decoration: underline\">https://www.mfds.go.kr/brd/m_99/view.do?seq=49355</span><span style=\"color: #008000; text-decoration-color: #008000\">                                                    |</span>\n",
       "<span style=\"color: #008000; text-decoration-color: #008000\">✓ | ⏱: </span><span style=\"color: #008000; text-decoration-color: #008000; font-weight: bold\">2.</span><span style=\"color: #008000; text-decoration-color: #008000\">31s </span>\n",
       "</pre>\n"
      ],
      "text/plain": [
       "\u001b[1;32m[\u001b[0m\u001b[32mCOMPLETE\u001b[0m\u001b[1;32m]\u001b[0m\u001b[32m ● \u001b[0m\u001b[4;32mhttps://www.mfds.go.kr/brd/m_99/view.do?\u001b[0m\u001b[4;32mseq\u001b[0m\u001b[4;32m=\u001b[0m\u001b[4;32m49355\u001b[0m\u001b[32m                                                    |\u001b[0m\n",
       "\u001b[32m✓\u001b[0m\u001b[32m | ⏱: \u001b[0m\u001b[1;32m2.\u001b[0m\u001b[32m31s \u001b[0m\n"
      ]
     },
     "metadata": {},
     "output_type": "display_data"
    },
    {
     "name": "stdout",
     "output_type": "stream",
     "text": [
      "https://www.mfds.go.kr/docviewer/skin/doc.html?fn=20250923090738787.hwpx&rs=/docviewer/result/ntc0021/49355/1/202510\n",
      "페이지 로딩 중: https://www.mfds.go.kr/docviewer/skin/doc.html?fn=20250923090738787.hwpx&rs=/docviewer/result/ntc0021/49355/1/202510\n"
     ]
    },
    {
     "data": {
      "text/html": [
       "<pre style=\"white-space:pre;overflow-x:auto;line-height:normal;font-family:Menlo,'DejaVu Sans Mono',consolas,'Courier New',monospace\"><span style=\"color: #008080; text-decoration-color: #008080; font-weight: bold\">[</span><span style=\"color: #008080; text-decoration-color: #008080\">INIT</span><span style=\"color: #008080; text-decoration-color: #008080; font-weight: bold\">]</span><span style=\"color: #008080; text-decoration-color: #008080\">.... → Crawl4AI </span><span style=\"color: #008080; text-decoration-color: #008080; font-weight: bold\">0.7</span><span style=\"color: #008080; text-decoration-color: #008080\">.</span><span style=\"color: #008080; text-decoration-color: #008080; font-weight: bold\">4</span><span style=\"color: #008080; text-decoration-color: #008080\"> </span>\n",
       "</pre>\n"
      ],
      "text/plain": [
       "\u001b[1;36m[\u001b[0m\u001b[36mINIT\u001b[0m\u001b[1;36m]\u001b[0m\u001b[36m...\u001b[0m\u001b[36m. → Crawl4AI \u001b[0m\u001b[1;36m0.7\u001b[0m\u001b[36m.\u001b[0m\u001b[1;36m4\u001b[0m\u001b[36m \u001b[0m\n"
      ]
     },
     "metadata": {},
     "output_type": "display_data"
    },
    {
     "data": {
      "text/html": [
       "<pre style=\"white-space:pre;overflow-x:auto;line-height:normal;font-family:Menlo,'DejaVu Sans Mono',consolas,'Courier New',monospace\"><span style=\"color: #008000; text-decoration-color: #008000; font-weight: bold\">[</span><span style=\"color: #008000; text-decoration-color: #008000\">FETCH</span><span style=\"color: #008000; text-decoration-color: #008000; font-weight: bold\">]</span><span style=\"color: #008000; text-decoration-color: #008000\">... ↓ </span><span style=\"color: #008000; text-decoration-color: #008000; text-decoration: underline\">https://www.mfds.go.kr/brd/m_99/view.do?seq=49354</span><span style=\"color: #008000; text-decoration-color: #008000\">                                                    |</span>\n",
       "<span style=\"color: #008000; text-decoration-color: #008000\">✓ | ⏱: </span><span style=\"color: #008000; text-decoration-color: #008000; font-weight: bold\">2.</span><span style=\"color: #008000; text-decoration-color: #008000\">37s </span>\n",
       "</pre>\n"
      ],
      "text/plain": [
       "\u001b[1;32m[\u001b[0m\u001b[32mFETCH\u001b[0m\u001b[1;32m]\u001b[0m\u001b[32m...\u001b[0m\u001b[32m ↓ \u001b[0m\u001b[4;32mhttps://www.mfds.go.kr/brd/m_99/view.do?\u001b[0m\u001b[4;32mseq\u001b[0m\u001b[4;32m=\u001b[0m\u001b[4;32m49354\u001b[0m\u001b[32m                                                    |\u001b[0m\n",
       "\u001b[32m✓\u001b[0m\u001b[32m | ⏱: \u001b[0m\u001b[1;32m2.\u001b[0m\u001b[32m37s \u001b[0m\n"
      ]
     },
     "metadata": {},
     "output_type": "display_data"
    },
    {
     "data": {
      "text/html": [
       "<pre style=\"white-space:pre;overflow-x:auto;line-height:normal;font-family:Menlo,'DejaVu Sans Mono',consolas,'Courier New',monospace\"><span style=\"color: #008000; text-decoration-color: #008000; font-weight: bold\">[</span><span style=\"color: #008000; text-decoration-color: #008000\">SCRAPE</span><span style=\"color: #008000; text-decoration-color: #008000; font-weight: bold\">]</span><span style=\"color: #008000; text-decoration-color: #008000\">.. ◆ </span><span style=\"color: #008000; text-decoration-color: #008000; text-decoration: underline\">https://www.mfds.go.kr/brd/m_99/view.do?seq=49354</span><span style=\"color: #008000; text-decoration-color: #008000\">                                                    |</span>\n",
       "<span style=\"color: #008000; text-decoration-color: #008000\">✓ | ⏱: </span><span style=\"color: #008000; text-decoration-color: #008000; font-weight: bold\">0.</span><span style=\"color: #008000; text-decoration-color: #008000\">14s </span>\n",
       "</pre>\n"
      ],
      "text/plain": [
       "\u001b[1;32m[\u001b[0m\u001b[32mSCRAPE\u001b[0m\u001b[1;32m]\u001b[0m\u001b[32m.. ◆ \u001b[0m\u001b[4;32mhttps://www.mfds.go.kr/brd/m_99/view.do?\u001b[0m\u001b[4;32mseq\u001b[0m\u001b[4;32m=\u001b[0m\u001b[4;32m49354\u001b[0m\u001b[32m                                                    |\u001b[0m\n",
       "\u001b[32m✓\u001b[0m\u001b[32m | ⏱: \u001b[0m\u001b[1;32m0.\u001b[0m\u001b[32m14s \u001b[0m\n"
      ]
     },
     "metadata": {},
     "output_type": "display_data"
    },
    {
     "data": {
      "text/html": [
       "<pre style=\"white-space:pre;overflow-x:auto;line-height:normal;font-family:Menlo,'DejaVu Sans Mono',consolas,'Courier New',monospace\"><span style=\"color: #008000; text-decoration-color: #008000; font-weight: bold\">[</span><span style=\"color: #008000; text-decoration-color: #008000\">COMPLETE</span><span style=\"color: #008000; text-decoration-color: #008000; font-weight: bold\">]</span><span style=\"color: #008000; text-decoration-color: #008000\"> ● </span><span style=\"color: #008000; text-decoration-color: #008000; text-decoration: underline\">https://www.mfds.go.kr/brd/m_99/view.do?seq=49354</span><span style=\"color: #008000; text-decoration-color: #008000\">                                                    |</span>\n",
       "<span style=\"color: #008000; text-decoration-color: #008000\">✓ | ⏱: </span><span style=\"color: #008000; text-decoration-color: #008000; font-weight: bold\">2.</span><span style=\"color: #008000; text-decoration-color: #008000\">51s </span>\n",
       "</pre>\n"
      ],
      "text/plain": [
       "\u001b[1;32m[\u001b[0m\u001b[32mCOMPLETE\u001b[0m\u001b[1;32m]\u001b[0m\u001b[32m ● \u001b[0m\u001b[4;32mhttps://www.mfds.go.kr/brd/m_99/view.do?\u001b[0m\u001b[4;32mseq\u001b[0m\u001b[4;32m=\u001b[0m\u001b[4;32m49354\u001b[0m\u001b[32m                                                    |\u001b[0m\n",
       "\u001b[32m✓\u001b[0m\u001b[32m | ⏱: \u001b[0m\u001b[1;32m2.\u001b[0m\u001b[32m51s \u001b[0m\n"
      ]
     },
     "metadata": {},
     "output_type": "display_data"
    },
    {
     "name": "stdout",
     "output_type": "stream",
     "text": [
      "https://www.mfds.go.kr/docviewer/skin/doc.html?fn=20250923090515348.hwpx&rs=/docviewer/result/ntc0021/49354/1/202510\n",
      "페이지 로딩 중: https://www.mfds.go.kr/docviewer/skin/doc.html?fn=20250923090515348.hwpx&rs=/docviewer/result/ntc0021/49354/1/202510\n",
      "한국소비자원\n",
      "Base URL: https://www.kca.go.kr\n",
      "--- 현재 1 페이지 수집 중 (https://www.kca.go.kr/home/sub.do?page=1&menukey=4002) ---\n",
      "완료: 20개 기사 발견\n"
     ]
    },
    {
     "data": {
      "text/html": [
       "<pre style=\"white-space:pre;overflow-x:auto;line-height:normal;font-family:Menlo,'DejaVu Sans Mono',consolas,'Courier New',monospace\"><span style=\"color: #008080; text-decoration-color: #008080; font-weight: bold\">[</span><span style=\"color: #008080; text-decoration-color: #008080\">INIT</span><span style=\"color: #008080; text-decoration-color: #008080; font-weight: bold\">]</span><span style=\"color: #008080; text-decoration-color: #008080\">.... → Crawl4AI </span><span style=\"color: #008080; text-decoration-color: #008080; font-weight: bold\">0.7</span><span style=\"color: #008080; text-decoration-color: #008080\">.</span><span style=\"color: #008080; text-decoration-color: #008080; font-weight: bold\">4</span><span style=\"color: #008080; text-decoration-color: #008080\"> </span>\n",
       "</pre>\n"
      ],
      "text/plain": [
       "\u001b[1;36m[\u001b[0m\u001b[36mINIT\u001b[0m\u001b[1;36m]\u001b[0m\u001b[36m...\u001b[0m\u001b[36m. → Crawl4AI \u001b[0m\u001b[1;36m0.7\u001b[0m\u001b[36m.\u001b[0m\u001b[1;36m4\u001b[0m\u001b[36m \u001b[0m\n"
      ]
     },
     "metadata": {},
     "output_type": "display_data"
    },
    {
     "data": {
      "text/html": [
       "<pre style=\"white-space:pre;overflow-x:auto;line-height:normal;font-family:Menlo,'DejaVu Sans Mono',consolas,'Courier New',monospace\"><span style=\"color: #008000; text-decoration-color: #008000; font-weight: bold\">[</span><span style=\"color: #008000; text-decoration-color: #008000\">FETCH</span><span style=\"color: #008000; text-decoration-color: #008000; font-weight: bold\">]</span><span style=\"color: #008000; text-decoration-color: #008000\">... ↓ </span><span style=\"color: #008000; text-decoration-color: #008000; text-decoration: underline\">https://www.kca.go.kr/home/sub.do?menukey=4002&amp;mode=view&amp;no=1003928793&amp;page=1</span><span style=\"color: #008000; text-decoration-color: #008000\">                        |</span>\n",
       "<span style=\"color: #008000; text-decoration-color: #008000\">✓ | ⏱: </span><span style=\"color: #008000; text-decoration-color: #008000; font-weight: bold\">1.</span><span style=\"color: #008000; text-decoration-color: #008000\">38s </span>\n",
       "</pre>\n"
      ],
      "text/plain": [
       "\u001b[1;32m[\u001b[0m\u001b[32mFETCH\u001b[0m\u001b[1;32m]\u001b[0m\u001b[32m...\u001b[0m\u001b[32m ↓ \u001b[0m\u001b[4;32mhttps://www.kca.go.kr/home/sub.do?\u001b[0m\u001b[4;32mmenukey\u001b[0m\u001b[4;32m=\u001b[0m\u001b[4;32m4002\u001b[0m\u001b[4;32m&\u001b[0m\u001b[4;32mmode\u001b[0m\u001b[4;32m=\u001b[0m\u001b[4;32mview\u001b[0m\u001b[4;32m&\u001b[0m\u001b[4;32mno\u001b[0m\u001b[4;32m=\u001b[0m\u001b[4;32m1003928793\u001b[0m\u001b[4;32m&\u001b[0m\u001b[4;32mpage\u001b[0m\u001b[4;32m=\u001b[0m\u001b[4;32m1\u001b[0m\u001b[32m                        |\u001b[0m\n",
       "\u001b[32m✓\u001b[0m\u001b[32m | ⏱: \u001b[0m\u001b[1;32m1.\u001b[0m\u001b[32m38s \u001b[0m\n"
      ]
     },
     "metadata": {},
     "output_type": "display_data"
    },
    {
     "data": {
      "text/html": [
       "<pre style=\"white-space:pre;overflow-x:auto;line-height:normal;font-family:Menlo,'DejaVu Sans Mono',consolas,'Courier New',monospace\"><span style=\"color: #008000; text-decoration-color: #008000; font-weight: bold\">[</span><span style=\"color: #008000; text-decoration-color: #008000\">SCRAPE</span><span style=\"color: #008000; text-decoration-color: #008000; font-weight: bold\">]</span><span style=\"color: #008000; text-decoration-color: #008000\">.. ◆ </span><span style=\"color: #008000; text-decoration-color: #008000; text-decoration: underline\">https://www.kca.go.kr/home/sub.do?menukey=4002&amp;mode=view&amp;no=1003928793&amp;page=1</span><span style=\"color: #008000; text-decoration-color: #008000\">                        |</span>\n",
       "<span style=\"color: #008000; text-decoration-color: #008000\">✓ | ⏱: </span><span style=\"color: #008000; text-decoration-color: #008000; font-weight: bold\">0.</span><span style=\"color: #008000; text-decoration-color: #008000\">05s </span>\n",
       "</pre>\n"
      ],
      "text/plain": [
       "\u001b[1;32m[\u001b[0m\u001b[32mSCRAPE\u001b[0m\u001b[1;32m]\u001b[0m\u001b[32m.. ◆ \u001b[0m\u001b[4;32mhttps://www.kca.go.kr/home/sub.do?\u001b[0m\u001b[4;32mmenukey\u001b[0m\u001b[4;32m=\u001b[0m\u001b[4;32m4002\u001b[0m\u001b[4;32m&\u001b[0m\u001b[4;32mmode\u001b[0m\u001b[4;32m=\u001b[0m\u001b[4;32mview\u001b[0m\u001b[4;32m&\u001b[0m\u001b[4;32mno\u001b[0m\u001b[4;32m=\u001b[0m\u001b[4;32m1003928793\u001b[0m\u001b[4;32m&\u001b[0m\u001b[4;32mpage\u001b[0m\u001b[4;32m=\u001b[0m\u001b[4;32m1\u001b[0m\u001b[32m                        |\u001b[0m\n",
       "\u001b[32m✓\u001b[0m\u001b[32m | ⏱: \u001b[0m\u001b[1;32m0.\u001b[0m\u001b[32m05s \u001b[0m\n"
      ]
     },
     "metadata": {},
     "output_type": "display_data"
    },
    {
     "data": {
      "text/html": [
       "<pre style=\"white-space:pre;overflow-x:auto;line-height:normal;font-family:Menlo,'DejaVu Sans Mono',consolas,'Courier New',monospace\"><span style=\"color: #008000; text-decoration-color: #008000; font-weight: bold\">[</span><span style=\"color: #008000; text-decoration-color: #008000\">COMPLETE</span><span style=\"color: #008000; text-decoration-color: #008000; font-weight: bold\">]</span><span style=\"color: #008000; text-decoration-color: #008000\"> ● </span><span style=\"color: #008000; text-decoration-color: #008000; text-decoration: underline\">https://www.kca.go.kr/home/sub.do?menukey=4002&amp;mode=view&amp;no=1003928793&amp;page=1</span><span style=\"color: #008000; text-decoration-color: #008000\">                        |</span>\n",
       "<span style=\"color: #008000; text-decoration-color: #008000\">✓ | ⏱: </span><span style=\"color: #008000; text-decoration-color: #008000; font-weight: bold\">1.</span><span style=\"color: #008000; text-decoration-color: #008000\">44s </span>\n",
       "</pre>\n"
      ],
      "text/plain": [
       "\u001b[1;32m[\u001b[0m\u001b[32mCOMPLETE\u001b[0m\u001b[1;32m]\u001b[0m\u001b[32m ● \u001b[0m\u001b[4;32mhttps://www.kca.go.kr/home/sub.do?\u001b[0m\u001b[4;32mmenukey\u001b[0m\u001b[4;32m=\u001b[0m\u001b[4;32m4002\u001b[0m\u001b[4;32m&\u001b[0m\u001b[4;32mmode\u001b[0m\u001b[4;32m=\u001b[0m\u001b[4;32mview\u001b[0m\u001b[4;32m&\u001b[0m\u001b[4;32mno\u001b[0m\u001b[4;32m=\u001b[0m\u001b[4;32m1003928793\u001b[0m\u001b[4;32m&\u001b[0m\u001b[4;32mpage\u001b[0m\u001b[4;32m=\u001b[0m\u001b[4;32m1\u001b[0m\u001b[32m                        |\u001b[0m\n",
       "\u001b[32m✓\u001b[0m\u001b[32m | ⏱: \u001b[0m\u001b[1;32m1.\u001b[0m\u001b[32m44s \u001b[0m\n"
      ]
     },
     "metadata": {},
     "output_type": "display_data"
    },
    {
     "name": "stdout",
     "output_type": "stream",
     "text": [
      "https://www.kca.go.kr/home/synapviewer.do?menukey=4002&fno=10048410&bid=00000013&did=1003928793\n",
      "https://www.kca.go.kr/home/synapviewer.do?menukey=4002&fno=10048411&bid=00000013&did=1003928793\n",
      "https://www.kca.go.kr/home/synapviewer.do?menukey=4002&fno=10048412&bid=00000013&did=1003928793\n",
      "페이지 로딩 중: https://www.kca.go.kr/home/synapviewer.do?menukey=4002&fno=10048411&bid=00000013&did=1003928793\n",
      "   - [P1-1] [아웃도어 에어매트 품질비교 결과] 캠핑용 에어매트의 ...\n"
     ]
    },
    {
     "data": {
      "text/html": [
       "<pre style=\"white-space:pre;overflow-x:auto;line-height:normal;font-family:Menlo,'DejaVu Sans Mono',consolas,'Courier New',monospace\"><span style=\"color: #008080; text-decoration-color: #008080; font-weight: bold\">[</span><span style=\"color: #008080; text-decoration-color: #008080\">INIT</span><span style=\"color: #008080; text-decoration-color: #008080; font-weight: bold\">]</span><span style=\"color: #008080; text-decoration-color: #008080\">.... → Crawl4AI </span><span style=\"color: #008080; text-decoration-color: #008080; font-weight: bold\">0.7</span><span style=\"color: #008080; text-decoration-color: #008080\">.</span><span style=\"color: #008080; text-decoration-color: #008080; font-weight: bold\">4</span><span style=\"color: #008080; text-decoration-color: #008080\"> </span>\n",
       "</pre>\n"
      ],
      "text/plain": [
       "\u001b[1;36m[\u001b[0m\u001b[36mINIT\u001b[0m\u001b[1;36m]\u001b[0m\u001b[36m...\u001b[0m\u001b[36m. → Crawl4AI \u001b[0m\u001b[1;36m0.7\u001b[0m\u001b[36m.\u001b[0m\u001b[1;36m4\u001b[0m\u001b[36m \u001b[0m\n"
      ]
     },
     "metadata": {},
     "output_type": "display_data"
    },
    {
     "data": {
      "text/html": [
       "<pre style=\"white-space:pre;overflow-x:auto;line-height:normal;font-family:Menlo,'DejaVu Sans Mono',consolas,'Courier New',monospace\"><span style=\"color: #008000; text-decoration-color: #008000; font-weight: bold\">[</span><span style=\"color: #008000; text-decoration-color: #008000\">FETCH</span><span style=\"color: #008000; text-decoration-color: #008000; font-weight: bold\">]</span><span style=\"color: #008000; text-decoration-color: #008000\">... ↓ </span><span style=\"color: #008000; text-decoration-color: #008000; text-decoration: underline\">https://www.kca.go.kr/home/sub.do?menukey=4002&amp;mode=view&amp;no=1003928628&amp;page=1</span><span style=\"color: #008000; text-decoration-color: #008000\">                        |</span>\n",
       "<span style=\"color: #008000; text-decoration-color: #008000\">✓ | ⏱: </span><span style=\"color: #008000; text-decoration-color: #008000; font-weight: bold\">1.</span><span style=\"color: #008000; text-decoration-color: #008000\">16s </span>\n",
       "</pre>\n"
      ],
      "text/plain": [
       "\u001b[1;32m[\u001b[0m\u001b[32mFETCH\u001b[0m\u001b[1;32m]\u001b[0m\u001b[32m...\u001b[0m\u001b[32m ↓ \u001b[0m\u001b[4;32mhttps://www.kca.go.kr/home/sub.do?\u001b[0m\u001b[4;32mmenukey\u001b[0m\u001b[4;32m=\u001b[0m\u001b[4;32m4002\u001b[0m\u001b[4;32m&\u001b[0m\u001b[4;32mmode\u001b[0m\u001b[4;32m=\u001b[0m\u001b[4;32mview\u001b[0m\u001b[4;32m&\u001b[0m\u001b[4;32mno\u001b[0m\u001b[4;32m=\u001b[0m\u001b[4;32m1003928628\u001b[0m\u001b[4;32m&\u001b[0m\u001b[4;32mpage\u001b[0m\u001b[4;32m=\u001b[0m\u001b[4;32m1\u001b[0m\u001b[32m                        |\u001b[0m\n",
       "\u001b[32m✓\u001b[0m\u001b[32m | ⏱: \u001b[0m\u001b[1;32m1.\u001b[0m\u001b[32m16s \u001b[0m\n"
      ]
     },
     "metadata": {},
     "output_type": "display_data"
    },
    {
     "data": {
      "text/html": [
       "<pre style=\"white-space:pre;overflow-x:auto;line-height:normal;font-family:Menlo,'DejaVu Sans Mono',consolas,'Courier New',monospace\"><span style=\"color: #008000; text-decoration-color: #008000; font-weight: bold\">[</span><span style=\"color: #008000; text-decoration-color: #008000\">SCRAPE</span><span style=\"color: #008000; text-decoration-color: #008000; font-weight: bold\">]</span><span style=\"color: #008000; text-decoration-color: #008000\">.. ◆ </span><span style=\"color: #008000; text-decoration-color: #008000; text-decoration: underline\">https://www.kca.go.kr/home/sub.do?menukey=4002&amp;mode=view&amp;no=1003928628&amp;page=1</span><span style=\"color: #008000; text-decoration-color: #008000\">                        |</span>\n",
       "<span style=\"color: #008000; text-decoration-color: #008000\">✓ | ⏱: </span><span style=\"color: #008000; text-decoration-color: #008000; font-weight: bold\">0.</span><span style=\"color: #008000; text-decoration-color: #008000\">08s </span>\n",
       "</pre>\n"
      ],
      "text/plain": [
       "\u001b[1;32m[\u001b[0m\u001b[32mSCRAPE\u001b[0m\u001b[1;32m]\u001b[0m\u001b[32m.. ◆ \u001b[0m\u001b[4;32mhttps://www.kca.go.kr/home/sub.do?\u001b[0m\u001b[4;32mmenukey\u001b[0m\u001b[4;32m=\u001b[0m\u001b[4;32m4002\u001b[0m\u001b[4;32m&\u001b[0m\u001b[4;32mmode\u001b[0m\u001b[4;32m=\u001b[0m\u001b[4;32mview\u001b[0m\u001b[4;32m&\u001b[0m\u001b[4;32mno\u001b[0m\u001b[4;32m=\u001b[0m\u001b[4;32m1003928628\u001b[0m\u001b[4;32m&\u001b[0m\u001b[4;32mpage\u001b[0m\u001b[4;32m=\u001b[0m\u001b[4;32m1\u001b[0m\u001b[32m                        |\u001b[0m\n",
       "\u001b[32m✓\u001b[0m\u001b[32m | ⏱: \u001b[0m\u001b[1;32m0.\u001b[0m\u001b[32m08s \u001b[0m\n"
      ]
     },
     "metadata": {},
     "output_type": "display_data"
    },
    {
     "data": {
      "text/html": [
       "<pre style=\"white-space:pre;overflow-x:auto;line-height:normal;font-family:Menlo,'DejaVu Sans Mono',consolas,'Courier New',monospace\"><span style=\"color: #008000; text-decoration-color: #008000; font-weight: bold\">[</span><span style=\"color: #008000; text-decoration-color: #008000\">COMPLETE</span><span style=\"color: #008000; text-decoration-color: #008000; font-weight: bold\">]</span><span style=\"color: #008000; text-decoration-color: #008000\"> ● </span><span style=\"color: #008000; text-decoration-color: #008000; text-decoration: underline\">https://www.kca.go.kr/home/sub.do?menukey=4002&amp;mode=view&amp;no=1003928628&amp;page=1</span><span style=\"color: #008000; text-decoration-color: #008000\">                        |</span>\n",
       "<span style=\"color: #008000; text-decoration-color: #008000\">✓ | ⏱: </span><span style=\"color: #008000; text-decoration-color: #008000; font-weight: bold\">1.</span><span style=\"color: #008000; text-decoration-color: #008000\">25s </span>\n",
       "</pre>\n"
      ],
      "text/plain": [
       "\u001b[1;32m[\u001b[0m\u001b[32mCOMPLETE\u001b[0m\u001b[1;32m]\u001b[0m\u001b[32m ● \u001b[0m\u001b[4;32mhttps://www.kca.go.kr/home/sub.do?\u001b[0m\u001b[4;32mmenukey\u001b[0m\u001b[4;32m=\u001b[0m\u001b[4;32m4002\u001b[0m\u001b[4;32m&\u001b[0m\u001b[4;32mmode\u001b[0m\u001b[4;32m=\u001b[0m\u001b[4;32mview\u001b[0m\u001b[4;32m&\u001b[0m\u001b[4;32mno\u001b[0m\u001b[4;32m=\u001b[0m\u001b[4;32m1003928628\u001b[0m\u001b[4;32m&\u001b[0m\u001b[4;32mpage\u001b[0m\u001b[4;32m=\u001b[0m\u001b[4;32m1\u001b[0m\u001b[32m                        |\u001b[0m\n",
       "\u001b[32m✓\u001b[0m\u001b[32m | ⏱: \u001b[0m\u001b[1;32m1.\u001b[0m\u001b[32m25s \u001b[0m\n"
      ]
     },
     "metadata": {},
     "output_type": "display_data"
    },
    {
     "name": "stdout",
     "output_type": "stream",
     "text": [
      "https://www.kca.go.kr/home/synapviewer.do?menukey=4002&fno=10048407&bid=00000013&did=1003928628\n",
      "https://www.kca.go.kr/home/synapviewer.do?menukey=4002&fno=10048408&bid=00000013&did=1003928628\n",
      "https://www.kca.go.kr/home/synapviewer.do?menukey=4002&fno=10048409&bid=00000013&did=1003928628\n",
      "페이지 로딩 중: https://www.kca.go.kr/home/synapviewer.do?menukey=4002&fno=10048409&bid=00000013&did=1003928628\n",
      "   - [P1-2] 「8월 결혼서비스 가격 동향 조사 결과」 결혼서비스 전...\n"
     ]
    },
    {
     "data": {
      "text/html": [
       "<pre style=\"white-space:pre;overflow-x:auto;line-height:normal;font-family:Menlo,'DejaVu Sans Mono',consolas,'Courier New',monospace\"><span style=\"color: #008080; text-decoration-color: #008080; font-weight: bold\">[</span><span style=\"color: #008080; text-decoration-color: #008080\">INIT</span><span style=\"color: #008080; text-decoration-color: #008080; font-weight: bold\">]</span><span style=\"color: #008080; text-decoration-color: #008080\">.... → Crawl4AI </span><span style=\"color: #008080; text-decoration-color: #008080; font-weight: bold\">0.7</span><span style=\"color: #008080; text-decoration-color: #008080\">.</span><span style=\"color: #008080; text-decoration-color: #008080; font-weight: bold\">4</span><span style=\"color: #008080; text-decoration-color: #008080\"> </span>\n",
       "</pre>\n"
      ],
      "text/plain": [
       "\u001b[1;36m[\u001b[0m\u001b[36mINIT\u001b[0m\u001b[1;36m]\u001b[0m\u001b[36m...\u001b[0m\u001b[36m. → Crawl4AI \u001b[0m\u001b[1;36m0.7\u001b[0m\u001b[36m.\u001b[0m\u001b[1;36m4\u001b[0m\u001b[36m \u001b[0m\n"
      ]
     },
     "metadata": {},
     "output_type": "display_data"
    },
    {
     "data": {
      "text/html": [
       "<pre style=\"white-space:pre;overflow-x:auto;line-height:normal;font-family:Menlo,'DejaVu Sans Mono',consolas,'Courier New',monospace\"><span style=\"color: #008000; text-decoration-color: #008000; font-weight: bold\">[</span><span style=\"color: #008000; text-decoration-color: #008000\">FETCH</span><span style=\"color: #008000; text-decoration-color: #008000; font-weight: bold\">]</span><span style=\"color: #008000; text-decoration-color: #008000\">... ↓ </span><span style=\"color: #008000; text-decoration-color: #008000; text-decoration: underline\">https://www.kca.go.kr/home/sub.do?menukey=4002&amp;mode=view&amp;no=1003925061&amp;page=1</span><span style=\"color: #008000; text-decoration-color: #008000\">                        |</span>\n",
       "<span style=\"color: #008000; text-decoration-color: #008000\">✓ | ⏱: </span><span style=\"color: #008000; text-decoration-color: #008000; font-weight: bold\">1.</span><span style=\"color: #008000; text-decoration-color: #008000\">11s </span>\n",
       "</pre>\n"
      ],
      "text/plain": [
       "\u001b[1;32m[\u001b[0m\u001b[32mFETCH\u001b[0m\u001b[1;32m]\u001b[0m\u001b[32m...\u001b[0m\u001b[32m ↓ \u001b[0m\u001b[4;32mhttps://www.kca.go.kr/home/sub.do?\u001b[0m\u001b[4;32mmenukey\u001b[0m\u001b[4;32m=\u001b[0m\u001b[4;32m4002\u001b[0m\u001b[4;32m&\u001b[0m\u001b[4;32mmode\u001b[0m\u001b[4;32m=\u001b[0m\u001b[4;32mview\u001b[0m\u001b[4;32m&\u001b[0m\u001b[4;32mno\u001b[0m\u001b[4;32m=\u001b[0m\u001b[4;32m1003925061\u001b[0m\u001b[4;32m&\u001b[0m\u001b[4;32mpage\u001b[0m\u001b[4;32m=\u001b[0m\u001b[4;32m1\u001b[0m\u001b[32m                        |\u001b[0m\n",
       "\u001b[32m✓\u001b[0m\u001b[32m | ⏱: \u001b[0m\u001b[1;32m1.\u001b[0m\u001b[32m11s \u001b[0m\n"
      ]
     },
     "metadata": {},
     "output_type": "display_data"
    },
    {
     "data": {
      "text/html": [
       "<pre style=\"white-space:pre;overflow-x:auto;line-height:normal;font-family:Menlo,'DejaVu Sans Mono',consolas,'Courier New',monospace\"><span style=\"color: #008000; text-decoration-color: #008000; font-weight: bold\">[</span><span style=\"color: #008000; text-decoration-color: #008000\">SCRAPE</span><span style=\"color: #008000; text-decoration-color: #008000; font-weight: bold\">]</span><span style=\"color: #008000; text-decoration-color: #008000\">.. ◆ </span><span style=\"color: #008000; text-decoration-color: #008000; text-decoration: underline\">https://www.kca.go.kr/home/sub.do?menukey=4002&amp;mode=view&amp;no=1003925061&amp;page=1</span><span style=\"color: #008000; text-decoration-color: #008000\">                        |</span>\n",
       "<span style=\"color: #008000; text-decoration-color: #008000\">✓ | ⏱: </span><span style=\"color: #008000; text-decoration-color: #008000; font-weight: bold\">0.</span><span style=\"color: #008000; text-decoration-color: #008000\">06s </span>\n",
       "</pre>\n"
      ],
      "text/plain": [
       "\u001b[1;32m[\u001b[0m\u001b[32mSCRAPE\u001b[0m\u001b[1;32m]\u001b[0m\u001b[32m.. ◆ \u001b[0m\u001b[4;32mhttps://www.kca.go.kr/home/sub.do?\u001b[0m\u001b[4;32mmenukey\u001b[0m\u001b[4;32m=\u001b[0m\u001b[4;32m4002\u001b[0m\u001b[4;32m&\u001b[0m\u001b[4;32mmode\u001b[0m\u001b[4;32m=\u001b[0m\u001b[4;32mview\u001b[0m\u001b[4;32m&\u001b[0m\u001b[4;32mno\u001b[0m\u001b[4;32m=\u001b[0m\u001b[4;32m1003925061\u001b[0m\u001b[4;32m&\u001b[0m\u001b[4;32mpage\u001b[0m\u001b[4;32m=\u001b[0m\u001b[4;32m1\u001b[0m\u001b[32m                        |\u001b[0m\n",
       "\u001b[32m✓\u001b[0m\u001b[32m | ⏱: \u001b[0m\u001b[1;32m0.\u001b[0m\u001b[32m06s \u001b[0m\n"
      ]
     },
     "metadata": {},
     "output_type": "display_data"
    },
    {
     "data": {
      "text/html": [
       "<pre style=\"white-space:pre;overflow-x:auto;line-height:normal;font-family:Menlo,'DejaVu Sans Mono',consolas,'Courier New',monospace\"><span style=\"color: #008000; text-decoration-color: #008000; font-weight: bold\">[</span><span style=\"color: #008000; text-decoration-color: #008000\">COMPLETE</span><span style=\"color: #008000; text-decoration-color: #008000; font-weight: bold\">]</span><span style=\"color: #008000; text-decoration-color: #008000\"> ● </span><span style=\"color: #008000; text-decoration-color: #008000; text-decoration: underline\">https://www.kca.go.kr/home/sub.do?menukey=4002&amp;mode=view&amp;no=1003925061&amp;page=1</span><span style=\"color: #008000; text-decoration-color: #008000\">                        |</span>\n",
       "<span style=\"color: #008000; text-decoration-color: #008000\">✓ | ⏱: </span><span style=\"color: #008000; text-decoration-color: #008000; font-weight: bold\">1.</span><span style=\"color: #008000; text-decoration-color: #008000\">17s </span>\n",
       "</pre>\n"
      ],
      "text/plain": [
       "\u001b[1;32m[\u001b[0m\u001b[32mCOMPLETE\u001b[0m\u001b[1;32m]\u001b[0m\u001b[32m ● \u001b[0m\u001b[4;32mhttps://www.kca.go.kr/home/sub.do?\u001b[0m\u001b[4;32mmenukey\u001b[0m\u001b[4;32m=\u001b[0m\u001b[4;32m4002\u001b[0m\u001b[4;32m&\u001b[0m\u001b[4;32mmode\u001b[0m\u001b[4;32m=\u001b[0m\u001b[4;32mview\u001b[0m\u001b[4;32m&\u001b[0m\u001b[4;32mno\u001b[0m\u001b[4;32m=\u001b[0m\u001b[4;32m1003925061\u001b[0m\u001b[4;32m&\u001b[0m\u001b[4;32mpage\u001b[0m\u001b[4;32m=\u001b[0m\u001b[4;32m1\u001b[0m\u001b[32m                        |\u001b[0m\n",
       "\u001b[32m✓\u001b[0m\u001b[32m | ⏱: \u001b[0m\u001b[1;32m1.\u001b[0m\u001b[32m17s \u001b[0m\n"
      ]
     },
     "metadata": {},
     "output_type": "display_data"
    },
    {
     "name": "stdout",
     "output_type": "stream",
     "text": [
      "https://www.kca.go.kr/home/synapviewer.do?menukey=4002&fno=10048399&bid=00000013&did=1003925061\n",
      "https://www.kca.go.kr/home/synapviewer.do?menukey=4002&fno=10048400&bid=00000013&did=1003925061\n",
      "https://www.kca.go.kr/home/synapviewer.do?menukey=4002&fno=10048401&bid=00000013&did=1003925061\n",
      "페이지 로딩 중: https://www.kca.go.kr/home/synapviewer.do?menukey=4002&fno=10048400&bid=00000013&did=1003925061\n",
      "   - [P1-3] 추석 선물 세트, 유통채널별 할인조건 달라 꼼꼼히 비교...\n"
     ]
    },
    {
     "data": {
      "text/html": [
       "<pre style=\"white-space:pre;overflow-x:auto;line-height:normal;font-family:Menlo,'DejaVu Sans Mono',consolas,'Courier New',monospace\"><span style=\"color: #008080; text-decoration-color: #008080; font-weight: bold\">[</span><span style=\"color: #008080; text-decoration-color: #008080\">INIT</span><span style=\"color: #008080; text-decoration-color: #008080; font-weight: bold\">]</span><span style=\"color: #008080; text-decoration-color: #008080\">.... → Crawl4AI </span><span style=\"color: #008080; text-decoration-color: #008080; font-weight: bold\">0.7</span><span style=\"color: #008080; text-decoration-color: #008080\">.</span><span style=\"color: #008080; text-decoration-color: #008080; font-weight: bold\">4</span><span style=\"color: #008080; text-decoration-color: #008080\"> </span>\n",
       "</pre>\n"
      ],
      "text/plain": [
       "\u001b[1;36m[\u001b[0m\u001b[36mINIT\u001b[0m\u001b[1;36m]\u001b[0m\u001b[36m...\u001b[0m\u001b[36m. → Crawl4AI \u001b[0m\u001b[1;36m0.7\u001b[0m\u001b[36m.\u001b[0m\u001b[1;36m4\u001b[0m\u001b[36m \u001b[0m\n"
      ]
     },
     "metadata": {},
     "output_type": "display_data"
    },
    {
     "data": {
      "text/html": [
       "<pre style=\"white-space:pre;overflow-x:auto;line-height:normal;font-family:Menlo,'DejaVu Sans Mono',consolas,'Courier New',monospace\"><span style=\"color: #008000; text-decoration-color: #008000; font-weight: bold\">[</span><span style=\"color: #008000; text-decoration-color: #008000\">FETCH</span><span style=\"color: #008000; text-decoration-color: #008000; font-weight: bold\">]</span><span style=\"color: #008000; text-decoration-color: #008000\">... ↓ </span><span style=\"color: #008000; text-decoration-color: #008000; text-decoration: underline\">https://www.kca.go.kr/home/sub.do?menukey=4002&amp;mode=view&amp;no=1003924171&amp;page=1</span><span style=\"color: #008000; text-decoration-color: #008000\">                        |</span>\n",
       "<span style=\"color: #008000; text-decoration-color: #008000\">✓ | ⏱: </span><span style=\"color: #008000; text-decoration-color: #008000; font-weight: bold\">2.</span><span style=\"color: #008000; text-decoration-color: #008000\">65s </span>\n",
       "</pre>\n"
      ],
      "text/plain": [
       "\u001b[1;32m[\u001b[0m\u001b[32mFETCH\u001b[0m\u001b[1;32m]\u001b[0m\u001b[32m...\u001b[0m\u001b[32m ↓ \u001b[0m\u001b[4;32mhttps://www.kca.go.kr/home/sub.do?\u001b[0m\u001b[4;32mmenukey\u001b[0m\u001b[4;32m=\u001b[0m\u001b[4;32m4002\u001b[0m\u001b[4;32m&\u001b[0m\u001b[4;32mmode\u001b[0m\u001b[4;32m=\u001b[0m\u001b[4;32mview\u001b[0m\u001b[4;32m&\u001b[0m\u001b[4;32mno\u001b[0m\u001b[4;32m=\u001b[0m\u001b[4;32m1003924171\u001b[0m\u001b[4;32m&\u001b[0m\u001b[4;32mpage\u001b[0m\u001b[4;32m=\u001b[0m\u001b[4;32m1\u001b[0m\u001b[32m                        |\u001b[0m\n",
       "\u001b[32m✓\u001b[0m\u001b[32m | ⏱: \u001b[0m\u001b[1;32m2.\u001b[0m\u001b[32m65s \u001b[0m\n"
      ]
     },
     "metadata": {},
     "output_type": "display_data"
    },
    {
     "data": {
      "text/html": [
       "<pre style=\"white-space:pre;overflow-x:auto;line-height:normal;font-family:Menlo,'DejaVu Sans Mono',consolas,'Courier New',monospace\"><span style=\"color: #008000; text-decoration-color: #008000; font-weight: bold\">[</span><span style=\"color: #008000; text-decoration-color: #008000\">SCRAPE</span><span style=\"color: #008000; text-decoration-color: #008000; font-weight: bold\">]</span><span style=\"color: #008000; text-decoration-color: #008000\">.. ◆ </span><span style=\"color: #008000; text-decoration-color: #008000; text-decoration: underline\">https://www.kca.go.kr/home/sub.do?menukey=4002&amp;mode=view&amp;no=1003924171&amp;page=1</span><span style=\"color: #008000; text-decoration-color: #008000\">                        |</span>\n",
       "<span style=\"color: #008000; text-decoration-color: #008000\">✓ | ⏱: </span><span style=\"color: #808000; text-decoration-color: #808000; font-weight: bold\">0.</span><span style=\"color: #808000; text-decoration-color: #808000\">05</span><span style=\"color: #008000; text-decoration-color: #008000\">s </span>\n",
       "</pre>\n"
      ],
      "text/plain": [
       "\u001b[1;32m[\u001b[0m\u001b[32mSCRAPE\u001b[0m\u001b[1;32m]\u001b[0m\u001b[32m.. ◆ \u001b[0m\u001b[4;32mhttps://www.kca.go.kr/home/sub.do?\u001b[0m\u001b[4;32mmenukey\u001b[0m\u001b[4;32m=\u001b[0m\u001b[4;32m4002\u001b[0m\u001b[4;32m&\u001b[0m\u001b[4;32mmode\u001b[0m\u001b[4;32m=\u001b[0m\u001b[4;32mview\u001b[0m\u001b[4;32m&\u001b[0m\u001b[4;32mno\u001b[0m\u001b[4;32m=\u001b[0m\u001b[4;32m1003924171\u001b[0m\u001b[4;32m&\u001b[0m\u001b[4;32mpage\u001b[0m\u001b[4;32m=\u001b[0m\u001b[4;32m1\u001b[0m\u001b[32m                        |\u001b[0m\n",
       "\u001b[32m✓\u001b[0m\u001b[32m | ⏱: \u001b[0m\u001b[1;33m0.\u001b[0m\u001b[33m05\u001b[0m\u001b[32ms \u001b[0m\n"
      ]
     },
     "metadata": {},
     "output_type": "display_data"
    },
    {
     "data": {
      "text/html": [
       "<pre style=\"white-space:pre;overflow-x:auto;line-height:normal;font-family:Menlo,'DejaVu Sans Mono',consolas,'Courier New',monospace\"><span style=\"color: #008000; text-decoration-color: #008000; font-weight: bold\">[</span><span style=\"color: #008000; text-decoration-color: #008000\">COMPLETE</span><span style=\"color: #008000; text-decoration-color: #008000; font-weight: bold\">]</span><span style=\"color: #008000; text-decoration-color: #008000\"> ● </span><span style=\"color: #008000; text-decoration-color: #008000; text-decoration: underline\">https://www.kca.go.kr/home/sub.do?menukey=4002&amp;mode=view&amp;no=1003924171&amp;page=1</span><span style=\"color: #008000; text-decoration-color: #008000\">                        |</span>\n",
       "<span style=\"color: #008000; text-decoration-color: #008000\">✓ | ⏱: </span><span style=\"color: #008000; text-decoration-color: #008000; font-weight: bold\">2.</span><span style=\"color: #008000; text-decoration-color: #008000\">70s </span>\n",
       "</pre>\n"
      ],
      "text/plain": [
       "\u001b[1;32m[\u001b[0m\u001b[32mCOMPLETE\u001b[0m\u001b[1;32m]\u001b[0m\u001b[32m ● \u001b[0m\u001b[4;32mhttps://www.kca.go.kr/home/sub.do?\u001b[0m\u001b[4;32mmenukey\u001b[0m\u001b[4;32m=\u001b[0m\u001b[4;32m4002\u001b[0m\u001b[4;32m&\u001b[0m\u001b[4;32mmode\u001b[0m\u001b[4;32m=\u001b[0m\u001b[4;32mview\u001b[0m\u001b[4;32m&\u001b[0m\u001b[4;32mno\u001b[0m\u001b[4;32m=\u001b[0m\u001b[4;32m1003924171\u001b[0m\u001b[4;32m&\u001b[0m\u001b[4;32mpage\u001b[0m\u001b[4;32m=\u001b[0m\u001b[4;32m1\u001b[0m\u001b[32m                        |\u001b[0m\n",
       "\u001b[32m✓\u001b[0m\u001b[32m | ⏱: \u001b[0m\u001b[1;32m2.\u001b[0m\u001b[32m70s \u001b[0m\n"
      ]
     },
     "metadata": {},
     "output_type": "display_data"
    },
    {
     "name": "stdout",
     "output_type": "stream",
     "text": [
      "https://www.kca.go.kr/home/synapviewer.do?menukey=4002&fno=10048305&bid=00000013&did=1003924171\n",
      "https://www.kca.go.kr/home/synapviewer.do?menukey=4002&fno=10048306&bid=00000013&did=1003924171\n",
      "https://www.kca.go.kr/home/synapviewer.do?menukey=4002&fno=10048307&bid=00000013&did=1003924171\n",
      "페이지 로딩 중: https://www.kca.go.kr/home/synapviewer.do?menukey=4002&fno=10048305&bid=00000013&did=1003924171\n",
      "   - [P1-4] [8월 소비자상담 빅데이터 분석] 휴가철 다이어트 관련...\n"
     ]
    },
    {
     "data": {
      "text/html": [
       "<pre style=\"white-space:pre;overflow-x:auto;line-height:normal;font-family:Menlo,'DejaVu Sans Mono',consolas,'Courier New',monospace\"><span style=\"color: #008080; text-decoration-color: #008080; font-weight: bold\">[</span><span style=\"color: #008080; text-decoration-color: #008080\">INIT</span><span style=\"color: #008080; text-decoration-color: #008080; font-weight: bold\">]</span><span style=\"color: #008080; text-decoration-color: #008080\">.... → Crawl4AI </span><span style=\"color: #008080; text-decoration-color: #008080; font-weight: bold\">0.7</span><span style=\"color: #008080; text-decoration-color: #008080\">.</span><span style=\"color: #008080; text-decoration-color: #008080; font-weight: bold\">4</span><span style=\"color: #008080; text-decoration-color: #008080\"> </span>\n",
       "</pre>\n"
      ],
      "text/plain": [
       "\u001b[1;36m[\u001b[0m\u001b[36mINIT\u001b[0m\u001b[1;36m]\u001b[0m\u001b[36m...\u001b[0m\u001b[36m. → Crawl4AI \u001b[0m\u001b[1;36m0.7\u001b[0m\u001b[36m.\u001b[0m\u001b[1;36m4\u001b[0m\u001b[36m \u001b[0m\n"
      ]
     },
     "metadata": {},
     "output_type": "display_data"
    },
    {
     "data": {
      "text/html": [
       "<pre style=\"white-space:pre;overflow-x:auto;line-height:normal;font-family:Menlo,'DejaVu Sans Mono',consolas,'Courier New',monospace\"><span style=\"color: #008000; text-decoration-color: #008000; font-weight: bold\">[</span><span style=\"color: #008000; text-decoration-color: #008000\">FETCH</span><span style=\"color: #008000; text-decoration-color: #008000; font-weight: bold\">]</span><span style=\"color: #008000; text-decoration-color: #008000\">... ↓ </span><span style=\"color: #008000; text-decoration-color: #008000; text-decoration: underline\">https://www.kca.go.kr/home/sub.do?menukey=4002&amp;mode=view&amp;no=1003923593&amp;page=1</span><span style=\"color: #008000; text-decoration-color: #008000\">                        |</span>\n",
       "<span style=\"color: #008000; text-decoration-color: #008000\">✓ | ⏱: </span><span style=\"color: #008000; text-decoration-color: #008000; font-weight: bold\">1.</span><span style=\"color: #008000; text-decoration-color: #008000\">51s </span>\n",
       "</pre>\n"
      ],
      "text/plain": [
       "\u001b[1;32m[\u001b[0m\u001b[32mFETCH\u001b[0m\u001b[1;32m]\u001b[0m\u001b[32m...\u001b[0m\u001b[32m ↓ \u001b[0m\u001b[4;32mhttps://www.kca.go.kr/home/sub.do?\u001b[0m\u001b[4;32mmenukey\u001b[0m\u001b[4;32m=\u001b[0m\u001b[4;32m4002\u001b[0m\u001b[4;32m&\u001b[0m\u001b[4;32mmode\u001b[0m\u001b[4;32m=\u001b[0m\u001b[4;32mview\u001b[0m\u001b[4;32m&\u001b[0m\u001b[4;32mno\u001b[0m\u001b[4;32m=\u001b[0m\u001b[4;32m1003923593\u001b[0m\u001b[4;32m&\u001b[0m\u001b[4;32mpage\u001b[0m\u001b[4;32m=\u001b[0m\u001b[4;32m1\u001b[0m\u001b[32m                        |\u001b[0m\n",
       "\u001b[32m✓\u001b[0m\u001b[32m | ⏱: \u001b[0m\u001b[1;32m1.\u001b[0m\u001b[32m51s \u001b[0m\n"
      ]
     },
     "metadata": {},
     "output_type": "display_data"
    },
    {
     "data": {
      "text/html": [
       "<pre style=\"white-space:pre;overflow-x:auto;line-height:normal;font-family:Menlo,'DejaVu Sans Mono',consolas,'Courier New',monospace\"><span style=\"color: #008000; text-decoration-color: #008000; font-weight: bold\">[</span><span style=\"color: #008000; text-decoration-color: #008000\">SCRAPE</span><span style=\"color: #008000; text-decoration-color: #008000; font-weight: bold\">]</span><span style=\"color: #008000; text-decoration-color: #008000\">.. ◆ </span><span style=\"color: #008000; text-decoration-color: #008000; text-decoration: underline\">https://www.kca.go.kr/home/sub.do?menukey=4002&amp;mode=view&amp;no=1003923593&amp;page=1</span><span style=\"color: #008000; text-decoration-color: #008000\">                        |</span>\n",
       "<span style=\"color: #008000; text-decoration-color: #008000\">✓ | ⏱: </span><span style=\"color: #808000; text-decoration-color: #808000; font-weight: bold\">0.</span><span style=\"color: #808000; text-decoration-color: #808000\">08</span><span style=\"color: #008000; text-decoration-color: #008000\">s </span>\n",
       "</pre>\n"
      ],
      "text/plain": [
       "\u001b[1;32m[\u001b[0m\u001b[32mSCRAPE\u001b[0m\u001b[1;32m]\u001b[0m\u001b[32m.. ◆ \u001b[0m\u001b[4;32mhttps://www.kca.go.kr/home/sub.do?\u001b[0m\u001b[4;32mmenukey\u001b[0m\u001b[4;32m=\u001b[0m\u001b[4;32m4002\u001b[0m\u001b[4;32m&\u001b[0m\u001b[4;32mmode\u001b[0m\u001b[4;32m=\u001b[0m\u001b[4;32mview\u001b[0m\u001b[4;32m&\u001b[0m\u001b[4;32mno\u001b[0m\u001b[4;32m=\u001b[0m\u001b[4;32m1003923593\u001b[0m\u001b[4;32m&\u001b[0m\u001b[4;32mpage\u001b[0m\u001b[4;32m=\u001b[0m\u001b[4;32m1\u001b[0m\u001b[32m                        |\u001b[0m\n",
       "\u001b[32m✓\u001b[0m\u001b[32m | ⏱: \u001b[0m\u001b[1;33m0.\u001b[0m\u001b[33m08\u001b[0m\u001b[32ms \u001b[0m\n"
      ]
     },
     "metadata": {},
     "output_type": "display_data"
    },
    {
     "data": {
      "text/html": [
       "<pre style=\"white-space:pre;overflow-x:auto;line-height:normal;font-family:Menlo,'DejaVu Sans Mono',consolas,'Courier New',monospace\"><span style=\"color: #008000; text-decoration-color: #008000; font-weight: bold\">[</span><span style=\"color: #008000; text-decoration-color: #008000\">COMPLETE</span><span style=\"color: #008000; text-decoration-color: #008000; font-weight: bold\">]</span><span style=\"color: #008000; text-decoration-color: #008000\"> ● </span><span style=\"color: #008000; text-decoration-color: #008000; text-decoration: underline\">https://www.kca.go.kr/home/sub.do?menukey=4002&amp;mode=view&amp;no=1003923593&amp;page=1</span><span style=\"color: #008000; text-decoration-color: #008000\">                        |</span>\n",
       "<span style=\"color: #008000; text-decoration-color: #008000\">✓ | ⏱: </span><span style=\"color: #008000; text-decoration-color: #008000; font-weight: bold\">1.</span><span style=\"color: #008000; text-decoration-color: #008000\">59s </span>\n",
       "</pre>\n"
      ],
      "text/plain": [
       "\u001b[1;32m[\u001b[0m\u001b[32mCOMPLETE\u001b[0m\u001b[1;32m]\u001b[0m\u001b[32m ● \u001b[0m\u001b[4;32mhttps://www.kca.go.kr/home/sub.do?\u001b[0m\u001b[4;32mmenukey\u001b[0m\u001b[4;32m=\u001b[0m\u001b[4;32m4002\u001b[0m\u001b[4;32m&\u001b[0m\u001b[4;32mmode\u001b[0m\u001b[4;32m=\u001b[0m\u001b[4;32mview\u001b[0m\u001b[4;32m&\u001b[0m\u001b[4;32mno\u001b[0m\u001b[4;32m=\u001b[0m\u001b[4;32m1003923593\u001b[0m\u001b[4;32m&\u001b[0m\u001b[4;32mpage\u001b[0m\u001b[4;32m=\u001b[0m\u001b[4;32m1\u001b[0m\u001b[32m                        |\u001b[0m\n",
       "\u001b[32m✓\u001b[0m\u001b[32m | ⏱: \u001b[0m\u001b[1;32m1.\u001b[0m\u001b[32m59s \u001b[0m\n"
      ]
     },
     "metadata": {},
     "output_type": "display_data"
    },
    {
     "name": "stdout",
     "output_type": "stream",
     "text": [
      "https://www.kca.go.kr/home/synapviewer.do?menukey=4002&fno=10048290&bid=00000013&did=1003923593\n",
      "https://www.kca.go.kr/home/synapviewer.do?menukey=4002&fno=10048291&bid=00000013&did=1003923593\n",
      "https://www.kca.go.kr/home/synapviewer.do?menukey=4002&fno=10048292&bid=00000013&did=1003923593\n",
      "페이지 로딩 중: https://www.kca.go.kr/home/synapviewer.do?menukey=4002&fno=10048290&bid=00000013&did=1003923593\n",
      "   - [P1-5] [추석 명절 택배 피해예방주의보] 택배운송서비스, 배송...\n"
     ]
    },
    {
     "data": {
      "text/html": [
       "<pre style=\"white-space:pre;overflow-x:auto;line-height:normal;font-family:Menlo,'DejaVu Sans Mono',consolas,'Courier New',monospace\"><span style=\"color: #008080; text-decoration-color: #008080; font-weight: bold\">[</span><span style=\"color: #008080; text-decoration-color: #008080\">INIT</span><span style=\"color: #008080; text-decoration-color: #008080; font-weight: bold\">]</span><span style=\"color: #008080; text-decoration-color: #008080\">.... → Crawl4AI </span><span style=\"color: #008080; text-decoration-color: #008080; font-weight: bold\">0.7</span><span style=\"color: #008080; text-decoration-color: #008080\">.</span><span style=\"color: #008080; text-decoration-color: #008080; font-weight: bold\">4</span><span style=\"color: #008080; text-decoration-color: #008080\"> </span>\n",
       "</pre>\n"
      ],
      "text/plain": [
       "\u001b[1;36m[\u001b[0m\u001b[36mINIT\u001b[0m\u001b[1;36m]\u001b[0m\u001b[36m...\u001b[0m\u001b[36m. → Crawl4AI \u001b[0m\u001b[1;36m0.7\u001b[0m\u001b[36m.\u001b[0m\u001b[1;36m4\u001b[0m\u001b[36m \u001b[0m\n"
      ]
     },
     "metadata": {},
     "output_type": "display_data"
    },
    {
     "data": {
      "text/html": [
       "<pre style=\"white-space:pre;overflow-x:auto;line-height:normal;font-family:Menlo,'DejaVu Sans Mono',consolas,'Courier New',monospace\"><span style=\"color: #008000; text-decoration-color: #008000; font-weight: bold\">[</span><span style=\"color: #008000; text-decoration-color: #008000\">FETCH</span><span style=\"color: #008000; text-decoration-color: #008000; font-weight: bold\">]</span><span style=\"color: #008000; text-decoration-color: #008000\">... ↓ </span><span style=\"color: #008000; text-decoration-color: #008000; text-decoration: underline\">https://www.kca.go.kr/home/sub.do?menukey=4002&amp;mode=view&amp;no=1003923698&amp;page=1</span><span style=\"color: #008000; text-decoration-color: #008000\">                        |</span>\n",
       "<span style=\"color: #008000; text-decoration-color: #008000\">✓ | ⏱: </span><span style=\"color: #008000; text-decoration-color: #008000; font-weight: bold\">1.</span><span style=\"color: #008000; text-decoration-color: #008000\">55s </span>\n",
       "</pre>\n"
      ],
      "text/plain": [
       "\u001b[1;32m[\u001b[0m\u001b[32mFETCH\u001b[0m\u001b[1;32m]\u001b[0m\u001b[32m...\u001b[0m\u001b[32m ↓ \u001b[0m\u001b[4;32mhttps://www.kca.go.kr/home/sub.do?\u001b[0m\u001b[4;32mmenukey\u001b[0m\u001b[4;32m=\u001b[0m\u001b[4;32m4002\u001b[0m\u001b[4;32m&\u001b[0m\u001b[4;32mmode\u001b[0m\u001b[4;32m=\u001b[0m\u001b[4;32mview\u001b[0m\u001b[4;32m&\u001b[0m\u001b[4;32mno\u001b[0m\u001b[4;32m=\u001b[0m\u001b[4;32m1003923698\u001b[0m\u001b[4;32m&\u001b[0m\u001b[4;32mpage\u001b[0m\u001b[4;32m=\u001b[0m\u001b[4;32m1\u001b[0m\u001b[32m                        |\u001b[0m\n",
       "\u001b[32m✓\u001b[0m\u001b[32m | ⏱: \u001b[0m\u001b[1;32m1.\u001b[0m\u001b[32m55s \u001b[0m\n"
      ]
     },
     "metadata": {},
     "output_type": "display_data"
    },
    {
     "data": {
      "text/html": [
       "<pre style=\"white-space:pre;overflow-x:auto;line-height:normal;font-family:Menlo,'DejaVu Sans Mono',consolas,'Courier New',monospace\"><span style=\"color: #008000; text-decoration-color: #008000; font-weight: bold\">[</span><span style=\"color: #008000; text-decoration-color: #008000\">SCRAPE</span><span style=\"color: #008000; text-decoration-color: #008000; font-weight: bold\">]</span><span style=\"color: #008000; text-decoration-color: #008000\">.. ◆ </span><span style=\"color: #008000; text-decoration-color: #008000; text-decoration: underline\">https://www.kca.go.kr/home/sub.do?menukey=4002&amp;mode=view&amp;no=1003923698&amp;page=1</span><span style=\"color: #008000; text-decoration-color: #008000\">                        |</span>\n",
       "<span style=\"color: #008000; text-decoration-color: #008000\">✓ | ⏱: </span><span style=\"color: #008000; text-decoration-color: #008000; font-weight: bold\">0.</span><span style=\"color: #008000; text-decoration-color: #008000\">10s </span>\n",
       "</pre>\n"
      ],
      "text/plain": [
       "\u001b[1;32m[\u001b[0m\u001b[32mSCRAPE\u001b[0m\u001b[1;32m]\u001b[0m\u001b[32m.. ◆ \u001b[0m\u001b[4;32mhttps://www.kca.go.kr/home/sub.do?\u001b[0m\u001b[4;32mmenukey\u001b[0m\u001b[4;32m=\u001b[0m\u001b[4;32m4002\u001b[0m\u001b[4;32m&\u001b[0m\u001b[4;32mmode\u001b[0m\u001b[4;32m=\u001b[0m\u001b[4;32mview\u001b[0m\u001b[4;32m&\u001b[0m\u001b[4;32mno\u001b[0m\u001b[4;32m=\u001b[0m\u001b[4;32m1003923698\u001b[0m\u001b[4;32m&\u001b[0m\u001b[4;32mpage\u001b[0m\u001b[4;32m=\u001b[0m\u001b[4;32m1\u001b[0m\u001b[32m                        |\u001b[0m\n",
       "\u001b[32m✓\u001b[0m\u001b[32m | ⏱: \u001b[0m\u001b[1;32m0.\u001b[0m\u001b[32m10s \u001b[0m\n"
      ]
     },
     "metadata": {},
     "output_type": "display_data"
    },
    {
     "data": {
      "text/html": [
       "<pre style=\"white-space:pre;overflow-x:auto;line-height:normal;font-family:Menlo,'DejaVu Sans Mono',consolas,'Courier New',monospace\"><span style=\"color: #008000; text-decoration-color: #008000; font-weight: bold\">[</span><span style=\"color: #008000; text-decoration-color: #008000\">COMPLETE</span><span style=\"color: #008000; text-decoration-color: #008000; font-weight: bold\">]</span><span style=\"color: #008000; text-decoration-color: #008000\"> ● </span><span style=\"color: #008000; text-decoration-color: #008000; text-decoration: underline\">https://www.kca.go.kr/home/sub.do?menukey=4002&amp;mode=view&amp;no=1003923698&amp;page=1</span><span style=\"color: #008000; text-decoration-color: #008000\">                        |</span>\n",
       "<span style=\"color: #008000; text-decoration-color: #008000\">✓ | ⏱: </span><span style=\"color: #008000; text-decoration-color: #008000; font-weight: bold\">1.</span><span style=\"color: #008000; text-decoration-color: #008000\">66s </span>\n",
       "</pre>\n"
      ],
      "text/plain": [
       "\u001b[1;32m[\u001b[0m\u001b[32mCOMPLETE\u001b[0m\u001b[1;32m]\u001b[0m\u001b[32m ● \u001b[0m\u001b[4;32mhttps://www.kca.go.kr/home/sub.do?\u001b[0m\u001b[4;32mmenukey\u001b[0m\u001b[4;32m=\u001b[0m\u001b[4;32m4002\u001b[0m\u001b[4;32m&\u001b[0m\u001b[4;32mmode\u001b[0m\u001b[4;32m=\u001b[0m\u001b[4;32mview\u001b[0m\u001b[4;32m&\u001b[0m\u001b[4;32mno\u001b[0m\u001b[4;32m=\u001b[0m\u001b[4;32m1003923698\u001b[0m\u001b[4;32m&\u001b[0m\u001b[4;32mpage\u001b[0m\u001b[4;32m=\u001b[0m\u001b[4;32m1\u001b[0m\u001b[32m                        |\u001b[0m\n",
       "\u001b[32m✓\u001b[0m\u001b[32m | ⏱: \u001b[0m\u001b[1;32m1.\u001b[0m\u001b[32m66s \u001b[0m\n"
      ]
     },
     "metadata": {},
     "output_type": "display_data"
    },
    {
     "name": "stdout",
     "output_type": "stream",
     "text": [
      "https://www.kca.go.kr/home/synapviewer.do?menukey=4002&fno=10048284&bid=00000013&did=1003923698\n",
      "https://www.kca.go.kr/home/synapviewer.do?menukey=4002&fno=10048285&bid=00000013&did=1003923698\n",
      "https://www.kca.go.kr/home/synapviewer.do?menukey=4002&fno=10048286&bid=00000013&did=1003923698\n",
      "페이지 로딩 중: https://www.kca.go.kr/home/synapviewer.do?menukey=4002&fno=10048286&bid=00000013&did=1003923698\n",
      "   - [P1-6] 전국 체인형 미용 시술 의료기관, 부당 약관 개선 필요...\n"
     ]
    },
    {
     "data": {
      "text/html": [
       "<pre style=\"white-space:pre;overflow-x:auto;line-height:normal;font-family:Menlo,'DejaVu Sans Mono',consolas,'Courier New',monospace\"><span style=\"color: #008080; text-decoration-color: #008080; font-weight: bold\">[</span><span style=\"color: #008080; text-decoration-color: #008080\">INIT</span><span style=\"color: #008080; text-decoration-color: #008080; font-weight: bold\">]</span><span style=\"color: #008080; text-decoration-color: #008080\">.... → Crawl4AI </span><span style=\"color: #008080; text-decoration-color: #008080; font-weight: bold\">0.7</span><span style=\"color: #008080; text-decoration-color: #008080\">.</span><span style=\"color: #008080; text-decoration-color: #008080; font-weight: bold\">4</span><span style=\"color: #008080; text-decoration-color: #008080\"> </span>\n",
       "</pre>\n"
      ],
      "text/plain": [
       "\u001b[1;36m[\u001b[0m\u001b[36mINIT\u001b[0m\u001b[1;36m]\u001b[0m\u001b[36m...\u001b[0m\u001b[36m. → Crawl4AI \u001b[0m\u001b[1;36m0.7\u001b[0m\u001b[36m.\u001b[0m\u001b[1;36m4\u001b[0m\u001b[36m \u001b[0m\n"
      ]
     },
     "metadata": {},
     "output_type": "display_data"
    },
    {
     "data": {
      "text/html": [
       "<pre style=\"white-space:pre;overflow-x:auto;line-height:normal;font-family:Menlo,'DejaVu Sans Mono',consolas,'Courier New',monospace\"><span style=\"color: #008000; text-decoration-color: #008000; font-weight: bold\">[</span><span style=\"color: #008000; text-decoration-color: #008000\">FETCH</span><span style=\"color: #008000; text-decoration-color: #008000; font-weight: bold\">]</span><span style=\"color: #008000; text-decoration-color: #008000\">... ↓ </span><span style=\"color: #008000; text-decoration-color: #008000; text-decoration: underline\">https://www.kca.go.kr/home/sub.do?menukey=4002&amp;mode=view&amp;no=1003923420&amp;page=1</span><span style=\"color: #008000; text-decoration-color: #008000\">                        |</span>\n",
       "<span style=\"color: #008000; text-decoration-color: #008000\">✓ | ⏱: </span><span style=\"color: #008000; text-decoration-color: #008000; font-weight: bold\">9.</span><span style=\"color: #008000; text-decoration-color: #008000\">40s </span>\n",
       "</pre>\n"
      ],
      "text/plain": [
       "\u001b[1;32m[\u001b[0m\u001b[32mFETCH\u001b[0m\u001b[1;32m]\u001b[0m\u001b[32m...\u001b[0m\u001b[32m ↓ \u001b[0m\u001b[4;32mhttps://www.kca.go.kr/home/sub.do?\u001b[0m\u001b[4;32mmenukey\u001b[0m\u001b[4;32m=\u001b[0m\u001b[4;32m4002\u001b[0m\u001b[4;32m&\u001b[0m\u001b[4;32mmode\u001b[0m\u001b[4;32m=\u001b[0m\u001b[4;32mview\u001b[0m\u001b[4;32m&\u001b[0m\u001b[4;32mno\u001b[0m\u001b[4;32m=\u001b[0m\u001b[4;32m1003923420\u001b[0m\u001b[4;32m&\u001b[0m\u001b[4;32mpage\u001b[0m\u001b[4;32m=\u001b[0m\u001b[4;32m1\u001b[0m\u001b[32m                        |\u001b[0m\n",
       "\u001b[32m✓\u001b[0m\u001b[32m | ⏱: \u001b[0m\u001b[1;32m9.\u001b[0m\u001b[32m40s \u001b[0m\n"
      ]
     },
     "metadata": {},
     "output_type": "display_data"
    },
    {
     "data": {
      "text/html": [
       "<pre style=\"white-space:pre;overflow-x:auto;line-height:normal;font-family:Menlo,'DejaVu Sans Mono',consolas,'Courier New',monospace\"><span style=\"color: #008000; text-decoration-color: #008000; font-weight: bold\">[</span><span style=\"color: #008000; text-decoration-color: #008000\">SCRAPE</span><span style=\"color: #008000; text-decoration-color: #008000; font-weight: bold\">]</span><span style=\"color: #008000; text-decoration-color: #008000\">.. ◆ </span><span style=\"color: #008000; text-decoration-color: #008000; text-decoration: underline\">https://www.kca.go.kr/home/sub.do?menukey=4002&amp;mode=view&amp;no=1003923420&amp;page=1</span><span style=\"color: #008000; text-decoration-color: #008000\">                        |</span>\n",
       "<span style=\"color: #008000; text-decoration-color: #008000\">✓ | ⏱: </span><span style=\"color: #008000; text-decoration-color: #008000; font-weight: bold\">0.</span><span style=\"color: #008000; text-decoration-color: #008000\">12s </span>\n",
       "</pre>\n"
      ],
      "text/plain": [
       "\u001b[1;32m[\u001b[0m\u001b[32mSCRAPE\u001b[0m\u001b[1;32m]\u001b[0m\u001b[32m.. ◆ \u001b[0m\u001b[4;32mhttps://www.kca.go.kr/home/sub.do?\u001b[0m\u001b[4;32mmenukey\u001b[0m\u001b[4;32m=\u001b[0m\u001b[4;32m4002\u001b[0m\u001b[4;32m&\u001b[0m\u001b[4;32mmode\u001b[0m\u001b[4;32m=\u001b[0m\u001b[4;32mview\u001b[0m\u001b[4;32m&\u001b[0m\u001b[4;32mno\u001b[0m\u001b[4;32m=\u001b[0m\u001b[4;32m1003923420\u001b[0m\u001b[4;32m&\u001b[0m\u001b[4;32mpage\u001b[0m\u001b[4;32m=\u001b[0m\u001b[4;32m1\u001b[0m\u001b[32m                        |\u001b[0m\n",
       "\u001b[32m✓\u001b[0m\u001b[32m | ⏱: \u001b[0m\u001b[1;32m0.\u001b[0m\u001b[32m12s \u001b[0m\n"
      ]
     },
     "metadata": {},
     "output_type": "display_data"
    },
    {
     "data": {
      "text/html": [
       "<pre style=\"white-space:pre;overflow-x:auto;line-height:normal;font-family:Menlo,'DejaVu Sans Mono',consolas,'Courier New',monospace\"><span style=\"color: #008000; text-decoration-color: #008000; font-weight: bold\">[</span><span style=\"color: #008000; text-decoration-color: #008000\">COMPLETE</span><span style=\"color: #008000; text-decoration-color: #008000; font-weight: bold\">]</span><span style=\"color: #008000; text-decoration-color: #008000\"> ● </span><span style=\"color: #008000; text-decoration-color: #008000; text-decoration: underline\">https://www.kca.go.kr/home/sub.do?menukey=4002&amp;mode=view&amp;no=1003923420&amp;page=1</span><span style=\"color: #008000; text-decoration-color: #008000\">                        |</span>\n",
       "<span style=\"color: #008000; text-decoration-color: #008000\">✓ | ⏱: </span><span style=\"color: #008000; text-decoration-color: #008000; font-weight: bold\">9.</span><span style=\"color: #008000; text-decoration-color: #008000\">53s </span>\n",
       "</pre>\n"
      ],
      "text/plain": [
       "\u001b[1;32m[\u001b[0m\u001b[32mCOMPLETE\u001b[0m\u001b[1;32m]\u001b[0m\u001b[32m ● \u001b[0m\u001b[4;32mhttps://www.kca.go.kr/home/sub.do?\u001b[0m\u001b[4;32mmenukey\u001b[0m\u001b[4;32m=\u001b[0m\u001b[4;32m4002\u001b[0m\u001b[4;32m&\u001b[0m\u001b[4;32mmode\u001b[0m\u001b[4;32m=\u001b[0m\u001b[4;32mview\u001b[0m\u001b[4;32m&\u001b[0m\u001b[4;32mno\u001b[0m\u001b[4;32m=\u001b[0m\u001b[4;32m1003923420\u001b[0m\u001b[4;32m&\u001b[0m\u001b[4;32mpage\u001b[0m\u001b[4;32m=\u001b[0m\u001b[4;32m1\u001b[0m\u001b[32m                        |\u001b[0m\n",
       "\u001b[32m✓\u001b[0m\u001b[32m | ⏱: \u001b[0m\u001b[1;32m9.\u001b[0m\u001b[32m53s \u001b[0m\n"
      ]
     },
     "metadata": {},
     "output_type": "display_data"
    },
    {
     "name": "stdout",
     "output_type": "stream",
     "text": [
      "https://www.kca.go.kr/home/synapviewer.do?menukey=4002&fno=10048278&bid=00000013&did=1003923420\n",
      "https://www.kca.go.kr/home/synapviewer.do?menukey=4002&fno=10048279&bid=00000013&did=1003923420\n",
      "https://www.kca.go.kr/home/synapviewer.do?menukey=4002&fno=10048280&bid=00000013&did=1003923420\n",
      "페이지 로딩 중: https://www.kca.go.kr/home/synapviewer.do?menukey=4002&fno=10048279&bid=00000013&did=1003923420\n",
      "   - [P1-7] [서비스 비교조사 결과] 백화점 ‘브랜드·상품 다양성’...\n"
     ]
    },
    {
     "data": {
      "text/html": [
       "<pre style=\"white-space:pre;overflow-x:auto;line-height:normal;font-family:Menlo,'DejaVu Sans Mono',consolas,'Courier New',monospace\"><span style=\"color: #008080; text-decoration-color: #008080; font-weight: bold\">[</span><span style=\"color: #008080; text-decoration-color: #008080\">INIT</span><span style=\"color: #008080; text-decoration-color: #008080; font-weight: bold\">]</span><span style=\"color: #008080; text-decoration-color: #008080\">.... → Crawl4AI </span><span style=\"color: #008080; text-decoration-color: #008080; font-weight: bold\">0.7</span><span style=\"color: #008080; text-decoration-color: #008080\">.</span><span style=\"color: #008080; text-decoration-color: #008080; font-weight: bold\">4</span><span style=\"color: #008080; text-decoration-color: #008080\"> </span>\n",
       "</pre>\n"
      ],
      "text/plain": [
       "\u001b[1;36m[\u001b[0m\u001b[36mINIT\u001b[0m\u001b[1;36m]\u001b[0m\u001b[36m...\u001b[0m\u001b[36m. → Crawl4AI \u001b[0m\u001b[1;36m0.7\u001b[0m\u001b[36m.\u001b[0m\u001b[1;36m4\u001b[0m\u001b[36m \u001b[0m\n"
      ]
     },
     "metadata": {},
     "output_type": "display_data"
    },
    {
     "data": {
      "text/html": [
       "<pre style=\"white-space:pre;overflow-x:auto;line-height:normal;font-family:Menlo,'DejaVu Sans Mono',consolas,'Courier New',monospace\"><span style=\"color: #008000; text-decoration-color: #008000; font-weight: bold\">[</span><span style=\"color: #008000; text-decoration-color: #008000\">FETCH</span><span style=\"color: #008000; text-decoration-color: #008000; font-weight: bold\">]</span><span style=\"color: #008000; text-decoration-color: #008000\">... ↓ </span><span style=\"color: #008000; text-decoration-color: #008000; text-decoration: underline\">https://www.kca.go.kr/home/sub.do?menukey=4002&amp;mode=view&amp;no=1003922488&amp;page=1</span><span style=\"color: #008000; text-decoration-color: #008000\">                        |</span>\n",
       "<span style=\"color: #008000; text-decoration-color: #008000\">✓ | ⏱: </span><span style=\"color: #008000; text-decoration-color: #008000; font-weight: bold\">1.</span><span style=\"color: #008000; text-decoration-color: #008000\">41s </span>\n",
       "</pre>\n"
      ],
      "text/plain": [
       "\u001b[1;32m[\u001b[0m\u001b[32mFETCH\u001b[0m\u001b[1;32m]\u001b[0m\u001b[32m...\u001b[0m\u001b[32m ↓ \u001b[0m\u001b[4;32mhttps://www.kca.go.kr/home/sub.do?\u001b[0m\u001b[4;32mmenukey\u001b[0m\u001b[4;32m=\u001b[0m\u001b[4;32m4002\u001b[0m\u001b[4;32m&\u001b[0m\u001b[4;32mmode\u001b[0m\u001b[4;32m=\u001b[0m\u001b[4;32mview\u001b[0m\u001b[4;32m&\u001b[0m\u001b[4;32mno\u001b[0m\u001b[4;32m=\u001b[0m\u001b[4;32m1003922488\u001b[0m\u001b[4;32m&\u001b[0m\u001b[4;32mpage\u001b[0m\u001b[4;32m=\u001b[0m\u001b[4;32m1\u001b[0m\u001b[32m                        |\u001b[0m\n",
       "\u001b[32m✓\u001b[0m\u001b[32m | ⏱: \u001b[0m\u001b[1;32m1.\u001b[0m\u001b[32m41s \u001b[0m\n"
      ]
     },
     "metadata": {},
     "output_type": "display_data"
    },
    {
     "data": {
      "text/html": [
       "<pre style=\"white-space:pre;overflow-x:auto;line-height:normal;font-family:Menlo,'DejaVu Sans Mono',consolas,'Courier New',monospace\"><span style=\"color: #008000; text-decoration-color: #008000; font-weight: bold\">[</span><span style=\"color: #008000; text-decoration-color: #008000\">SCRAPE</span><span style=\"color: #008000; text-decoration-color: #008000; font-weight: bold\">]</span><span style=\"color: #008000; text-decoration-color: #008000\">.. ◆ </span><span style=\"color: #008000; text-decoration-color: #008000; text-decoration: underline\">https://www.kca.go.kr/home/sub.do?menukey=4002&amp;mode=view&amp;no=1003922488&amp;page=1</span><span style=\"color: #008000; text-decoration-color: #008000\">                        |</span>\n",
       "<span style=\"color: #008000; text-decoration-color: #008000\">✓ | ⏱: </span><span style=\"color: #008000; text-decoration-color: #008000; font-weight: bold\">0.</span><span style=\"color: #008000; text-decoration-color: #008000\">10s </span>\n",
       "</pre>\n"
      ],
      "text/plain": [
       "\u001b[1;32m[\u001b[0m\u001b[32mSCRAPE\u001b[0m\u001b[1;32m]\u001b[0m\u001b[32m.. ◆ \u001b[0m\u001b[4;32mhttps://www.kca.go.kr/home/sub.do?\u001b[0m\u001b[4;32mmenukey\u001b[0m\u001b[4;32m=\u001b[0m\u001b[4;32m4002\u001b[0m\u001b[4;32m&\u001b[0m\u001b[4;32mmode\u001b[0m\u001b[4;32m=\u001b[0m\u001b[4;32mview\u001b[0m\u001b[4;32m&\u001b[0m\u001b[4;32mno\u001b[0m\u001b[4;32m=\u001b[0m\u001b[4;32m1003922488\u001b[0m\u001b[4;32m&\u001b[0m\u001b[4;32mpage\u001b[0m\u001b[4;32m=\u001b[0m\u001b[4;32m1\u001b[0m\u001b[32m                        |\u001b[0m\n",
       "\u001b[32m✓\u001b[0m\u001b[32m | ⏱: \u001b[0m\u001b[1;32m0.\u001b[0m\u001b[32m10s \u001b[0m\n"
      ]
     },
     "metadata": {},
     "output_type": "display_data"
    },
    {
     "data": {
      "text/html": [
       "<pre style=\"white-space:pre;overflow-x:auto;line-height:normal;font-family:Menlo,'DejaVu Sans Mono',consolas,'Courier New',monospace\"><span style=\"color: #008000; text-decoration-color: #008000; font-weight: bold\">[</span><span style=\"color: #008000; text-decoration-color: #008000\">COMPLETE</span><span style=\"color: #008000; text-decoration-color: #008000; font-weight: bold\">]</span><span style=\"color: #008000; text-decoration-color: #008000\"> ● </span><span style=\"color: #008000; text-decoration-color: #008000; text-decoration: underline\">https://www.kca.go.kr/home/sub.do?menukey=4002&amp;mode=view&amp;no=1003922488&amp;page=1</span><span style=\"color: #008000; text-decoration-color: #008000\">                        |</span>\n",
       "<span style=\"color: #008000; text-decoration-color: #008000\">✓ | ⏱: </span><span style=\"color: #008000; text-decoration-color: #008000; font-weight: bold\">1.</span><span style=\"color: #008000; text-decoration-color: #008000\">51s </span>\n",
       "</pre>\n"
      ],
      "text/plain": [
       "\u001b[1;32m[\u001b[0m\u001b[32mCOMPLETE\u001b[0m\u001b[1;32m]\u001b[0m\u001b[32m ● \u001b[0m\u001b[4;32mhttps://www.kca.go.kr/home/sub.do?\u001b[0m\u001b[4;32mmenukey\u001b[0m\u001b[4;32m=\u001b[0m\u001b[4;32m4002\u001b[0m\u001b[4;32m&\u001b[0m\u001b[4;32mmode\u001b[0m\u001b[4;32m=\u001b[0m\u001b[4;32mview\u001b[0m\u001b[4;32m&\u001b[0m\u001b[4;32mno\u001b[0m\u001b[4;32m=\u001b[0m\u001b[4;32m1003922488\u001b[0m\u001b[4;32m&\u001b[0m\u001b[4;32mpage\u001b[0m\u001b[4;32m=\u001b[0m\u001b[4;32m1\u001b[0m\u001b[32m                        |\u001b[0m\n",
       "\u001b[32m✓\u001b[0m\u001b[32m | ⏱: \u001b[0m\u001b[1;32m1.\u001b[0m\u001b[32m51s \u001b[0m\n"
      ]
     },
     "metadata": {},
     "output_type": "display_data"
    },
    {
     "name": "stdout",
     "output_type": "stream",
     "text": [
      "https://www.kca.go.kr/home/synapviewer.do?menukey=4002&fno=10048269&bid=00000013&did=1003922488\n",
      "https://www.kca.go.kr/home/synapviewer.do?menukey=4002&fno=10048270&bid=00000013&did=1003922488\n",
      "https://www.kca.go.kr/home/synapviewer.do?menukey=4002&fno=10048271&bid=00000013&did=1003922488\n",
      "페이지 로딩 중: https://www.kca.go.kr/home/synapviewer.do?menukey=4002&fno=10048270&bid=00000013&did=1003922488\n",
      "   - [P1-8] 무선청소기 흡입력, 파스칼(Pa) 단위 표기한 제품은 ...\n"
     ]
    },
    {
     "data": {
      "text/html": [
       "<pre style=\"white-space:pre;overflow-x:auto;line-height:normal;font-family:Menlo,'DejaVu Sans Mono',consolas,'Courier New',monospace\"><span style=\"color: #008080; text-decoration-color: #008080; font-weight: bold\">[</span><span style=\"color: #008080; text-decoration-color: #008080\">INIT</span><span style=\"color: #008080; text-decoration-color: #008080; font-weight: bold\">]</span><span style=\"color: #008080; text-decoration-color: #008080\">.... → Crawl4AI </span><span style=\"color: #008080; text-decoration-color: #008080; font-weight: bold\">0.7</span><span style=\"color: #008080; text-decoration-color: #008080\">.</span><span style=\"color: #008080; text-decoration-color: #008080; font-weight: bold\">4</span><span style=\"color: #008080; text-decoration-color: #008080\"> </span>\n",
       "</pre>\n"
      ],
      "text/plain": [
       "\u001b[1;36m[\u001b[0m\u001b[36mINIT\u001b[0m\u001b[1;36m]\u001b[0m\u001b[36m...\u001b[0m\u001b[36m. → Crawl4AI \u001b[0m\u001b[1;36m0.7\u001b[0m\u001b[36m.\u001b[0m\u001b[1;36m4\u001b[0m\u001b[36m \u001b[0m\n"
      ]
     },
     "metadata": {},
     "output_type": "display_data"
    },
    {
     "data": {
      "text/html": [
       "<pre style=\"white-space:pre;overflow-x:auto;line-height:normal;font-family:Menlo,'DejaVu Sans Mono',consolas,'Courier New',monospace\"><span style=\"color: #008000; text-decoration-color: #008000; font-weight: bold\">[</span><span style=\"color: #008000; text-decoration-color: #008000\">FETCH</span><span style=\"color: #008000; text-decoration-color: #008000; font-weight: bold\">]</span><span style=\"color: #008000; text-decoration-color: #008000\">... ↓ </span><span style=\"color: #008000; text-decoration-color: #008000; text-decoration: underline\">https://www.kca.go.kr/home/sub.do?menukey=4002&amp;mode=view&amp;no=1003918995&amp;page=1</span><span style=\"color: #008000; text-decoration-color: #008000\">                        |</span>\n",
       "<span style=\"color: #008000; text-decoration-color: #008000\">✓ | ⏱: </span><span style=\"color: #008000; text-decoration-color: #008000; font-weight: bold\">1.</span><span style=\"color: #008000; text-decoration-color: #008000\">52s </span>\n",
       "</pre>\n"
      ],
      "text/plain": [
       "\u001b[1;32m[\u001b[0m\u001b[32mFETCH\u001b[0m\u001b[1;32m]\u001b[0m\u001b[32m...\u001b[0m\u001b[32m ↓ \u001b[0m\u001b[4;32mhttps://www.kca.go.kr/home/sub.do?\u001b[0m\u001b[4;32mmenukey\u001b[0m\u001b[4;32m=\u001b[0m\u001b[4;32m4002\u001b[0m\u001b[4;32m&\u001b[0m\u001b[4;32mmode\u001b[0m\u001b[4;32m=\u001b[0m\u001b[4;32mview\u001b[0m\u001b[4;32m&\u001b[0m\u001b[4;32mno\u001b[0m\u001b[4;32m=\u001b[0m\u001b[4;32m1003918995\u001b[0m\u001b[4;32m&\u001b[0m\u001b[4;32mpage\u001b[0m\u001b[4;32m=\u001b[0m\u001b[4;32m1\u001b[0m\u001b[32m                        |\u001b[0m\n",
       "\u001b[32m✓\u001b[0m\u001b[32m | ⏱: \u001b[0m\u001b[1;32m1.\u001b[0m\u001b[32m52s \u001b[0m\n"
      ]
     },
     "metadata": {},
     "output_type": "display_data"
    },
    {
     "data": {
      "text/html": [
       "<pre style=\"white-space:pre;overflow-x:auto;line-height:normal;font-family:Menlo,'DejaVu Sans Mono',consolas,'Courier New',monospace\"><span style=\"color: #008000; text-decoration-color: #008000; font-weight: bold\">[</span><span style=\"color: #008000; text-decoration-color: #008000\">SCRAPE</span><span style=\"color: #008000; text-decoration-color: #008000; font-weight: bold\">]</span><span style=\"color: #008000; text-decoration-color: #008000\">.. ◆ </span><span style=\"color: #008000; text-decoration-color: #008000; text-decoration: underline\">https://www.kca.go.kr/home/sub.do?menukey=4002&amp;mode=view&amp;no=1003918995&amp;page=1</span><span style=\"color: #008000; text-decoration-color: #008000\">                        |</span>\n",
       "<span style=\"color: #008000; text-decoration-color: #008000\">✓ | ⏱: </span><span style=\"color: #008000; text-decoration-color: #008000; font-weight: bold\">0.</span><span style=\"color: #008000; text-decoration-color: #008000\">09s </span>\n",
       "</pre>\n"
      ],
      "text/plain": [
       "\u001b[1;32m[\u001b[0m\u001b[32mSCRAPE\u001b[0m\u001b[1;32m]\u001b[0m\u001b[32m.. ◆ \u001b[0m\u001b[4;32mhttps://www.kca.go.kr/home/sub.do?\u001b[0m\u001b[4;32mmenukey\u001b[0m\u001b[4;32m=\u001b[0m\u001b[4;32m4002\u001b[0m\u001b[4;32m&\u001b[0m\u001b[4;32mmode\u001b[0m\u001b[4;32m=\u001b[0m\u001b[4;32mview\u001b[0m\u001b[4;32m&\u001b[0m\u001b[4;32mno\u001b[0m\u001b[4;32m=\u001b[0m\u001b[4;32m1003918995\u001b[0m\u001b[4;32m&\u001b[0m\u001b[4;32mpage\u001b[0m\u001b[4;32m=\u001b[0m\u001b[4;32m1\u001b[0m\u001b[32m                        |\u001b[0m\n",
       "\u001b[32m✓\u001b[0m\u001b[32m | ⏱: \u001b[0m\u001b[1;32m0.\u001b[0m\u001b[32m09s \u001b[0m\n"
      ]
     },
     "metadata": {},
     "output_type": "display_data"
    },
    {
     "data": {
      "text/html": [
       "<pre style=\"white-space:pre;overflow-x:auto;line-height:normal;font-family:Menlo,'DejaVu Sans Mono',consolas,'Courier New',monospace\"><span style=\"color: #008000; text-decoration-color: #008000; font-weight: bold\">[</span><span style=\"color: #008000; text-decoration-color: #008000\">COMPLETE</span><span style=\"color: #008000; text-decoration-color: #008000; font-weight: bold\">]</span><span style=\"color: #008000; text-decoration-color: #008000\"> ● </span><span style=\"color: #008000; text-decoration-color: #008000; text-decoration: underline\">https://www.kca.go.kr/home/sub.do?menukey=4002&amp;mode=view&amp;no=1003918995&amp;page=1</span><span style=\"color: #008000; text-decoration-color: #008000\">                        |</span>\n",
       "<span style=\"color: #008000; text-decoration-color: #008000\">✓ | ⏱: </span><span style=\"color: #008000; text-decoration-color: #008000; font-weight: bold\">1.</span><span style=\"color: #008000; text-decoration-color: #008000\">61s </span>\n",
       "</pre>\n"
      ],
      "text/plain": [
       "\u001b[1;32m[\u001b[0m\u001b[32mCOMPLETE\u001b[0m\u001b[1;32m]\u001b[0m\u001b[32m ● \u001b[0m\u001b[4;32mhttps://www.kca.go.kr/home/sub.do?\u001b[0m\u001b[4;32mmenukey\u001b[0m\u001b[4;32m=\u001b[0m\u001b[4;32m4002\u001b[0m\u001b[4;32m&\u001b[0m\u001b[4;32mmode\u001b[0m\u001b[4;32m=\u001b[0m\u001b[4;32mview\u001b[0m\u001b[4;32m&\u001b[0m\u001b[4;32mno\u001b[0m\u001b[4;32m=\u001b[0m\u001b[4;32m1003918995\u001b[0m\u001b[4;32m&\u001b[0m\u001b[4;32mpage\u001b[0m\u001b[4;32m=\u001b[0m\u001b[4;32m1\u001b[0m\u001b[32m                        |\u001b[0m\n",
       "\u001b[32m✓\u001b[0m\u001b[32m | ⏱: \u001b[0m\u001b[1;32m1.\u001b[0m\u001b[32m61s \u001b[0m\n"
      ]
     },
     "metadata": {},
     "output_type": "display_data"
    },
    {
     "name": "stdout",
     "output_type": "stream",
     "text": [
      "https://www.kca.go.kr/home/synapviewer.do?menukey=4002&fno=10048166&bid=00000013&did=1003918995\n",
      "https://www.kca.go.kr/home/synapviewer.do?menukey=4002&fno=10048167&bid=00000013&did=1003918995\n",
      "https://www.kca.go.kr/home/synapviewer.do?menukey=4002&fno=10048168&bid=00000013&did=1003918995\n",
      "페이지 로딩 중: https://www.kca.go.kr/home/synapviewer.do?menukey=4002&fno=10048168&bid=00000013&did=1003918995\n",
      "   - [P1-9] [냉동 돈가스 품질비교 결과] 지방·단백질 함량과 맛 ...\n"
     ]
    },
    {
     "data": {
      "text/html": [
       "<pre style=\"white-space:pre;overflow-x:auto;line-height:normal;font-family:Menlo,'DejaVu Sans Mono',consolas,'Courier New',monospace\"><span style=\"color: #008080; text-decoration-color: #008080; font-weight: bold\">[</span><span style=\"color: #008080; text-decoration-color: #008080\">INIT</span><span style=\"color: #008080; text-decoration-color: #008080; font-weight: bold\">]</span><span style=\"color: #008080; text-decoration-color: #008080\">.... → Crawl4AI </span><span style=\"color: #008080; text-decoration-color: #008080; font-weight: bold\">0.7</span><span style=\"color: #008080; text-decoration-color: #008080\">.</span><span style=\"color: #008080; text-decoration-color: #008080; font-weight: bold\">4</span><span style=\"color: #008080; text-decoration-color: #008080\"> </span>\n",
       "</pre>\n"
      ],
      "text/plain": [
       "\u001b[1;36m[\u001b[0m\u001b[36mINIT\u001b[0m\u001b[1;36m]\u001b[0m\u001b[36m...\u001b[0m\u001b[36m. → Crawl4AI \u001b[0m\u001b[1;36m0.7\u001b[0m\u001b[36m.\u001b[0m\u001b[1;36m4\u001b[0m\u001b[36m \u001b[0m\n"
      ]
     },
     "metadata": {},
     "output_type": "display_data"
    },
    {
     "data": {
      "text/html": [
       "<pre style=\"white-space:pre;overflow-x:auto;line-height:normal;font-family:Menlo,'DejaVu Sans Mono',consolas,'Courier New',monospace\"><span style=\"color: #008000; text-decoration-color: #008000; font-weight: bold\">[</span><span style=\"color: #008000; text-decoration-color: #008000\">FETCH</span><span style=\"color: #008000; text-decoration-color: #008000; font-weight: bold\">]</span><span style=\"color: #008000; text-decoration-color: #008000\">... ↓ </span><span style=\"color: #008000; text-decoration-color: #008000; text-decoration: underline\">https://www.kca.go.kr/home/sub.do?menukey=4002&amp;mode=view&amp;no=1003918845&amp;page=1</span><span style=\"color: #008000; text-decoration-color: #008000\">                        |</span>\n",
       "<span style=\"color: #008000; text-decoration-color: #008000\">✓ | ⏱: </span><span style=\"color: #008000; text-decoration-color: #008000; font-weight: bold\">1.</span><span style=\"color: #008000; text-decoration-color: #008000\">27s </span>\n",
       "</pre>\n"
      ],
      "text/plain": [
       "\u001b[1;32m[\u001b[0m\u001b[32mFETCH\u001b[0m\u001b[1;32m]\u001b[0m\u001b[32m...\u001b[0m\u001b[32m ↓ \u001b[0m\u001b[4;32mhttps://www.kca.go.kr/home/sub.do?\u001b[0m\u001b[4;32mmenukey\u001b[0m\u001b[4;32m=\u001b[0m\u001b[4;32m4002\u001b[0m\u001b[4;32m&\u001b[0m\u001b[4;32mmode\u001b[0m\u001b[4;32m=\u001b[0m\u001b[4;32mview\u001b[0m\u001b[4;32m&\u001b[0m\u001b[4;32mno\u001b[0m\u001b[4;32m=\u001b[0m\u001b[4;32m1003918845\u001b[0m\u001b[4;32m&\u001b[0m\u001b[4;32mpage\u001b[0m\u001b[4;32m=\u001b[0m\u001b[4;32m1\u001b[0m\u001b[32m                        |\u001b[0m\n",
       "\u001b[32m✓\u001b[0m\u001b[32m | ⏱: \u001b[0m\u001b[1;32m1.\u001b[0m\u001b[32m27s \u001b[0m\n"
      ]
     },
     "metadata": {},
     "output_type": "display_data"
    },
    {
     "data": {
      "text/html": [
       "<pre style=\"white-space:pre;overflow-x:auto;line-height:normal;font-family:Menlo,'DejaVu Sans Mono',consolas,'Courier New',monospace\"><span style=\"color: #008000; text-decoration-color: #008000; font-weight: bold\">[</span><span style=\"color: #008000; text-decoration-color: #008000\">SCRAPE</span><span style=\"color: #008000; text-decoration-color: #008000; font-weight: bold\">]</span><span style=\"color: #008000; text-decoration-color: #008000\">.. ◆ </span><span style=\"color: #008000; text-decoration-color: #008000; text-decoration: underline\">https://www.kca.go.kr/home/sub.do?menukey=4002&amp;mode=view&amp;no=1003918845&amp;page=1</span><span style=\"color: #008000; text-decoration-color: #008000\">                        |</span>\n",
       "<span style=\"color: #008000; text-decoration-color: #008000\">✓ | ⏱: </span><span style=\"color: #008000; text-decoration-color: #008000; font-weight: bold\">0.</span><span style=\"color: #008000; text-decoration-color: #008000\">05s </span>\n",
       "</pre>\n"
      ],
      "text/plain": [
       "\u001b[1;32m[\u001b[0m\u001b[32mSCRAPE\u001b[0m\u001b[1;32m]\u001b[0m\u001b[32m.. ◆ \u001b[0m\u001b[4;32mhttps://www.kca.go.kr/home/sub.do?\u001b[0m\u001b[4;32mmenukey\u001b[0m\u001b[4;32m=\u001b[0m\u001b[4;32m4002\u001b[0m\u001b[4;32m&\u001b[0m\u001b[4;32mmode\u001b[0m\u001b[4;32m=\u001b[0m\u001b[4;32mview\u001b[0m\u001b[4;32m&\u001b[0m\u001b[4;32mno\u001b[0m\u001b[4;32m=\u001b[0m\u001b[4;32m1003918845\u001b[0m\u001b[4;32m&\u001b[0m\u001b[4;32mpage\u001b[0m\u001b[4;32m=\u001b[0m\u001b[4;32m1\u001b[0m\u001b[32m                        |\u001b[0m\n",
       "\u001b[32m✓\u001b[0m\u001b[32m | ⏱: \u001b[0m\u001b[1;32m0.\u001b[0m\u001b[32m05s \u001b[0m\n"
      ]
     },
     "metadata": {},
     "output_type": "display_data"
    },
    {
     "data": {
      "text/html": [
       "<pre style=\"white-space:pre;overflow-x:auto;line-height:normal;font-family:Menlo,'DejaVu Sans Mono',consolas,'Courier New',monospace\"><span style=\"color: #008000; text-decoration-color: #008000; font-weight: bold\">[</span><span style=\"color: #008000; text-decoration-color: #008000\">COMPLETE</span><span style=\"color: #008000; text-decoration-color: #008000; font-weight: bold\">]</span><span style=\"color: #008000; text-decoration-color: #008000\"> ● </span><span style=\"color: #008000; text-decoration-color: #008000; text-decoration: underline\">https://www.kca.go.kr/home/sub.do?menukey=4002&amp;mode=view&amp;no=1003918845&amp;page=1</span><span style=\"color: #008000; text-decoration-color: #008000\">                        |</span>\n",
       "<span style=\"color: #008000; text-decoration-color: #008000\">✓ | ⏱: </span><span style=\"color: #008000; text-decoration-color: #008000; font-weight: bold\">1.</span><span style=\"color: #008000; text-decoration-color: #008000\">33s </span>\n",
       "</pre>\n"
      ],
      "text/plain": [
       "\u001b[1;32m[\u001b[0m\u001b[32mCOMPLETE\u001b[0m\u001b[1;32m]\u001b[0m\u001b[32m ● \u001b[0m\u001b[4;32mhttps://www.kca.go.kr/home/sub.do?\u001b[0m\u001b[4;32mmenukey\u001b[0m\u001b[4;32m=\u001b[0m\u001b[4;32m4002\u001b[0m\u001b[4;32m&\u001b[0m\u001b[4;32mmode\u001b[0m\u001b[4;32m=\u001b[0m\u001b[4;32mview\u001b[0m\u001b[4;32m&\u001b[0m\u001b[4;32mno\u001b[0m\u001b[4;32m=\u001b[0m\u001b[4;32m1003918845\u001b[0m\u001b[4;32m&\u001b[0m\u001b[4;32mpage\u001b[0m\u001b[4;32m=\u001b[0m\u001b[4;32m1\u001b[0m\u001b[32m                        |\u001b[0m\n",
       "\u001b[32m✓\u001b[0m\u001b[32m | ⏱: \u001b[0m\u001b[1;32m1.\u001b[0m\u001b[32m33s \u001b[0m\n"
      ]
     },
     "metadata": {},
     "output_type": "display_data"
    },
    {
     "name": "stdout",
     "output_type": "stream",
     "text": [
      "https://www.kca.go.kr/home/synapviewer.do?menukey=4002&fno=10048163&bid=00000013&did=1003918845\n",
      "https://www.kca.go.kr/home/synapviewer.do?menukey=4002&fno=10048164&bid=00000013&did=1003918845\n",
      "https://www.kca.go.kr/home/synapviewer.do?menukey=4002&fno=10048165&bid=00000013&did=1003918845\n",
      "페이지 로딩 중: https://www.kca.go.kr/home/synapviewer.do?menukey=4002&fno=10048164&bid=00000013&did=1003918845\n",
      "   - [P1-10] [피해예방주의보] 소셜미디어(SNS) 라이브 커머스, ...\n"
     ]
    },
    {
     "data": {
      "text/html": [
       "<pre style=\"white-space:pre;overflow-x:auto;line-height:normal;font-family:Menlo,'DejaVu Sans Mono',consolas,'Courier New',monospace\"><span style=\"color: #008080; text-decoration-color: #008080; font-weight: bold\">[</span><span style=\"color: #008080; text-decoration-color: #008080\">INIT</span><span style=\"color: #008080; text-decoration-color: #008080; font-weight: bold\">]</span><span style=\"color: #008080; text-decoration-color: #008080\">.... → Crawl4AI </span><span style=\"color: #008080; text-decoration-color: #008080; font-weight: bold\">0.7</span><span style=\"color: #008080; text-decoration-color: #008080\">.</span><span style=\"color: #008080; text-decoration-color: #008080; font-weight: bold\">4</span><span style=\"color: #008080; text-decoration-color: #008080\"> </span>\n",
       "</pre>\n"
      ],
      "text/plain": [
       "\u001b[1;36m[\u001b[0m\u001b[36mINIT\u001b[0m\u001b[1;36m]\u001b[0m\u001b[36m...\u001b[0m\u001b[36m. → Crawl4AI \u001b[0m\u001b[1;36m0.7\u001b[0m\u001b[36m.\u001b[0m\u001b[1;36m4\u001b[0m\u001b[36m \u001b[0m\n"
      ]
     },
     "metadata": {},
     "output_type": "display_data"
    },
    {
     "data": {
      "text/html": [
       "<pre style=\"white-space:pre;overflow-x:auto;line-height:normal;font-family:Menlo,'DejaVu Sans Mono',consolas,'Courier New',monospace\"><span style=\"color: #008000; text-decoration-color: #008000; font-weight: bold\">[</span><span style=\"color: #008000; text-decoration-color: #008000\">FETCH</span><span style=\"color: #008000; text-decoration-color: #008000; font-weight: bold\">]</span><span style=\"color: #008000; text-decoration-color: #008000\">... ↓ </span><span style=\"color: #008000; text-decoration-color: #008000; text-decoration: underline\">https://www.kca.go.kr/home/sub.do?menukey=4002&amp;mode=view&amp;no=1003918456&amp;page=1</span><span style=\"color: #008000; text-decoration-color: #008000\">                        |</span>\n",
       "<span style=\"color: #008000; text-decoration-color: #008000\">✓ | ⏱: </span><span style=\"color: #008000; text-decoration-color: #008000; font-weight: bold\">1.</span><span style=\"color: #008000; text-decoration-color: #008000\">54s </span>\n",
       "</pre>\n"
      ],
      "text/plain": [
       "\u001b[1;32m[\u001b[0m\u001b[32mFETCH\u001b[0m\u001b[1;32m]\u001b[0m\u001b[32m...\u001b[0m\u001b[32m ↓ \u001b[0m\u001b[4;32mhttps://www.kca.go.kr/home/sub.do?\u001b[0m\u001b[4;32mmenukey\u001b[0m\u001b[4;32m=\u001b[0m\u001b[4;32m4002\u001b[0m\u001b[4;32m&\u001b[0m\u001b[4;32mmode\u001b[0m\u001b[4;32m=\u001b[0m\u001b[4;32mview\u001b[0m\u001b[4;32m&\u001b[0m\u001b[4;32mno\u001b[0m\u001b[4;32m=\u001b[0m\u001b[4;32m1003918456\u001b[0m\u001b[4;32m&\u001b[0m\u001b[4;32mpage\u001b[0m\u001b[4;32m=\u001b[0m\u001b[4;32m1\u001b[0m\u001b[32m                        |\u001b[0m\n",
       "\u001b[32m✓\u001b[0m\u001b[32m | ⏱: \u001b[0m\u001b[1;32m1.\u001b[0m\u001b[32m54s \u001b[0m\n"
      ]
     },
     "metadata": {},
     "output_type": "display_data"
    },
    {
     "data": {
      "text/html": [
       "<pre style=\"white-space:pre;overflow-x:auto;line-height:normal;font-family:Menlo,'DejaVu Sans Mono',consolas,'Courier New',monospace\"><span style=\"color: #008000; text-decoration-color: #008000; font-weight: bold\">[</span><span style=\"color: #008000; text-decoration-color: #008000\">SCRAPE</span><span style=\"color: #008000; text-decoration-color: #008000; font-weight: bold\">]</span><span style=\"color: #008000; text-decoration-color: #008000\">.. ◆ </span><span style=\"color: #008000; text-decoration-color: #008000; text-decoration: underline\">https://www.kca.go.kr/home/sub.do?menukey=4002&amp;mode=view&amp;no=1003918456&amp;page=1</span><span style=\"color: #008000; text-decoration-color: #008000\">                        |</span>\n",
       "<span style=\"color: #008000; text-decoration-color: #008000\">✓ | ⏱: </span><span style=\"color: #008000; text-decoration-color: #008000; font-weight: bold\">0.</span><span style=\"color: #008000; text-decoration-color: #008000\">10s </span>\n",
       "</pre>\n"
      ],
      "text/plain": [
       "\u001b[1;32m[\u001b[0m\u001b[32mSCRAPE\u001b[0m\u001b[1;32m]\u001b[0m\u001b[32m.. ◆ \u001b[0m\u001b[4;32mhttps://www.kca.go.kr/home/sub.do?\u001b[0m\u001b[4;32mmenukey\u001b[0m\u001b[4;32m=\u001b[0m\u001b[4;32m4002\u001b[0m\u001b[4;32m&\u001b[0m\u001b[4;32mmode\u001b[0m\u001b[4;32m=\u001b[0m\u001b[4;32mview\u001b[0m\u001b[4;32m&\u001b[0m\u001b[4;32mno\u001b[0m\u001b[4;32m=\u001b[0m\u001b[4;32m1003918456\u001b[0m\u001b[4;32m&\u001b[0m\u001b[4;32mpage\u001b[0m\u001b[4;32m=\u001b[0m\u001b[4;32m1\u001b[0m\u001b[32m                        |\u001b[0m\n",
       "\u001b[32m✓\u001b[0m\u001b[32m | ⏱: \u001b[0m\u001b[1;32m0.\u001b[0m\u001b[32m10s \u001b[0m\n"
      ]
     },
     "metadata": {},
     "output_type": "display_data"
    },
    {
     "data": {
      "text/html": [
       "<pre style=\"white-space:pre;overflow-x:auto;line-height:normal;font-family:Menlo,'DejaVu Sans Mono',consolas,'Courier New',monospace\"><span style=\"color: #008000; text-decoration-color: #008000; font-weight: bold\">[</span><span style=\"color: #008000; text-decoration-color: #008000\">COMPLETE</span><span style=\"color: #008000; text-decoration-color: #008000; font-weight: bold\">]</span><span style=\"color: #008000; text-decoration-color: #008000\"> ● </span><span style=\"color: #008000; text-decoration-color: #008000; text-decoration: underline\">https://www.kca.go.kr/home/sub.do?menukey=4002&amp;mode=view&amp;no=1003918456&amp;page=1</span><span style=\"color: #008000; text-decoration-color: #008000\">                        |</span>\n",
       "<span style=\"color: #008000; text-decoration-color: #008000\">✓ | ⏱: </span><span style=\"color: #008000; text-decoration-color: #008000; font-weight: bold\">1.</span><span style=\"color: #008000; text-decoration-color: #008000\">65s </span>\n",
       "</pre>\n"
      ],
      "text/plain": [
       "\u001b[1;32m[\u001b[0m\u001b[32mCOMPLETE\u001b[0m\u001b[1;32m]\u001b[0m\u001b[32m ● \u001b[0m\u001b[4;32mhttps://www.kca.go.kr/home/sub.do?\u001b[0m\u001b[4;32mmenukey\u001b[0m\u001b[4;32m=\u001b[0m\u001b[4;32m4002\u001b[0m\u001b[4;32m&\u001b[0m\u001b[4;32mmode\u001b[0m\u001b[4;32m=\u001b[0m\u001b[4;32mview\u001b[0m\u001b[4;32m&\u001b[0m\u001b[4;32mno\u001b[0m\u001b[4;32m=\u001b[0m\u001b[4;32m1003918456\u001b[0m\u001b[4;32m&\u001b[0m\u001b[4;32mpage\u001b[0m\u001b[4;32m=\u001b[0m\u001b[4;32m1\u001b[0m\u001b[32m                        |\u001b[0m\n",
       "\u001b[32m✓\u001b[0m\u001b[32m | ⏱: \u001b[0m\u001b[1;32m1.\u001b[0m\u001b[32m65s \u001b[0m\n"
      ]
     },
     "metadata": {},
     "output_type": "display_data"
    },
    {
     "name": "stdout",
     "output_type": "stream",
     "text": [
      "https://www.kca.go.kr/home/synapviewer.do?menukey=4002&fno=10048156&bid=00000013&did=1003918456\n",
      "https://www.kca.go.kr/home/synapviewer.do?menukey=4002&fno=10048157&bid=00000013&did=1003918456\n",
      "https://www.kca.go.kr/home/synapviewer.do?menukey=4002&fno=10048160&bid=00000013&did=1003918456\n",
      "페이지 로딩 중: https://www.kca.go.kr/home/synapviewer.do?menukey=4002&fno=10048160&bid=00000013&did=1003918456\n",
      "   - [P1-11] 아우디 Q4 e-tron 차량 공조장치 하자 “수입사 ...\n"
     ]
    },
    {
     "data": {
      "text/html": [
       "<pre style=\"white-space:pre;overflow-x:auto;line-height:normal;font-family:Menlo,'DejaVu Sans Mono',consolas,'Courier New',monospace\"><span style=\"color: #008080; text-decoration-color: #008080; font-weight: bold\">[</span><span style=\"color: #008080; text-decoration-color: #008080\">INIT</span><span style=\"color: #008080; text-decoration-color: #008080; font-weight: bold\">]</span><span style=\"color: #008080; text-decoration-color: #008080\">.... → Crawl4AI </span><span style=\"color: #008080; text-decoration-color: #008080; font-weight: bold\">0.7</span><span style=\"color: #008080; text-decoration-color: #008080\">.</span><span style=\"color: #008080; text-decoration-color: #008080; font-weight: bold\">4</span><span style=\"color: #008080; text-decoration-color: #008080\"> </span>\n",
       "</pre>\n"
      ],
      "text/plain": [
       "\u001b[1;36m[\u001b[0m\u001b[36mINIT\u001b[0m\u001b[1;36m]\u001b[0m\u001b[36m...\u001b[0m\u001b[36m. → Crawl4AI \u001b[0m\u001b[1;36m0.7\u001b[0m\u001b[36m.\u001b[0m\u001b[1;36m4\u001b[0m\u001b[36m \u001b[0m\n"
      ]
     },
     "metadata": {},
     "output_type": "display_data"
    },
    {
     "data": {
      "text/html": [
       "<pre style=\"white-space:pre;overflow-x:auto;line-height:normal;font-family:Menlo,'DejaVu Sans Mono',consolas,'Courier New',monospace\"><span style=\"color: #008000; text-decoration-color: #008000; font-weight: bold\">[</span><span style=\"color: #008000; text-decoration-color: #008000\">FETCH</span><span style=\"color: #008000; text-decoration-color: #008000; font-weight: bold\">]</span><span style=\"color: #008000; text-decoration-color: #008000\">... ↓ </span><span style=\"color: #008000; text-decoration-color: #008000; text-decoration: underline\">https://www.kca.go.kr/home/sub.do?menukey=4002&amp;mode=view&amp;no=1003918032&amp;page=1</span><span style=\"color: #008000; text-decoration-color: #008000\">                        |</span>\n",
       "<span style=\"color: #008000; text-decoration-color: #008000\">✓ | ⏱: </span><span style=\"color: #008000; text-decoration-color: #008000; font-weight: bold\">1.</span><span style=\"color: #008000; text-decoration-color: #008000\">82s </span>\n",
       "</pre>\n"
      ],
      "text/plain": [
       "\u001b[1;32m[\u001b[0m\u001b[32mFETCH\u001b[0m\u001b[1;32m]\u001b[0m\u001b[32m...\u001b[0m\u001b[32m ↓ \u001b[0m\u001b[4;32mhttps://www.kca.go.kr/home/sub.do?\u001b[0m\u001b[4;32mmenukey\u001b[0m\u001b[4;32m=\u001b[0m\u001b[4;32m4002\u001b[0m\u001b[4;32m&\u001b[0m\u001b[4;32mmode\u001b[0m\u001b[4;32m=\u001b[0m\u001b[4;32mview\u001b[0m\u001b[4;32m&\u001b[0m\u001b[4;32mno\u001b[0m\u001b[4;32m=\u001b[0m\u001b[4;32m1003918032\u001b[0m\u001b[4;32m&\u001b[0m\u001b[4;32mpage\u001b[0m\u001b[4;32m=\u001b[0m\u001b[4;32m1\u001b[0m\u001b[32m                        |\u001b[0m\n",
       "\u001b[32m✓\u001b[0m\u001b[32m | ⏱: \u001b[0m\u001b[1;32m1.\u001b[0m\u001b[32m82s \u001b[0m\n"
      ]
     },
     "metadata": {},
     "output_type": "display_data"
    },
    {
     "data": {
      "text/html": [
       "<pre style=\"white-space:pre;overflow-x:auto;line-height:normal;font-family:Menlo,'DejaVu Sans Mono',consolas,'Courier New',monospace\"><span style=\"color: #008000; text-decoration-color: #008000; font-weight: bold\">[</span><span style=\"color: #008000; text-decoration-color: #008000\">SCRAPE</span><span style=\"color: #008000; text-decoration-color: #008000; font-weight: bold\">]</span><span style=\"color: #008000; text-decoration-color: #008000\">.. ◆ </span><span style=\"color: #008000; text-decoration-color: #008000; text-decoration: underline\">https://www.kca.go.kr/home/sub.do?menukey=4002&amp;mode=view&amp;no=1003918032&amp;page=1</span><span style=\"color: #008000; text-decoration-color: #008000\">                        |</span>\n",
       "<span style=\"color: #008000; text-decoration-color: #008000\">✓ | ⏱: </span><span style=\"color: #008000; text-decoration-color: #008000; font-weight: bold\">0.</span><span style=\"color: #008000; text-decoration-color: #008000\">10s </span>\n",
       "</pre>\n"
      ],
      "text/plain": [
       "\u001b[1;32m[\u001b[0m\u001b[32mSCRAPE\u001b[0m\u001b[1;32m]\u001b[0m\u001b[32m.. ◆ \u001b[0m\u001b[4;32mhttps://www.kca.go.kr/home/sub.do?\u001b[0m\u001b[4;32mmenukey\u001b[0m\u001b[4;32m=\u001b[0m\u001b[4;32m4002\u001b[0m\u001b[4;32m&\u001b[0m\u001b[4;32mmode\u001b[0m\u001b[4;32m=\u001b[0m\u001b[4;32mview\u001b[0m\u001b[4;32m&\u001b[0m\u001b[4;32mno\u001b[0m\u001b[4;32m=\u001b[0m\u001b[4;32m1003918032\u001b[0m\u001b[4;32m&\u001b[0m\u001b[4;32mpage\u001b[0m\u001b[4;32m=\u001b[0m\u001b[4;32m1\u001b[0m\u001b[32m                        |\u001b[0m\n",
       "\u001b[32m✓\u001b[0m\u001b[32m | ⏱: \u001b[0m\u001b[1;32m0.\u001b[0m\u001b[32m10s \u001b[0m\n"
      ]
     },
     "metadata": {},
     "output_type": "display_data"
    },
    {
     "data": {
      "text/html": [
       "<pre style=\"white-space:pre;overflow-x:auto;line-height:normal;font-family:Menlo,'DejaVu Sans Mono',consolas,'Courier New',monospace\"><span style=\"color: #008000; text-decoration-color: #008000; font-weight: bold\">[</span><span style=\"color: #008000; text-decoration-color: #008000\">COMPLETE</span><span style=\"color: #008000; text-decoration-color: #008000; font-weight: bold\">]</span><span style=\"color: #008000; text-decoration-color: #008000\"> ● </span><span style=\"color: #008000; text-decoration-color: #008000; text-decoration: underline\">https://www.kca.go.kr/home/sub.do?menukey=4002&amp;mode=view&amp;no=1003918032&amp;page=1</span><span style=\"color: #008000; text-decoration-color: #008000\">                        |</span>\n",
       "<span style=\"color: #008000; text-decoration-color: #008000\">✓ | ⏱: </span><span style=\"color: #008000; text-decoration-color: #008000; font-weight: bold\">1.</span><span style=\"color: #008000; text-decoration-color: #008000\">93s </span>\n",
       "</pre>\n"
      ],
      "text/plain": [
       "\u001b[1;32m[\u001b[0m\u001b[32mCOMPLETE\u001b[0m\u001b[1;32m]\u001b[0m\u001b[32m ● \u001b[0m\u001b[4;32mhttps://www.kca.go.kr/home/sub.do?\u001b[0m\u001b[4;32mmenukey\u001b[0m\u001b[4;32m=\u001b[0m\u001b[4;32m4002\u001b[0m\u001b[4;32m&\u001b[0m\u001b[4;32mmode\u001b[0m\u001b[4;32m=\u001b[0m\u001b[4;32mview\u001b[0m\u001b[4;32m&\u001b[0m\u001b[4;32mno\u001b[0m\u001b[4;32m=\u001b[0m\u001b[4;32m1003918032\u001b[0m\u001b[4;32m&\u001b[0m\u001b[4;32mpage\u001b[0m\u001b[4;32m=\u001b[0m\u001b[4;32m1\u001b[0m\u001b[32m                        |\u001b[0m\n",
       "\u001b[32m✓\u001b[0m\u001b[32m | ⏱: \u001b[0m\u001b[1;32m1.\u001b[0m\u001b[32m93s \u001b[0m\n"
      ]
     },
     "metadata": {},
     "output_type": "display_data"
    },
    {
     "name": "stdout",
     "output_type": "stream",
     "text": [
      "https://www.kca.go.kr/home/synapviewer.do?menukey=4002&fno=10048136&bid=00000013&did=1003918032\n",
      "https://www.kca.go.kr/home/synapviewer.do?menukey=4002&fno=10048137&bid=00000013&did=1003918032\n",
      "https://www.kca.go.kr/home/synapviewer.do?menukey=4002&fno=10048138&bid=00000013&did=1003918032\n",
      "페이지 로딩 중: https://www.kca.go.kr/home/synapviewer.do?menukey=4002&fno=10048138&bid=00000013&did=1003918032\n",
      "   - [P1-12] [소형 식기세척기 품질비교 결과] 건조성능·작동시간 등...\n"
     ]
    },
    {
     "data": {
      "text/html": [
       "<pre style=\"white-space:pre;overflow-x:auto;line-height:normal;font-family:Menlo,'DejaVu Sans Mono',consolas,'Courier New',monospace\"><span style=\"color: #008080; text-decoration-color: #008080; font-weight: bold\">[</span><span style=\"color: #008080; text-decoration-color: #008080\">INIT</span><span style=\"color: #008080; text-decoration-color: #008080; font-weight: bold\">]</span><span style=\"color: #008080; text-decoration-color: #008080\">.... → Crawl4AI </span><span style=\"color: #008080; text-decoration-color: #008080; font-weight: bold\">0.7</span><span style=\"color: #008080; text-decoration-color: #008080\">.</span><span style=\"color: #008080; text-decoration-color: #008080; font-weight: bold\">4</span><span style=\"color: #008080; text-decoration-color: #008080\"> </span>\n",
       "</pre>\n"
      ],
      "text/plain": [
       "\u001b[1;36m[\u001b[0m\u001b[36mINIT\u001b[0m\u001b[1;36m]\u001b[0m\u001b[36m...\u001b[0m\u001b[36m. → Crawl4AI \u001b[0m\u001b[1;36m0.7\u001b[0m\u001b[36m.\u001b[0m\u001b[1;36m4\u001b[0m\u001b[36m \u001b[0m\n"
      ]
     },
     "metadata": {},
     "output_type": "display_data"
    },
    {
     "data": {
      "text/html": [
       "<pre style=\"white-space:pre;overflow-x:auto;line-height:normal;font-family:Menlo,'DejaVu Sans Mono',consolas,'Courier New',monospace\"><span style=\"color: #008000; text-decoration-color: #008000; font-weight: bold\">[</span><span style=\"color: #008000; text-decoration-color: #008000\">FETCH</span><span style=\"color: #008000; text-decoration-color: #008000; font-weight: bold\">]</span><span style=\"color: #008000; text-decoration-color: #008000\">... ↓ </span><span style=\"color: #008000; text-decoration-color: #008000; text-decoration: underline\">https://www.kca.go.kr/home/sub.do?menukey=4002&amp;mode=view&amp;no=1003915993&amp;page=1</span><span style=\"color: #008000; text-decoration-color: #008000\">                        |</span>\n",
       "<span style=\"color: #008000; text-decoration-color: #008000\">✓ | ⏱: </span><span style=\"color: #008000; text-decoration-color: #008000; font-weight: bold\">1.</span><span style=\"color: #008000; text-decoration-color: #008000\">13s </span>\n",
       "</pre>\n"
      ],
      "text/plain": [
       "\u001b[1;32m[\u001b[0m\u001b[32mFETCH\u001b[0m\u001b[1;32m]\u001b[0m\u001b[32m...\u001b[0m\u001b[32m ↓ \u001b[0m\u001b[4;32mhttps://www.kca.go.kr/home/sub.do?\u001b[0m\u001b[4;32mmenukey\u001b[0m\u001b[4;32m=\u001b[0m\u001b[4;32m4002\u001b[0m\u001b[4;32m&\u001b[0m\u001b[4;32mmode\u001b[0m\u001b[4;32m=\u001b[0m\u001b[4;32mview\u001b[0m\u001b[4;32m&\u001b[0m\u001b[4;32mno\u001b[0m\u001b[4;32m=\u001b[0m\u001b[4;32m1003915993\u001b[0m\u001b[4;32m&\u001b[0m\u001b[4;32mpage\u001b[0m\u001b[4;32m=\u001b[0m\u001b[4;32m1\u001b[0m\u001b[32m                        |\u001b[0m\n",
       "\u001b[32m✓\u001b[0m\u001b[32m | ⏱: \u001b[0m\u001b[1;32m1.\u001b[0m\u001b[32m13s \u001b[0m\n"
      ]
     },
     "metadata": {},
     "output_type": "display_data"
    },
    {
     "data": {
      "text/html": [
       "<pre style=\"white-space:pre;overflow-x:auto;line-height:normal;font-family:Menlo,'DejaVu Sans Mono',consolas,'Courier New',monospace\"><span style=\"color: #008000; text-decoration-color: #008000; font-weight: bold\">[</span><span style=\"color: #008000; text-decoration-color: #008000\">SCRAPE</span><span style=\"color: #008000; text-decoration-color: #008000; font-weight: bold\">]</span><span style=\"color: #008000; text-decoration-color: #008000\">.. ◆ </span><span style=\"color: #008000; text-decoration-color: #008000; text-decoration: underline\">https://www.kca.go.kr/home/sub.do?menukey=4002&amp;mode=view&amp;no=1003915993&amp;page=1</span><span style=\"color: #008000; text-decoration-color: #008000\">                        |</span>\n",
       "<span style=\"color: #008000; text-decoration-color: #008000\">✓ | ⏱: </span><span style=\"color: #008000; text-decoration-color: #008000; font-weight: bold\">0.</span><span style=\"color: #008000; text-decoration-color: #008000\">04s </span>\n",
       "</pre>\n"
      ],
      "text/plain": [
       "\u001b[1;32m[\u001b[0m\u001b[32mSCRAPE\u001b[0m\u001b[1;32m]\u001b[0m\u001b[32m.. ◆ \u001b[0m\u001b[4;32mhttps://www.kca.go.kr/home/sub.do?\u001b[0m\u001b[4;32mmenukey\u001b[0m\u001b[4;32m=\u001b[0m\u001b[4;32m4002\u001b[0m\u001b[4;32m&\u001b[0m\u001b[4;32mmode\u001b[0m\u001b[4;32m=\u001b[0m\u001b[4;32mview\u001b[0m\u001b[4;32m&\u001b[0m\u001b[4;32mno\u001b[0m\u001b[4;32m=\u001b[0m\u001b[4;32m1003915993\u001b[0m\u001b[4;32m&\u001b[0m\u001b[4;32mpage\u001b[0m\u001b[4;32m=\u001b[0m\u001b[4;32m1\u001b[0m\u001b[32m                        |\u001b[0m\n",
       "\u001b[32m✓\u001b[0m\u001b[32m | ⏱: \u001b[0m\u001b[1;32m0.\u001b[0m\u001b[32m04s \u001b[0m\n"
      ]
     },
     "metadata": {},
     "output_type": "display_data"
    },
    {
     "data": {
      "text/html": [
       "<pre style=\"white-space:pre;overflow-x:auto;line-height:normal;font-family:Menlo,'DejaVu Sans Mono',consolas,'Courier New',monospace\"><span style=\"color: #008000; text-decoration-color: #008000; font-weight: bold\">[</span><span style=\"color: #008000; text-decoration-color: #008000\">COMPLETE</span><span style=\"color: #008000; text-decoration-color: #008000; font-weight: bold\">]</span><span style=\"color: #008000; text-decoration-color: #008000\"> ● </span><span style=\"color: #008000; text-decoration-color: #008000; text-decoration: underline\">https://www.kca.go.kr/home/sub.do?menukey=4002&amp;mode=view&amp;no=1003915993&amp;page=1</span><span style=\"color: #008000; text-decoration-color: #008000\">                        |</span>\n",
       "<span style=\"color: #008000; text-decoration-color: #008000\">✓ | ⏱: </span><span style=\"color: #008000; text-decoration-color: #008000; font-weight: bold\">1.</span><span style=\"color: #008000; text-decoration-color: #008000\">18s </span>\n",
       "</pre>\n"
      ],
      "text/plain": [
       "\u001b[1;32m[\u001b[0m\u001b[32mCOMPLETE\u001b[0m\u001b[1;32m]\u001b[0m\u001b[32m ● \u001b[0m\u001b[4;32mhttps://www.kca.go.kr/home/sub.do?\u001b[0m\u001b[4;32mmenukey\u001b[0m\u001b[4;32m=\u001b[0m\u001b[4;32m4002\u001b[0m\u001b[4;32m&\u001b[0m\u001b[4;32mmode\u001b[0m\u001b[4;32m=\u001b[0m\u001b[4;32mview\u001b[0m\u001b[4;32m&\u001b[0m\u001b[4;32mno\u001b[0m\u001b[4;32m=\u001b[0m\u001b[4;32m1003915993\u001b[0m\u001b[4;32m&\u001b[0m\u001b[4;32mpage\u001b[0m\u001b[4;32m=\u001b[0m\u001b[4;32m1\u001b[0m\u001b[32m                        |\u001b[0m\n",
       "\u001b[32m✓\u001b[0m\u001b[32m | ⏱: \u001b[0m\u001b[1;32m1.\u001b[0m\u001b[32m18s \u001b[0m\n"
      ]
     },
     "metadata": {},
     "output_type": "display_data"
    },
    {
     "name": "stdout",
     "output_type": "stream",
     "text": [
      "https://www.kca.go.kr/home/synapviewer.do?menukey=4002&fno=10048092&bid=00000013&did=1003915993\n",
      "https://www.kca.go.kr/home/synapviewer.do?menukey=4002&fno=10048093&bid=00000013&did=1003915993\n",
      "https://www.kca.go.kr/home/synapviewer.do?menukey=4002&fno=10048094&bid=00000013&did=1003915993\n",
      "페이지 로딩 중: https://www.kca.go.kr/home/synapviewer.do?menukey=4002&fno=10048094&bid=00000013&did=1003915993\n",
      "   - [P1-13] [안전 실태조사 결과] 허브 오일 제품, 알레르기 유발...\n"
     ]
    },
    {
     "data": {
      "text/html": [
       "<pre style=\"white-space:pre;overflow-x:auto;line-height:normal;font-family:Menlo,'DejaVu Sans Mono',consolas,'Courier New',monospace\"><span style=\"color: #008080; text-decoration-color: #008080; font-weight: bold\">[</span><span style=\"color: #008080; text-decoration-color: #008080\">INIT</span><span style=\"color: #008080; text-decoration-color: #008080; font-weight: bold\">]</span><span style=\"color: #008080; text-decoration-color: #008080\">.... → Crawl4AI </span><span style=\"color: #008080; text-decoration-color: #008080; font-weight: bold\">0.7</span><span style=\"color: #008080; text-decoration-color: #008080\">.</span><span style=\"color: #008080; text-decoration-color: #008080; font-weight: bold\">4</span><span style=\"color: #008080; text-decoration-color: #008080\"> </span>\n",
       "</pre>\n"
      ],
      "text/plain": [
       "\u001b[1;36m[\u001b[0m\u001b[36mINIT\u001b[0m\u001b[1;36m]\u001b[0m\u001b[36m...\u001b[0m\u001b[36m. → Crawl4AI \u001b[0m\u001b[1;36m0.7\u001b[0m\u001b[36m.\u001b[0m\u001b[1;36m4\u001b[0m\u001b[36m \u001b[0m\n"
      ]
     },
     "metadata": {},
     "output_type": "display_data"
    },
    {
     "data": {
      "text/html": [
       "<pre style=\"white-space:pre;overflow-x:auto;line-height:normal;font-family:Menlo,'DejaVu Sans Mono',consolas,'Courier New',monospace\"><span style=\"color: #008000; text-decoration-color: #008000; font-weight: bold\">[</span><span style=\"color: #008000; text-decoration-color: #008000\">FETCH</span><span style=\"color: #008000; text-decoration-color: #008000; font-weight: bold\">]</span><span style=\"color: #008000; text-decoration-color: #008000\">... ↓ </span><span style=\"color: #008000; text-decoration-color: #008000; text-decoration: underline\">https://www.kca.go.kr/home/sub.do?menukey=4002&amp;mode=view&amp;no=1003912772&amp;page=1</span><span style=\"color: #008000; text-decoration-color: #008000\">                        |</span>\n",
       "<span style=\"color: #008000; text-decoration-color: #008000\">✓ | ⏱: </span><span style=\"color: #008000; text-decoration-color: #008000; font-weight: bold\">1.</span><span style=\"color: #008000; text-decoration-color: #008000\">34s </span>\n",
       "</pre>\n"
      ],
      "text/plain": [
       "\u001b[1;32m[\u001b[0m\u001b[32mFETCH\u001b[0m\u001b[1;32m]\u001b[0m\u001b[32m...\u001b[0m\u001b[32m ↓ \u001b[0m\u001b[4;32mhttps://www.kca.go.kr/home/sub.do?\u001b[0m\u001b[4;32mmenukey\u001b[0m\u001b[4;32m=\u001b[0m\u001b[4;32m4002\u001b[0m\u001b[4;32m&\u001b[0m\u001b[4;32mmode\u001b[0m\u001b[4;32m=\u001b[0m\u001b[4;32mview\u001b[0m\u001b[4;32m&\u001b[0m\u001b[4;32mno\u001b[0m\u001b[4;32m=\u001b[0m\u001b[4;32m1003912772\u001b[0m\u001b[4;32m&\u001b[0m\u001b[4;32mpage\u001b[0m\u001b[4;32m=\u001b[0m\u001b[4;32m1\u001b[0m\u001b[32m                        |\u001b[0m\n",
       "\u001b[32m✓\u001b[0m\u001b[32m | ⏱: \u001b[0m\u001b[1;32m1.\u001b[0m\u001b[32m34s \u001b[0m\n"
      ]
     },
     "metadata": {},
     "output_type": "display_data"
    },
    {
     "data": {
      "text/html": [
       "<pre style=\"white-space:pre;overflow-x:auto;line-height:normal;font-family:Menlo,'DejaVu Sans Mono',consolas,'Courier New',monospace\"><span style=\"color: #008000; text-decoration-color: #008000; font-weight: bold\">[</span><span style=\"color: #008000; text-decoration-color: #008000\">SCRAPE</span><span style=\"color: #008000; text-decoration-color: #008000; font-weight: bold\">]</span><span style=\"color: #008000; text-decoration-color: #008000\">.. ◆ </span><span style=\"color: #008000; text-decoration-color: #008000; text-decoration: underline\">https://www.kca.go.kr/home/sub.do?menukey=4002&amp;mode=view&amp;no=1003912772&amp;page=1</span><span style=\"color: #008000; text-decoration-color: #008000\">                        |</span>\n",
       "<span style=\"color: #008000; text-decoration-color: #008000\">✓ | ⏱: </span><span style=\"color: #008000; text-decoration-color: #008000; font-weight: bold\">0.</span><span style=\"color: #008000; text-decoration-color: #008000\">10s </span>\n",
       "</pre>\n"
      ],
      "text/plain": [
       "\u001b[1;32m[\u001b[0m\u001b[32mSCRAPE\u001b[0m\u001b[1;32m]\u001b[0m\u001b[32m.. ◆ \u001b[0m\u001b[4;32mhttps://www.kca.go.kr/home/sub.do?\u001b[0m\u001b[4;32mmenukey\u001b[0m\u001b[4;32m=\u001b[0m\u001b[4;32m4002\u001b[0m\u001b[4;32m&\u001b[0m\u001b[4;32mmode\u001b[0m\u001b[4;32m=\u001b[0m\u001b[4;32mview\u001b[0m\u001b[4;32m&\u001b[0m\u001b[4;32mno\u001b[0m\u001b[4;32m=\u001b[0m\u001b[4;32m1003912772\u001b[0m\u001b[4;32m&\u001b[0m\u001b[4;32mpage\u001b[0m\u001b[4;32m=\u001b[0m\u001b[4;32m1\u001b[0m\u001b[32m                        |\u001b[0m\n",
       "\u001b[32m✓\u001b[0m\u001b[32m | ⏱: \u001b[0m\u001b[1;32m0.\u001b[0m\u001b[32m10s \u001b[0m\n"
      ]
     },
     "metadata": {},
     "output_type": "display_data"
    },
    {
     "data": {
      "text/html": [
       "<pre style=\"white-space:pre;overflow-x:auto;line-height:normal;font-family:Menlo,'DejaVu Sans Mono',consolas,'Courier New',monospace\"><span style=\"color: #008000; text-decoration-color: #008000; font-weight: bold\">[</span><span style=\"color: #008000; text-decoration-color: #008000\">COMPLETE</span><span style=\"color: #008000; text-decoration-color: #008000; font-weight: bold\">]</span><span style=\"color: #008000; text-decoration-color: #008000\"> ● </span><span style=\"color: #008000; text-decoration-color: #008000; text-decoration: underline\">https://www.kca.go.kr/home/sub.do?menukey=4002&amp;mode=view&amp;no=1003912772&amp;page=1</span><span style=\"color: #008000; text-decoration-color: #008000\">                        |</span>\n",
       "<span style=\"color: #008000; text-decoration-color: #008000\">✓ | ⏱: </span><span style=\"color: #008000; text-decoration-color: #008000; font-weight: bold\">1.</span><span style=\"color: #008000; text-decoration-color: #008000\">44s </span>\n",
       "</pre>\n"
      ],
      "text/plain": [
       "\u001b[1;32m[\u001b[0m\u001b[32mCOMPLETE\u001b[0m\u001b[1;32m]\u001b[0m\u001b[32m ● \u001b[0m\u001b[4;32mhttps://www.kca.go.kr/home/sub.do?\u001b[0m\u001b[4;32mmenukey\u001b[0m\u001b[4;32m=\u001b[0m\u001b[4;32m4002\u001b[0m\u001b[4;32m&\u001b[0m\u001b[4;32mmode\u001b[0m\u001b[4;32m=\u001b[0m\u001b[4;32mview\u001b[0m\u001b[4;32m&\u001b[0m\u001b[4;32mno\u001b[0m\u001b[4;32m=\u001b[0m\u001b[4;32m1003912772\u001b[0m\u001b[4;32m&\u001b[0m\u001b[4;32mpage\u001b[0m\u001b[4;32m=\u001b[0m\u001b[4;32m1\u001b[0m\u001b[32m                        |\u001b[0m\n",
       "\u001b[32m✓\u001b[0m\u001b[32m | ⏱: \u001b[0m\u001b[1;32m1.\u001b[0m\u001b[32m44s \u001b[0m\n"
      ]
     },
     "metadata": {},
     "output_type": "display_data"
    },
    {
     "name": "stdout",
     "output_type": "stream",
     "text": [
      "https://www.kca.go.kr/home/synapviewer.do?menukey=4002&fno=10048030&bid=00000013&did=1003912772\n",
      "https://www.kca.go.kr/home/synapviewer.do?menukey=4002&fno=10048031&bid=00000013&did=1003912772\n",
      "https://www.kca.go.kr/home/synapviewer.do?menukey=4002&fno=10048032&bid=00000013&did=1003912772\n",
      "페이지 로딩 중: https://www.kca.go.kr/home/synapviewer.do?menukey=4002&fno=10048032&bid=00000013&did=1003912772\n",
      "   - [P1-14] ‘알로’, ‘스투시’ 등 유명 브랜드 사칭 해외쇼핑몰 ...\n"
     ]
    },
    {
     "data": {
      "text/html": [
       "<pre style=\"white-space:pre;overflow-x:auto;line-height:normal;font-family:Menlo,'DejaVu Sans Mono',consolas,'Courier New',monospace\"><span style=\"color: #008080; text-decoration-color: #008080; font-weight: bold\">[</span><span style=\"color: #008080; text-decoration-color: #008080\">INIT</span><span style=\"color: #008080; text-decoration-color: #008080; font-weight: bold\">]</span><span style=\"color: #008080; text-decoration-color: #008080\">.... → Crawl4AI </span><span style=\"color: #008080; text-decoration-color: #008080; font-weight: bold\">0.7</span><span style=\"color: #008080; text-decoration-color: #008080\">.</span><span style=\"color: #008080; text-decoration-color: #008080; font-weight: bold\">4</span><span style=\"color: #008080; text-decoration-color: #008080\"> </span>\n",
       "</pre>\n"
      ],
      "text/plain": [
       "\u001b[1;36m[\u001b[0m\u001b[36mINIT\u001b[0m\u001b[1;36m]\u001b[0m\u001b[36m...\u001b[0m\u001b[36m. → Crawl4AI \u001b[0m\u001b[1;36m0.7\u001b[0m\u001b[36m.\u001b[0m\u001b[1;36m4\u001b[0m\u001b[36m \u001b[0m\n"
      ]
     },
     "metadata": {},
     "output_type": "display_data"
    },
    {
     "data": {
      "text/html": [
       "<pre style=\"white-space:pre;overflow-x:auto;line-height:normal;font-family:Menlo,'DejaVu Sans Mono',consolas,'Courier New',monospace\"><span style=\"color: #008000; text-decoration-color: #008000; font-weight: bold\">[</span><span style=\"color: #008000; text-decoration-color: #008000\">FETCH</span><span style=\"color: #008000; text-decoration-color: #008000; font-weight: bold\">]</span><span style=\"color: #008000; text-decoration-color: #008000\">... ↓ </span><span style=\"color: #008000; text-decoration-color: #008000; text-decoration: underline\">https://www.kca.go.kr/home/sub.do?menukey=4002&amp;mode=view&amp;no=1003912614&amp;page=1</span><span style=\"color: #008000; text-decoration-color: #008000\">                        |</span>\n",
       "<span style=\"color: #008000; text-decoration-color: #008000\">✓ | ⏱: </span><span style=\"color: #008000; text-decoration-color: #008000; font-weight: bold\">1.</span><span style=\"color: #008000; text-decoration-color: #008000\">12s </span>\n",
       "</pre>\n"
      ],
      "text/plain": [
       "\u001b[1;32m[\u001b[0m\u001b[32mFETCH\u001b[0m\u001b[1;32m]\u001b[0m\u001b[32m...\u001b[0m\u001b[32m ↓ \u001b[0m\u001b[4;32mhttps://www.kca.go.kr/home/sub.do?\u001b[0m\u001b[4;32mmenukey\u001b[0m\u001b[4;32m=\u001b[0m\u001b[4;32m4002\u001b[0m\u001b[4;32m&\u001b[0m\u001b[4;32mmode\u001b[0m\u001b[4;32m=\u001b[0m\u001b[4;32mview\u001b[0m\u001b[4;32m&\u001b[0m\u001b[4;32mno\u001b[0m\u001b[4;32m=\u001b[0m\u001b[4;32m1003912614\u001b[0m\u001b[4;32m&\u001b[0m\u001b[4;32mpage\u001b[0m\u001b[4;32m=\u001b[0m\u001b[4;32m1\u001b[0m\u001b[32m                        |\u001b[0m\n",
       "\u001b[32m✓\u001b[0m\u001b[32m | ⏱: \u001b[0m\u001b[1;32m1.\u001b[0m\u001b[32m12s \u001b[0m\n"
      ]
     },
     "metadata": {},
     "output_type": "display_data"
    },
    {
     "data": {
      "text/html": [
       "<pre style=\"white-space:pre;overflow-x:auto;line-height:normal;font-family:Menlo,'DejaVu Sans Mono',consolas,'Courier New',monospace\"><span style=\"color: #008000; text-decoration-color: #008000; font-weight: bold\">[</span><span style=\"color: #008000; text-decoration-color: #008000\">SCRAPE</span><span style=\"color: #008000; text-decoration-color: #008000; font-weight: bold\">]</span><span style=\"color: #008000; text-decoration-color: #008000\">.. ◆ </span><span style=\"color: #008000; text-decoration-color: #008000; text-decoration: underline\">https://www.kca.go.kr/home/sub.do?menukey=4002&amp;mode=view&amp;no=1003912614&amp;page=1</span><span style=\"color: #008000; text-decoration-color: #008000\">                        |</span>\n",
       "<span style=\"color: #008000; text-decoration-color: #008000\">✓ | ⏱: </span><span style=\"color: #008000; text-decoration-color: #008000; font-weight: bold\">0.</span><span style=\"color: #008000; text-decoration-color: #008000\">05s </span>\n",
       "</pre>\n"
      ],
      "text/plain": [
       "\u001b[1;32m[\u001b[0m\u001b[32mSCRAPE\u001b[0m\u001b[1;32m]\u001b[0m\u001b[32m.. ◆ \u001b[0m\u001b[4;32mhttps://www.kca.go.kr/home/sub.do?\u001b[0m\u001b[4;32mmenukey\u001b[0m\u001b[4;32m=\u001b[0m\u001b[4;32m4002\u001b[0m\u001b[4;32m&\u001b[0m\u001b[4;32mmode\u001b[0m\u001b[4;32m=\u001b[0m\u001b[4;32mview\u001b[0m\u001b[4;32m&\u001b[0m\u001b[4;32mno\u001b[0m\u001b[4;32m=\u001b[0m\u001b[4;32m1003912614\u001b[0m\u001b[4;32m&\u001b[0m\u001b[4;32mpage\u001b[0m\u001b[4;32m=\u001b[0m\u001b[4;32m1\u001b[0m\u001b[32m                        |\u001b[0m\n",
       "\u001b[32m✓\u001b[0m\u001b[32m | ⏱: \u001b[0m\u001b[1;32m0.\u001b[0m\u001b[32m05s \u001b[0m\n"
      ]
     },
     "metadata": {},
     "output_type": "display_data"
    },
    {
     "data": {
      "text/html": [
       "<pre style=\"white-space:pre;overflow-x:auto;line-height:normal;font-family:Menlo,'DejaVu Sans Mono',consolas,'Courier New',monospace\"><span style=\"color: #008000; text-decoration-color: #008000; font-weight: bold\">[</span><span style=\"color: #008000; text-decoration-color: #008000\">COMPLETE</span><span style=\"color: #008000; text-decoration-color: #008000; font-weight: bold\">]</span><span style=\"color: #008000; text-decoration-color: #008000\"> ● </span><span style=\"color: #008000; text-decoration-color: #008000; text-decoration: underline\">https://www.kca.go.kr/home/sub.do?menukey=4002&amp;mode=view&amp;no=1003912614&amp;page=1</span><span style=\"color: #008000; text-decoration-color: #008000\">                        |</span>\n",
       "<span style=\"color: #008000; text-decoration-color: #008000\">✓ | ⏱: </span><span style=\"color: #008000; text-decoration-color: #008000; font-weight: bold\">1.</span><span style=\"color: #008000; text-decoration-color: #008000\">18s </span>\n",
       "</pre>\n"
      ],
      "text/plain": [
       "\u001b[1;32m[\u001b[0m\u001b[32mCOMPLETE\u001b[0m\u001b[1;32m]\u001b[0m\u001b[32m ● \u001b[0m\u001b[4;32mhttps://www.kca.go.kr/home/sub.do?\u001b[0m\u001b[4;32mmenukey\u001b[0m\u001b[4;32m=\u001b[0m\u001b[4;32m4002\u001b[0m\u001b[4;32m&\u001b[0m\u001b[4;32mmode\u001b[0m\u001b[4;32m=\u001b[0m\u001b[4;32mview\u001b[0m\u001b[4;32m&\u001b[0m\u001b[4;32mno\u001b[0m\u001b[4;32m=\u001b[0m\u001b[4;32m1003912614\u001b[0m\u001b[4;32m&\u001b[0m\u001b[4;32mpage\u001b[0m\u001b[4;32m=\u001b[0m\u001b[4;32m1\u001b[0m\u001b[32m                        |\u001b[0m\n",
       "\u001b[32m✓\u001b[0m\u001b[32m | ⏱: \u001b[0m\u001b[1;32m1.\u001b[0m\u001b[32m18s \u001b[0m\n"
      ]
     },
     "metadata": {},
     "output_type": "display_data"
    },
    {
     "name": "stdout",
     "output_type": "stream",
     "text": [
      "https://www.kca.go.kr/home/synapviewer.do?menukey=4002&fno=10048033&bid=00000013&did=1003912614\n",
      "https://www.kca.go.kr/home/synapviewer.do?menukey=4002&fno=10048034&bid=00000013&did=1003912614\n",
      "https://www.kca.go.kr/home/synapviewer.do?menukey=4002&fno=10048035&bid=00000013&did=1003912614\n",
      "페이지 로딩 중: https://www.kca.go.kr/home/synapviewer.do?menukey=4002&fno=10048033&bid=00000013&did=1003912614\n",
      "   - [P1-15] [소비자안전주의보] 멀티탭 오사용 시 화재 위험… 어린...\n"
     ]
    },
    {
     "data": {
      "text/html": [
       "<pre style=\"white-space:pre;overflow-x:auto;line-height:normal;font-family:Menlo,'DejaVu Sans Mono',consolas,'Courier New',monospace\"><span style=\"color: #008080; text-decoration-color: #008080; font-weight: bold\">[</span><span style=\"color: #008080; text-decoration-color: #008080\">INIT</span><span style=\"color: #008080; text-decoration-color: #008080; font-weight: bold\">]</span><span style=\"color: #008080; text-decoration-color: #008080\">.... → Crawl4AI </span><span style=\"color: #008080; text-decoration-color: #008080; font-weight: bold\">0.7</span><span style=\"color: #008080; text-decoration-color: #008080\">.</span><span style=\"color: #008080; text-decoration-color: #008080; font-weight: bold\">4</span><span style=\"color: #008080; text-decoration-color: #008080\"> </span>\n",
       "</pre>\n"
      ],
      "text/plain": [
       "\u001b[1;36m[\u001b[0m\u001b[36mINIT\u001b[0m\u001b[1;36m]\u001b[0m\u001b[36m...\u001b[0m\u001b[36m. → Crawl4AI \u001b[0m\u001b[1;36m0.7\u001b[0m\u001b[36m.\u001b[0m\u001b[1;36m4\u001b[0m\u001b[36m \u001b[0m\n"
      ]
     },
     "metadata": {},
     "output_type": "display_data"
    },
    {
     "data": {
      "text/html": [
       "<pre style=\"white-space:pre;overflow-x:auto;line-height:normal;font-family:Menlo,'DejaVu Sans Mono',consolas,'Courier New',monospace\"><span style=\"color: #008000; text-decoration-color: #008000; font-weight: bold\">[</span><span style=\"color: #008000; text-decoration-color: #008000\">FETCH</span><span style=\"color: #008000; text-decoration-color: #008000; font-weight: bold\">]</span><span style=\"color: #008000; text-decoration-color: #008000\">... ↓ </span><span style=\"color: #008000; text-decoration-color: #008000; text-decoration: underline\">https://www.kca.go.kr/home/sub.do?menukey=4002&amp;mode=view&amp;no=1003911652&amp;page=1</span><span style=\"color: #008000; text-decoration-color: #008000\">                        |</span>\n",
       "<span style=\"color: #008000; text-decoration-color: #008000\">✓ | ⏱: </span><span style=\"color: #008000; text-decoration-color: #008000; font-weight: bold\">1.</span><span style=\"color: #008000; text-decoration-color: #008000\">30s </span>\n",
       "</pre>\n"
      ],
      "text/plain": [
       "\u001b[1;32m[\u001b[0m\u001b[32mFETCH\u001b[0m\u001b[1;32m]\u001b[0m\u001b[32m...\u001b[0m\u001b[32m ↓ \u001b[0m\u001b[4;32mhttps://www.kca.go.kr/home/sub.do?\u001b[0m\u001b[4;32mmenukey\u001b[0m\u001b[4;32m=\u001b[0m\u001b[4;32m4002\u001b[0m\u001b[4;32m&\u001b[0m\u001b[4;32mmode\u001b[0m\u001b[4;32m=\u001b[0m\u001b[4;32mview\u001b[0m\u001b[4;32m&\u001b[0m\u001b[4;32mno\u001b[0m\u001b[4;32m=\u001b[0m\u001b[4;32m1003911652\u001b[0m\u001b[4;32m&\u001b[0m\u001b[4;32mpage\u001b[0m\u001b[4;32m=\u001b[0m\u001b[4;32m1\u001b[0m\u001b[32m                        |\u001b[0m\n",
       "\u001b[32m✓\u001b[0m\u001b[32m | ⏱: \u001b[0m\u001b[1;32m1.\u001b[0m\u001b[32m30s \u001b[0m\n"
      ]
     },
     "metadata": {},
     "output_type": "display_data"
    },
    {
     "data": {
      "text/html": [
       "<pre style=\"white-space:pre;overflow-x:auto;line-height:normal;font-family:Menlo,'DejaVu Sans Mono',consolas,'Courier New',monospace\"><span style=\"color: #008000; text-decoration-color: #008000; font-weight: bold\">[</span><span style=\"color: #008000; text-decoration-color: #008000\">SCRAPE</span><span style=\"color: #008000; text-decoration-color: #008000; font-weight: bold\">]</span><span style=\"color: #008000; text-decoration-color: #008000\">.. ◆ </span><span style=\"color: #008000; text-decoration-color: #008000; text-decoration: underline\">https://www.kca.go.kr/home/sub.do?menukey=4002&amp;mode=view&amp;no=1003911652&amp;page=1</span><span style=\"color: #008000; text-decoration-color: #008000\">                        |</span>\n",
       "<span style=\"color: #008000; text-decoration-color: #008000\">✓ | ⏱: </span><span style=\"color: #008000; text-decoration-color: #008000; font-weight: bold\">0.</span><span style=\"color: #008000; text-decoration-color: #008000\">10s </span>\n",
       "</pre>\n"
      ],
      "text/plain": [
       "\u001b[1;32m[\u001b[0m\u001b[32mSCRAPE\u001b[0m\u001b[1;32m]\u001b[0m\u001b[32m.. ◆ \u001b[0m\u001b[4;32mhttps://www.kca.go.kr/home/sub.do?\u001b[0m\u001b[4;32mmenukey\u001b[0m\u001b[4;32m=\u001b[0m\u001b[4;32m4002\u001b[0m\u001b[4;32m&\u001b[0m\u001b[4;32mmode\u001b[0m\u001b[4;32m=\u001b[0m\u001b[4;32mview\u001b[0m\u001b[4;32m&\u001b[0m\u001b[4;32mno\u001b[0m\u001b[4;32m=\u001b[0m\u001b[4;32m1003911652\u001b[0m\u001b[4;32m&\u001b[0m\u001b[4;32mpage\u001b[0m\u001b[4;32m=\u001b[0m\u001b[4;32m1\u001b[0m\u001b[32m                        |\u001b[0m\n",
       "\u001b[32m✓\u001b[0m\u001b[32m | ⏱: \u001b[0m\u001b[1;32m0.\u001b[0m\u001b[32m10s \u001b[0m\n"
      ]
     },
     "metadata": {},
     "output_type": "display_data"
    },
    {
     "data": {
      "text/html": [
       "<pre style=\"white-space:pre;overflow-x:auto;line-height:normal;font-family:Menlo,'DejaVu Sans Mono',consolas,'Courier New',monospace\"><span style=\"color: #008000; text-decoration-color: #008000; font-weight: bold\">[</span><span style=\"color: #008000; text-decoration-color: #008000\">COMPLETE</span><span style=\"color: #008000; text-decoration-color: #008000; font-weight: bold\">]</span><span style=\"color: #008000; text-decoration-color: #008000\"> ● </span><span style=\"color: #008000; text-decoration-color: #008000; text-decoration: underline\">https://www.kca.go.kr/home/sub.do?menukey=4002&amp;mode=view&amp;no=1003911652&amp;page=1</span><span style=\"color: #008000; text-decoration-color: #008000\">                        |</span>\n",
       "<span style=\"color: #008000; text-decoration-color: #008000\">✓ | ⏱: </span><span style=\"color: #008000; text-decoration-color: #008000; font-weight: bold\">1.</span><span style=\"color: #008000; text-decoration-color: #008000\">41s </span>\n",
       "</pre>\n"
      ],
      "text/plain": [
       "\u001b[1;32m[\u001b[0m\u001b[32mCOMPLETE\u001b[0m\u001b[1;32m]\u001b[0m\u001b[32m ● \u001b[0m\u001b[4;32mhttps://www.kca.go.kr/home/sub.do?\u001b[0m\u001b[4;32mmenukey\u001b[0m\u001b[4;32m=\u001b[0m\u001b[4;32m4002\u001b[0m\u001b[4;32m&\u001b[0m\u001b[4;32mmode\u001b[0m\u001b[4;32m=\u001b[0m\u001b[4;32mview\u001b[0m\u001b[4;32m&\u001b[0m\u001b[4;32mno\u001b[0m\u001b[4;32m=\u001b[0m\u001b[4;32m1003911652\u001b[0m\u001b[4;32m&\u001b[0m\u001b[4;32mpage\u001b[0m\u001b[4;32m=\u001b[0m\u001b[4;32m1\u001b[0m\u001b[32m                        |\u001b[0m\n",
       "\u001b[32m✓\u001b[0m\u001b[32m | ⏱: \u001b[0m\u001b[1;32m1.\u001b[0m\u001b[32m41s \u001b[0m\n"
      ]
     },
     "metadata": {},
     "output_type": "display_data"
    },
    {
     "name": "stdout",
     "output_type": "stream",
     "text": [
      "https://www.kca.go.kr/home/synapviewer.do?menukey=4002&fno=10047996&bid=00000013&did=1003911652\n",
      "https://www.kca.go.kr/home/synapviewer.do?menukey=4002&fno=10047997&bid=00000013&did=1003911652\n",
      "https://www.kca.go.kr/home/synapviewer.do?menukey=4002&fno=10047998&bid=00000013&did=1003911652\n",
      "페이지 로딩 중: https://www.kca.go.kr/home/synapviewer.do?menukey=4002&fno=10047997&bid=00000013&did=1003911652\n",
      "   - [P1-16] 일부 로봇청소기, 카메라 사진 열람 등 보안 취약점 발...\n"
     ]
    },
    {
     "data": {
      "text/html": [
       "<pre style=\"white-space:pre;overflow-x:auto;line-height:normal;font-family:Menlo,'DejaVu Sans Mono',consolas,'Courier New',monospace\"><span style=\"color: #008080; text-decoration-color: #008080; font-weight: bold\">[</span><span style=\"color: #008080; text-decoration-color: #008080\">INIT</span><span style=\"color: #008080; text-decoration-color: #008080; font-weight: bold\">]</span><span style=\"color: #008080; text-decoration-color: #008080\">.... → Crawl4AI </span><span style=\"color: #008080; text-decoration-color: #008080; font-weight: bold\">0.7</span><span style=\"color: #008080; text-decoration-color: #008080\">.</span><span style=\"color: #008080; text-decoration-color: #008080; font-weight: bold\">4</span><span style=\"color: #008080; text-decoration-color: #008080\"> </span>\n",
       "</pre>\n"
      ],
      "text/plain": [
       "\u001b[1;36m[\u001b[0m\u001b[36mINIT\u001b[0m\u001b[1;36m]\u001b[0m\u001b[36m...\u001b[0m\u001b[36m. → Crawl4AI \u001b[0m\u001b[1;36m0.7\u001b[0m\u001b[36m.\u001b[0m\u001b[1;36m4\u001b[0m\u001b[36m \u001b[0m\n"
      ]
     },
     "metadata": {},
     "output_type": "display_data"
    },
    {
     "data": {
      "text/html": [
       "<pre style=\"white-space:pre;overflow-x:auto;line-height:normal;font-family:Menlo,'DejaVu Sans Mono',consolas,'Courier New',monospace\"><span style=\"color: #008000; text-decoration-color: #008000; font-weight: bold\">[</span><span style=\"color: #008000; text-decoration-color: #008000\">FETCH</span><span style=\"color: #008000; text-decoration-color: #008000; font-weight: bold\">]</span><span style=\"color: #008000; text-decoration-color: #008000\">... ↓ </span><span style=\"color: #008000; text-decoration-color: #008000; text-decoration: underline\">https://www.kca.go.kr/home/sub.do?menukey=4002&amp;mode=view&amp;no=1003912381&amp;page=1</span><span style=\"color: #008000; text-decoration-color: #008000\">                        |</span>\n",
       "<span style=\"color: #008000; text-decoration-color: #008000\">✓ | ⏱: </span><span style=\"color: #008000; text-decoration-color: #008000; font-weight: bold\">1.</span><span style=\"color: #008000; text-decoration-color: #008000\">45s </span>\n",
       "</pre>\n"
      ],
      "text/plain": [
       "\u001b[1;32m[\u001b[0m\u001b[32mFETCH\u001b[0m\u001b[1;32m]\u001b[0m\u001b[32m...\u001b[0m\u001b[32m ↓ \u001b[0m\u001b[4;32mhttps://www.kca.go.kr/home/sub.do?\u001b[0m\u001b[4;32mmenukey\u001b[0m\u001b[4;32m=\u001b[0m\u001b[4;32m4002\u001b[0m\u001b[4;32m&\u001b[0m\u001b[4;32mmode\u001b[0m\u001b[4;32m=\u001b[0m\u001b[4;32mview\u001b[0m\u001b[4;32m&\u001b[0m\u001b[4;32mno\u001b[0m\u001b[4;32m=\u001b[0m\u001b[4;32m1003912381\u001b[0m\u001b[4;32m&\u001b[0m\u001b[4;32mpage\u001b[0m\u001b[4;32m=\u001b[0m\u001b[4;32m1\u001b[0m\u001b[32m                        |\u001b[0m\n",
       "\u001b[32m✓\u001b[0m\u001b[32m | ⏱: \u001b[0m\u001b[1;32m1.\u001b[0m\u001b[32m45s \u001b[0m\n"
      ]
     },
     "metadata": {},
     "output_type": "display_data"
    },
    {
     "data": {
      "text/html": [
       "<pre style=\"white-space:pre;overflow-x:auto;line-height:normal;font-family:Menlo,'DejaVu Sans Mono',consolas,'Courier New',monospace\"><span style=\"color: #008000; text-decoration-color: #008000; font-weight: bold\">[</span><span style=\"color: #008000; text-decoration-color: #008000\">SCRAPE</span><span style=\"color: #008000; text-decoration-color: #008000; font-weight: bold\">]</span><span style=\"color: #008000; text-decoration-color: #008000\">.. ◆ </span><span style=\"color: #008000; text-decoration-color: #008000; text-decoration: underline\">https://www.kca.go.kr/home/sub.do?menukey=4002&amp;mode=view&amp;no=1003912381&amp;page=1</span><span style=\"color: #008000; text-decoration-color: #008000\">                        |</span>\n",
       "<span style=\"color: #008000; text-decoration-color: #008000\">✓ | ⏱: </span><span style=\"color: #008000; text-decoration-color: #008000; font-weight: bold\">0.</span><span style=\"color: #008000; text-decoration-color: #008000\">10s </span>\n",
       "</pre>\n"
      ],
      "text/plain": [
       "\u001b[1;32m[\u001b[0m\u001b[32mSCRAPE\u001b[0m\u001b[1;32m]\u001b[0m\u001b[32m.. ◆ \u001b[0m\u001b[4;32mhttps://www.kca.go.kr/home/sub.do?\u001b[0m\u001b[4;32mmenukey\u001b[0m\u001b[4;32m=\u001b[0m\u001b[4;32m4002\u001b[0m\u001b[4;32m&\u001b[0m\u001b[4;32mmode\u001b[0m\u001b[4;32m=\u001b[0m\u001b[4;32mview\u001b[0m\u001b[4;32m&\u001b[0m\u001b[4;32mno\u001b[0m\u001b[4;32m=\u001b[0m\u001b[4;32m1003912381\u001b[0m\u001b[4;32m&\u001b[0m\u001b[4;32mpage\u001b[0m\u001b[4;32m=\u001b[0m\u001b[4;32m1\u001b[0m\u001b[32m                        |\u001b[0m\n",
       "\u001b[32m✓\u001b[0m\u001b[32m | ⏱: \u001b[0m\u001b[1;32m0.\u001b[0m\u001b[32m10s \u001b[0m\n"
      ]
     },
     "metadata": {},
     "output_type": "display_data"
    },
    {
     "data": {
      "text/html": [
       "<pre style=\"white-space:pre;overflow-x:auto;line-height:normal;font-family:Menlo,'DejaVu Sans Mono',consolas,'Courier New',monospace\"><span style=\"color: #008000; text-decoration-color: #008000; font-weight: bold\">[</span><span style=\"color: #008000; text-decoration-color: #008000\">COMPLETE</span><span style=\"color: #008000; text-decoration-color: #008000; font-weight: bold\">]</span><span style=\"color: #008000; text-decoration-color: #008000\"> ● </span><span style=\"color: #008000; text-decoration-color: #008000; text-decoration: underline\">https://www.kca.go.kr/home/sub.do?menukey=4002&amp;mode=view&amp;no=1003912381&amp;page=1</span><span style=\"color: #008000; text-decoration-color: #008000\">                        |</span>\n",
       "<span style=\"color: #008000; text-decoration-color: #008000\">✓ | ⏱: </span><span style=\"color: #008000; text-decoration-color: #008000; font-weight: bold\">1.</span><span style=\"color: #008000; text-decoration-color: #008000\">56s </span>\n",
       "</pre>\n"
      ],
      "text/plain": [
       "\u001b[1;32m[\u001b[0m\u001b[32mCOMPLETE\u001b[0m\u001b[1;32m]\u001b[0m\u001b[32m ● \u001b[0m\u001b[4;32mhttps://www.kca.go.kr/home/sub.do?\u001b[0m\u001b[4;32mmenukey\u001b[0m\u001b[4;32m=\u001b[0m\u001b[4;32m4002\u001b[0m\u001b[4;32m&\u001b[0m\u001b[4;32mmode\u001b[0m\u001b[4;32m=\u001b[0m\u001b[4;32mview\u001b[0m\u001b[4;32m&\u001b[0m\u001b[4;32mno\u001b[0m\u001b[4;32m=\u001b[0m\u001b[4;32m1003912381\u001b[0m\u001b[4;32m&\u001b[0m\u001b[4;32mpage\u001b[0m\u001b[4;32m=\u001b[0m\u001b[4;32m1\u001b[0m\u001b[32m                        |\u001b[0m\n",
       "\u001b[32m✓\u001b[0m\u001b[32m | ⏱: \u001b[0m\u001b[1;32m1.\u001b[0m\u001b[32m56s \u001b[0m\n"
      ]
     },
     "metadata": {},
     "output_type": "display_data"
    },
    {
     "name": "stdout",
     "output_type": "stream",
     "text": [
      "https://www.kca.go.kr/home/synapviewer.do?menukey=4002&fno=10048017&bid=00000013&did=1003912381\n",
      "https://www.kca.go.kr/home/synapviewer.do?menukey=4002&fno=10048018&bid=00000013&did=1003912381\n",
      "https://www.kca.go.kr/home/synapviewer.do?menukey=4002&fno=10048019&bid=00000013&did=1003912381\n",
      "페이지 로딩 중: https://www.kca.go.kr/home/synapviewer.do?menukey=4002&fno=10048018&bid=00000013&did=1003912381\n",
      "   - [P1-17] SK텔레콤㈜ 유심 해킹 사고 관련 집단분쟁조정 절차 개...\n"
     ]
    },
    {
     "data": {
      "text/html": [
       "<pre style=\"white-space:pre;overflow-x:auto;line-height:normal;font-family:Menlo,'DejaVu Sans Mono',consolas,'Courier New',monospace\"><span style=\"color: #008080; text-decoration-color: #008080; font-weight: bold\">[</span><span style=\"color: #008080; text-decoration-color: #008080\">INIT</span><span style=\"color: #008080; text-decoration-color: #008080; font-weight: bold\">]</span><span style=\"color: #008080; text-decoration-color: #008080\">.... → Crawl4AI </span><span style=\"color: #008080; text-decoration-color: #008080; font-weight: bold\">0.7</span><span style=\"color: #008080; text-decoration-color: #008080\">.</span><span style=\"color: #008080; text-decoration-color: #008080; font-weight: bold\">4</span><span style=\"color: #008080; text-decoration-color: #008080\"> </span>\n",
       "</pre>\n"
      ],
      "text/plain": [
       "\u001b[1;36m[\u001b[0m\u001b[36mINIT\u001b[0m\u001b[1;36m]\u001b[0m\u001b[36m...\u001b[0m\u001b[36m. → Crawl4AI \u001b[0m\u001b[1;36m0.7\u001b[0m\u001b[36m.\u001b[0m\u001b[1;36m4\u001b[0m\u001b[36m \u001b[0m\n"
      ]
     },
     "metadata": {},
     "output_type": "display_data"
    },
    {
     "data": {
      "text/html": [
       "<pre style=\"white-space:pre;overflow-x:auto;line-height:normal;font-family:Menlo,'DejaVu Sans Mono',consolas,'Courier New',monospace\"><span style=\"color: #008000; text-decoration-color: #008000; font-weight: bold\">[</span><span style=\"color: #008000; text-decoration-color: #008000\">FETCH</span><span style=\"color: #008000; text-decoration-color: #008000; font-weight: bold\">]</span><span style=\"color: #008000; text-decoration-color: #008000\">... ↓ </span><span style=\"color: #008000; text-decoration-color: #008000; text-decoration: underline\">https://www.kca.go.kr/home/sub.do?menukey=4002&amp;mode=view&amp;no=1003912049&amp;page=1</span><span style=\"color: #008000; text-decoration-color: #008000\">                        |</span>\n",
       "<span style=\"color: #008000; text-decoration-color: #008000\">✓ | ⏱: </span><span style=\"color: #008000; text-decoration-color: #008000; font-weight: bold\">1.</span><span style=\"color: #008000; text-decoration-color: #008000\">82s </span>\n",
       "</pre>\n"
      ],
      "text/plain": [
       "\u001b[1;32m[\u001b[0m\u001b[32mFETCH\u001b[0m\u001b[1;32m]\u001b[0m\u001b[32m...\u001b[0m\u001b[32m ↓ \u001b[0m\u001b[4;32mhttps://www.kca.go.kr/home/sub.do?\u001b[0m\u001b[4;32mmenukey\u001b[0m\u001b[4;32m=\u001b[0m\u001b[4;32m4002\u001b[0m\u001b[4;32m&\u001b[0m\u001b[4;32mmode\u001b[0m\u001b[4;32m=\u001b[0m\u001b[4;32mview\u001b[0m\u001b[4;32m&\u001b[0m\u001b[4;32mno\u001b[0m\u001b[4;32m=\u001b[0m\u001b[4;32m1003912049\u001b[0m\u001b[4;32m&\u001b[0m\u001b[4;32mpage\u001b[0m\u001b[4;32m=\u001b[0m\u001b[4;32m1\u001b[0m\u001b[32m                        |\u001b[0m\n",
       "\u001b[32m✓\u001b[0m\u001b[32m | ⏱: \u001b[0m\u001b[1;32m1.\u001b[0m\u001b[32m82s \u001b[0m\n"
      ]
     },
     "metadata": {},
     "output_type": "display_data"
    },
    {
     "data": {
      "text/html": [
       "<pre style=\"white-space:pre;overflow-x:auto;line-height:normal;font-family:Menlo,'DejaVu Sans Mono',consolas,'Courier New',monospace\"><span style=\"color: #008000; text-decoration-color: #008000; font-weight: bold\">[</span><span style=\"color: #008000; text-decoration-color: #008000\">SCRAPE</span><span style=\"color: #008000; text-decoration-color: #008000; font-weight: bold\">]</span><span style=\"color: #008000; text-decoration-color: #008000\">.. ◆ </span><span style=\"color: #008000; text-decoration-color: #008000; text-decoration: underline\">https://www.kca.go.kr/home/sub.do?menukey=4002&amp;mode=view&amp;no=1003912049&amp;page=1</span><span style=\"color: #008000; text-decoration-color: #008000\">                        |</span>\n",
       "<span style=\"color: #008000; text-decoration-color: #008000\">✓ | ⏱: </span><span style=\"color: #008000; text-decoration-color: #008000; font-weight: bold\">0.</span><span style=\"color: #008000; text-decoration-color: #008000\">04s </span>\n",
       "</pre>\n"
      ],
      "text/plain": [
       "\u001b[1;32m[\u001b[0m\u001b[32mSCRAPE\u001b[0m\u001b[1;32m]\u001b[0m\u001b[32m.. ◆ \u001b[0m\u001b[4;32mhttps://www.kca.go.kr/home/sub.do?\u001b[0m\u001b[4;32mmenukey\u001b[0m\u001b[4;32m=\u001b[0m\u001b[4;32m4002\u001b[0m\u001b[4;32m&\u001b[0m\u001b[4;32mmode\u001b[0m\u001b[4;32m=\u001b[0m\u001b[4;32mview\u001b[0m\u001b[4;32m&\u001b[0m\u001b[4;32mno\u001b[0m\u001b[4;32m=\u001b[0m\u001b[4;32m1003912049\u001b[0m\u001b[4;32m&\u001b[0m\u001b[4;32mpage\u001b[0m\u001b[4;32m=\u001b[0m\u001b[4;32m1\u001b[0m\u001b[32m                        |\u001b[0m\n",
       "\u001b[32m✓\u001b[0m\u001b[32m | ⏱: \u001b[0m\u001b[1;32m0.\u001b[0m\u001b[32m04s \u001b[0m\n"
      ]
     },
     "metadata": {},
     "output_type": "display_data"
    },
    {
     "data": {
      "text/html": [
       "<pre style=\"white-space:pre;overflow-x:auto;line-height:normal;font-family:Menlo,'DejaVu Sans Mono',consolas,'Courier New',monospace\"><span style=\"color: #008000; text-decoration-color: #008000; font-weight: bold\">[</span><span style=\"color: #008000; text-decoration-color: #008000\">COMPLETE</span><span style=\"color: #008000; text-decoration-color: #008000; font-weight: bold\">]</span><span style=\"color: #008000; text-decoration-color: #008000\"> ● </span><span style=\"color: #008000; text-decoration-color: #008000; text-decoration: underline\">https://www.kca.go.kr/home/sub.do?menukey=4002&amp;mode=view&amp;no=1003912049&amp;page=1</span><span style=\"color: #008000; text-decoration-color: #008000\">                        |</span>\n",
       "<span style=\"color: #008000; text-decoration-color: #008000\">✓ | ⏱: </span><span style=\"color: #008000; text-decoration-color: #008000; font-weight: bold\">1.</span><span style=\"color: #008000; text-decoration-color: #008000\">86s </span>\n",
       "</pre>\n"
      ],
      "text/plain": [
       "\u001b[1;32m[\u001b[0m\u001b[32mCOMPLETE\u001b[0m\u001b[1;32m]\u001b[0m\u001b[32m ● \u001b[0m\u001b[4;32mhttps://www.kca.go.kr/home/sub.do?\u001b[0m\u001b[4;32mmenukey\u001b[0m\u001b[4;32m=\u001b[0m\u001b[4;32m4002\u001b[0m\u001b[4;32m&\u001b[0m\u001b[4;32mmode\u001b[0m\u001b[4;32m=\u001b[0m\u001b[4;32mview\u001b[0m\u001b[4;32m&\u001b[0m\u001b[4;32mno\u001b[0m\u001b[4;32m=\u001b[0m\u001b[4;32m1003912049\u001b[0m\u001b[4;32m&\u001b[0m\u001b[4;32mpage\u001b[0m\u001b[4;32m=\u001b[0m\u001b[4;32m1\u001b[0m\u001b[32m                        |\u001b[0m\n",
       "\u001b[32m✓\u001b[0m\u001b[32m | ⏱: \u001b[0m\u001b[1;32m1.\u001b[0m\u001b[32m86s \u001b[0m\n"
      ]
     },
     "metadata": {},
     "output_type": "display_data"
    },
    {
     "name": "stdout",
     "output_type": "stream",
     "text": [
      "https://www.kca.go.kr/home/synapviewer.do?menukey=4002&fno=10048005&bid=00000013&did=1003912049\n",
      "https://www.kca.go.kr/home/synapviewer.do?menukey=4002&fno=10048007&bid=00000013&did=1003912049\n",
      "https://www.kca.go.kr/home/synapviewer.do?menukey=4002&fno=10048008&bid=00000013&did=1003912049\n",
      "페이지 로딩 중: https://www.kca.go.kr/home/synapviewer.do?menukey=4002&fno=10048007&bid=00000013&did=1003912049\n",
      "   - [P1-18] 한국소비자원 직원 사칭 구매대행 유도 사기 주의!...\n"
     ]
    },
    {
     "data": {
      "text/html": [
       "<pre style=\"white-space:pre;overflow-x:auto;line-height:normal;font-family:Menlo,'DejaVu Sans Mono',consolas,'Courier New',monospace\"><span style=\"color: #008080; text-decoration-color: #008080; font-weight: bold\">[</span><span style=\"color: #008080; text-decoration-color: #008080\">INIT</span><span style=\"color: #008080; text-decoration-color: #008080; font-weight: bold\">]</span><span style=\"color: #008080; text-decoration-color: #008080\">.... → Crawl4AI </span><span style=\"color: #008080; text-decoration-color: #008080; font-weight: bold\">0.7</span><span style=\"color: #008080; text-decoration-color: #008080\">.</span><span style=\"color: #008080; text-decoration-color: #008080; font-weight: bold\">4</span><span style=\"color: #008080; text-decoration-color: #008080\"> </span>\n",
       "</pre>\n"
      ],
      "text/plain": [
       "\u001b[1;36m[\u001b[0m\u001b[36mINIT\u001b[0m\u001b[1;36m]\u001b[0m\u001b[36m...\u001b[0m\u001b[36m. → Crawl4AI \u001b[0m\u001b[1;36m0.7\u001b[0m\u001b[36m.\u001b[0m\u001b[1;36m4\u001b[0m\u001b[36m \u001b[0m\n"
      ]
     },
     "metadata": {},
     "output_type": "display_data"
    },
    {
     "data": {
      "text/html": [
       "<pre style=\"white-space:pre;overflow-x:auto;line-height:normal;font-family:Menlo,'DejaVu Sans Mono',consolas,'Courier New',monospace\"><span style=\"color: #008000; text-decoration-color: #008000; font-weight: bold\">[</span><span style=\"color: #008000; text-decoration-color: #008000\">FETCH</span><span style=\"color: #008000; text-decoration-color: #008000; font-weight: bold\">]</span><span style=\"color: #008000; text-decoration-color: #008000\">... ↓ </span><span style=\"color: #008000; text-decoration-color: #008000; text-decoration: underline\">https://www.kca.go.kr/home/sub.do?menukey=4002&amp;mode=view&amp;no=1003911444&amp;page=1</span><span style=\"color: #008000; text-decoration-color: #008000\">                        |</span>\n",
       "<span style=\"color: #008000; text-decoration-color: #008000\">✓ | ⏱: </span><span style=\"color: #008000; text-decoration-color: #008000; font-weight: bold\">1.</span><span style=\"color: #008000; text-decoration-color: #008000\">67s </span>\n",
       "</pre>\n"
      ],
      "text/plain": [
       "\u001b[1;32m[\u001b[0m\u001b[32mFETCH\u001b[0m\u001b[1;32m]\u001b[0m\u001b[32m...\u001b[0m\u001b[32m ↓ \u001b[0m\u001b[4;32mhttps://www.kca.go.kr/home/sub.do?\u001b[0m\u001b[4;32mmenukey\u001b[0m\u001b[4;32m=\u001b[0m\u001b[4;32m4002\u001b[0m\u001b[4;32m&\u001b[0m\u001b[4;32mmode\u001b[0m\u001b[4;32m=\u001b[0m\u001b[4;32mview\u001b[0m\u001b[4;32m&\u001b[0m\u001b[4;32mno\u001b[0m\u001b[4;32m=\u001b[0m\u001b[4;32m1003911444\u001b[0m\u001b[4;32m&\u001b[0m\u001b[4;32mpage\u001b[0m\u001b[4;32m=\u001b[0m\u001b[4;32m1\u001b[0m\u001b[32m                        |\u001b[0m\n",
       "\u001b[32m✓\u001b[0m\u001b[32m | ⏱: \u001b[0m\u001b[1;32m1.\u001b[0m\u001b[32m67s \u001b[0m\n"
      ]
     },
     "metadata": {},
     "output_type": "display_data"
    },
    {
     "data": {
      "text/html": [
       "<pre style=\"white-space:pre;overflow-x:auto;line-height:normal;font-family:Menlo,'DejaVu Sans Mono',consolas,'Courier New',monospace\"><span style=\"color: #008000; text-decoration-color: #008000; font-weight: bold\">[</span><span style=\"color: #008000; text-decoration-color: #008000\">SCRAPE</span><span style=\"color: #008000; text-decoration-color: #008000; font-weight: bold\">]</span><span style=\"color: #008000; text-decoration-color: #008000\">.. ◆ </span><span style=\"color: #008000; text-decoration-color: #008000; text-decoration: underline\">https://www.kca.go.kr/home/sub.do?menukey=4002&amp;mode=view&amp;no=1003911444&amp;page=1</span><span style=\"color: #008000; text-decoration-color: #008000\">                        |</span>\n",
       "<span style=\"color: #008000; text-decoration-color: #008000\">✓ | ⏱: </span><span style=\"color: #008000; text-decoration-color: #008000; font-weight: bold\">0.</span><span style=\"color: #008000; text-decoration-color: #008000\">10s </span>\n",
       "</pre>\n"
      ],
      "text/plain": [
       "\u001b[1;32m[\u001b[0m\u001b[32mSCRAPE\u001b[0m\u001b[1;32m]\u001b[0m\u001b[32m.. ◆ \u001b[0m\u001b[4;32mhttps://www.kca.go.kr/home/sub.do?\u001b[0m\u001b[4;32mmenukey\u001b[0m\u001b[4;32m=\u001b[0m\u001b[4;32m4002\u001b[0m\u001b[4;32m&\u001b[0m\u001b[4;32mmode\u001b[0m\u001b[4;32m=\u001b[0m\u001b[4;32mview\u001b[0m\u001b[4;32m&\u001b[0m\u001b[4;32mno\u001b[0m\u001b[4;32m=\u001b[0m\u001b[4;32m1003911444\u001b[0m\u001b[4;32m&\u001b[0m\u001b[4;32mpage\u001b[0m\u001b[4;32m=\u001b[0m\u001b[4;32m1\u001b[0m\u001b[32m                        |\u001b[0m\n",
       "\u001b[32m✓\u001b[0m\u001b[32m | ⏱: \u001b[0m\u001b[1;32m0.\u001b[0m\u001b[32m10s \u001b[0m\n"
      ]
     },
     "metadata": {},
     "output_type": "display_data"
    },
    {
     "data": {
      "text/html": [
       "<pre style=\"white-space:pre;overflow-x:auto;line-height:normal;font-family:Menlo,'DejaVu Sans Mono',consolas,'Courier New',monospace\"><span style=\"color: #008000; text-decoration-color: #008000; font-weight: bold\">[</span><span style=\"color: #008000; text-decoration-color: #008000\">COMPLETE</span><span style=\"color: #008000; text-decoration-color: #008000; font-weight: bold\">]</span><span style=\"color: #008000; text-decoration-color: #008000\"> ● </span><span style=\"color: #008000; text-decoration-color: #008000; text-decoration: underline\">https://www.kca.go.kr/home/sub.do?menukey=4002&amp;mode=view&amp;no=1003911444&amp;page=1</span><span style=\"color: #008000; text-decoration-color: #008000\">                        |</span>\n",
       "<span style=\"color: #008000; text-decoration-color: #008000\">✓ | ⏱: </span><span style=\"color: #008000; text-decoration-color: #008000; font-weight: bold\">1.</span><span style=\"color: #008000; text-decoration-color: #008000\">78s </span>\n",
       "</pre>\n"
      ],
      "text/plain": [
       "\u001b[1;32m[\u001b[0m\u001b[32mCOMPLETE\u001b[0m\u001b[1;32m]\u001b[0m\u001b[32m ● \u001b[0m\u001b[4;32mhttps://www.kca.go.kr/home/sub.do?\u001b[0m\u001b[4;32mmenukey\u001b[0m\u001b[4;32m=\u001b[0m\u001b[4;32m4002\u001b[0m\u001b[4;32m&\u001b[0m\u001b[4;32mmode\u001b[0m\u001b[4;32m=\u001b[0m\u001b[4;32mview\u001b[0m\u001b[4;32m&\u001b[0m\u001b[4;32mno\u001b[0m\u001b[4;32m=\u001b[0m\u001b[4;32m1003911444\u001b[0m\u001b[4;32m&\u001b[0m\u001b[4;32mpage\u001b[0m\u001b[4;32m=\u001b[0m\u001b[4;32m1\u001b[0m\u001b[32m                        |\u001b[0m\n",
       "\u001b[32m✓\u001b[0m\u001b[32m | ⏱: \u001b[0m\u001b[1;32m1.\u001b[0m\u001b[32m78s \u001b[0m\n"
      ]
     },
     "metadata": {},
     "output_type": "display_data"
    },
    {
     "name": "stdout",
     "output_type": "stream",
     "text": [
      "https://www.kca.go.kr/home/synapviewer.do?menukey=4002&fno=10047992&bid=00000013&did=1003911444\n",
      "https://www.kca.go.kr/home/synapviewer.do?menukey=4002&fno=10047993&bid=00000013&did=1003911444\n",
      "https://www.kca.go.kr/home/synapviewer.do?menukey=4002&fno=10047994&bid=00000013&did=1003911444\n",
      "페이지 로딩 중: https://www.kca.go.kr/home/synapviewer.do?menukey=4002&fno=10047994&bid=00000013&did=1003911444\n",
      "   - [P1-19] [피해예방주의보] '햅핑(의류 도매 S-마트)' 쇼핑몰...\n"
     ]
    },
    {
     "data": {
      "text/html": [
       "<pre style=\"white-space:pre;overflow-x:auto;line-height:normal;font-family:Menlo,'DejaVu Sans Mono',consolas,'Courier New',monospace\"><span style=\"color: #008080; text-decoration-color: #008080; font-weight: bold\">[</span><span style=\"color: #008080; text-decoration-color: #008080\">INIT</span><span style=\"color: #008080; text-decoration-color: #008080; font-weight: bold\">]</span><span style=\"color: #008080; text-decoration-color: #008080\">.... → Crawl4AI </span><span style=\"color: #008080; text-decoration-color: #008080; font-weight: bold\">0.7</span><span style=\"color: #008080; text-decoration-color: #008080\">.</span><span style=\"color: #008080; text-decoration-color: #008080; font-weight: bold\">4</span><span style=\"color: #008080; text-decoration-color: #008080\"> </span>\n",
       "</pre>\n"
      ],
      "text/plain": [
       "\u001b[1;36m[\u001b[0m\u001b[36mINIT\u001b[0m\u001b[1;36m]\u001b[0m\u001b[36m...\u001b[0m\u001b[36m. → Crawl4AI \u001b[0m\u001b[1;36m0.7\u001b[0m\u001b[36m.\u001b[0m\u001b[1;36m4\u001b[0m\u001b[36m \u001b[0m\n"
      ]
     },
     "metadata": {},
     "output_type": "display_data"
    },
    {
     "data": {
      "text/html": [
       "<pre style=\"white-space:pre;overflow-x:auto;line-height:normal;font-family:Menlo,'DejaVu Sans Mono',consolas,'Courier New',monospace\"><span style=\"color: #008000; text-decoration-color: #008000; font-weight: bold\">[</span><span style=\"color: #008000; text-decoration-color: #008000\">FETCH</span><span style=\"color: #008000; text-decoration-color: #008000; font-weight: bold\">]</span><span style=\"color: #008000; text-decoration-color: #008000\">... ↓ </span><span style=\"color: #008000; text-decoration-color: #008000; text-decoration: underline\">https://www.kca.go.kr/home/sub.do?menukey=4002&amp;mode=view&amp;no=1003910772&amp;page=1</span><span style=\"color: #008000; text-decoration-color: #008000\">                        |</span>\n",
       "<span style=\"color: #008000; text-decoration-color: #008000\">✓ | ⏱: </span><span style=\"color: #008000; text-decoration-color: #008000; font-weight: bold\">1.</span><span style=\"color: #008000; text-decoration-color: #008000\">32s </span>\n",
       "</pre>\n"
      ],
      "text/plain": [
       "\u001b[1;32m[\u001b[0m\u001b[32mFETCH\u001b[0m\u001b[1;32m]\u001b[0m\u001b[32m...\u001b[0m\u001b[32m ↓ \u001b[0m\u001b[4;32mhttps://www.kca.go.kr/home/sub.do?\u001b[0m\u001b[4;32mmenukey\u001b[0m\u001b[4;32m=\u001b[0m\u001b[4;32m4002\u001b[0m\u001b[4;32m&\u001b[0m\u001b[4;32mmode\u001b[0m\u001b[4;32m=\u001b[0m\u001b[4;32mview\u001b[0m\u001b[4;32m&\u001b[0m\u001b[4;32mno\u001b[0m\u001b[4;32m=\u001b[0m\u001b[4;32m1003910772\u001b[0m\u001b[4;32m&\u001b[0m\u001b[4;32mpage\u001b[0m\u001b[4;32m=\u001b[0m\u001b[4;32m1\u001b[0m\u001b[32m                        |\u001b[0m\n",
       "\u001b[32m✓\u001b[0m\u001b[32m | ⏱: \u001b[0m\u001b[1;32m1.\u001b[0m\u001b[32m32s \u001b[0m\n"
      ]
     },
     "metadata": {},
     "output_type": "display_data"
    },
    {
     "data": {
      "text/html": [
       "<pre style=\"white-space:pre;overflow-x:auto;line-height:normal;font-family:Menlo,'DejaVu Sans Mono',consolas,'Courier New',monospace\"><span style=\"color: #008000; text-decoration-color: #008000; font-weight: bold\">[</span><span style=\"color: #008000; text-decoration-color: #008000\">SCRAPE</span><span style=\"color: #008000; text-decoration-color: #008000; font-weight: bold\">]</span><span style=\"color: #008000; text-decoration-color: #008000\">.. ◆ </span><span style=\"color: #008000; text-decoration-color: #008000; text-decoration: underline\">https://www.kca.go.kr/home/sub.do?menukey=4002&amp;mode=view&amp;no=1003910772&amp;page=1</span><span style=\"color: #008000; text-decoration-color: #008000\">                        |</span>\n",
       "<span style=\"color: #008000; text-decoration-color: #008000\">✓ | ⏱: </span><span style=\"color: #008000; text-decoration-color: #008000; font-weight: bold\">0.</span><span style=\"color: #008000; text-decoration-color: #008000\">04s </span>\n",
       "</pre>\n"
      ],
      "text/plain": [
       "\u001b[1;32m[\u001b[0m\u001b[32mSCRAPE\u001b[0m\u001b[1;32m]\u001b[0m\u001b[32m.. ◆ \u001b[0m\u001b[4;32mhttps://www.kca.go.kr/home/sub.do?\u001b[0m\u001b[4;32mmenukey\u001b[0m\u001b[4;32m=\u001b[0m\u001b[4;32m4002\u001b[0m\u001b[4;32m&\u001b[0m\u001b[4;32mmode\u001b[0m\u001b[4;32m=\u001b[0m\u001b[4;32mview\u001b[0m\u001b[4;32m&\u001b[0m\u001b[4;32mno\u001b[0m\u001b[4;32m=\u001b[0m\u001b[4;32m1003910772\u001b[0m\u001b[4;32m&\u001b[0m\u001b[4;32mpage\u001b[0m\u001b[4;32m=\u001b[0m\u001b[4;32m1\u001b[0m\u001b[32m                        |\u001b[0m\n",
       "\u001b[32m✓\u001b[0m\u001b[32m | ⏱: \u001b[0m\u001b[1;32m0.\u001b[0m\u001b[32m04s \u001b[0m\n"
      ]
     },
     "metadata": {},
     "output_type": "display_data"
    },
    {
     "data": {
      "text/html": [
       "<pre style=\"white-space:pre;overflow-x:auto;line-height:normal;font-family:Menlo,'DejaVu Sans Mono',consolas,'Courier New',monospace\"><span style=\"color: #008000; text-decoration-color: #008000; font-weight: bold\">[</span><span style=\"color: #008000; text-decoration-color: #008000\">COMPLETE</span><span style=\"color: #008000; text-decoration-color: #008000; font-weight: bold\">]</span><span style=\"color: #008000; text-decoration-color: #008000\"> ● </span><span style=\"color: #008000; text-decoration-color: #008000; text-decoration: underline\">https://www.kca.go.kr/home/sub.do?menukey=4002&amp;mode=view&amp;no=1003910772&amp;page=1</span><span style=\"color: #008000; text-decoration-color: #008000\">                        |</span>\n",
       "<span style=\"color: #008000; text-decoration-color: #008000\">✓ | ⏱: </span><span style=\"color: #008000; text-decoration-color: #008000; font-weight: bold\">1.</span><span style=\"color: #008000; text-decoration-color: #008000\">37s </span>\n",
       "</pre>\n"
      ],
      "text/plain": [
       "\u001b[1;32m[\u001b[0m\u001b[32mCOMPLETE\u001b[0m\u001b[1;32m]\u001b[0m\u001b[32m ● \u001b[0m\u001b[4;32mhttps://www.kca.go.kr/home/sub.do?\u001b[0m\u001b[4;32mmenukey\u001b[0m\u001b[4;32m=\u001b[0m\u001b[4;32m4002\u001b[0m\u001b[4;32m&\u001b[0m\u001b[4;32mmode\u001b[0m\u001b[4;32m=\u001b[0m\u001b[4;32mview\u001b[0m\u001b[4;32m&\u001b[0m\u001b[4;32mno\u001b[0m\u001b[4;32m=\u001b[0m\u001b[4;32m1003910772\u001b[0m\u001b[4;32m&\u001b[0m\u001b[4;32mpage\u001b[0m\u001b[4;32m=\u001b[0m\u001b[4;32m1\u001b[0m\u001b[32m                        |\u001b[0m\n",
       "\u001b[32m✓\u001b[0m\u001b[32m | ⏱: \u001b[0m\u001b[1;32m1.\u001b[0m\u001b[32m37s \u001b[0m\n"
      ]
     },
     "metadata": {},
     "output_type": "display_data"
    },
    {
     "name": "stdout",
     "output_type": "stream",
     "text": [
      "https://www.kca.go.kr/home/synapviewer.do?menukey=4002&fno=10047973&bid=00000013&did=1003910772\n",
      "https://www.kca.go.kr/home/synapviewer.do?menukey=4002&fno=10047974&bid=00000013&did=1003910772\n",
      "https://www.kca.go.kr/home/synapviewer.do?menukey=4002&fno=10047975&bid=00000013&did=1003910772\n",
      "페이지 로딩 중: https://www.kca.go.kr/home/synapviewer.do?menukey=4002&fno=10047975&bid=00000013&did=1003910772\n",
      "   - [P1-20] 오르테·소베맘 젖병세척기, 전량 자발적 리콜 실시...\n",
      "\n",
      "=== 최종 수집 완료 ===\n"
     ]
    }
   ],
   "source": [
    "with open('config.json', 'r', encoding='utf-8') as f:\n",
    "    json_data = json.load(f)\n",
    "\n",
    "\n",
    "all_articles = {}\n",
    "for hwpx_source in json_data['hwpx_sources']:\n",
    "    hwpx_url = hwpx_source['url']\n",
    "    pagenum = hwpx_source.get('pagenum', 1)\n",
    "    name =  hwpx_source['name']\n",
    "    print(f'{hwpx_source['name']}')\n",
    "    \n",
    "    if name == '한국소비자원':\n",
    "        continue\n",
    "        START_PAGE=1; END_PAGE= pagenum + 1\n",
    "        articles = []\n",
    "        for page_num in range(START_PAGE, END_PAGE):\n",
    "            current_list_url = hwpx_url.format(page_num)\n",
    "            parsed_url = urllib.parse.urlparse(current_list_url)\n",
    "            base_url = f\"{parsed_url.scheme}://{parsed_url.netloc}\"\n",
    "            print(f\"Base URL: {base_url}\") \n",
    "            \n",
    "            print(f\"--- 현재 {page_num} 페이지 수집 중 ({current_list_url}) ---\")\n",
    "\n",
    "            try:\n",
    "                init_response = requests.get(current_list_url, timeout=10)\n",
    "                init_response.encoding = 'utf-8'\n",
    "                soup = BeautifulSoup(init_response.content, 'html.parser')\n",
    "                \n",
    "                # 뉴스 항목 선택 (테이블 내 tr 태그)\n",
    "                news_list = soup.select('table.board tbody tr')\n",
    "                \n",
    "                if not news_list:\n",
    "                    print(f\"경고: {page_num} 페이지에서 기사를 찾을 수 없습니다.\")\n",
    "                    break\n",
    "\n",
    "                print(f'완료: {len(news_list)}개 기사 발견')\n",
    "\n",
    "                # 각 기사 처리\n",
    "                for i, item in enumerate(news_list):\n",
    "                    # 링크 및 제목 추출\n",
    "                    link_element = item.select_one('td.title a')\n",
    "                    if not link_element:\n",
    "                        continue\n",
    "                    \n",
    "                    relative_url = link_element['href']\n",
    "                    \n",
    "                    # 상대 URL 처리\n",
    "                    if relative_url.startswith('?'):\n",
    "                        full_url = base_url + \"/home/sub.do\" + relative_url\n",
    "                    elif relative_url.startswith('/'):\n",
    "                        full_url = base_url + relative_url\n",
    "                    else:\n",
    "                        full_url = base_url + '/' + relative_url\n",
    "                    \n",
    "                    title = link_element.get_text(strip=True)\n",
    "                    \n",
    "                    # 작성자(출처) 추출\n",
    "                    author_element = item.select_one('td.b_write')\n",
    "                    author = author_element.get_text(strip=True) if author_element else \"\"\n",
    "                    \n",
    "                    # 날짜 추출\n",
    "                    date_element = item.select_one('td.b_date')\n",
    "                    pubdate = date_element.get_text(strip=True) if date_element else \"\"\n",
    "                    \n",
    "                    # 조회수 추출 (선택사항)\n",
    "                    hit_element = item.select_one('td.b_hit')\n",
    "                    hit_count = hit_element.get_text(strip=True) if hit_element else \"\"\n",
    "\n",
    "                    # 본문 추출\n",
    "\n",
    "                    urls = asyncio.get_event_loop().run_until_complete(extract_preview_urls(full_url))\n",
    "                    for u in sorted(urls):\n",
    "                        print(u)\n",
    "\n",
    "                    # Jupyter에서 asyncio 중첩 실행 허용\n",
    "                    url = urls[-1]\n",
    "                    extractor = WebTextExtractor()\n",
    "                    await extractor.start_browser(headless=True)\n",
    "\n",
    "                    # text를 변수로 받음\n",
    "                    text = await extractor.extract_text_from_url(url, clean_text=True)\n",
    "\n",
    "                    await extractor.close_browser()\n",
    "\n",
    "                    article_data = {\n",
    "                        'page': page_num,\n",
    "                        'index': i + 1,\n",
    "                        'title': title,\n",
    "                        'link': full_url,\n",
    "                        'content': text,\n",
    "                        'author': author,\n",
    "                        'pubdate': pubdate\n",
    "                    }\n",
    "                    articles.append(article_data)\n",
    "\n",
    "                    print(f'   - [P{page_num}-{i+1}] {title[:30]}...')\n",
    "                    time.sleep(0.5)\n",
    "\n",
    "            except requests.exceptions.RequestException as e:\n",
    "                print(f\"오류: 요청 오류 ({current_list_url}): {e}\")\n",
    "                time.sleep(2)\n",
    "            except Exception as e:\n",
    "                print(f\"오류: 처리 중 오류: {e}\")\n",
    "                traceback.print_exc()\n",
    "                \n",
    "        print(\"\\n=== 최종 수집 완료 ===\")\n",
    "        all_articles[name] = articles\n",
    "    else:\n",
    "        print('뉴스 기사 목록 사이트:', hwpx_url)\n",
    "        parsed_url = urllib.parse.urlparse(hwpx_url)\n",
    "        base_url = f\"{parsed_url.scheme}://{parsed_url.netloc}\"\n",
    "        print(f\"Base URL: {base_url}\") \n",
    "        \n",
    "        # 2. 헤더를 포함하여 요청 객체를 생성합니다.\n",
    "        req = urllib.request.Request(hwpx_url, headers=headers)\n",
    "\n",
    "        # 3. 이 요청으로 URL을 열고, 그 결과를 feedparser로 파싱합니다.\n",
    "        try:\n",
    "            with urllib.request.urlopen(req) as response:\n",
    "                feed = feedparser.parse(response)\n",
    "\n",
    "                # 정상적으로 파싱되었는지 확인\n",
    "                if feed.bozo:\n",
    "                    print(\"RSS 피드 파싱에 실패했습니다.\")\n",
    "                    # 어떤 에러인지 구체적으로 확인\n",
    "                    print(f\"에러 원인: {feed.bozo_exception}\")\n",
    "                else:\n",
    "                    print(f\"'{feed.feed.title}' RSS 피드에서 가져온 기사 목록입니다.\\n\")\n",
    "\n",
    "        except Exception as e:\n",
    "            print(f\"URL을 여는 중 에러가 발생했습니다: {e}\")\n",
    "\n",
    "        for k in range(len(feed.entries)):\n",
    "            urls = asyncio.get_event_loop().run_until_complete(extract_preview_urls(feed.entries[k]['link']))\n",
    "            for u in sorted(urls):\n",
    "                print(u)\n",
    "\n",
    "            # Jupyter에서 asyncio 중첩 실행 허용\n",
    "            url = urls[-1]\n",
    "            extractor = WebTextExtractor()\n",
    "            await extractor.start_browser(headless=True)\n",
    "\n",
    "            # text를 변수로 받음\n",
    "            text = await extractor.extract_text_from_url(url, clean_text=True)\n",
    "\n",
    "            await extractor.close_browser()\n",
    "            feed.entries[k]['contents'] = text\n",
    "        all_articles[name] = feed.entries"
   ]
  },
  {
   "cell_type": "code",
   "execution_count": 15,
   "id": "5da56d18",
   "metadata": {},
   "outputs": [
    {
     "data": {
      "text/plain": [
       "[{'title': '[보도참고] 국민이 선정한 마이나슈 패러디 영상 최우수 작품은?',\n",
       "  'title_detail': {'type': 'text/plain',\n",
       "   'language': None,\n",
       "   'base': '',\n",
       "   'value': '[보도참고] 국민이 선정한 마이나슈 패러디 영상 최우수 작품은?'},\n",
       "  'links': [{'rel': 'alternate',\n",
       "    'type': 'text/html',\n",
       "    'href': 'https://www.mfds.go.kr/brd/m_99/view.do?seq=49382'}],\n",
       "  'link': 'https://www.mfds.go.kr/brd/m_99/view.do?seq=49382',\n",
       "  'content': [{'type': 'text/html',\n",
       "    'language': None,\n",
       "    'base': '',\n",
       "    'value': '[보도참고] 국민이 선정한 마이나슈 패러디 영상 최우수 작품은?'}],\n",
       "  'summary': '[보도참고] 국민이 선정한 마이나슈 패러디 영상 최우수 작품은?',\n",
       "  'published': 'Wed, 01 Oct 2025 04:03:04 GMT',\n",
       "  'published_parsed': time.struct_time(tm_year=2025, tm_mon=10, tm_mday=1, tm_hour=4, tm_min=3, tm_sec=4, tm_wday=2, tm_yday=274, tm_isdst=0),\n",
       "  'contents': '보도참고자료 보도시점 배포 즉시 배포 2025. 10. 1.(수) <마이너스(-), 나트륨, 슈가’> 국민이 선정한 마이나슈 패러디 영상 최우수 작품은? - ‘덜짜고 덜달게! 건강하게 다시쓰는 명장면’ 패러디 영상 공모전 수상작 7편 공개 - 수상작은 건강한 식생활 문화 확산을 위해 홍보 콘텐츠로 활용 식품의약품안전처(처장 오유경)는 건강한 식생활 실천 문화 확산을 위해 영화·드라마 영상 속의 명장면을 패러디한 ‘마이나슈 패러디 영상 공모전’을 개최하고 나트륨·당류 줄이기 메시지를 창의적이고 재미있게 표현한 수상작 7편을 선정하여 식약처가 운영하는 ‘마이나슈 TV(유튜브 채널)’에 공개했다. 이번 공모전에는 다양한 연령층의 국민이 참여하여 총 69편의 작품이 접수되었으며 주제 전달성, 완성도, 확산 가능성 등에 대한 전문가 심사와 국민 온라인 투표를 거쳐 최종 7편의 수상작을 선정했다. * (접수) 6.30.~8.14. → (예선) 8.25.~9.3. → (본선) ➊전문가 심사 9.8.~9.12 ➋대국민 심사 9.17.~9.26 최우수상은 유명 영화의 명대사를 패러디하여 건강한 식생활 실천방법을 재미있게 전달한 ‘사공둘’팀의 ‘건강하게 돌아갈래!’가 수상했다. 또한 우수상은 인기 있는 예능프로그램을 패러디하여 원작의 재미를 살리면서 다양한 방식으로 나트륨·당류 줄이기 메시지를 전달한 ‘김포시 어린이‧사회복지 급식관리지원센터’팀의 ‘나는 마이나슈’ 작품 등이 선정됐고, 장려상에 선정된 4팀을 포함한 수상자에게는 식약처장상과 함께 상금을 수여했다. * 최우수(1팀) 200만원, 우수상(2팀) 120만원, 장려상(4팀) 70만원 그 밖에도 유치원, 초등학생 등 어린이와 학생 참가자에게는 별도의 기념품을 수여하고 향후 다양한 연령층의 참여를 독려해 나갈 예정이다. 식약처는 이번에 선정된 수상작을 나트륨·당류 줄이기 실천의 중요성과 건강한 식생활 문화 확산을 위한 홍보 콘텐츠로 적극 활용할 계획이라고 밝혔다. 식약처는 앞으로도 나트륨·당류를 줄인 식생활 등 건강하고 균형 잡힌 식습관의 중요성과 실천에 대한 국민 관심을 높이기 위해 국민과 함께할 수 있는 소통의 장을 지속적으로 추진할 계획이다. 담당 부서 식품소비안전국 책임자 과 장 기용기 (043-719-2252) 식생활영양안전정책과 담당자 사무관 손재영 (043-719-2275) 붙임 2025 마이나슈 패러디 영상 공모전 수상자 명단 순 위 이미지 작품명 팀명 최우수상(1) 건강하게 돌아갈래! 한국 영화 명대사 패러디 사공둘 우수상(2) 나는 마이나슈 김포시 어린이·사회복지 급식관리지원센터 소금 탁!짜! 영화 타짜 패러디 페스타J 장려상(4) 스카이캐슬 패러디(MSG캐슬) ENG 건축학개론 패러디 ‘건강학개론’ 제로고 기생충 패러디 헬시패밀리 와키윌리 광고 패러디 (사랑보다건강) 식영문콘'},\n",
       " {'title': '식약처, 지역축제 식중독 안전 논의',\n",
       "  'title_detail': {'type': 'text/plain',\n",
       "   'language': None,\n",
       "   'base': '',\n",
       "   'value': '식약처, 지역축제 식중독 안전 논의'},\n",
       "  'links': [{'rel': 'alternate',\n",
       "    'type': 'text/html',\n",
       "    'href': 'https://www.mfds.go.kr/brd/m_99/view.do?seq=49381'}],\n",
       "  'link': 'https://www.mfds.go.kr/brd/m_99/view.do?seq=49381',\n",
       "  'content': [{'type': 'text/html',\n",
       "    'language': None,\n",
       "    'base': '',\n",
       "    'value': '식약처, 지역축제 식중독 안전 논의'}],\n",
       "  'summary': '식약처, 지역축제 식중독 안전 논의',\n",
       "  'published': 'Wed, 01 Oct 2025 01:59:11 GMT',\n",
       "  'published_parsed': time.struct_time(tm_year=2025, tm_mon=10, tm_mday=1, tm_hour=1, tm_min=59, tm_sec=11, tm_wday=2, tm_yday=274, tm_isdst=0),\n",
       "  'contents': '보도자료 보도시점 배포 즉시 배포 2025. 10. 1.(수) <17개 시·도 지자체와 함께> 식약처, 지역축제 식중독 안전 논의 - 17개 시·도와 지역축제 식중독 발생 현황 공유, 식중독 예방 관리 방안 논의 - 도시락·배달음식 구매 시 여러 전문 제조업체에서 적정한 수량만 주문 - 행사장 내 한시적 음식점에서 외부 음식 반입·재판매 시 행정처분 대상 식품의약품안전처(처장 오유경)는 10월 1일 17개 시․도와 긴급 영상회의를 열어 지역축제 식중독 발생 현황을 공유하는 한편 지역행사 개최 시 식중독 예방을 위한 식음료 안전관리 방안 등을 논의했다고 밝혔다. 가을철(9~11월)은 전국적으로 지역축제가 활발히 개최되는 시기로 올해는 연간 지역축제 개최 횟수(1,214회)의 약 41%(502회)가 가을에 집중되며, 특히 10월에 가장 많이(총 287회, 24%) 개최된다. 가을철에는 쌀쌀한 아침과 저녁에 비해 낮 기온이 크게 상승하고 지역축제 행사장에는 한시적으로 운영되는 음식점이 많아 자칫 음식 조리·배달·보관, 개인 위생관리에 부주의할 경우 식중독이 발생할 수 있다. 이에 식약처는 올가을 전국 어디서나 국민이 식중독 없는 안전한 지역축제를 즐길 수 있도록 소비자와 식품 영업 종사자 등의 철저한 식음료 안전관리 및 식중독 예방수칙* 준수를 강조했다. * 식중독 예방수칙 : “손보구가세(손씻기, 보관, 구분, 가열, 세척·소독)” ❶ 소비자가 도시락·포장음식을 주문할 때에는 해썹(HACCP) 인증받은 식품제조‧가공업소(도시락전문제조업체 등)를 이용하고, 특히 배달음식은 가급적 한 개 업체에서 대량 주문하지 않고 여러 업체에서 나누어 주문하는 것이 좋다. ❷ 행사장에서 한시적으로 영업을 하는 음식점이 영업장이 아닌 외부에서 조리된 음식을 반입하여 판매하는 경우 「식품위생법」 위반으로 행정처분* 받을 수 있으므로 주의하여야 한다. * 영업정지 : (1차) 15일 (2차) 1개월 (3차) 3개월 또한 식재료를 한번에 대량 구매하여 장기간 보관하기보다는 당일 사용할 만큼만 구매한 후 식품 보관 온도를 준수해 위생적으로 보관하여야 한다. ❸ 지역축제를 개최하는 지자체는 행사장 내 음식점과 인근 지역의 음식점을 대상으로 사전 위생 점검 등 식음료 안전관리 대책을 수립하고 시행해야 한다. 식약처는 앞으로도 국민이 안심하고 지역축제를 즐길 수 있도록 관계기관과 긴밀히 협력하여 식음료 안전·위생관리를 강화하는 한편 다양한 식중독 예방 활동을 추진할 계획이다. <붙임> 도시락 구매 시 식중독 예방 실천 요령 담당 부서 식품안전정책국 책임자 과 장 이 성 (043-719-2101) 식중독예방과 담당자 사무관 김지민 (043-719-2105) 붙임 도시락 구매 시 식중독 예방 실천 요령'},\n",
       " {'title': '[보도참고] 추석 선물로 많이 쓰이는 의료제품 온라인 부당광고 적발',\n",
       "  'title_detail': {'type': 'text/plain',\n",
       "   'language': None,\n",
       "   'base': '',\n",
       "   'value': '[보도참고] 추석 선물로 많이 쓰이는 의료제품 온라인 부당광고 적발'},\n",
       "  'links': [{'rel': 'alternate',\n",
       "    'type': 'text/html',\n",
       "    'href': 'https://www.mfds.go.kr/brd/m_99/view.do?seq=49380'}],\n",
       "  'link': 'https://www.mfds.go.kr/brd/m_99/view.do?seq=49380',\n",
       "  'content': [{'type': 'text/html',\n",
       "    'language': None,\n",
       "    'base': '',\n",
       "    'value': '[보도참고] 추석 선물로 많이 쓰이는 의료제품 온라인 부당광고 적발'}],\n",
       "  'summary': '[보도참고] 추석 선물로 많이 쓰이는 의료제품 온라인 부당광고 적발',\n",
       "  'published': 'Wed, 01 Oct 2025 00:18:14 GMT',\n",
       "  'published_parsed': time.struct_time(tm_year=2025, tm_mon=10, tm_mday=1, tm_hour=0, tm_min=18, tm_sec=14, tm_wday=2, tm_yday=274, tm_isdst=0),\n",
       "  'contents': '보도참고자료 보도시점 배포 즉시 배포 2025. 10. 1.(수) <의료기기·의약외품·화장품> 추석 선물로 많이 쓰이는 의료제품 온라인 부당광고 적발 - 의료기기, 의약외품, 화장품 온라인 부당광고 총 214건 적발 - 의료기기 등 온라인 구매 시 식약처 허가받은 효능·효과, 사용목적 등 확인 필요 식품의약품안전처(처장 오유경)는 추석명절을 앞두고 선물용 구매가 증가할 것으로 예상되는 의료기기, 의약외품, 화장품의 온라인 광고를 집중점검한 결과, 허위·과대 광고 등으로 위반이 확인된 214건에 대해 방송통신심의위원회 등에 접속 차단과 관할 행정기관에 반복위반 업체 점검 등을 요청했다고 밝혔다. * (의료기기) 부항기, 개인용저주파자극기, 혈압계 등, (의약외품) 치약제, 구중청량제, 치아미백제, (화장품) 미백·주름 개선 기능성화장품 < 의료기기 부당광고 점검 결과 > 가정에서 손쉽게 사용할 수 있는 부항기, 혈압계, 개인용저주파자극기 등 온라인 광고를 점검한 결과, ▲의료기기 불법 해외 구매대행 광고 77건(66%) ▲허가받은 성능·효능·효과를 벗어난 거짓·과장 광고 1건(0.8%) ▲의료기기 오인 광고 38건(33%) 등 부당광고 116건을 적발하였다. 의료기기 점검 사례 √ (불법유통) 부항기, 혈압계, 개인용저주파자극기 등 의료기기의 불법 해외 구매대행 광고 * 국내 허가받지 아니한 의료기기를 정식 수입절차가 아닌 구매대행(직구)으로 국내 유통하고자 광고하는 행위 √ (거짓‧과장 광고) 통증 완화 의료기기의 ‘혈액 순환 개선’, ‘생리통’ 등의 광고 √ (의료기기 오인 광고) 공산품이 ’의료기기의 성능(통증 완화, 혈액순환 촉진, 염증감소)‘을 광고 < 의약외품 부당광고 점검 결과 > 선물용 선물 세트에 많이 포함되는 치약제, 구중청량제, 치아미백제의 온라인 광고를 점검한 결과, 의약외품으로 허가받은 효능·효과를 벗어난 광고 46건을 적발하였다. 의약외품 점검 사례 √ (허가받은 효능‧효과 벗어남) ➊일반치약을 ‘잇몸재생, 시린이 완하, 충치제거, 항염효과’ 등으로 광고, ➋구중청량제(가글) 및 치아미백제를 ‘치태(프라그)제거, 충치예방, 바이러스 감염 억제’ 등으로 광고 < 화장품 부당광고 점검 결과 > 추석선물로 선호도가 높은 미백·주름 기능성화장품의 온라인 광고를 점검한 결과, 허위‧과대‧부당광고 52건을 적발하였다. 주요 위반 내용은 ▲화장품이 의약품의 효능·효과가 있는 것처럼 광고한 32건(61%) ▲일반화장품을 기능성화장품처럼 광고하거나 기능성화장품을 심사(보고) 결과와 다른 내용으로 광고한 15건(29%) ▲소비자가 오인할 우려가 있는 광고 5건(10%)이었다. 화장품 점검 사례 √ (의약품으로 오인) 피부·세포재생, 검버섯제거, 상처치유, 흉터개선 등으로 광고 √ (기능성화장품 심사 결과와 다름) 미백, 주름 개선 등 심사·보고한 제품과 다른 원료의 ‘피부미백’, ‘멜라닌억제’ 효능·효과를 광고 √ (소비자 오인) ‘동물실험을 하지 않음’, ‘진피층내 침투’로 광고 식약처는 소비자가 의료기기, 의약외품, 화장품 등을 온라인에서 구매하려는 경우 부당광고에 노출될 수 있으므로, 식약처로부터 허가·심사 등받은 정보를 의약품안전나라와 의료기기안심책방 누리집에서 확인 후 구매할 것을 당부했다. 구매전 제품 목록 확인 방법 √ (의료기기) 의료기기안심책방(emedi.mfds.go.kr) > 알기 쉬운 의료기기 > 정보검색 √ (의약외품) 의약품안전나라(nedrug.mfds.go.kr) > 의약품등 정보 > 의약품 및 화장품 품목정보 > 의약품 등 정보검색 √ (기능성화장품) 의약품안전나라(nedrug.mfds.go.kr) > 의약품등 정보 > 의약품 및 화장품 품목정보 > 기능성화장품 제품 정보(심사 또는 보고) 특히 화장품은 의학적 효능·효과, 병원 시술과 유사한 효과 등을 표방하는 광고에 주의해야 한다. 또한 의약외품 및 의료기기의 경우 허가받은 효능·효과, 사용목적 등을 반드시 확인하고, 공산품이 의료기기의 효능·효과를 표방하는 오인 광고에 현혹되지 않도록 주의가 필요하다. 식약처는 앞으로도 명절 등 특정 시기에 소비가 증가하는 의료제품 등을 중심으로 사전 점검을 실시하고 소비자의 피해예방을 위한 온라인 부당광고를 지속적으로 모니터링하겠다고 밝혔다. 〈붙임> 부당한 의료제품 광고 적발사례 담당 부서 사이버조사팀 책임자 과 장 박영민 (043-719-1901) 담당자 사무관 최주영 (043-719-1920) 붙임 부당한 의료제품 광고 적발사례 < 의료기기 > ❍ 의료기기 해외직구 및 구매대행 광고 해외직구 및 구매대행 (개인용저주파자극기) 해외직구 및 구매대행 (부항기) 해외직구 및 구매대행 (혈압계) ❍ 공산품 제품에 대한 의료기기 오인광고 의료기기 오인광고 (공산품) 의료기기 오인광고 (공산품) 의료기기 오인광고 (공산품) < 의약외품 > ❍ 의약외품의 허가받은 효능·효과를 벗어난 광고 구중청량제 치약제 치아미백제 보도참고자료 보도시점 배포 즉시 배포 2025. 10. 1.(수) <의료기기·의약외품·화장품> 추석 선물로 많이 쓰이는 의료제품 온라인 부당광고 적발 - 의료기기, 의약외품, 화장품 온라인 부당광고 총 214건 적발 - 의료기기 등 온라인 구매 시 식약처 허가받은 효능·효과, 사용목적 등 확인 필요 식품의약품안전처(처장 오유경)는 추석명절을 앞두고 선물용 구매가 증가할 것으로 예상되는 의료기기, 의약외품, 화장품의 온라인 광고를 집중점검한 결과, 허위·과대 광고 등으로 위반이 확인된 214건에 대해 방송통신심의위원회 등에 접속 차단과 관할 행정기관에 반복위반 업체 점검 등을 요청했다고 밝혔다. * (의료기기) 부항기, 개인용저주파자극기, 혈압계 등, (의약외품) 치약제, 구중청량제, 치아미백제, (화장품) 미백·주름 개선 기능성화장품 < 의료기기 부당광고 점검 결과 > 가정에서 손쉽게 사용할 수 있는 부항기, 혈압계, 개인용저주파자극기 등 온라인 광고를 점검한 결과, ▲의료기기 불법 해외 구매대행 광고 77건(66%) ▲허가받은 성능·효능·효과를 벗어난 거짓·과장 광고 1건(0.8%) ▲의료기기 오인 광고 38건(33%) 등 부당광고 116건을 적발하였다. 의료기기 점검 사례 √ (불법유통) 부항기, 혈압계, 개인용저주파자극기 등 의료기기의 불법 해외 구매대행 광고 * 국내 허가받지 아니한 의료기기를 정식 수입절차가 아닌 구매대행(직구)으로 국내 유통하고자 광고하는 행위 √ (거짓‧과장 광고) 통증 완화 의료기기의 ‘혈액 순환 개선’, ‘생리통’ 등의 광고 √ (의료기기 오인 광고) 공산품이 ’의료기기의 성능(통증 완화, 혈액순환 촉진, 염증감소)‘을 광고 < 의약외품 부당광고 점검 결과 > 선물용 선물 세트에 많이 포함되는 치약제, 구중청량제, 치아미백제의 온라인 광고를 점검한 결과, 의약외품으로 허가받은 효능·효과를 벗어난 광고 46건을 적발하였다. 의약외품 점검 사례 √ (허가받은 효능‧효과 벗어남) ➊일반치약을 ‘잇몸재생, 시린이 완하, 충치제거, 항염효과’ 등으로 광고, ➋구중청량제(가글) 및 치아미백제를 ‘치태(프라그)제거, 충치예방, 바이러스 감염 억제’ 등으로 광고 < 화장품 부당광고 점검 결과 > 추석선물로 선호도가 높은 미백·주름 기능성화장품의 온라인 광고를 점검한 결과, 허위‧과대‧부당광고 52건을 적발하였다. 주요 위반 내용은 ▲화장품이 의약품의 효능·효과가 있는 것처럼 광고한 32건(61%) ▲일반화장품을 기능성화장품처럼 광고하거나 기능성화장품을 심사(보고) 결과와 다른 내용으로 광고한 15건(29%) ▲소비자가 오인할 우려가 있는 광고 5건(10%)이었다. 화장품 점검 사례 √ (의약품으로 오인) 피부·세포재생, 검버섯제거, 상처치유, 흉터개선 등으로 광고 √ (기능성화장품 심사 결과와 다름) 미백, 주름 개선 등 심사·보고한 제품과 다른 원료의 ‘피부미백’, ‘멜라닌억제’ 효능·효과를 광고 √ (소비자 오인) ‘동물실험을 하지 않음’, ‘진피층내 침투’로 광고 식약처는 소비자가 의료기기, 의약외품, 화장품 등을 온라인에서 구매하려는 경우 부당광고에 노출될 수 있으므로, 식약처로부터 허가·심사 등받은 정보를 의약품안전나라와 의료기기안심책방 누리집에서 확인 후 구매할 것을 당부했다. 구매전 제품 목록 확인 방법 √ (의료기기) 의료기기안심책방(emedi.mfds.go.kr) > 알기 쉬운 의료기기 > 정보검색 √ (의약외품) 의약품안전나라(nedrug.mfds.go.kr) > 의약품등 정보 > 의약품 및 화장품 품목정보 > 의약품 등 정보검색 √ (기능성화장품) 의약품안전나라(nedrug.mfds.go.kr) > 의약품등 정보 > 의약품 및 화장품 품목정보 > 기능성화장품 제품 정보(심사 또는 보고) 특히 화장품은 의학적 효능·효과, 병원 시술과 유사한 효과 등을 표방하는 광고에 주의해야 한다. 또한 의약외품 및 의료기기의 경우 허가받은 효능·효과, 사용목적 등을 반드시 확인하고, 공산품이 의료기기의 효능·효과를 표방하는 오인 광고에 현혹되지 않도록 주의가 필요하다. 식약처는 앞으로도 명절 등 특정 시기에 소비가 증가하는 의료제품 등을 중심으로 사전 점검을 실시하고 소비자의 피해예방을 위한 온라인 부당광고를 지속적으로 모니터링하겠다고 밝혔다. 〈붙임> 부당한 의료제품 광고 적발사례 담당 부서 사이버조사팀 책임자 과 장 박영민 (043-719-1901) 담당자 사무관 최주영 (043-719-1920) 붙임 부당한 의료제품 광고 적발사례 < 의료기기 > ❍ 의료기기 해외직구 및 구매대행 광고 해외직구 및 구매대행 (개인용저주파자극기) 해외직구 및 구매대행 (부항기) 해외직구 및 구매대행 (혈압계) ❍ 공산품 제품에 대한 의료기기 오인광고 의료기기 오인광고 (공산품) 의료기기 오인광고 (공산품) 의료기기 오인광고 (공산품) < 의약외품 > ❍ 의약외품의 허가받은 효능·효과를 벗어난 광고 구중청량제 치약제 치아미백제 < 화장품 > ❍ 의약품 오인, 기능성 오인, 소비자 오인 광고 의약품 오인 광고 기능성 오인 및 심사(보고)결과와 다른광고 <기능성 효능·효과 성분이 아닌 다른성분으로 표방> <일반화장품을 기능성화장품 오인> 소비자 오인 광고'},\n",
       " {'title': '[보도참고] 의료기기 정식 허가받은 제품만 구매하세요',\n",
       "  'title_detail': {'type': 'text/plain',\n",
       "   'language': None,\n",
       "   'base': '',\n",
       "   'value': '[보도참고] 의료기기 정식 허가받은 제품만 구매하세요'},\n",
       "  'links': [{'rel': 'alternate',\n",
       "    'type': 'text/html',\n",
       "    'href': 'https://www.mfds.go.kr/brd/m_99/view.do?seq=49379'}],\n",
       "  'link': 'https://www.mfds.go.kr/brd/m_99/view.do?seq=49379',\n",
       "  'content': [{'type': 'text/html',\n",
       "    'language': None,\n",
       "    'base': '',\n",
       "    'value': '[보도참고] 의료기기 정식 허가받은 제품만 구매하세요'}],\n",
       "  'summary': '[보도참고] 의료기기 정식 허가받은 제품만 구매하세요',\n",
       "  'published': 'Wed, 01 Oct 2025 00:06:48 GMT',\n",
       "  'published_parsed': time.struct_time(tm_year=2025, tm_mon=10, tm_mday=1, tm_hour=0, tm_min=6, tm_sec=48, tm_wday=2, tm_yday=274, tm_isdst=0),\n",
       "  'contents': '보도참고자료 보도시점 배포 즉시 배포 2025. 10. 1.(수) 의료기기, 정식 허가받은 제품만 구입하세요 - 의료기기 거짓·과대광고, 해외직구 및 개인간 거래 주의 당부 - 안전한 의료기기 구매를 위한 확인 사항 안내 식품의약품안전처(처장 오유경)는 의료기기 거짓·과대광고, 해외직구 및 개인간 거래에 현혹되지 않는 올바른 의료기기 구매 요령에 대한 정보를 제공했다. １ 거짓·과대광고에 주의 의료기기는 공산품과 달리 질병의 진단·치료 등의 목적으로 사용되는 제품으로, 구매 시 거짓·과대광고 등에 현혹되지 않도록 주의하여 구매하여야 한다. 특히, 추석 명절 등 성수기에는 어르신들이 쉽게 접할 수 있는 무료체험방에서 허가받은 성능 외에 다른 효능·효과를 광고하며 의료기기 구매를 요구하는 사례가 꾸준히 발생하므로 각별한 주의가 필요하다. 예를 들어, ‘근육통 완화’가 사용 목적인 의료기기를 ‘디스크 치료’, ‘협착증 치료’ 등에 효과가 있는 것처럼 광고하거나, ‘혈액순환’이 사용 목적인 의료기기를 ‘피를 맑게’ 하는 등의 효과가 있는 것처럼 광고하는 사례가 있다. 이러한 무료체험방에서 거짓·과대 광고에 현혹되지 않으려면 의료기기를 구입할 때 판매하는 곳이 ‘의료기기판매업’을 신고한 업소인지 확인하고 구매하는 것이 좋다. 또한, 제품의 구매 전 제품의 용기에 부착되어 있거나 첨부문서에 표시된 의료기기 허가 번호, 품목명 등을 살펴 허가된 의료기기인지를 반드시 확인해야 하며, 사용목적에 알맞은 의료기기를 구매하기 위해 첨부문서에 기재되어 있는 제품의 사용목적을 살핀 후 구매하는 것이 바람직하다. 특히 개인용혈당검사지, 콘택트렌즈 등 사용기한이 정해진 의료기기는 사용기한이 경과되었는지 여부를 반드시 확인하고, 구매해야 한다. <‘의료기기’ 기재 예시> * 의료기기 관련 자세한 사항은 의료기기 안심책방(https://emedi.mfds.go.kr)에서 확인 가능 ２ 해외직구 및 개인간 거래는 불법 의료기기를 선물하기 위해 가격이 저렴하며 손쉽게 구매할 수 있다는 이유로 온라인 해외직구로 의료기기를 구매하는 것은 불법이므로 주의가 필요하다. 예를 들어, 가정에서 자주 사용하는 혈압계, 광선조사제모기 등을 해외직구로 구매하면, 안전성과 유효성 등이 검증되지 않아 사용 시 예기치 않은 부작용 등이 발생할 수 있으며, 소비자 피해 발생 시 법적 보호를 받기 어려우므로 정식으로 수입된 제품을 구매해야 한다. 추가로, 온라인 중고 거래 플랫폼을 이용한 개인간 중고 의료기기 거래는 「의료기기법」에 따라 허용되지 않으므로 구매를 주의해야 한다. 참고로, 의료기기와 관련하여 거짓·과대광고 관련 피해를 입은 경우, ☎1577-1255로 신고할 수 있으며, 의료기기를 사용하던 중 부작용이 생겼다면, ☎080-080-4183을 통해 신고할 수 있다. 식약처는 앞으로도 국민들의 안전한 의료기기 구매 및 사용을 위해 안전 정보를 지속적으로 제공할 것이며 소비자 피해 예방에 꾸준히 힘써나갈 것이라고 밝혔다. 담당 부서 의료기기안전국 책임자 과 장 김진휘 (043-719-3801) 의료기기관리과 담당자 사무관 김종진 (043-719-3815) 붙임 1 의료기기 올바른 구매방법 안내 포스터 붙임 2 해외직구 의료기기 구매 주의 안내 홍보자료'},\n",
       " {'title': \"[보도참고] 식중독균 검출 수입 '냉동틸라피아' 회수 조치\",\n",
       "  'title_detail': {'type': 'text/plain',\n",
       "   'language': None,\n",
       "   'base': '',\n",
       "   'value': \"[보도참고] 식중독균 검출 수입 '냉동틸라피아' 회수 조치\"},\n",
       "  'links': [{'rel': 'alternate',\n",
       "    'type': 'text/html',\n",
       "    'href': 'https://www.mfds.go.kr/brd/m_99/view.do?seq=49378'}],\n",
       "  'link': 'https://www.mfds.go.kr/brd/m_99/view.do?seq=49378',\n",
       "  'content': [{'type': 'text/html',\n",
       "    'language': None,\n",
       "    'base': '',\n",
       "    'value': \"[보도참고] 식중독균 검출 수입 '냉동틸라피아' 회수 조치\"}],\n",
       "  'summary': \"[보도참고] 식중독균 검출 수입 '냉동틸라피아' 회수 조치\",\n",
       "  'published': 'Tue, 30 Sep 2025 09:53:46 GMT',\n",
       "  'published_parsed': time.struct_time(tm_year=2025, tm_mon=9, tm_mday=30, tm_hour=9, tm_min=53, tm_sec=46, tm_wday=1, tm_yday=273, tm_isdst=0),\n",
       "  'contents': '보도참고자료 보도시점 배포 즉시 배포 2025. 9. 30.(화) 식중독균 검출 수입 ‘냉동틸라피아’ 회수 조치 식품의약품안전처(처장 오유경)는 수입식품등 수입·판매업체인 ‘티앤에스 트레이딩(서울시 동작구 소재)’이 수입해 판매한 대만산 ‘냉동틸라피아(F.포장횟감용)’에서 식중독균인 비브리오 콜레라*가 검출되어 해당 제품을 판매 중단하고 회수 조치한다고 밝혔다. * 해산물 등의 식품매개로 전파되거나 환자 또는 병원체 보유자의 대변이나 구토물에 오염된 물에 의해 감염됨. 식중독 증상은 심한 수양성 설사, 구토 등이 있음 회수 대상은 포장연월일이 ‘2025.7.3.’로 표시된 제품이다. < 회수 대상 제품 > 수입·판매업체 (소재지) 제품명 수출업체 (원산지) 수입량 (kg) 포장연월일 부적합 내역 검사항목 기준치* 결과 티앤에스 트레이딩 (서울시 동작구) 냉동틸라피아 (F.포장횟감용) (수산물) FORTUNE LIFE ENTERPRISE CO.LTD. (대만) 3,400 2025. 7. 3. 비브리오 콜레라 n=5 c=0 m=0/25g 양성** * 시료 5개 중 한 개라도 양성이면 부적합 ** 검사결과: 5개 시료 모두 양성 식약처는 해당 제품을 신속히 회수하도록 조치하였으며, 해당 제품을 구매한 소비자는 섭취를 중단하고 구입처에 반품해 줄 것을 당부했다. * 식품 관련 불법 행위를 목격한 경우 불량식품 신고전화(1399)로 신고하거나, 스마트폰의 경우 식품안전정보 필수앱 ‘내손안’ 앱을 이용하여 신고 가능 <붙임> 회수 대상 제품 정보 담당 부서 수입식품안전정책국 책임자 과 장 조성훈 (043-719-6251) 수입유통안전과 담당자 사무관 김지영 (043-719-6259) 붙임 회수 대상 제품 정보 제품정보 제품 사진 • 제품명: 냉동틸라피아(F.포장횟감용) • 수입업체(소재지) : 티앤에스트레이딩 (서울시 동작구) • 원산지: 대만산 • 수출업체 : FORTUNE LIFE ENTERPRISE CO.LTD. • 포장연월일: 2025. 7. 3. • 소비기한: 포장연월일로부터 24개월까지'},\n",
       " {'title': '[정부합동] 마약류 민생 유통 차단을 위한 범정부 특별단속 실시',\n",
       "  'title_detail': {'type': 'text/plain',\n",
       "   'language': None,\n",
       "   'base': '',\n",
       "   'value': '[정부합동] 마약류 민생 유통 차단을 위한 범정부 특별단속 실시'},\n",
       "  'links': [{'rel': 'alternate',\n",
       "    'type': 'text/html',\n",
       "    'href': 'https://www.mfds.go.kr/brd/m_99/view.do?seq=49377'}],\n",
       "  'link': 'https://www.mfds.go.kr/brd/m_99/view.do?seq=49377',\n",
       "  'content': [{'type': 'text/html',\n",
       "    'language': None,\n",
       "    'base': '',\n",
       "    'value': '[정부합동] 마약류 민생 유통 차단을 위한 범정부 특별단속 실시'}],\n",
       "  'summary': '[정부합동] 마약류 민생 유통 차단을 위한 범정부 특별단속 실시',\n",
       "  'published': 'Tue, 30 Sep 2025 06:54:56 GMT',\n",
       "  'published_parsed': time.struct_time(tm_year=2025, tm_mon=9, tm_mday=30, tm_hour=6, tm_min=54, tm_sec=56, tm_wday=1, tm_yday=273, tm_isdst=0),\n",
       "  'contents': '보도자료 보도시점 2025. 9. 30.(화) 15:00 배포 2025. 9. 30.(화) 14:00 마약류 민생 유통 차단을 위한 범정부 특별단속 실시 -10월 명절 및 핼러윈, 행사 시즌 집중 점검을 통해 마약류 범죄 근절 - ▸유흥가 일대, 외국인 밀집지역 등 취약지역 대상으로 국내 현장 유통 차단 ▸실마리 정보 활용한 수사·단속을 통해 온·오프라인 유통경로 근절 ▸휴가철 해외 유동인구 증가를 틈탄 마약류 반입시도 사전 차단 □ 정부는 10월 1일부터 11월 30일까지 두 달간 마약류 민생 유통 차단을 위한 하반기 마약류 범정부 특별단속을 실시한다. ㅇ 최근 온라인을 통한 마약류 유통이 늘어나고, 2·30대 마약류 사범*이 증가하는 등 마약류 범죄의 민생으로의 확산이 우려되는 상황이다. * 2·30대 마약류 사범(비중) : ’22년 10,507명(57.2%) → ’23년 15,051명(54.5%) → ‘24년 13,996명(60.8%) ㅇ 이에 정부는 지난 8월 13일(수) 마약류 대책 협의회*를 개최하여 상반기 특별단속에 이어, 하반기에도 범정부 특별단속을 추진하기로 논의·확정하였다. * (주재) 국무조정실장 / (참석) 경찰청, 대검찰청, 법무부, 식약처, 국정원, 해양경찰청, 관세청 ㅇ 하반기 특별단속은 △국내 현장 유통 차단 △온·오프라인 유통경로 근절 △밀반입 차단 등 세 가지 주제를 중심으로 진행된다. ❶ 국내 현장 유통(투약) 차단 □ 우선, 추석 명절 및 핼러윈 등 시기에 맞춰 투약 또는 일선 유통이 우려되는 취약지역을 중심으로 고강도 단속에 나선다. ㅇ 경찰·지자체·법무부는 클럽·유흥주점 등 유흥가 일대에 합동단속반을 편성하고, 주말·심야시간대를 집중 단속한다. 단속 과정에서 업소 내부 마약류 범죄 정황에 대한 수색을 강화하고, 확보한 증거를 바탕으로 유통조직 수사까지 확대할 계획이다. ㅇ 또한, 경찰·해경·법무부는 외국인 밀집 지역을 대상으로 불법체류 외국인 단속과 연계하여 합동단속을 실시한다. 간이검사·신원확인·불법체류자 긴급보호 등을 통해 현장에서 즉각 대응하는 한편, 사건이 종결된 마약사범에 대해서는 강제퇴거를 실시할 예정이다. ※ 외국인 마약류 사범(증가율) : ’22년 2,573명(10.0%↑) → ’23년 3,151명(22.5%↑) → ‘24년 3,232명(2.6%↑) → ’25년 상반기 1,505명(전년 동기(1,316명) 대비 14.4%↑) ❷ 온·오프라인 유통 경로 근절 □ 또한, 민생 침투의 주요 통로가 되는 온라인(텔레그램 등) 및 오프라인(의료기관 불법 처방 등) 유통경로를 집중 수사하여, 근본적인 유통 원점까지 검거한다. ㅇ 검찰은 다크웹 전문수사팀과 인터넷 마약류 유통범죄 수사팀을 중심으로 위장거래 등을 통해 온라인 유통조직을 엄단한다. 경찰은 지난 8월 출범한 가상자산 추적·분석팀, 가상자산 전담수사팀을 주요 시·도청에 배치하여 가상자산을 이용한 마약류 범죄 거래 자금을 차단한다. ㅇ 하반기부터는 식약처의 ‘AI캅스*’와 검찰의 ‘E-drug 모니터링 시스템**’을 활용해, 온라인 불법 마약류 유통 정보를 조기에 차단한다. * AI 캅스 : 온라인 마약류 불법 판매 게시글 판단 후 유관기관 시스템 연계하여 차단 요청 ** E-drug 모니터링 : 온라인 마약류 유통정보 실시간 탐지하여 방심위에 차단 요청 ㅇ 식약처는 의료용 마약류의 적정 처방·사용 환경 조성을 위해, 의료용 마약류 처방 현황 빅데이터*를 심층 분석하고 경찰청 등 관계기관과 합동으로 오남용이 우려되는 의료기관을 점검한다. ADHD 치료제 처방 상위 의료기관 등과 사망자 명의도용 처방 사례 등을 중점 단속할 예정이다. * 마약류통합관리시스템: 마약류 제조‧수입부터 유통‧사용까지 의료기관(의사) 등 마약류취급자의 모든 취급내역이 보고됨 ❸ 밀반입 차단 □ 명절·휴가철 등 해외 인구 이동이 많은 시기를 틈탄 밀수 시도를 원천 차단하기 위해 국경 단계 단속도 강화된다. ㅇ 검찰은 밀수입된 마약류에 대한 통제배달, 마약류를 은닉하여 입국한 바디패커 검거 등 밀수범죄를 집중단속하여 마약류 조직 상선·유통책을 추적한다. ㅇ 관세청은 검찰·외교부 등 기관에서 제공한 마약사범 정보를 분석하여 마약 밀반입 우범여행자를 선별하고, 여행자·기탁화물 및 특송·우편물에 대한 검사를 실시한다. ㅇ 선박을 통한 대규모 마약 밀반입을 차단하기 위해, 해경·관세청·검찰·국정원은 합동검색팀을 구성하고, 중남미발 우범 선박을 선별하여 집중 단속한다. □ 정부는 이번 하반기 특별단속을 통해 마약류의 국내 유입·유통 경로를 근본적으로 차단하여 국민의 일상을 보호하는 데 총력을 기울일 것이며, 이와 병행하여 국민께서 경각심을 가지실 수 있도록 예방교육과 홍보를 지속 실시할 계획이다. ※ 붙임 1. 의료용 마약류 오남용 예방 홍보자료(식약처) 2. 휴가철 마약류 대리반입 및 해외직구 주의사항(관세청) 담당 부서 국무조정실 마약류관리 신속대응팀 책임자 과 장 김민정 (044-200-2379) 담당자 사무관 조우재 (044-200-2382) <총괄> 담당자 사무관 이정욱 (044-200-2889) 담당자 사무관 조주현 (044-200-2337) 대검찰청 책임자 과 장 전수진 (02-3480-2290) <공동> 마약과 담당자 사무관 이병록 (02-3480-2292) 경찰청 책임자 과 장 곽병일 (02-3150-0141) <공동> 마약조직범죄수사과 담당자 경 정 길민성 (02-3150-2171) 관세청 책임자 과 장 최문기 (042-481-7740) <공동> 국제조사과 담당자 사무관 박지원 (042-481-7702) 해양경찰청 책임자 과 장 주용현 (032-835-2058) <공동> 형사과 담당자 경 정 박주식 (032-835-2161) 식품의약품안전처 책임자 팀 장 강영아 (043-719-2841) <공동> 마약관리과 마약류오남용감시단TF 담당자 사무관 남경우 (043-719-2832) 법무부 책임자 과 장 유성오 (02-2110-4075) <공동> 이민조사과 담당자 사무관 김택균 (02-2110-4082) 붙임 1 의료용 마약류 오남용 예방 홍보자료 (식약처) 보도자료 보도시점 2025. 9. 30.(화) 15:00 배포 2025. 9. 30.(화) 14:00 마약류 민생 유통 차단을 위한 범정부 특별단속 실시 -10월 명절 및 핼러윈, 행사 시즌 집중 점검을 통해 마약류 범죄 근절 - ▸유흥가 일대, 외국인 밀집지역 등 취약지역 대상으로 국내 현장 유통 차단 ▸실마리 정보 활용한 수사·단속을 통해 온·오프라인 유통경로 근절 ▸휴가철 해외 유동인구 증가를 틈탄 마약류 반입시도 사전 차단 □ 정부는 10월 1일부터 11월 30일까지 두 달간 마약류 민생 유통 차단을 위한 하반기 마약류 범정부 특별단속을 실시한다. ㅇ 최근 온라인을 통한 마약류 유통이 늘어나고, 2·30대 마약류 사범*이 증가하는 등 마약류 범죄의 민생으로의 확산이 우려되는 상황이다. * 2·30대 마약류 사범(비중) : ’22년 10,507명(57.2%) → ’23년 15,051명(54.5%) → ‘24년 13,996명(60.8%) ㅇ 이에 정부는 지난 8월 13일(수) 마약류 대책 협의회*를 개최하여 상반기 특별단속에 이어, 하반기에도 범정부 특별단속을 추진하기로 논의·확정하였다. * (주재) 국무조정실장 / (참석) 경찰청, 대검찰청, 법무부, 식약처, 국정원, 해양경찰청, 관세청 ㅇ 하반기 특별단속은 △국내 현장 유통 차단 △온·오프라인 유통경로 근절 △밀반입 차단 등 세 가지 주제를 중심으로 진행된다. ❶ 국내 현장 유통(투약) 차단 □ 우선, 추석 명절 및 핼러윈 등 시기에 맞춰 투약 또는 일선 유통이 우려되는 취약지역을 중심으로 고강도 단속에 나선다. ㅇ 경찰·지자체·법무부는 클럽·유흥주점 등 유흥가 일대에 합동단속반을 편성하고, 주말·심야시간대를 집중 단속한다. 단속 과정에서 업소 내부 마약류 범죄 정황에 대한 수색을 강화하고, 확보한 증거를 바탕으로 유통조직 수사까지 확대할 계획이다. ㅇ 또한, 경찰·해경·법무부는 외국인 밀집 지역을 대상으로 불법체류 외국인 단속과 연계하여 합동단속을 실시한다. 간이검사·신원확인·불법체류자 긴급보호 등을 통해 현장에서 즉각 대응하는 한편, 사건이 종결된 마약사범에 대해서는 강제퇴거를 실시할 예정이다. ※ 외국인 마약류 사범(증가율) : ’22년 2,573명(10.0%↑) → ’23년 3,151명(22.5%↑) → ‘24년 3,232명(2.6%↑) → ’25년 상반기 1,505명(전년 동기(1,316명) 대비 14.4%↑) ❷ 온·오프라인 유통 경로 근절 □ 또한, 민생 침투의 주요 통로가 되는 온라인(텔레그램 등) 및 오프라인(의료기관 불법 처방 등) 유통경로를 집중 수사하여, 근본적인 유통 원점까지 검거한다. ㅇ 검찰은 다크웹 전문수사팀과 인터넷 마약류 유통범죄 수사팀을 중심으로 위장거래 등을 통해 온라인 유통조직을 엄단한다. 경찰은 지난 8월 출범한 가상자산 추적·분석팀, 가상자산 전담수사팀을 주요 시·도청에 배치하여 가상자산을 이용한 마약류 범죄 거래 자금을 차단한다. ㅇ 하반기부터는 식약처의 ‘AI캅스*’와 검찰의 ‘E-drug 모니터링 시스템**’을 활용해, 온라인 불법 마약류 유통 정보를 조기에 차단한다. * AI 캅스 : 온라인 마약류 불법 판매 게시글 판단 후 유관기관 시스템 연계하여 차단 요청 ** E-drug 모니터링 : 온라인 마약류 유통정보 실시간 탐지하여 방심위에 차단 요청 ㅇ 식약처는 의료용 마약류의 적정 처방·사용 환경 조성을 위해, 의료용 마약류 처방 현황 빅데이터*를 심층 분석하고 경찰청 등 관계기관과 합동으로 오남용이 우려되는 의료기관을 점검한다. ADHD 치료제 처방 상위 의료기관 등과 사망자 명의도용 처방 사례 등을 중점 단속할 예정이다. * 마약류통합관리시스템: 마약류 제조‧수입부터 유통‧사용까지 의료기관(의사) 등 마약류취급자의 모든 취급내역이 보고됨 ❸ 밀반입 차단 □ 명절·휴가철 등 해외 인구 이동이 많은 시기를 틈탄 밀수 시도를 원천 차단하기 위해 국경 단계 단속도 강화된다. ㅇ 검찰은 밀수입된 마약류에 대한 통제배달, 마약류를 은닉하여 입국한 바디패커 검거 등 밀수범죄를 집중단속하여 마약류 조직 상선·유통책을 추적한다. ㅇ 관세청은 검찰·외교부 등 기관에서 제공한 마약사범 정보를 분석하여 마약 밀반입 우범여행자를 선별하고, 여행자·기탁화물 및 특송·우편물에 대한 검사를 실시한다. ㅇ 선박을 통한 대규모 마약 밀반입을 차단하기 위해, 해경·관세청·검찰·국정원은 합동검색팀을 구성하고, 중남미발 우범 선박을 선별하여 집중 단속한다. □ 정부는 이번 하반기 특별단속을 통해 마약류의 국내 유입·유통 경로를 근본적으로 차단하여 국민의 일상을 보호하는 데 총력을 기울일 것이며, 이와 병행하여 국민께서 경각심을 가지실 수 있도록 예방교육과 홍보를 지속 실시할 계획이다. ※ 붙임 1. 의료용 마약류 오남용 예방 홍보자료(식약처) 2. 휴가철 마약류 대리반입 및 해외직구 주의사항(관세청) 담당 부서 국무조정실 마약류관리 신속대응팀 책임자 과 장 김민정 (044-200-2379) 담당자 사무관 조우재 (044-200-2382) <총괄> 담당자 사무관 이정욱 (044-200-2889) 담당자 사무관 조주현 (044-200-2337) 대검찰청 책임자 과 장 전수진 (02-3480-2290) <공동> 마약과 담당자 사무관 이병록 (02-3480-2292) 경찰청 책임자 과 장 곽병일 (02-3150-0141) <공동> 마약조직범죄수사과 담당자 경 정 길민성 (02-3150-2171) 관세청 책임자 과 장 최문기 (042-481-7740) <공동> 국제조사과 담당자 사무관 박지원 (042-481-7702) 해양경찰청 책임자 과 장 주용현 (032-835-2058) <공동> 형사과 담당자 경 정 박주식 (032-835-2161) 식품의약품안전처 책임자 팀 장 강영아 (043-719-2841) <공동> 마약관리과 마약류오남용감시단TF 담당자 사무관 남경우 (043-719-2832) 법무부 책임자 과 장 유성오 (02-2110-4075) <공동> 이민조사과 담당자 사무관 김택균 (02-2110-4082) 붙임 1 의료용 마약류 오남용 예방 홍보자료 (식약처) 붙임 2 휴가철 마약류 대리반입 및 해외직구 주의사항 (관세청)'},\n",
       " {'title': '오유경 처장, 추석 맞아 이웃과 상생 나눔 실천',\n",
       "  'title_detail': {'type': 'text/plain',\n",
       "   'language': None,\n",
       "   'base': '',\n",
       "   'value': '오유경 처장, 추석 맞아 이웃과 상생 나눔 실천'},\n",
       "  'links': [{'rel': 'alternate',\n",
       "    'type': 'text/html',\n",
       "    'href': 'https://www.mfds.go.kr/brd/m_99/view.do?seq=49376'}],\n",
       "  'link': 'https://www.mfds.go.kr/brd/m_99/view.do?seq=49376',\n",
       "  'content': [{'type': 'text/html',\n",
       "    'language': None,\n",
       "    'base': '',\n",
       "    'value': '오유경 처장, 추석 맞아 이웃과 상생 나눔 실천'}],\n",
       "  'summary': '오유경 처장, 추석 맞아 이웃과 상생 나눔 실천',\n",
       "  'published': 'Tue, 30 Sep 2025 04:09:52 GMT',\n",
       "  'published_parsed': time.struct_time(tm_year=2025, tm_mon=9, tm_mday=30, tm_hour=4, tm_min=9, tm_sec=52, tm_wday=1, tm_yday=273, tm_isdst=0),\n",
       "  'contents': '보도자료 보도시점 배포 즉시 배포 2025. 9. 30.(화) 오유경 처장, 추석 맞아 상생·나눔 실천 - 제천·순창·상주와 자매결연…특산물 직거래 장터로 지역사회와 상생 - 아동보호시설(해오름집, 오송읍 소재)에서…지역 아동과 따뜻한 마음 나눔 식품의약품안전처 오유경 처장은 9월 29일 추석 명절을 앞두고 충북 제천시, 전북 순창군, 경북 상주시와 지역상생 자매결연을 맺고 지역 내 아동보호시설인 해오름집(청주시 오송읍 소재)을 방문했다고 밝혔다. 이번 자매결연은 지역경제 활성화와 지속 가능한 상생 협력을 위해 추진되었으며, 9월 30일에는 식약처 청사에서 제천, 순창, 상주의 생산자가 직접 참여하는 ‘지역 특산물 직거래 장터’를 열어 과일, 고추장 등 특산물을 직원과 오송 지역 주민들에게 판매했다. 이어 오유경 처장은 해오름집에서 위문품을 전달하고 아이들과 따뜻한 마음을 나누면서 “식약처 직원들이 한마음 한뜻으로 모은 작은 정성이 아이들이 행복한 한가위를 보내는데 도움이 되길 바란다”고 말했다. 식약처는 매년 지역 이웃과 소통하며 나눔의 자리를 마련하고 있으며, 앞으로도 이웃을 위한 다양한 나눔 활동을 추진하고 지역사회와의 협력을 지속해 상생의 가치를 실현하겠다고 밝혔다. 담당 부서 식품의약품안전처 책임자 과 장 오규섭 (043-719-1221) 운영지원과 담당자 사무관 서아림 (043-719-1222)'},\n",
       " {'title': '[보도참고] 식품안전나라 홍보 영상 공모전 대상작은?',\n",
       "  'title_detail': {'type': 'text/plain',\n",
       "   'language': None,\n",
       "   'base': '',\n",
       "   'value': '[보도참고] 식품안전나라 홍보 영상 공모전 대상작은?'},\n",
       "  'links': [{'rel': 'alternate',\n",
       "    'type': 'text/html',\n",
       "    'href': 'https://www.mfds.go.kr/brd/m_99/view.do?seq=49375'}],\n",
       "  'link': 'https://www.mfds.go.kr/brd/m_99/view.do?seq=49375',\n",
       "  'content': [{'type': 'text/html',\n",
       "    'language': None,\n",
       "    'base': '',\n",
       "    'value': '[보도참고] 식품안전나라 홍보 영상 공모전 대상작은?'}],\n",
       "  'summary': '[보도참고] 식품안전나라 홍보 영상 공모전 대상작은?',\n",
       "  'published': 'Tue, 30 Sep 2025 00:05:14 GMT',\n",
       "  'published_parsed': time.struct_time(tm_year=2025, tm_mon=9, tm_mday=30, tm_hour=0, tm_min=5, tm_sec=14, tm_wday=1, tm_yday=273, tm_isdst=0),\n",
       "  'contents': '보도참고자료 보도시점 배포 즉시 배포 2025. 9. 30.(화) <식품안전정보 포털> 식품안전나라 홍보 영상 공모전 대상작은? - ‘2025 식품안전나라 20초 영상 공모전’ 개최하여 4건의 우수작 선정 - 우수 수상작은 추석 명절 서울역 맞이방 영상 홍보에 활용 식품의약품안전처(처장 오유경)와 식품안전정보원(원장 이재용)은 국민을 대상으로 ‘2025 식품안전나라 20초 영상공모전’을 개최하고 9월 30일 4건의 우수작을 선정*하였다. * (접수)6.23.~8.31., 총 37건 응모 → (심사)➊전문가 심사 9.4.~9.9. ➋대국민 온라인투표 9.15.~9.21. 이번 공모전은 생성형 AI와 식품안전나라 캐릭터인 ‘미어로*’를 활용하여 다양한 식품안전정보를 제공하는 식품안전나라의 인지도 향상을 위한 숏폼** 형태의 모바일 친화적 콘텐츠를 발굴하기 위해 마련되었다. * 미어로(Meer-Ro) : 식품 위해정보 감시･안전정보 전달하는 미어캣 히어로를 의미하는 식품안전나라 대표 캐릭터 ** 15~60초 내외의 짧은 동영상 콘텐츠 대상 수상작인 ‘밥상 히어로즈’ 팀의 ‘우리 가족의 안전한 식탁’과 최우수상 수상작인 강동우’님의 ‘국민의 식탁을 설계하는 곳, 식품안전나라’는 식품 알레르기와 같은 일상 속 식품안전에 관한 고민을 식품안전나라의 식품·수입식품·건강기능식품 정보, 우리동네 정보 및 공공데이터 활용 기능을 통해 해결하는 이야기를 담고 있다. 우수상 수상작인 ‘정지윤·김수현’님의 ‘오늘은 안전하게, 내일은 건강하게’와 ‘박현수’님의 ‘내손안에 볼 수 있는 신뢰’는 식품안전나라가 제공하는 식품안전정보의 중요성을 표현하고, ‘내손안 식품안전정보’ 앱을 통해 편리하게 식품안전정보를 확인할 수 있다는 메시지를 담고 있다. 이번 공모전에서 수상한 영상물은 추석 명절을 맞이하여 유동 인구가 많은 서울역 맞이방에서 10월 3일부터 10월 7일까지 5일간 홍보물로 게시될 예정이며, 식품안전나라 누리집*과 누리소통망** 등에도 공개할 예정이다. * 식품안전나라 누리집(www.foodsafetykorea.go.kr) > 알림‧교육 > 교육·홍보 자료실 > 영상자료 ** 식품안전나라 누리소통망 : 카카오톡, 인스타그램, 페이스북, X(구, 트위터) 식약처는 앞으로도 국민에게 식품안전정보를 쉽고 편리하게 제공할 수 있도록 다양한 콘텐츠를 개발하여 건강하고 안전한 식생활 환경을 조성하기 위해 지속적으로 노력할 계획이다. 담당 부서 소비자위해예방국 책임자 과 장 최봉근 (043-719-4051) <총괄> 통합식품데이터기획과 담당자 사무관 이미순 (043-719-4052) 담당 부서 식품안전정보원 책임자 실 장 문 성 (02-745-7922) <위탁> 정보서비스부 담당자 부 장 이상민 (02-744-6662) 붙임 ‘2025 식품안전나라 20초 영상 공모전’ 수상작 구분 수상작 작품명 팀명 대상 우리 가족의 안전한 식탁 밥상 히어로즈 최우수상 국민의 식탁을 설계하는 곳, 식품안전나라 강동우 우수상 오늘은 안전하게, 내일은 건강하게 정지윤·김수현 내손안에 볼 수 있는 신뢰! 박현수'},\n",
       " {'title': '식중독 없는 안전한 한가위 연휴 되세요',\n",
       "  'title_detail': {'type': 'text/plain',\n",
       "   'language': None,\n",
       "   'base': '',\n",
       "   'value': '식중독 없는 안전한 한가위 연휴 되세요'},\n",
       "  'links': [{'rel': 'alternate',\n",
       "    'type': 'text/html',\n",
       "    'href': 'https://www.mfds.go.kr/brd/m_99/view.do?seq=49374'}],\n",
       "  'link': 'https://www.mfds.go.kr/brd/m_99/view.do?seq=49374',\n",
       "  'content': [{'type': 'text/html',\n",
       "    'language': None,\n",
       "    'base': '',\n",
       "    'value': '식중독 없는 안전한 한가위 연휴 되세요'}],\n",
       "  'summary': '식중독 없는 안전한 한가위 연휴 되세요',\n",
       "  'published': 'Mon, 29 Sep 2025 00:22:09 GMT',\n",
       "  'published_parsed': time.struct_time(tm_year=2025, tm_mon=9, tm_mday=29, tm_hour=0, tm_min=22, tm_sec=9, tm_wday=0, tm_yday=272, tm_isdst=0),\n",
       "  'contents': '보도자료 보도시점 배포 즉시 배포 2025. 9. 29.(월) 식중독 없는 안전한 한가위 연휴 되세요 - 손씻기, 보관온도 준수, 구분 보관·사용, 가열조리, 세척·소독 5대 수칙 당부 - 장보기는 1시간 이내, 상온식품 > 농산물 > 냉장‧냉동식품 > 육류‧어패류 순으로 구매 - 귀성·귀경길에는 가급적 위생등급 지정받은 음식점 이용 - 해외여행 시 완전히 익힌 음식 섭취하고, 변질되기 쉬운 식품 휴대 자제 식품의약품안전처(처장 오유경)은 다가오는 추석 연휴에 식중독으로 인한 피해가 발생하지 않도록 철저한 식중독 예방수칙 ‘손보구가세*’ 실천을 당부했다. ① 손씻기 흐르는 물에 비누로 30초 이상 깨끗이 손을 씻어야 합니다. ② 보관온도 지키기 냉장식품은 5℃ 이하, 냉동식품은 –18℃ 이하로 보관해야 합니다. ③ 구분사용하기 날음식과 조리음식은 구분하고, 식재료별로 칼과 도마도 구분합니다. ④ 가열하기 육류는 중심온도 75℃, 어패류는 85℃에서 1분 이상 익혀야 합니다. ⑤ 세척·소독하기 식재료와 조리기구는 깨끗이 세척·소독해야 합니다. 더불어 명절 음식은 평소와 달리 대량으로 조리하는 만큼 재료 구매부터 꼼꼼하게 준비하고 보관‧조리 방법 등에 주의해야 한다. 재래시장, 마트 등에서 식재료를 구매할 때는 밀가루나 식용유와 같이 냉장·냉동보관할 필요 없는 식품, 과일·채소 등 농산물, 햄·어묵·고기완자 등 냉장·냉동이 필요한 가공식품, 육류·어패류 순으로 가급적 1시간 이내에 구매하여 신선도를 유지하는 것이 중요하다. 또 외관과 포장 상태, 소비기한, 보관방법 등을 꼼꼼히 확인해 구매한 후 아이스박스를 이용해 서늘한 상태로 운반하고 조리 직전까지 차갑게 보관해야 한다. 귀성·귀경 인파가 급증하는 추석 연휴 기간에는 기온과 습도 변화가 커 자칫 음식을 상온에 오래 보관하면 식중독균 등 세균이 빠르게 증식할 수 있으므로 조리된 명절 음식이나 이동 중 휴게소에서 구입한 음식은 가능한 바로 섭취하고 보관 시 반드시 냉장 보관하는 것이 바람직하다. 부득이 음식을 장시간 운반하는 때에는 가급적 보냉가방, 아이스백 등을 사용하고 반드시 재가열한 후 섭취한다. 귀성·귀경길이나 고향에서 음식점을 이용할 경우 위생상태가 우수하다고 인정된 위생등급 지정업소*를 이용하는 것이 좋다. 야외에서 주문·배달 음식을 먹을 때에는 남기지 않도록 먹을 만큼만 주문하고, 배달 용기 또는 포장 등이 오염되거나 손상되지 않았는지 확인해야 한다. * ‘식품안전나라 > 위해·예방 > 위생등급제 > 위생등급제 지정현황’ 또는 ‘내손안’앱 > 식품업체 > (카테고리)음식점 선택 > 식품업체검색’에서 확인 가능 긴 연휴를 이용해 해외여행을 하는 경우 여행지에 따라 위생·검역 등의 사유로 반입이 불가능한 식품이 있는지 미리 확인하고, 반입이 가능하여도 쉽게 변질되는 식품은 가져가지 않는 것이 바람직하다. 여행지에서 식중독이 발생하지 않도록 개인 위생관리를 철저히 하는 한편 가열 없이 섭취하는 샐러드, 생과일 주스 등은 섭취에 주의하고 가급적 가열하여 완전히 익힌 음식을 먹는 것이 좋다. 식약처는 앞으로도 국민의 안전한 식생활을 위해 유용한 정보를 지속적으로 제공하고 다양한 식중독 예방 활동을 추진할 계획이다. <붙임> 1. 추석 카드뉴스 2. 식중독 예방수칙 담당 부서 식품안전정책국 책임자 과 장 이 성 (043-719-2101) 식중독예방과 담당자 연구관 한정아 (043-719-2107) 붙임 1 추석 카드뉴스(안) 붙임 2 식중독 예방수칙'},\n",
       " {'title': '[보도참고] ‘국민신문고’ 일시 중단에 따른 식약처 소관 대체 창구 안내',\n",
       "  'title_detail': {'type': 'text/plain',\n",
       "   'language': None,\n",
       "   'base': '',\n",
       "   'value': '[보도참고] ‘국민신문고’ 일시 중단에 따른 식약처 소관 대체 창구 안내'},\n",
       "  'links': [{'rel': 'alternate',\n",
       "    'type': 'text/html',\n",
       "    'href': 'https://www.mfds.go.kr/brd/m_99/view.do?seq=49373'}],\n",
       "  'link': 'https://www.mfds.go.kr/brd/m_99/view.do?seq=49373',\n",
       "  'content': [{'type': 'text/html',\n",
       "    'language': None,\n",
       "    'base': '',\n",
       "    'value': '[보도참고] ‘국민신문고’ 일시 중단에 따른 식약처 소관 대체 창구 안내'}],\n",
       "  'summary': '[보도참고] ‘국민신문고’ 일시 중단에 따른 식약처 소관 대체 창구 안내',\n",
       "  'published': 'Mon, 29 Sep 2025 00:20:12 GMT',\n",
       "  'published_parsed': time.struct_time(tm_year=2025, tm_mon=9, tm_mday=29, tm_hour=0, tm_min=20, tm_sec=12, tm_wday=0, tm_yday=272, tm_isdst=0),\n",
       "  'contents': '보도참고자료 보도시점 배포즉시 배포 2025. 9. 29.(월) ‘국민신문고’ 일시 중단에 따른 식약처 소관 대체 창구 안내 - ‘국민신문고’ 복구 시점까지 식약처 누리집, 팩스, 서신, 방문 통해 신청해야 - 누리집(www.mfds.go.kr), 전자팩스(0502-604-5991)로 접수 가능 식품의약품안전처(처장 오유경)는 국가정보자원관리원 화재에 의한 ‘국민신문고’ 시스템 장애가 지속됨에 따라, 식약처 소관 분야 신청에 대해서는 9월 29일(월)부터 식약처 누리집(‘식의약 국민신문고’), 팩스, 서신, 방문 등의 대체 창구를 개설하여 운영한다고 밝혔다. 식품·의약품 안전 분야의 국민신문고 신청인은 다소 불편하더라도 식약처 누리집(‘식의약 국민신문고’)에 접속하거나 팩스, 서신 또는 직접 방문을 통해 신청이 가능하다. 기존에 신청했던 건의 경우 시스템 복구 전에는 확인이 어려운 관계로, 신속 처리가 필요한 경우에는 재신청하면 된다. 구 분 접수방법 식약처 누리집 www.mfds.go.kr → ‘식의약 국민신문고’ 우편 (28159) 충북 청주시 흥덕구 오송읍 오송생명 2로 187 전화 043-719-1013, 1016 팩스 043-719-1000 / (전자팩스) 0502-604-5991 한편 오유경 처장은 9월 27일(토)에 이어 28일(일)에도 식약처(충북 청주시 오송읍 소재)에서 열린 재난대응 상황점검회의를 통해 통합식품안전정보망 등 식약처 소관 대국민 정보시스템의 정상운영 여부를 다시 한번 확인하고, 내부 직원들의 원활한 행정업무를 위한 임시 문서 수발신·공유 체계, 비상업무 매뉴얼 등을 점검했다. 담당 부서 중앙사고수습본부 책임자 반 장 김정미 043-719-1002 민원처리대응반 담당자 사무관 최계선 043-719-1004'},\n",
       " {'title': '[보도참고] 식약처, 비만치료제 안전 사용방법 안내',\n",
       "  'title_detail': {'type': 'text/plain',\n",
       "   'language': None,\n",
       "   'base': '',\n",
       "   'value': '[보도참고] 식약처, 비만치료제 안전 사용방법 안내'},\n",
       "  'links': [{'rel': 'alternate',\n",
       "    'type': 'text/html',\n",
       "    'href': 'https://www.mfds.go.kr/brd/m_99/view.do?seq=49372'}],\n",
       "  'link': 'https://www.mfds.go.kr/brd/m_99/view.do?seq=49372',\n",
       "  'content': [{'type': 'text/html',\n",
       "    'language': None,\n",
       "    'base': '',\n",
       "    'value': '식약처, 비만치료제 안전 사용방법 안내'}],\n",
       "  'summary': '식약처, 비만치료제 안전 사용방법 안내',\n",
       "  'published': 'Mon, 29 Sep 2025 00:17:05 GMT',\n",
       "  'published_parsed': time.struct_time(tm_year=2025, tm_mon=9, tm_mday=29, tm_hour=0, tm_min=17, tm_sec=5, tm_wday=0, tm_yday=272, tm_isdst=0),\n",
       "  'contents': '보도참고자료 보도시점 배포 즉시 배포 2025. 9. 29.(월) 식약처, 비만치료제 안전 사용방법 안내 - 식품의약품안전처와 한국의약품안전관리원, 지역 의사회, 지역의약품안전센터 등에 ‘GLP-1 계열 비만치료제 안전 사용 안내서’ 배포 식품의약품안전처(처장 오유경)는 한국의약품안전관리원(원장 손수정)과 함께 GLP-1 계열 비만치료제*를 투약하는 환자들의 안전한 사용을 돕기 위해 전국 지역 의사회, 지역의약품안전센터** 등에 ‘GLP-1 계열 비만치료제 안전사용 안내서’를 9월 29일 배포했다. * GLP-1 계열 비만치료제 : GLP-1(Glucagon-like peptide 1) 호르몬의 작용을 모방해 식욕을 줄이고, 포만감을 오래 유지하여 체중을 감소하는 효과를 가진 약물 ** 지역의약품안전센터 : 이상사례 수집·보고, 취약계층 및 특정 의약품 등을 대상으로 집중모니터링 활동 수행, 보고자/소비자의 의약품 상담 등의 활동을 수행하는 기관으로, 지역별 병원 등을 센터로 지정하고 있음 이번 안내서에는 ▴비만치료제를 사용하는 질환 ▴올바른 투여방법 ▴보관 및 폐기방법 ▴투여 시 주의사항 ▴이상반응(부작용) 보고방법 등의 정보가 담겨있다. GLP-1 계열 비만치료제는 ❶초기 체질량지수(BMI)* 30kg/m2 이상인 비만환자 또는 ❷한 가지 이상의 체중 관련 동반 질환**이 있으면서, BMI가 27kg/m2 이상 30kg/m2 미만인 과체중 환자에게 처방되는 전문의약품이다. * 체질량지수(BMI) = 몸무게(kg) / (신장(m))2 ** 제2형 당뇨병, 고혈압, 이상지질혈증, 폐쇄성 수면무호흡증 또는 심혈관 질환 등 당뇨병약을 복용하는 환자가 GLP-1 계열 비만치료제를 병용하는 경우 혈당이 낮아질 위험이 커질 수 있으므로, 약물의 용량 조절 여부 등을 의료진과 상의해야 한다. 또한, 임신과 수유 중에는 비만치료제 사용이 금지되며, 약물의 체내 잔류기간을 고려*하여 임신을 계획하는 것이 좋다. * 비만치료제 종류에 따라 약물 중단 후 최소 1~2개월 정도 피임 필요 비만치료제는 처음부터 고용량으로 시작하기보다는 의사의 처방 후 허가된 용법대로 투약을 시작하고 증량하여야 하며, 의사의 처방과 약사의 복약지도에 따라 투여 방법과 용량을 준수해야 한다. 비만치료제 투여 시 복부, 대퇴부(허벅지) 또는 상완부(윗팔) 중 편한 부위에 주사하고 투여할 때마다 주사 부위를 바꾸도록 한다. 환자는 투약 전 의료 전문가에게 ▴해당 약물 과민반응 ▴현재 투여중인 약물 ▴병력 ▴임신 모유 수유 여부 등을 알리는 것이 중요하다. 또한, 비만치료제는 빛을 피해 냉장보관하고, 약이 얼었거나 입자가 보이거나 색이 변했다면 사용하지 말고 폐기해야 한다. 비만치료제를 허가 범위 내로 사용하여도 위장관 장애, 주사부위 반응, 피로, 어지러움 등 이상사례가 흔하게 발생할 수 있고, 과민반응, 급성 췌장염, 담석증, 담낭염 등 임상적으로 중요한 이상사례도 나타날 수 있으므로 의료진에게 알리거나 병원에 방문해야 한다. 식약처는 전문의약품인 GLP-1 계열 비만치료제가 반드시 의사의 처방 후 약사의 조제·복약 지도를 따라 사용하고 비만치료제의 허가 범위 내 사용 등 안전 사용을 당부하였으며, 온라인 등에서 해외직구나 개인 간 판매를 통해 구매하거나 유통하는 것은 제품의 안전성을 담보할 수 없기 때문에 삼가야 한다고 강조했다. 아울러, 이번 안내서가 GLP-1 계열 비만치료제 사용하는 환자들이 안전하게 투약하는데 도움이 되기를 기대한다고 밝혔다. 해당 교육 자료는 ‘식약처 누리집(www.mfds.go.kr) → 법령/자료 → 홍보물자료 → 일반홍보물’에서, ‘의약품안전원 누리집(www.drugsafe.or.kr) → 교육·홍보 → 자료실’에서 확인할 수 있다. <붙임> ‘GLP-1계열 비만치료제 안전사용 안내서’ 리플릿 담당 부서 의약품안전국 책임자 과 장 최희정 (043-719-2701) <총괄> 의약품안전평가과 담당자 사무관 주진영 (043-719-2711) 의약품안전국 책임자 과 장 문은희 (043-719-2651) 의약품관리과 담당자 사무관 강원구 (043-719-2652) 바이오생약국 책임자 과 장 안광수 (043-719-3651) 바이오의약품품질관리과 담당자 사무관 성윤선 (043-719-3660) 한국의약품안전관리원 책임자 본부장 유명식 (02-2172-6790) 약물역학빅데이터팀 담당자 팀 장 김봉기 (02-2172-6770) 붙임 ‘GLP-1 계열 비만치료제 안전 사용 환자용 안내서’리플릿'},\n",
       " {'title': '[보도참고] 식약처, 중독 예방을 위한 올바른 사용정보 제공',\n",
       "  'title_detail': {'type': 'text/plain',\n",
       "   'language': None,\n",
       "   'base': '',\n",
       "   'value': '[보도참고] 식약처, 중독 예방을 위한 올바른 사용정보 제공'},\n",
       "  'links': [{'rel': 'alternate',\n",
       "    'type': 'text/html',\n",
       "    'href': 'https://www.mfds.go.kr/brd/m_99/view.do?seq=49371'}],\n",
       "  'link': 'https://www.mfds.go.kr/brd/m_99/view.do?seq=49371',\n",
       "  'content': [{'type': 'text/html',\n",
       "    'language': None,\n",
       "    'base': '',\n",
       "    'value': '식약처, 중독 예방을 위한 올바른 사용정보 제공'}],\n",
       "  'summary': '식약처, 중독 예방을 위한 올바른 사용정보 제공',\n",
       "  'published': 'Mon, 29 Sep 2025 00:14:16 GMT',\n",
       "  'published_parsed': time.struct_time(tm_year=2025, tm_mon=9, tm_mday=29, tm_hour=0, tm_min=14, tm_sec=16, tm_wday=0, tm_yday=272, tm_isdst=0),\n",
       "  'contents': '보도참고자료 보도시점 배포 즉시 배포 2025. 9. 29.(월) < 의료용 마약류, 잘 쓰면 약 & 오남용 하면 독 > 식약처, 중독 예방을 위한 올바른 사용정보 제공 - ‘마약청정 대한민국’ 누리집에 「의료용 마약류 정보센터」 개설 - 마약예방 학습만화, 누구든 재미있게 볼 수 있어.. 올바른 인식 제고 기대 식품의약품안전처(처장 오유경)는 9월 29일부터 의료용 마약류의 오남용과 중독을 예방하기 위해 범정부 마약류 통합 정보 누리집 ‘마약청정 대한민국’에 ｢의료용 마약류 정보센터｣를 개설하고 다양한 컨텐츠를 제공한다고 밝혔다. * 마약청정 대한민국(nodrugzone.mfds.go.kr) → 교육 → 의료용 마약류 정보센터 의료용 마약류 정보센터에는 ADHD(주의력결핍과잉행동장애) 치료제 등 오남용 우려가 높은 5종류*의 의료용 마약류에 대한 중독 예방교육 영상이 게시되었다. 마약류별 개발 역사, 신체적·정신적 부작용, 폐해 사례, 안전사용 기준, 주의사항 등을 일반인의 눈높이에 맞추어 쉽고 재미있게 제공된다. * ADHD 치료제(메틸페니데이트), 마취제(프로포폴), 식욕억제제(펜터민), 진통제(펜타닐), 최면진정제(졸피뎀) ** 출연 : 백승만 교수(경상국립대 약학대학, 스테로이드 인류(‘25), 대마약시대(‘23), 분자조각가들(’23), 전쟁과 약, 기나긴 악연의 역사(‘22) 등 저술, EBS·tvN 등 인문학 프로그램 출연 다수) 또한 청소년에게 친숙한 학습만화를 통해 마약류에 대한 올바른 인식을 높이고자 학년별 맞춤형(유아 및 초등1·2, 초등3·4, 초등5·6, 중·고등) ‘마약예방 한걸음 만화’(4종)를 개발하여 누리집에 공개하였다. * 마약청정 대한민국(nodrugzone.mfds.go.kr) → 자료실 → 교육자료 → 검색어 : 마약예방 한걸음 학습만화는 청소년에게 발생할 수 있는 사례 중심으로 각각 5개 주제에 대한 중독 예방 이론 설명, 만화, 활동지로 구성되어 교육 현장에서 자유롭게 활용할 수 있도록 하고, 전국 교육청과 어린이 도서관 등에도 배포하였다. 참고로 식약처는 한국마약퇴치운동본부와 함께 청소년·대학생·직장인 등 다양한 대상에게 마약예방 교육을 제공*하고 있으며, 교육의 흥미와 몰입도를 높이기 위해 메타버스**, 교육극, 애니메이션 등 콘텐츠를 다각화하여 교육에 활용하고 있다. * 예방교육 실적 : (‘23년) 8,750건 → (’24년) 32,206건 → (‘25.7월) 26,313건 ** 메타버스 다운로드 방법 : ➊ 마약청정 대한민국(nodrugzone.mfds.go.kr) → 공지사항(검색어 : 메타버스) 또는 배너 클릭 ➋ 모바일 앱스토어에서 ‘마약청정 대한민국’ 검색 오유경 처장은 “처방된 의약품이라 하더라도 잘못 사용하면 중독에 이르러 심각한 부작용이 생길 수 있다”면서, “이번에 개설한 정보센터를 통해 의료용 마약류에 대한 올바른 정보를 알고, 마약류 오남용과 중독을 예방하는데 기여하기를 기대한다”고 밝혔다. 마약 중독은 벗어날 수 있는 질병입니다. 마약류 중독문제 등으로 어려움을 겪고 있거나 주변에 이런 어려움을 겪는 가족･지인이 있다면, 24시간 마약류 전화상담센터 ☎1342에서 전문가의 도움을 받으실 수 있습니다. 담당 부서 마약안전기획관 책임자 팀 장 김상현 (043-719-2581) 마약예방재활팀 담당자 서기관 김지연 (043-719-2589) 붙임 1 의료용 마약류 정보센터 화면 붙임 2 마약 예방 한걸음 학습만화 <마약 예방 한걸음 초등학생 1·2학년 편> <마약 예방 한걸음 초등학생 3·4학년 편> <마약 예방 한걸음 초등학생 5·6학년 편> <마약 예방 한걸음 중·고등학생 편> 붙임 3 ADHD 치료제 오남용 예방 포스터, 카드뉴스 * 교육내용 중 일부 발췌'},\n",
       " {'title': '[보도참고] 화장품 사용 시 주의사항 확인으로 안전하게 사용해요',\n",
       "  'title_detail': {'type': 'text/plain',\n",
       "   'language': None,\n",
       "   'base': '',\n",
       "   'value': '[보도참고] 화장품 사용 시 주의사항 확인으로 안전하게 사용해요'},\n",
       "  'links': [{'rel': 'alternate',\n",
       "    'type': 'text/html',\n",
       "    'href': 'https://www.mfds.go.kr/brd/m_99/view.do?seq=49370'}],\n",
       "  'link': 'https://www.mfds.go.kr/brd/m_99/view.do?seq=49370',\n",
       "  'content': [{'type': 'text/html',\n",
       "    'language': None,\n",
       "    'base': '',\n",
       "    'value': '화장품 사용 시 주의사항 확인으로 안전하게 사용해요'}],\n",
       "  'summary': '화장품 사용 시 주의사항 확인으로 안전하게 사용해요',\n",
       "  'published': 'Mon, 29 Sep 2025 00:12:03 GMT',\n",
       "  'published_parsed': time.struct_time(tm_year=2025, tm_mon=9, tm_mday=29, tm_hour=0, tm_min=12, tm_sec=3, tm_wday=0, tm_yday=272, tm_isdst=0),\n",
       "  'contents': '보도참고자료 보도시점 배포 즉시 배포 2025. 9. 29.(월) 화장품 사용 시 주의사항 확인으로 안전하게 사용해요 - 식약처, ’24년 보고된 화장품 유해사례 1,926건 분석…가려움증 등 모두 경미한 사항 - 상처 부위에 화장품 사용을 자제하고 화장품 사용 부위, 용법·용량 준수 필요 식품의약품안전처(처장 오유경)는 ’24년 보고된 화장품 유해사례*를 분석한 결과, 총 1,926건 모두 가려움, 두드러기 등 경미한 사항이며 중대한 사례**는 없었다고 밝혔다. * 화장품 사용 중 발생한 의도하지 않은 징후, 증상 또는 질병을 말하며, 반드시 화장품과 인과관계를 가져야 하는 것은 아님 ** 사망, 중대한 불구, 기형 또는 이상을 초래하는 등 생명에 위협을 일으키는 사례 ’24년도에 보고된 유해사례 중 향, 사용감 등 불만족과 같은 단순 불만 628건을 제외한 1,298건을 분석한 결과, 기초화장용 제품류(577건, 44.5%), 영·유아용 제품류(417건, 32.1%), 인체 세정용 제품류(133건, 10.2%) 순으로 확인되었다. 기초화장용 제품류에서 유해사례가 가장 많이 보고되었으며, 이는 ’24년도 생산실적(58.7%)과 비슷한 비율인 것으로 볼 때 사용자가 많기 때문으로 보인다. 영·유아용 제품류에서 보고된 유해사례는 대부분 가려움과 같은 경미한 사항이었으며, 성인보다 피부가 민감하여 상대적으로 보고가 많았던 것으로 보인다. 따라서 영·유아에게 화장품을 사용한 후에는 유해사례 등이 발생하는지 꼼꼼하게 확인하는 것이 필요하다. 인체 세정용 제품류에서는 주로 두드러기, 가려움, 피부염 등이 보고되었으며, 안전성 정보 보고 비율이 꾸준히 증가*하고 있다. 특히 사용 부위, 용법·용량을 잘 지켜 사용하도록 주의해야 하며, 눈에 들어가면 물로 씻어내고 이상이 있는 경우 전문의 진료를 받아야 한다. * 보고 비율 : (’21) 5.2% → (’22) 6.7% → (’23) 8.9% → (’24) 10.2% 아울러 상처와 그 주변에는 화장품 사용을 자제해야 하며, 화장품은 질병을 치료하는 의약품이 아니므로 치료 목적으로 사용해서는 안 된다. 참고로 식약처는 소비자가 화장품을 안전하게 사용하는 것에 도움을 주기 위해 화장품 유형별‧성분별 사용할 때 주의사항과 화장품 제조에 사용된 모든 성분(알레르기 유발 주요 성분 포함) 등을 화장품에 기재하도록 하고 있다. 소비자는 화장품 사용 중 발생하거나 알게 된 유해사례 등을 식약처*, 화장품책임판매업자 또는 맞춤형화장품판매업자에게 알릴 수 있으며, 화장품 사용으로 인한 피해 발생 시 ｢소비자기본법｣ 제55조제1항에 따라 한국소비자원(☏ 국번없이 1372)에 피해 구제를 신청할 수 있다. * 의약품안전나라(nedrug.mfds.go.kr) → 전자민원/보고 → 전자보고신청 → 화장품안전성정보보고(소비자용) 식약처는 앞으로도 국민께서 안전하게 화장품을 사용할 수 있도록 지속해서 화장품 안전 사용 정보를 제공할 계획이다. <붙임> 1. 화장품 유해사례 보고 현황 2. 화장품별 사용할 때 주요 주의사항 담당 부서 바이오생약국 책임자 과 장 고지훈 (043-719-3401) 화장품정책과 담당자 연구관 김지연 (043-719-3403) 붙임 1 화장품 유해사례 보고 현황 □ ’24년 화장품 유형별 유해사례 보고 현황 (단위: %) 대분류 항목 안전성 정보 보고 현황* 생산실적 (’24년) 주요 보고 사례 기초화장용 제품류 44.5 58.7 두드러기, 가려움, 피부염, 눈자극, 알레르기 등 영·유아용제품류 32.1 0.5 두드러기, 가려움, 발진, 열감 등 인체세정용제품류 10.2 11.8 두드러기, 가려움, 발진, 눈자극 등 두발 염색용제품류 5.3 1.6 가려움, 피부염, 두드러기 등 색조화장용 제품류 4.2 15.3 가려움, 두드러기, 홍반 등 두발용 제품류 2.5 8.7 가려움, 피부염, 발적 등 목욕용 제품류 0.4 0.1 두드러기, 피부염 등 눈 화장용 제품류 0.3 2.0 눈자극, 알레르기 등 채취 방지용 제품류 0.3 0.0 가려움, 발적 방향용 제품류 0.2 0.4 피부염 면도용 제품류 0.0 0.5 - 기타 0.0 0.4 - 총합계 100 100 * 단순 불만(향 불만, 사용감 불만 등), 잘못된 사용 등은 제외 붙임 2 화장품별 사용할 때 주요 주의사항 유형 사용할 때 주의사항 공통사항 ○ 화장품 사용 시 또는 사용 후 직사광선에 의하여 사용부위가 붉은 반점, 부어오름 또는 가려움증 등의 이상 증상이나 부작용이 있는 경우에는 전문의 등과 상담할 것 ○ 상처가 있는 부위 등에는 사용을 자제할 것 ○ 보관 및 취급 시 주의사항 - 어린이의 손이 닿지 않는 곳에 보관할 것 - 직사광선을 피해서 보관할 것 알갱이 함유 세안제 ○ 알갱이가 눈에 들어갔을 때에는 물로 씻어내고, 이상이 있는 경우에는 전문의와 상담할 것 팩 ○ 눈 주위를 피하여 사용할 것 두발용, 두발염색용, 눈 화장용 ○ 눈에 들어갔을 때에는 즉시 씻어낼 것 샴푸 ○ 눈에 들어갔을 때에는 즉시 씻어낼 것 ○ 사용 후 물로 씻어내지 않으면 탈모 또는 탈색의 원인이 될 수 있으므로 주의할 것 * 출처 : 화장품법 시행규칙 [별표3], 화장품 사용할 때의 주의사항 및 알레르기 유발성분 표시에 관한 규정'},\n",
       " {'title': '식약처, 소관 식의약 민원 창구 정상 가동중',\n",
       "  'title_detail': {'type': 'text/plain',\n",
       "   'language': None,\n",
       "   'base': '',\n",
       "   'value': '식약처, 소관 식의약 민원 창구 정상 가동중'},\n",
       "  'links': [{'rel': 'alternate',\n",
       "    'type': 'text/html',\n",
       "    'href': 'https://www.mfds.go.kr/brd/m_99/view.do?seq=49369'}],\n",
       "  'link': 'https://www.mfds.go.kr/brd/m_99/view.do?seq=49369',\n",
       "  'content': [{'type': 'text/html',\n",
       "    'language': None,\n",
       "    'base': '',\n",
       "    'value': '식약처, 소관 식의약 민원 창구 정상 가동중'}],\n",
       "  'summary': '식약처, 소관 식의약 민원 창구 정상 가동중',\n",
       "  'published': 'Sat, 27 Sep 2025 07:52:16 GMT',\n",
       "  'published_parsed': time.struct_time(tm_year=2025, tm_mon=9, tm_mday=27, tm_hour=7, tm_min=52, tm_sec=16, tm_wday=5, tm_yday=270, tm_isdst=0),\n",
       "  'contents': '보도자료 보도시점 배포 즉시 배포 2025. 9. 27.(토) 식약처, 소관 식의약 민원 창구 정상 가동중 - 식품, 수입식품, 의약품, 의료기기 등 주요 민원 신청 및 정상 처리 가능 - 오유경 처장 주재, 긴급 상황 점검회의 실시 및 상황관리반 구성‧운영 식품의약품안전처(처장 오유경)는 국가정보자원관리원 화재에 따른 행정시스템 장애와 관련하여 식약처 소관 민원 신청 창구를 전수 점검한 결과, 식품, 의약품, 의료기기 등 민원창구가 정상 운영 중이라고 밝혔다. 민원인은 식약처 대표 누리집을 포함한 식의약 분야별 민원창구를 통하여 기존과 같이 민원 신청 및 처리 서비스를 이용할 수 있다. * (식품) 식품안전나라(www.foodsafetykorea.go.kr), 수입식품정보마루(impfood.mfds.go.kr), (의약품) 의약품안전나라(nedrug.mfds.go.kr, 의료기기(emedi.mfds.go.kr) 등 (붙임참조) 또한, 국민신문고를 통해 신청한 민원은 국가정보자원관리원의 화재 복구 이후 처리가 가능하며, 식의약 민원에 대한 문의사항이 있는 경우 식약처 대표번호(1577-1255)로 통해 유선으로 문의할 수 있다. * 주말 등 콜센터 업무시간 외 안내(당직실 : 043-719-5735, 5736) 식약처는 오유경 처장 주재로 상황점검회의를 실시하고 정보화담당관을 반장으로 하는 상황관리반을 구성하여, 주요 정보시스템에 대한 운영 상황을 점검하고 청사 시설에 대한 안전관리 및 행정시스템 장애에 대한 대응 방안을 모색하였다. 식약처는 이번 행정시스템 장애와 관련한 국민 불편 최소화할 수 있도록 행정안전부 등 관계부처와 협의하여 비상 대응 체계를 지속 운영하겠다고 밝혔다. 담당 부서 기획조정관 책임자 과 장 김익상 (043-719-1601) 정보화담당관 담당자 사무관(예정) 정진수 (043-719-1603) 담당 부서 기획조정관 책임자 과 장 김정미 (043-719-1002) 고객지원담당관 담당자 사무관 최계선 (043-719-1004) 담당 부서 운영지원과 책임자 과 장 오규섭 (043-719-1221) 담당자 사무관 조재형 (043-719-1271) 붙임 식의약 분야별 민원창구 목록 □ 분야별 민원창구 목록 분야 민원창구 명 설명 접속 경로 공통 식품의약품안전처 대표 누리집 식의약 관련 안전정보 제공 http://mfds.go.kr 식품 식품안전나라 식품 관련 영업, 품목제조 보고 등 민원 신청 http://www.foodsafetykorea.go.kr 수입식품정보마루 해외제조업소 등록, 수입 신고서 정정 등 민원 http://impfood.mfds.go.kr 의약품 의약품안전나라 의약품 영업, 품목허가 등 민원 http://nedrug.mfds.go.kr 의료기기 의료기기안심책방 의료기기 영업, 품목 허가 등 민원 http://emedi.mfds.go.kr'},\n",
       " {'title': '식약처, 농산물 유통 안전사고 대비 태세 점검',\n",
       "  'title_detail': {'type': 'text/plain',\n",
       "   'language': None,\n",
       "   'base': '',\n",
       "   'value': '식약처, 농산물 유통 안전사고 대비 태세 점검'},\n",
       "  'links': [{'rel': 'alternate',\n",
       "    'type': 'text/html',\n",
       "    'href': 'https://www.mfds.go.kr/brd/m_99/view.do?seq=49368'}],\n",
       "  'link': 'https://www.mfds.go.kr/brd/m_99/view.do?seq=49368',\n",
       "  'content': [{'type': 'text/html',\n",
       "    'language': None,\n",
       "    'base': '',\n",
       "    'value': '식약처, 농산물 유통 안전사고 대비 태세 점검'}],\n",
       "  'summary': '식약처, 농산물 유통 안전사고 대비 태세 점검',\n",
       "  'published': 'Fri, 26 Sep 2025 07:00:33 GMT',\n",
       "  'published_parsed': time.struct_time(tm_year=2025, tm_mon=9, tm_mday=26, tm_hour=7, tm_min=0, tm_sec=33, tm_wday=4, tm_yday=269, tm_isdst=0),\n",
       "  'contents': '보도자료 보도시점 2025.9.26.(금) 16:00 배포 2025. 9. 26.(금) 식약처, 농산물 유통 안전사고 대비 태세 점검 - 농산물 안전사고 대응 점검을 위한 「‘25년 재난 대응 안전한국훈련」 실시 - 거짓 정보 확산에 따른 사회 혼란과 농산물 유통질서 교란 대비 훈련 식품의약품안전처(처장 오유경)는 식품·의약품 등 안전사고 발생 시 신속한 대응으로 위기 확산을 방지하고 농산물 안전사고 위기대응 체계를 점검하기 위해 9월 26일 「‘25년 재난 대응 안전한국훈련*」을 실시했다. * 「재난 및 안전관리 기본법」 제35조(재난대비훈련 실시)에 근거해 매년 중앙부처, 지자체, 공공기관 총 335개 기관이 소관 재난 및 위기에 대비하는 훈련 이번 훈련은 병원성 미생물에 오염된 농산물이 대량으로 유통되어 중증환자가 발생하는 등의 피해 상황을 가정하여 식품·의약품 등 안전사고 주요 상황 대응 매뉴얼*에 따라 진행했다. * 식약처가 효율적인 위기대응 체계 확립을 위해 식품, 의약품, 화장품, 의료기기 등 분야별 대응 매뉴얼을 통합해 제정(‘18.8.31~) 특히 올해는 병원성 미생물 오염 농산물 유통사고 발생 후 거짓 정보의 확산에 따른 사회 혼란 및 유통 질서 위협에 대응하는 훈련으로 영상 시스템을 활용한 위기 수준 평가* 등 토론훈련과 농산물 유통 점검 등 현장훈련을 통합하여 실시했다. * 관심 → 주의 ➝ 경계 ➝ 심각 4단계로 위기수준을 구분･평가하여 탄력적으로 적용 이번 훈련에는 행정안전부를 비롯해 식품안전정보원, 한국식품안전관리인증원 등의 유관기관과 민간기업인 농협경제지주(주)가 참여했으며, 국민체험단*이 위기 상황 발생부터 훈련 평가까지 전 과정에 참여했다. * 국민체험단 : 안전한국훈련에 대한 국민 관심과 이해도를 높이고 다양한 의견을 반영해 훈련기관의 재난대응 역량을 향상시키고자 기관별 모집(5명 내외)･운영 오유경 처장은 이날 현장에서 “이번 훈련은 소비트렌드가 빠르게 변하고 있는 가운데, 실속 선호로 소비가 늘어나고 있는 농산물에 대한 위기대응 체계를 점검하고 사회 혼란 상황에 대응하는 훈련을 실시 했다는 점에서 큰 의미가 있다”라고 언급했다. 또한 “식약처는 기후변화, 기술발전 등 급변하는 환경 속에서 발생할 수 있는 다양한 위기상황을 발굴하여 대응역량을 강화하겠다”고 밝혔다. 아울러, 식약처는 앞으로도 식품·의약품 안전 관련 위기 발생 시 초기에 진화할 수 있는 대응체계를 구축·운영하여 국민이 안심하고 식품·의약품 등을 소비할 수 있는 환경을 조성해 나갈 계획이다. 담당 부서 소비자위해예방국 책임자 과 장 김현선 (043-719-1711) 위해예방정책과 담당자 사무관 송대일 (043-719-1718) 담당 부서 식품소비안전국 책임자 과 장 정윤채 (043-719-3203) 농수산물안전정책과 담당자 사무관 유범열 (043-719-3224) 붙임 재난대응 안전한국훈련 홍보물'},\n",
       " {'title': '[보도참고] 필수의약품 공급, 정부-업계가 함께 머리 맞댄다',\n",
       "  'title_detail': {'type': 'text/plain',\n",
       "   'language': None,\n",
       "   'base': '',\n",
       "   'value': '[보도참고] 필수의약품 공급, 정부-업계가 함께 머리 맞댄다'},\n",
       "  'links': [{'rel': 'alternate',\n",
       "    'type': 'text/html',\n",
       "    'href': 'https://www.mfds.go.kr/brd/m_99/view.do?seq=49367'}],\n",
       "  'link': 'https://www.mfds.go.kr/brd/m_99/view.do?seq=49367',\n",
       "  'content': [{'type': 'text/html',\n",
       "    'language': None,\n",
       "    'base': '',\n",
       "    'value': '필수의약품 공급, 정부-업계가 함께 머리 맞댄다'}],\n",
       "  'summary': '필수의약품 공급, 정부-업계가 함께 머리 맞댄다',\n",
       "  'published': 'Fri, 26 Sep 2025 05:05:55 GMT',\n",
       "  'published_parsed': time.struct_time(tm_year=2025, tm_mon=9, tm_mday=26, tm_hour=5, tm_min=5, tm_sec=55, tm_wday=4, tm_yday=269, tm_isdst=0),\n",
       "  'contents': '보도참고자료 보도시점 2025. 9. 26.(금) 14:00 배포 2025. 9. 26.(금) 필수의약품 공급, 정부-업계가 함께 머리 맞댄다 - 식약처, 제약기업들과 ‘필수의약품 공공생산·유통 네트워크’ 간담회 개최 식품의약품안전처(처장 오유경)는 한국희귀·필수의약품센터(원장 김영림)와 국정과제인 ‘국가필수의약품 공급 안정화·지원*’을 적극 이행하기 위한 ‘필수의약품 공공생산·유통 네트워크**’를 구성하고, 이를 개시하는 간담회를 9월 26일 개최했다고 밝혔다. * [국정과제 32-4] (필수의약품 공급 안정) mRNA 백신 등 차세대 백신 플랫폼 기술 개발, 국가필수의약품·의료기기 공급 안정화 및 지원, 국산 원료 의약품 인센티브 확대 ** 참여자 : 정부, 제약분야 협회 및 국가필수의약품 주문생산·유통 참여(희망)업체 ‘필수의약품 공공생산·유통 네트워크’는 필수의약품 제조가 개시되는 단계부터 유통에 이르는 공급망 단계*를 포괄하여 지원하며, 향후 주문생산 제도를 활성화하기 위한 대상 선정 및 행정적·기술적 지원 사항을 체계적으로 논의하고 제약사에 필요한 인센티브를 제도에 반영하는 것을 목표로 한다. * 향후 필수의약품 사용단계(의료·약업계)까지 네트워크 확장 검토 필수의약품 공공생산·유통 네트워크(가칭) <정부기관> <제조단계> <유통단계> 식품의약품안전처 한국희귀·필수의약품센터 [협회] 한국제약바이오협회 한국바이오의약품협회 [업체] 현행 주문생산 참여업체 사업참여 희망업체 [협회] 한국의약품유통협회 [업체] 현행 유통업체 이번 간담회에서 식약처와 한국희귀·필수의약품센터는 필수의약품 주문생산 사업 현황과 향후 네트워크 운영 방향을 공유하였으며, 업계는 주문생산 사업에 참여하면서 느낀 애로사항을 공유하고 향후 주문생산 사업을 활성화하기 위한 제도개선과 지원 필요사항을 건의하였다. 국가필수의약품 주문생산 사업 √ (개요) 공급이 중단되었거나 중단될 우려가 있는 품목 중 국내 생산을 통한 안정적 공급이 필요한 경우 민간제약사의 생산역량을 활용하여 국가필수의약품 생산을 정부가 지원하는 사업 * 2016년부터 식약처와 한국희귀·필수의약품센터가 필수의약품 공공생산·유통사업의 일환으로 수행 √ (운영방식) 제약사 허가품목 생산 → 한국희귀·필수의약품센터 구매·공급 √ (현황) 6개 제약사 참여, 7개 국가필수의약품 생산지원 중(연도별 순차공급) 식약처는 앞으로 ‘필수의약품 공공생산·유통 네트워크’를 중심으로 민관이 협력하여 국가필수의약품의 국내 생산체계를 확고히 하도록 노력하며, 이를 통해 의료현장 및 환자분들에게 안정적으로 의약품이 공급될 수 있도록 최선을 다해 지원하겠다고 밝혔다. 담당 부서 의약품안전국 책임자 팀 장 권혁승 (043-719-2821) 의약품관리지원팀 담당자 사무관 김선영 (043-719-2822) 담당 부서 한국희귀·필수의약품센터 책임자 본부장 김도형 (02-2219-9836) 필수의약품관리본부 담당자 대리 김민정 (02-2219-9848)'},\n",
       " {'title': '[보도참고] 식약처, 의료기기 업계 규제지원 나선다',\n",
       "  'title_detail': {'type': 'text/plain',\n",
       "   'language': None,\n",
       "   'base': '',\n",
       "   'value': '[보도참고] 식약처, 의료기기 업계 규제지원 나선다'},\n",
       "  'links': [{'rel': 'alternate',\n",
       "    'type': 'text/html',\n",
       "    'href': 'https://www.mfds.go.kr/brd/m_99/view.do?seq=49366'}],\n",
       "  'link': 'https://www.mfds.go.kr/brd/m_99/view.do?seq=49366',\n",
       "  'content': [{'type': 'text/html',\n",
       "    'language': None,\n",
       "    'base': '',\n",
       "    'value': '식약처,\\xa0의료기기 업계 규제지원 나선다'}],\n",
       "  'summary': '식약처,\\xa0의료기기 업계 규제지원 나선다',\n",
       "  'published': 'Fri, 26 Sep 2025 00:07:59 GMT',\n",
       "  'published_parsed': time.struct_time(tm_year=2025, tm_mon=9, tm_mday=26, tm_hour=0, tm_min=7, tm_sec=59, tm_wday=4, tm_yday=269, tm_isdst=0),\n",
       "  'contents': '보도참고자료 보도시점 배포 즉시 배포 2025. 9. 26.(금) - 제13회 부산국제의료기기전시회(KIMES BUSAN 2025) - 식약처, 의료기기 업계 규제지원 나선다 - 품목갱신, 디지털의료제품 허가심사 등 분야별 1:1 맞춤형 실무 상담 진행 - 업계의 규제 대응 역량 강화로 국민에게 안전한 의료기기 제공에 기여 식품의약품안전처(처장 오유경)는 9월 26일부터 3일간 부산 벡스코에서 열리는 제13회 부산국제의료기기전시회(KIMES BUSAN 2025)*에 참가해 업계를 대상으로 ‘의료기기 규제지원 상담센터’ 부스를 운영한다고 밝혔다. * 국내·외 의료기기 제조·수입업체, 의료기관 관계자가 참여하여 수도권 외 지역 의료기기 산업 활성화 및 국내·외 업계 교류와 판로 개척 지원을 위한 전시회 식약처는 상담센터를 통해 ▲품목갱신 제출자료 사전검토 ▲의료기기 제조 및 품질관리(GMP*) 인증 심사 ▲디지털의료제품 등 허가‧심사 등에 대한 현장 맞춤형 1:1 상담을 제공하고, 동시에 규제 애로사항을 직접 청취하여 수도권 이외 지역 업체의 규제대응 역량 강화를 적극 지원한다. * GMP(Good Manufacturing Practice) : 항상 일관된 양질의 제품이 공급될 수 있도록 의료기기의 개발에서부터 원자재 구입, 제조, 검사, 포장, 설치, 보관, 출하 및 클레임이나 반품에 이르기까지의 모든 공정에 걸쳐 의료기기의 품질을 보증하기 위하여 지켜야 할 사항을 규정하는 품질경영시스템 특히, 이미 허가(인증·신고)된 제품의 안전성·유효성 주기적 검토를 위해 도입된 의료기기 품목갱신 제도*를 중점 안내하며 갱신 제출자료 사전검토와 가이드라인을 제공한다. 또한 디지털의료제품의 GMP 및 기술문서 심사 절차 등을 위한 홍보자료를 배포할 예정이다. * 이미 허가·신고·인증된 의료기기에 대한 최신의 안전성·유효성 자료, 제조·수입실적 등 자료를 5년마다 식약처에 제출하고 검토 후 제조나 수입할 수 있음 식약처는 앞으로도 의료기기 산업계의 규제 대응 역량을 높이고, 국민에게 보다 안전한 의료기기를 공급할 수 있도록 지속적으로 지원하겠다고 밝혔다. 담당 부서 의료기기안전국 책임자 과 장 노창호 (043-719-5001) 의료기기안전평가과 담당자 연구관 김형범 (043-719-5004) 참고 KIMES BUSAN 2025 상담 부스 위치 및 시안 * 부스: BEXCO 제1전시장 H309(2칸) * 면적: 1칸당 3m2 x 3m2 / 2칸 제공(3m2 x 6m2)'},\n",
       " {'title': '아세트아미노펜, 임신부는 의약전문가와 상의하고 복용하세요',\n",
       "  'title_detail': {'type': 'text/plain',\n",
       "   'language': None,\n",
       "   'base': '',\n",
       "   'value': '아세트아미노펜, 임신부는 의약전문가와 상의하고 복용하세요'},\n",
       "  'links': [{'rel': 'alternate',\n",
       "    'type': 'text/html',\n",
       "    'href': 'https://www.mfds.go.kr/brd/m_99/view.do?seq=49365'}],\n",
       "  'link': 'https://www.mfds.go.kr/brd/m_99/view.do?seq=49365',\n",
       "  'content': [{'type': 'text/html',\n",
       "    'language': None,\n",
       "    'base': '',\n",
       "    'value': '아세트아미노펜, 임신부는 의약전문가와 상의하고 복용하세요'}],\n",
       "  'summary': '아세트아미노펜, 임신부는 의약전문가와 상의하고 복용하세요',\n",
       "  'published': 'Thu, 25 Sep 2025 04:30:15 GMT',\n",
       "  'published_parsed': time.struct_time(tm_year=2025, tm_mon=9, tm_mday=25, tm_hour=4, tm_min=30, tm_sec=15, tm_wday=3, tm_yday=268, tm_isdst=0),\n",
       "  'contents': '보도자료 보도시점 2025. 9. 25.(목) 13:30 배포 2025. 9. 25.(목) 아세트아미노펜, 임신부는 의약전문가와 상의하고 복용하세요 식품의약품안전처(처장 오유경)는 최근 미국 정부의 ‘타이레놀’에 대한 발표와 관련해, 현재 시점에서 국내 임신부는 ‘아세트아미노펜’ 성분 해열·진통제를 기존 사용상의 주의사항대로 의사, 약사 등 전문가와 상의하고 복용 가능하다고 밝혔다. 식약처에 따르면 임신 초기 38℃ 이상의 고열이 지속되면 태아 신경계에 영향을 미칠 수 있으므로, 증상이 심할 경우 ‘아세트아미노펜’ 성분 해열․진통제를 복용할 수 있다. 다만, 복용량은 하루에 4,000mg을 넘지 않도록 한다. 통증 완화에 사용하는 비스테로이드성 소염진통제(예. 이부프로펜, 덱시부프로펜, 나프록센 등)는 태아 신장에 문제를 일으킬 수 있으므로 임신 20~30주에는 꼭 필요한 경우에만 최소량을 최단기간 사용하고, 임신 30주 이후에는 사용하지 않는 것이 좋다. 다만, 개인별로 의료적 상황이 다를 수 있으므로 임신부는 아세트아미노펜 성분이 포함된 의약품을 복용하기 전에 의약전문가와 상의해야 한다. 현재 타이레놀 등 아세트아미노펜 성분이 포함된 의약품의 국내 허가 사항에는 임신 중 복용과 자폐증간 연관성에 대한 내용은 없다. 아울러 식약처는 해당 업체에 미국 정부의 발표에 대한 의견 및 자료 제출을 요청하였으며, 관련 자료 및 근거에 대해 지속적으로 신중히 검토해 새로운 과학적 증거 및 사실이 발견되면 사용상의 주의사항 등에 반영하겠다고 밝혔다. 담당 부서 의약품안전국 책임자 과 장 최희정 (043-719-2701) 의약품안전평가과 담당자 사무관 주진영 (043-719-2711)'},\n",
       " {'title': '[보도참고]  식약처, 나트륨·당류 저감표시 지속 확대',\n",
       "  'title_detail': {'type': 'text/plain',\n",
       "   'language': None,\n",
       "   'base': '',\n",
       "   'value': '[보도참고]  식약처, 나트륨·당류 저감표시 지속 확대'},\n",
       "  'links': [{'rel': 'alternate',\n",
       "    'type': 'text/html',\n",
       "    'href': 'https://www.mfds.go.kr/brd/m_99/view.do?seq=49364'}],\n",
       "  'link': 'https://www.mfds.go.kr/brd/m_99/view.do?seq=49364',\n",
       "  'content': [{'type': 'text/html',\n",
       "    'language': None,\n",
       "    'base': '',\n",
       "    'value': '식약처, 나트륨·당류 저감표시 지속 확대'}],\n",
       "  'summary': '식약처, 나트륨·당류 저감표시 지속 확대',\n",
       "  'published': 'Thu, 25 Sep 2025 00:53:16 GMT',\n",
       "  'published_parsed': time.struct_time(tm_year=2025, tm_mon=9, tm_mday=25, tm_hour=0, tm_min=53, tm_sec=16, tm_wday=3, tm_yday=268, tm_isdst=0),\n",
       "  'contents': '보도참고자료 보도시점 배포 즉시 배포 2025. 9. 25.(목) <‘덜 짠’, ‘덜 단’ 등> 식약처, 나트륨·당류 저감표시 지속 확대 - 「나트륨·당류 저감 표시기준」 일부개정안 행정예고(9.25.~10.15.) - 나트륨·당류 저감 표시 대상에 빵류, 어육소시지, 초콜릿 등 추가 식품의약품안전처(처장 오유경)는 나트륨·당류 저감 제품의 생산을 확대하고 ‘덜 짠’, ‘덜 단’ 제품을 선호하는 소비자 선택권을 보장하기 위해 나트륨·당류 저감표시 대상으로 빵류, 초콜릿류 등을 추가하는「나트륨·당류 저감 표시기준*」일부 개정안을 9월 25일 행정예고 했다고 밝혔다. * 유통 중인 제품의 세부 분류별 평균값 대비 10% 이상, 또는 동일 제조사의 유사 제품 대비 25% 이상 나트륨·당류 함량을 낮춘 제품에 ‘덜, 감소’ 등 표시 가능 개정안에 따르면 시중에 유통 중인 제품의 평균값 대비 10% 또는 자사유사제품 대비 25% 이상 나트륨·당류의 함량을 줄인 빵류, 어육소시지, 식육추출가공품, 초콜릿 등에도 ‘덜 짠’, ‘당류 줄인’ 등의 표시를 할 수 있다. <나트륨·당류 저감 표시 추가 대상> ① 나트륨(10종) : 빵류 중 베이글·바게트·치아바타·크로와상·식빵·모닝빵·곡물빵, 식육추출가공품 중 국·탕, 찌개·전골, 어육소시지(간식용 제품에 한함) ② 당류(5종) : 초콜릿, 밀크초콜릿, 준초콜릿, 초콜릿가공품(초코과자, 초콜릿 형태) 올해 나트륨‧당류 저감표시를 확대하는 대상은 ❶식사 대용으로 섭취가 증가해 나트륨 섭취량에 영향이 커진 베이글, 식빵 등 식사용 빵류, ❷어린이 기호식품* 중 나트륨 섭취에 영향을 미치는 간식용 어육소시지, ❸중·장년층이 많이 섭취하는 식육추출가공품 중 국·탕 및 찌개·전골**, ❹여자 어린이가 세계보건기구(WHO) 권고기준을 초과해 당류를 섭취하고 있다는 점을 고려하여 여자 어린이 등이 자주 섭취하는 초콜릿류까지 포함한다. * 「어린이 식생활 안전관리 특별법」에 따라 정해진 「식품위생법」 또는 「축산물 위생관리법」에 따른 식품 중 주로 어린이들이 선호하거나 자주 먹는 음식물 ** 유사한 제품인 즉석조리식품(국·탕, 찌개·전골)은 현재 저감 표시 대상 식약처는 이번 개정 추진이 나트륨‧당류 저감 제품의 생산과 유통을 활성화하여 소비자의 건강한 식품 선택권 확대에 도움이 되길 기대하며, 앞으로도 국민의 건강한 식생활 환경을 조성하기 위해 노력할 계획이다. 개정안에 대한 자세한 내용은 ‘식약처 누리집(www.mfds.go.kr) > 법령·자료 > 입법/행정예고’에서 확인할 수 있으며, 개정안에 대한 의견이 있는 경우 10월 13일까지 제출할 수 있다. 담당 부서 식품소비안전국 책임자 과 장 기용기 (043-719-2252) 식생활영양안전정책과 담당자 연구관 이순규 (043-719-2262) 붙임 나트륨․당류 저감제품 표시기준 일부개정안 Q&A □ 「나트륨·당류 저감 표시기준」란 어떤 규정인가요? -「식품등의 표시기준」의 규정과는 별도로 나트륨·당류 함량을 ① 시중 유통제품의 세부 분류별 평균값 대비 10% 이상 줄인 경우 또는 ② 자사유사제품 대비 25% 이상 줄인 경우 ‘덜, 감소, 라이트, 줄인’ 등 저감 표시할 수 있도록 규정한 기준임 □ 「나트륨·당류 저감 표시기준」 개정 배경은? - ｢나트륨･당류 저감화 종합계획(’21~’25)｣ 목표* 달성과 저감 제품 생산·유통 활성화를 통해 나트륨·당류를 줄인 제품에 대한 소비자 선택권을 확대하고자 표시 대상 품목을 추가하는 개정을 추진함 * (나트륨) 1일 섭취량을 ’25년까지 3,000mg 이하로 감소(’23년, 3,136mg) (당류) 가공식품 통한 섭취량을 1일 열량의 10% 이내(50g)로 관리(’23년, 7.7%) □ 우리 국민의 나트륨·당류 섭취량은 어느 정도인지? - 국민의 1일 나트륨 섭취량은 정책 추진 이후 지속 감소 추세이나, 세계보건기구(WHO) 권고기준(2,000mg/일)에 비해 1.6배 높고, - 여자 어린이·청소년 등의 당류 섭취량은 WHO 권고기준(1일 총열량의 10% 미만)을 초과* * 가공식품을 통한 당류 섭취 비율(‘23년): 10.2%(6-11세 여자), 11.1%(12-18세 여자), 10.5%(19-29세 여자) □ 이번「나트륨·당류 저감 표시기준」개정의 주요 내용은? - 올해는 ❶식사 대용으로 섭취가 증가해 나트륨 섭취량에 영향이 커진 베이글, 식빵 등 식사용 빵류, ❷어린이 기호식품 중 나트륨 섭취에 영향을 미치는 간식용 어육소시지, ❸중·장년층이 많이 섭취하는 식육추출가공품 중 국·탕 및 찌개·전골, ❹여자 어린이가 세계보건기구(WHO) 권고기준을 초과해 당류를 섭취하고 있다는 점을 고려하여 여자 어린이 등이 자주 섭취하는 초콜릿류를 나트륨·당류 저감 표시 대상으로 확대함 구분 현행 개정 적용 대상 1. 나트륨 저감 표시 가. 유탕면 나. 건면(조미식품이 포함된 제품에 한함) 다. 즉석섭취식품 중 삼각김밥, 김밥, 주먹밥, 도시락(정찬형), 햄버거 또는 샌드위치 라. 즉석조리식품 중 국ㆍ탕, 찌개ㆍ전골, 냉동밥 또는 도시락(정찬형) 마. 만두 바. 빵류 중 피자 1. 나트륨 저감 표시 가. 유탕면 나. 건면(조미식품이 포함된 제품에 한함) 다. 즉석섭취식품 중 삼각김밥, 김밥, 주먹밥, 도시락(정찬형), 햄버거 또는 샌드위치 라. 즉석조리식품 중 국ㆍ탕, 찌개ㆍ전골, 냉동밥 또는 도시락(정찬형) 마. 만두 바. 빵류 중 피자, 베이글, 바게트, 치아바타, 크로와상, 식빵, 모닝빵, 곡물빵 사. 식육추출가공품 중 국ㆍ탕, 찌개ㆍ전골 아. 어육소시지(간식용 제품에 한함) 2. 당류 저감 표시 가. 가공유 나. 발효유 다. 농후발효유 라. 빵류 중 카스텔라, 케이크, 머핀 또는 파이 마. 아이스크림 바. 아이스밀크 사. 샤베트 아. 빙과 자. 액상커피(유가공품 함유 제품에 한함) 차. 유산균음료 2. 당류 저감 표시 가. 가공유 나. 발효유 다. 농후발효유 라. 빵류 중 카스텔라, 케이크, 머핀 또는 파이 마. 아이스크림 바. 아이스밀크 사. 샤베트 아. 빙과 자. 액상커피(유가공품 함유 제품에 한함) 차. 유산균음료 카. 초콜릿 타. 밀크초콜릿 파. 준초콜릿 하. 초콜릿가공품 중 초코과자, 초콜릿 형태'},\n",
       " {'title': '[보도참고] 식약처, 대만·싱가포르 식품안전관리 규정 설명회 개최',\n",
       "  'title_detail': {'type': 'text/plain',\n",
       "   'language': None,\n",
       "   'base': '',\n",
       "   'value': '[보도참고] 식약처, 대만·싱가포르 식품안전관리 규정 설명회 개최'},\n",
       "  'links': [{'rel': 'alternate',\n",
       "    'type': 'text/html',\n",
       "    'href': 'https://www.mfds.go.kr/brd/m_99/view.do?seq=49363'}],\n",
       "  'link': 'https://www.mfds.go.kr/brd/m_99/view.do?seq=49363',\n",
       "  'content': [{'type': 'text/html',\n",
       "    'language': None,\n",
       "    'base': '',\n",
       "    'value': '식약처, 대만·싱가포르 식품안전관리 규정 설명회 개최'}],\n",
       "  'summary': '식약처, 대만·싱가포르 식품안전관리 규정 설명회 개최',\n",
       "  'published': 'Thu, 25 Sep 2025 00:05:29 GMT',\n",
       "  'published_parsed': time.struct_time(tm_year=2025, tm_mon=9, tm_mday=25, tm_hour=0, tm_min=5, tm_sec=29, tm_wday=3, tm_yday=268, tm_isdst=0),\n",
       "  'contents': '보도참고자료 보도시점 배포 즉시 배포 2025. 9. 25.(목) 식약처, 대만·싱가포르 식품안전관리 규정 설명회 개최 - 대만 식약청·싱가포르 식품청 공무원 참여, 식품 표시 규정 등 최신 동향 설명 - 국가 간 식품 규제조화 및 우리 업계 애로사항 해소 방안 등 상호 협력 지속키로 식품의약품안전처(처장 오유경)는 한국식품안전관리인증원(원장 한상배)과 함께 9월 24일 켄싱턴호텔 여의도(서울특별시 영등포구 소재)에서 ‘대만·싱가포르 식품안전관리 규정 설명회’를 개최하고 각국 식품안전 담당 공무원이 참석해 업계에 최신 동향을 설명하는 자리를 가졌다. 이번 설명회는 라면, 조미식품, 건강기능식품 등 주요 수출 식품을 생산하는 약 60개 식품기업 관계자 80여 명이 참석한 가운데 대만 식품의약품안전청과 싱가포르 식품청 소속 공무원*이 직접 자국의 수입식품 안전 규제 동향과 식품통관 절차 등을 설명했다. * (대만) 식품의약품안전청 식품안전과 담당자 등 3인 (싱가포르) 식품청 위험관리 및 감시국장 등 2인 이어진 수출 관련 질의응답 시간에는 업계가 가장 어려워하는 각국의 식품 표시 규정, 건강기능식품 등록 절차 등을 실무 중심으로 안내하였으며, 인증원이 식품 수출입 절차와 관세 등에 대한 1:1 맞춤형 기술 상담을 실시했다. 특히 이 자리에서 대만측은 식품용 기구·용기·포장에 대한 기준·규격을 우리 기준과 동등한 수준으로 개선하는 방안을 검토하기로 하고, 싱가포르측은 우리 기업이 가금육·돼지고기 작업장 등록 신청 시 실사 등 등록 절차가 신속히 진행될 수 있도록 지원하겠다고 밝혔다. 아울러 식약처와 인증원은 대만 식품의약품안전청, 싱가포르 식품청 관계자에게 K-푸드 수출 지원에 관하여 상호 협력을 강화하고 설명회 등 다양한 소통의 기회를 지속 마련할 것을 제안하였다. 이날 설명회에 참석한 업계 관계자는 “지난해 대만과 싱가포르에 수출한 식품이 통관 과정에서 부적합 판정을 받아 큰 어려움을 겪었다”며, “오늘 설명회를 통해 현지 통관 관련 세부 규정을 명확히 이해하여 향후 부적합 사례 최소화에 도움이 될 것으로 기대한다”고 말했다. 식약처는 앞으로도 식품업계가 수출국 현지의 식품안전관리 제도에 대한 이해를 높이는 유용한 정보를 지속 제공하는 등 K-푸드의 글로벌 경쟁력 확보와 안정적인 수출 환경 조성에 최선을 다할 계획이다. 설명회 자료는 한국식품안전관리인증원 누리집에서 확인할 수 있다. 설명회 자료 확인 방법 ▶ 한국식품안전관리인증원 누리집(www.haccp.or.kr) → 주요사업 → 국제협력사업 → 인적자원교류 → 수출지원 설명회 <붙임> 행사 사진 담당 부서 식품안전정책국 책임자 과 장 최종동 (043-719-2010) 식품안전정책과 담당자 사무관 이수엽 (043-719-2035) 담당 부서 한국식품안전관리인증원 책임자 본부장 김형식 (043-928-0190) 국제사업교육본부 담당자 팀 장 박희경 (043-928-0160) 붙임 행사 사진 대만·싱가포르 식품안전관리 규정 설명회 대만·싱가포르 수입식품 안전 규제 최신동향 소개'},\n",
       " {'title': '[보도참고] 담배의 유해성 관리에 관한 법률 하위 규정 고시 제정안 행정예고',\n",
       "  'title_detail': {'type': 'text/plain',\n",
       "   'language': None,\n",
       "   'base': '',\n",
       "   'value': '[보도참고] 담배의 유해성 관리에 관한 법률 하위 규정 고시 제정안 행정예고'},\n",
       "  'links': [{'rel': 'alternate',\n",
       "    'type': 'text/html',\n",
       "    'href': 'https://www.mfds.go.kr/brd/m_99/view.do?seq=49362'}],\n",
       "  'link': 'https://www.mfds.go.kr/brd/m_99/view.do?seq=49362',\n",
       "  'content': [{'type': 'text/html',\n",
       "    'language': None,\n",
       "    'base': '',\n",
       "    'value': '담배의 유해성 관리에 관한 법률 하위 규정 고시 제정안 행정예고'}],\n",
       "  'summary': '담배의 유해성 관리에 관한 법률 하위 규정 고시 제정안 행정예고',\n",
       "  'published': 'Thu, 25 Sep 2025 00:02:44 GMT',\n",
       "  'published_parsed': time.struct_time(tm_year=2025, tm_mon=9, tm_mday=25, tm_hour=0, tm_min=2, tm_sec=44, tm_wday=3, tm_yday=268, tm_isdst=0),\n",
       "  'contents': '보도참고자료 보도시점 배포 즉시 배포 2025. 9. 25.(목) 담배의 유해성 관리에 관한 법률 하위 규정 고시 제정안 행정예고 - 유해성분 검사를 하지 않거나 검사 결과를 제출하지 않은 시정명령 미이행 담배의 회수 및 폐기 관련 절차 등 규정 식품의약품안전처(처장 오유경)는 ｢담배의 유해성 관리에 관한 법률(담배유해성관리법)｣ 시행(’25.11.1.)을 앞두고 ｢담배의 회수·폐기 등에 관한 규정(식약처 고시)｣ 제정안을 행정예고하고 10월 10일까지 의견을 받는다고 밝혔다. 본 고시 제정안은 회수 및 폐기 대상 담배에 대한 회수계획 보고, 보고 후 보완, 회수 및 폐기, 회수종료 보고 등 회수에 필요한 세부사항을 정하기 위해 마련되었다. ｢담배유해성관리법｣에 따르면 제조자등(담배 제조업자 또는 수입판매업자)이 유해성분의 검사를 의뢰하지 않거나 검사결과서 등을 제출하지 않은 경우 식품의약품안전처장은 시정을 명할 수 있으며, 제조자등이 시정명령을 이행하지 않은 경우 해당 담배의 회수·폐기를 명할 수 있다. 식약처는 이번 고시 제정이 ｢담배유해성관리법｣의 원활한 시행에 도움을 줄 것으로 기대하며, 앞으로도 담배유해성관리 제도가 안정적으로 정착될 수 있도록 최선을 다할 계획이라고 밝혔다. 이번 제정안에 대한 자세한 내용은 ‘식약처 대표 누리집(www.mfds.go.kr) → 법령/자료 → 법령정보 → 입법/행정예고’에서 확인할 수 있다. <붙임> 조문별 세부내용 담당 부서 소비자위해예방국 책임자 과 장 이승철 (043-719-1791) 담배유해성관리팀 담당자 사무관 유유순 (043-719-1793) 붙임 고시 조문별 세부 내용 □ 목적(안 제1조) ○ 고시 운영 목적 및 법적 근거 - (목적) 회수 대상 담배의 회수 및 폐기 관련 절차 등을 정함 - (법적 근거) 「담배의 유해성 관리에 관한 법률」 제18조제2항 및 같은 법 시행규칙 제9조 □ 정의(안 제2조) ○ 회수, 폐기, 회수 영업자, 회수 실적, 회수 계획량, 유통재고량 등 회수 절차에 필요한 용어를 정의함 □ 회수계획 보고 등(안 제3조) ○ (영업자) 시행규칙 제9조제3항에 따라 회수 계획보고서를 작성하여 회수 명령을 받은 날부터 5일 이내에 식품의약품안전처에 보고하여야 함 - 다만, 기한 내 보고할 수 없는 경우 식품의약품안전처에 지연 사유를 제출하여 동일 기한 내에서 연장할 수 있음 ○ (식약처) 회수 영업자가 제출한 회수계획 보고서의 타당성을 검토하고 보완을 명할 수 있음 □ 회수종료 보고 및 회수 효율성 평가 등(안 제4조) ○ (영업자) 회수된 담배를 구분․보관하고, 회수종료 시 회수종료 보고서를 작성하여 회수를 종료한 날부터 5일 이내에 식품의약품안전처에 보고하여야 함 - 다만, 기한 내 보고할 수 없는 경우 식품의약품안전처에 지연 사유를 제출하여 동일 기한 내에서 연장할 수 있음 ○ (식약처) 회수 영업자가 회수계획에 따라 적절하게 회수를 실행하였는지 회수 효율성 평가를 실시하여야 함 □ 폐기 등 사후조치(안 제5조) ○ (영업자) 회수종료 보고가 완료되면 폐기 등 계획보고서를 작성하여 식품의약품안전처에 제출하여야 함 - 영업자가 회수한 담배를 다른 용도로 전환하려는 경우, 해당 법령에 따른 기준․규격이나 승인 등의 요건을 충족하여야 함 ○ (영업자) 식품의약품안전처 소속 공무원 입회하에 회수한 담배를 폐기 등 조치 완료하고 완료보고서를 식품의약품안전처에 제출하여야 함 □ 문서관리(안 제6조) ○ (영업자) 관계 법령에 규정된 것을 제외하고는 제3조부터 제10조에 따른 업무처리에 관한 문서를 회수종료일로부터 2년간 보존하여야 함 □ 이의신청 등(안 제7조) ○ (영업자) 회수 명령 또는 보완명령에 대하여 이의가 있는 경우 이를 통보받은 날로부터 3일 이내에 이의신청서를 식품의약품안전처에 제출하여야 함 - (식약처) 이의신청 내용을 검토하여 7일 이내에 회수 영업자에게 서면으로 알려야 함 □ 재검토기한(안 제8조) ○ 「훈령ㆍ예규 등의 발령 및 관리에 관한 규정」에 따라, 이 고시에 대하여 2026년 1월 1일 기준으로 매 3년이 되는 시점(매 3년째의 12월 31일까지를 말한다)마다 그 타당성을 검토하여 개선 등의 조치 □ 부칙(안 제1~2조) ○ (시행일) 이 고시는 발령한 날부터 시행함 - 이 고시 시행 이후 식품의약품안전처장이 최초로 회수를 명령하는 담배부터 적용'},\n",
       " {'title': '[보도참고] 식약처, ’25년 8월 의료제품 허가 현황 안내',\n",
       "  'title_detail': {'type': 'text/plain',\n",
       "   'language': None,\n",
       "   'base': '',\n",
       "   'value': '[보도참고] 식약처, ’25년 8월 의료제품 허가 현황 안내'},\n",
       "  'links': [{'rel': 'alternate',\n",
       "    'type': 'text/html',\n",
       "    'href': 'https://www.mfds.go.kr/brd/m_99/view.do?seq=49361'}],\n",
       "  'link': 'https://www.mfds.go.kr/brd/m_99/view.do?seq=49361',\n",
       "  'content': [{'type': 'text/html',\n",
       "    'language': None,\n",
       "    'base': '',\n",
       "    'value': '식약처, ’25년 8월 의료제품 허가 현황 안내'}],\n",
       "  'summary': '식약처, ’25년 8월 의료제품 허가 현황 안내',\n",
       "  'published': 'Thu, 25 Sep 2025 00:00:39 GMT',\n",
       "  'published_parsed': time.struct_time(tm_year=2025, tm_mon=9, tm_mday=25, tm_hour=0, tm_min=0, tm_sec=39, tm_wday=3, tm_yday=268, tm_isdst=0),\n",
       "  'contents': '보도참고자료 보도시점 배포 즉시 배포 2025. 9. 25.(목) 식약처, ’25년 8월 의료제품 허가 현황 안내 - 의약품 33개, 의약외품 6개, 의료기기 79개 등 총 118개 의료제품 허가 식품의약품안전처(처장 오유경)는 지난 8월 한 달간 의료제품 총 118개 품목*을 허가했다고 밝혔다. * 본부 허가 품목(지방식품의약품안전청 허가 품목 제외) ’25년 8월 의료제품 허가 품목 수는 지난해 월평균(124개) 대비 95% 수준이었으며, 올해 상반기 월평균(117개)과 동일한 수준으로 나타났다. < 의료제품 허가 현황 > 구 분 ’25년 ’24년 월 평균 7월 8월 누계 (1.1.~8.31.) 상반기 월평균 계 185 118 1,002 117 124 의약품 61 33 273 30 28 의약외품 6 6 45 6 3 의료기기 118 79 684 81 93 \\uf0fc 의료제품별 허가 현황 안내 대상 (의약품) 신약, 자료제출의약품, 특수 제형 후발의약품, 생물학적제제, 유전자재조합의약품, 세포배양의약품, 첨단바이오의약품, 한약(생약)제제 (의약외품) 신물질·신소재 사용 의약외품을 포함한 신규 허가 의약외품 (의료기기) 신개발·희소 의료기기를 포함한 신규 허가 의료기기 식약처는 신약으로 원발성 겨드랑이 다한증 치료제인 에크락겔5%(소프피로니움브롬화물)과 폐렴 구균 백신인 ‘캡박시브프리필드시린지(폐렴구균·디프테리아 CRM197단백 접합 백신)’를 허가했다. 희귀의약품으로 근위축성 측삭경화증 치료제인 칼소디주(토퍼센)과 B세포 림프종 치료제인 ‘예스카타주(악시캅타젠실로류셀)’를 허가했다. 또한, 디지털의료기기로는 모바일 플랫폼(Apple Watch 시리즈 9 이상, Ultra 2 이상)의 데이터를 분석하여 잠재적인 수면 무호흡증 알림을 제공하는 휴대형 호흡 분석 소프트웨어 ‘Sleep Apnea Notification Feature (SANF)’를 허가했다. 식약처는 앞으로도 안전하고 유효한 제품을 신속히 허가해 환자 치료 기회를 지속 확대해 나가는 동시에 의료제품 허가 현황을 정기적으로 제공하는 등 의료제품 허가심사에 대한 투명성과 신뢰성을 적극 강화해 나갈 계획이다. 참고로 의료제품별 상세한 허가사항은 전자민원시스템에서 확인할 수 있다. ▸(의약품, 의약외품) 의약품안전나라(nedrug.mfds.go.kr) > 의약품등 정보 > 의약품등 정보 검색 ▸(의료기기) 의료기기 안심책방(emedi.mfds.go.kr/portal) > 알기 쉬운 의료기기 > 정보검색 <붙임> ’25년 8월 의료제품 허가 품목 목록 담당 부서 의약품안전국 책임자 과 장 김영주 (043-719-2341) 의약품허가총괄과 담당자 사무관 김기석 (043-719-2302) 담당 부서 바이오생약국 책임자 팀 장 박현정 (043-719-3431) 바이오허가TF 담당자 연구관 도희정 (043-719-3432) 담당 부서 의료기기안전국 책임자 과 장 정 호 (043-719-5351) 의료기기허가과 담당자 사무관 김세중 (043-719-5353) 붙임 ’25년 8월 의료제품 허가 품목 목록 연번 구분 품목명 업체명 제조/수입 허가일자 1 의약품 실로듀오서방정200/10밀리그램(실로스타졸, 로수바스타틴) 한국유나이티드제약(주) 제조 2025-08-27 2 의약품 애드라리티패취10mg/day (도네페질염산염수화물) 알보젠코리아(주) 수입 2025-08-19 3 의약품 피타스틴듀오정(피타바스타틴칼슘, 페노피브레이트) 알리코제약(주) 제조 2025-08-29 4 의약품 알파키연질캡슐0.25마이크로그램(알파칼시돌) (주)유유제약 제조 2025-08-08 5 의약품 제일비베그론정50밀리그램 제일헬스사이언스(주) 제조 2025-08-13 6 의약품 니조랄1%액(케토코나졸) (주)휴온스 수입 2025-08-13 7 의약품 성이레바서방정(레바미피드) 성이바이오제약주식회사 제조 2025-08-28 8 의약품 피타에프정(피타바스타틴칼슘, 페노피브레이트) 에이치엘비제약(주) 제조 2025-08-29 9 의약품 텔미누보정20/1.25밀리그램 (텔미사르탄,에스암로디핀베실산염이수화물) (주)종근당 제조 2025-08-29 10 의약품 페노피타정(피타바스타틴칼슘, 페노피브레이트) (주)테라젠이텍스 제조 2025-08-29 11 의약품 스타피브정2/160밀리그램 (피타바스타틴칼슘수화물, 페노피브레이트) 대웅바이오(주) 제조 2025-08-29 12 의약품 애드라리티패취5mg/day (도네페질염산염수화물) 알보젠코리아(주) 수입 2025-08-19 13 의약품 페타바정(피타바스타틴, 페노피브레이트) (주)에이프로젠바이오로직스 제조 2025-08-28 14 의약품 시알라나액 (글리코피로니움브롬화물) (주)비씨월드헬스케어 수입 2025-08-08 15 의약품 엔파미드서방정(레바미피드) 주식회사 노바엠헬스케어 제조 2025-08-28 16 의약품 리셀톤멀티데이패취51.84 밀리그램(리바스티그민) 명인제약(주) 수입 2025-08-19 17 의약품 실로듀오서방정200/20 밀리그램(실로스타졸, 로수바스타틴) 한국유나이티드제약(주) 제조 2025-08-27 18 의약품 에크락겔5% (소프피로니움브롬화물) 동화약품(주) 수입 2025-08-29 19 의약품 케미파드서방정150밀리그램 (레바미피드) 맥널티제약(주) 제조 2025-08-28 20 의약품 리파틴듀오정2/160밀리그램 (피타바스타틴칼슘, 페노피브레이트) 하나제약(주) 제조 2025-08-29 21 의약품 피타렛정2/160밀리그램 (피타바스타틴칼슘수화물, 페노피브레이트) 아주약품(주) 제조 2025-08-28 22 의약품 칼소디주(토퍼센) 바이오젠코리아유한회사 수입 2025-08-20 23 의약품 리셀톤멀티데이패취25.92 밀리그램(리바스티그민) 명인제약(주) 수입 2025-08-19 24 의약품 레바코스서방정(레바미피드) 케이엠에스제약(주) 제조 2025-08-28 25 의약품 피펜정(피타바스타틴, 페노피브레이트) (주)씨엠지제약 제조 2025-08-29 26 의약품 덴덴연고 (유)한풍제약 제조 2025-08-13 27 의약품 예스카타주(악시캅타젠실로류셀) 길리어드사이언스코리아(유) 수입 2025-08-13 28 의약품 메디팁데노수맙프리필드시린지 (주)메디팁 수입 2025-08-14 29 의약품 트렘피어정맥주사 (구셀쿠맙, 유전자재조합) (주)한국얀센 수입 2025-08-21 30 의약품 캡박시브프리필드시린지 (폐렴구균·디프테리아 CRM197단백 접합 백신) 한국엠에스디(주) 수입 2025-08-27 31 의약품 아일리아프리필드시린지 8밀리그램(애플리버셉트) 바이엘코리아(주) 수입 2025-08-27 32 의약품 코미나티엘피에이트원 프리필드시린지(사스코로나 바이러스-2 mRNA 백신) 한국화이자제약(주) 수입 2025-08-29 33 의약품 스파이크박스엘피주(사스코로나바이러스-2 mRNA 백신) 모더나코리아(주) 제조 2025-08-29 34 의약외품 바이트블럭액(에틸부틸아세틸아미노프로피오네이트) (주)국보싸이언스 제조 2025-08-01 35 의약외품 내추럴가글액투엑스 동아제약(주) 제조 2025-08-14 36 의약외품 내추럴가글액 동아제약(주) 제조 2025-08-14 37 의약외품 리버티심리스스킨핏입는생리대(중형,대형) (주)더퍼스트터치 수입 2025-08-18 38 의약외품 페리오비케이치약 (주)엘지생활건강 제조 2025-08-20 39 의약외품 페리오씨엠치약 (주)엘지생활건강 제조 2025-08-20 40 의료기기 인공 신장기용 혈액 여과기 주식회사 메코비 제조 2025-08-04 41 의료기기 이종 골 이식재 (주)리뉴메디칼 제조 2025-08-04 42 의료기기 고주파 자극기 (주)루츠미 제조 2025-08-04 43 의료기기 초음파 자극기 주식회사 셀스케어 제조 2025-08-04 44 의료기기 흡수성 치주조직 재생 유도재 (주)리뉴메디칼 제조 2025-08-04 45 의료기기 인공 어깨관절 (유)짐머바이오메트코리아 수입 2025-08-04 46 의료기기 진동용 뇌 전기 자극장치 애보트메디칼코리아(유) 수입 2025-08-05 47 체외진단의료기기 약제감수성및내성표지자검사시약 에스디바이오센서(주) 제조 2025-08-06 48 의료기기 조직 수복용 재료 (주)지씨에스 제조 2025-08-07 49 의료기기 조직 수복용 생체 재료 주식회사 셀락바이오 제조 2025-08-07 50 의료기기 매일착용 소프트 콘택트렌즈 (주)비젼사이언스 제조 2025-08-07 51 체외진단의료기기 개인용혈당측정기 (주)녹십자엠에스 제조 2025-08-07 52 체외진단의료기기 개인용혈당검사지 (주)녹십자엠에스 제조 2025-08-07 53 의료기기 전동식 심폐 인공 소생기 블루로빈 주식회사 제조 2025-08-08 54 의료기기 치과용 임플란트 고정체 주식회사덴큐 제조 2025-08-08 55 체외진단의료기기 고위험성감염체면역검사시약 에스디바이오센서(주) 제조 2025-08-08 56 의료기기 흡수성 체내용 지혈용품 (주)삼양홀딩스 제조 2025-08-08 57 의료기기 기타 흡수성 봉합사 스킨메디언스 제조 2025-08-08 58 의료기기 기타 흡수성 봉합사 스킨메디언스 제조 2025-08-08 59 의료기기 범용 전기 수술기 비티엘메디컬테크놀로지코리아(유) 수입 2025-08-08 60 의료기기 치과용 임플란트 고정체 주식회사 에이치티케이 제조 2025-08-11 61 의료기기 치과용 임플란트 고정체 주식회사 에이치티케이 제조 2025-08-11 62 의료기기 안구 내 주입용 가스 키트 (주)미래과학 수입 2025-08-11 63 의료기기 안구 내 주입용 가스 키트 (주)미래과학 수입 2025-08-11 64 의료기기 조직 수복용 재료 주식회사 셀락바이오 제조 2025-08-12 65 의료기기 연속착용 소프트 콘택트렌즈 (주)바슈롬코리아 수입 2025-08-12 66 의료기기 유수정체 인공 수정체 (주)지원메디칼 수입 2025-08-12 67 의료기기 유수정체 인공 수정체 (주)지원메디칼 수입 2025-08-12 68 의료기기 집속형 초음파 자극 시스템 텐텍(주) 제조 2025-08-13 69 의료기기 치과용 임플란트 고정체 오스템임플란트(주) 제조 2025-08-14 70 의료기기 치과용 임플란트 고정체 오스템임플란트(주) 제조 2025-08-14 71 의료기기 치과용 임플란트 고정체 오스템임플란트(주) 제조 2025-08-14 72 의료기기 치과용 임플란트 고정체 오스템임플란트(주) 제조 2025-08-14 73 의료기기 치과용 임플란트 고정체 (주)메가젠임플란트 수입 2025-08-14 74 의료기기 조직 수복용 생체 재료 (주)더스탠다드 제조 2025-08-18 75 의료기기 특수재질 골절 합용 나사 (주)티디엠 제조 2025-08-18 76 의료기기 고형 이식 의료용 실리콘 재료 거산무역상사 제조 2025-08-18 77 의료기기 2차 치유 폼제 창상피복재 (주)다림티센 제조 2025-08-18 78 의료기기 조직 수복용 생체 재료 (주)비뉴 제조 2025-08-19 79 의료기기 골수 내 고정 막대 주식회사 메디필드메디칼 제조 2025-08-19 80 디지털 의료기기 휴대형 호흡 분석 소프트웨어 이머고코리아(유) 수입 2025-08-19 81 의료기기 매일착용 소프트 콘택트렌즈 (주)지오메디칼 제조 2025-08-20 82 의료기기 집속형 초음파 자극 시스템 (주)코러스트 제조 2025-08-20 83 의료기기 매일착용 소프트 콘택트렌즈 아이존 제조 2025-08-20 84 의료기기 조직 수복용 생체 재료 (주)피엔에프케어즈 제조 2025-08-20 85 의료기기 조직 수복용 생체 재료 (주)피엔에프케어즈 제조 2025-08-20 86 체외진단의료기기 심혈관및중추신경계치료약물농도감시검사시약 (주)비씨지 수입 2025-08-20 87 의료기기 인공 이소골 (유)메델코리아 수입 2025-08-20 88 의료기기 골절 합용 판 주식회사 모레컴퍼니 제조 2025-08-21 89 의료기기 마이크로 카테터 (주)성진하이텍 제조 2025-08-21 90 의료기기 질 세정기 (주)해요 제조 2025-08-21 91 의료기기 질 세정기 (주)해요 제조 2025-08-21 92 의료기기 질 세정기 (주)해요 제조 2025-08-21 93 의료기기 체외 충격파 치료기 (주)영인바이오텍 제조 2025-08-21 94 의료기기 풍선확장식 혈관 성형술용 카테터 주식회사 오버스니치메디칼코리아 수입 2025-08-21 95 의료기기 개인용 체내 연속혈당 측정 시스템 ㈜아이센스송도공장 제조 2025-08-22 96 체외진단의료기기 개인용혈당측정기 (주)아이센스 송도2공장 제조 2025-08-22 97 체외진단의료기기 개인용혈당측정기 (주)아이센스 송도2공장 제조 2025-08-22 98 체외진단 의료기기 심질환표지자검사시약 바디텍메드(주) 제조 2025-08-22 99 의료기기 이식용 체외 고정 기구 주식회사 에어스 제조 2025-08-22 100 의료기기 매일착용 소프트 콘택트렌즈 엠아이콘택트(주) 제조 2025-08-22 101 의료기기 알부민 사용 접착제 (주)엠디웍스코리아 수입 2025-08-22 102 의료기기 조직 수복용 재료 (주)코네딕스 제조 2025-08-25 103 의료기기 조직 수복용 재료 (주)코네딕스 제조 2025-08-25 104 의료기기 정형 용품 알앤엑스(주) 제조 2025-08-25 105 의료기기 2차 치유 폼제 창상피복재 (주)엔도써지 수입 2025-08-25 106 의료기기 중심순환계 폐색술용 혈관 내 카테터 (주)성진하이텍 제조 2025-08-26 107 의료기기 조직 수복용 재료 청화메디파워(주) 제조 2025-08-26 108 의료기기 항균 골 시멘트 (주)스카이브 제조 2025-08-26 109 의료기기 안면조직 고정용 실 (주) 메타약품 제조 2025-08-26 110 의료기기 치과용 임플란트 고정체 주식회사 비투랩 제조 2025-08-26 111 의료기기 매일착용 소프트 콘택트렌즈 주식회사 영원플러스 제조 2025-08-26 112 의료기기 매일착용 소프트 콘택트렌즈 주식회사 영원플러스 제조 2025-08-26 113 의료기기 관상동맥 성형술용 카테터 코아엠 수입 2025-08-27 114 의료기기 콜라겐 사용 조직 보충재 (주)오스테오닉 제조 2025-08-28 115 의료기기 의료용 삭피 장치 (주)위로 제조 2025-08-28 116 의료기기 엔디야그 레이저 수술기 (주)블루코어컴퍼니 제조 2025-08-29 117 의료기기 골 시멘트 (주)세원메디텍 제조 2025-08-29 118 의료기기 비흡수성 체내용 스태플 주식회사 메디튤립 제조 2025-08-29'},\n",
       " {'title': \"[보도참고] 아플라톡신 초과 검출된 '땅콩 또는 견과류가공품' 회수 조치\",\n",
       "  'title_detail': {'type': 'text/plain',\n",
       "   'language': None,\n",
       "   'base': '',\n",
       "   'value': \"[보도참고] 아플라톡신 초과 검출된 '땅콩 또는 견과류가공품' 회수 조치\"},\n",
       "  'links': [{'rel': 'alternate',\n",
       "    'type': 'text/html',\n",
       "    'href': 'https://www.mfds.go.kr/brd/m_99/view.do?seq=49360'}],\n",
       "  'link': 'https://www.mfds.go.kr/brd/m_99/view.do?seq=49360',\n",
       "  'content': [{'type': 'text/html',\n",
       "    'language': None,\n",
       "    'base': '',\n",
       "    'value': \"아플라톡신 초과 검출된 '땅콩 또는 견과류가공품' 회수 조치\"}],\n",
       "  'summary': \"아플라톡신 초과 검출된 '땅콩 또는 견과류가공품' 회수 조치\",\n",
       "  'published': 'Wed, 24 Sep 2025 06:08:32 GMT',\n",
       "  'published_parsed': time.struct_time(tm_year=2025, tm_mon=9, tm_mday=24, tm_hour=6, tm_min=8, tm_sec=32, tm_wday=2, tm_yday=267, tm_isdst=0),\n",
       "  'contents': '보도참고자료 보도시점 배포 즉시 배포 2025. 9. 24.(수) 아플라톡신 초과 검출된 ‘땅콩 또는 견과류가공품’ 회수 조치 식품의약품안전처(처장 오유경)는 식품소분업체인 ‘(주)우농(경기도 오산시 소재)’이 소분·판매한 ‘볶음땅콩(식품유형 : 땅콩 또는 견과류가공품)’에서 아플라톡신*이 기준치보다 초과 검출되어 해당 제품을 판매 중단하고 회수 조치한다고 밝혔다. * 덥고 습도가 높은 지역에서 곡류, 견과류 등에 잘 생성되는 곰팡이독소 회수 대상은 제조일자가 ‘2025. 8. 25.’로 표시된 제품이다. < 회수 대상 제품 > 소분업체 (소재지) 제품명 (식품유형) 제조일자 (소비기한) 내용량 생산량 부적합내역 회수 기관 검사항목 기준 (㎍/kg) 결과 (㎍/kg) ㈜우농 (경기도 오산시) 볶음땅콩 (땅콩 또는 견과류가공품) 2025. 8. 25. (제조일로부터 18개월) 1kg 6kg (6개) 총 아플라톡신 (B1, B2, G1 및 G2의 합) 15.0이하 (단, B1은 10.0 이하) 29.2 (B1은 26.2) 경기도 오산시 식약처는 오산시청이 해당 제품을 신속히 회수 조치하도록 했으며, 해당 제품을 구매한 소비자에게 섭취를 중단하고 구입처에 반품해 줄 것을 당부했다. ※ 식품 관련 불법 행위를 목격한 경우 불량식품 신고전화(1399)로 신고하거나, 스마트폰의 경우 식품안전정보 필수앱 ‘내손안’ 앱을 이용하여 신고 가능 <붙임> 회수 대상 제품 정보 담당 부서 식품의약품안전처 책임자 과 장 박동희 (043-719-2051) 식품안전정책국 식품관리총괄과 담당자 사무관 최우정 (043-719-2055) 협조 부서 경기도 오산시 책임자 과 장 김택주 (031-8036-6820) 보건소 식품위생과 담당자 팀 장 최혜정 (031-8036-6836) 붙임 회수 대상 제품 정보 제품정보 제품사진 • 제품명 : 볶음땅콩 • 식품유형 : 땅콩 또는 견과류가공품 • 제조업체(소재지) : (주)우농(경기도 오산시) • 내용량 : 1kg • 제조일자(소비기한) : 2025. 8. 25.(제조일로부터 18개월)'},\n",
       " {'title': \"[보도참고] 식약처, 부산 신세계백화점·몰 센텀시티 등 '식품안심구역' 지정\",\n",
       "  'title_detail': {'type': 'text/plain',\n",
       "   'language': None,\n",
       "   'base': '',\n",
       "   'value': \"[보도참고] 식약처, 부산 신세계백화점·몰 센텀시티 등 '식품안심구역' 지정\"},\n",
       "  'links': [{'rel': 'alternate',\n",
       "    'type': 'text/html',\n",
       "    'href': 'https://www.mfds.go.kr/brd/m_99/view.do?seq=49359'}],\n",
       "  'link': 'https://www.mfds.go.kr/brd/m_99/view.do?seq=49359',\n",
       "  'content': [{'type': 'text/html',\n",
       "    'language': None,\n",
       "    'base': '',\n",
       "    'value': \"식약처, 부산 신세계백화점·몰 센텀시티 등 '식품안심구역' 지정\"}],\n",
       "  'summary': \"식약처, 부산 신세계백화점·몰 센텀시티 등 '식품안심구역' 지정\",\n",
       "  'published': 'Wed, 24 Sep 2025 00:09:15 GMT',\n",
       "  'published_parsed': time.struct_time(tm_year=2025, tm_mon=9, tm_mday=24, tm_hour=0, tm_min=9, tm_sec=15, tm_wday=2, tm_yday=267, tm_isdst=0),\n",
       "  'contents': '보도참고자료 보도시점 배포 즉시 배포 2025. 9. 24.(수) 식약처, 부산 신세계백화점·몰 센텀시티 등 ‘식품안심구역’ 지정 - 신세계백화점(김해점, 마산점, 센텀시티점), 신세계몰(센텀시티점) 4곳 동시 지정 - 음식점 위생등급제 활성화로 국민의 건강한 식생활 환경 조성 - 부산 신세계백화점 이용객 대상 위생등급 및 식중독 예방 현장 홍보 식품의약품안전처(처장 오유경)는 9월 24일 부산지역 위생등급제 활성화를 위해 부산광역시와 함께 해운대구의 신세계백화점 부산 센텀시티점 등 4곳*을 식품안심구역으로 지정하는 기념행사를 개최했다. * 신세계백화점 3곳(부산 센텀시티점, 마산점, 김해점), 신세계몰(센텀시티점) 1곳 ‘음식점 위생등급제’는 영업자의 신청이 있는 경우 음식점의 위생상태를 평가하여 우수한 업소에 대해 등급(매우 우수, 우수, 좋음)을 부여하는 제도로 음식점 등이 밀집한 곳에 위생등급을 지정받은 업소가 60% 이상인 지역을 ‘식품안심구역’으로 지정하고 있다. 이번 행사는 연간 5천만 명이상 이용하는 신세계백화점 센텀시티점에서 국민께 식중독 예방과 식품 안전의 중요성을 알리고 이용객이 안심하고 외식을 즐기는 환경을 조성하기 위한 목적이다. 조규율 부산광역시 시민건강국장은 기념식에서 “전세계가 사랑하는 K-컬쳐의 중심에 있는 부산에서 식품안심구역을 지정함으로써 우리나라의 우수한 식품안전관리 제도를 널리 알리는 계기가 되었다”며, “위생등급지정 음식점과 식품안심구역이 더욱 확산되어 어디서나 안심하고 외식할 수 있는 환경이 조성되기를 바란다”고 밝혔다. 박순민 신세계백화점 센텀시티점장은 “센텀시티점은 식음료 위생관리에 최고가 될 수 있도록 식품안전관리를 철저히 하고 있다”면서 “앞으로도 고객들이 항상 믿고 이용할 수 있는 안전한 외식 환경 조성에 만전을 기하겠다”고 말했다. 이어 식약처와 부산광역시는 백화점 내 위생등급 지정 업소를 직접 방문해 위생등급 지정현판을 전달하면서 “국민이 안심하고 음식점을 이용할 수 있도록 위생관리에 힘써준 영업자들께 감사드리며, 식중독 예방수칙 준수 ‘손보구가세*’ 준수와 식품 위생·안전 관리에 만전을 기해달라”고 당부했다. * “손보구가세”는 손씻기, 보관온도, 구분사용, 가열조리, 세척·소독 5대 예방수칙의 앞글자로 만든 식중독 예방 실천 구호 식약처는 앞으로도 음식점 위생등급 지정을 확대하기 위해 위생등급 지정 음식점을 확대하는 등 국민이 안심하고 음식점을 이용할 수 있도록 최선을 다할 계획이다. <붙임> 1. 현장 방문 개요 2. 식품안심구역 현황 포스터 3. 식중독 예방 홍보 포스터 담당 부서 식품안전정책국 책임자 과 장 이 성 (043-719-2101) 식중독예방과 담당자 사무관 정병선 (043-719-2117) 붙임 1 식품안심구역 지정 및 식중독 예방 홍보 계획 □ 목적 ○ 부산 국제영화제 등 행사기간*에 맞춰 국민들이 다수 이용하는 백화점 등을 식품안심구역(Zone)으로 지정 * 9.17(수)~9.26(금) 해운대 영화의 전당, 센텀시티 등 부산 전지역 개최 □ 행사 개요 ○ (일 시) ’25. 9. 24.(수) 10:30 ~ 11:30 ○ (장 소) 부산 신세계 센텀시티(부산 해운대구 소재) ○ (참석자) 부산광역시 시민건강국장, 식중독예방과장, 업계 등 8명 ‣ 식약처(2명): 식중독예방과장 / 인증원 부산지원장 ‣ 지자체(2명): 부산 시민건강국장, 해운대 위생과장 ‣ 신세계(4명): 센텀점장, 김해점장, 마산점장, 안전보건담당 □ 주요 내용 ○ 신세계백화점·몰* 지정 현판식 *센텀점(지정/현황):53/84(63%), 마산점:19/20(95%), 김해점:18/27(67%), 몰:15/21(71%) ○ 위생등급 음식점 대상 위생 당부 및 위생등급 제도 대국민 홍보 *한국식품안전관리인증원 부산지원, 해운대구청 진행 □ 일정 시간 내용 10:30~10:45 15‘ • (도착, 티타임) 인사, 환담 10:50~11:05 15‘ • (개회식) 내빈 소개 • (제막식) 축하 말씀 → 현판·지킬박사 전달 → 기념촬영 *축사(부산시 시민건강국장, 센텀점장) 11:05~11:20 15‘ • (현장홍보) 음식점 위생등급 지정업소 방문 등 홍보 *지킬박사 인형, 위생용품(마스크, 장갑) 전달 *위생등급·식중독 홍보(위생등급 이벤트, 지킬박사 바람인형, 식중독 홍보차량) 캠페인 동시 진행 붙임 2 식품안심구역 현황 붙임 3 식중독 예방수칙'},\n",
       " {'title': '[보도참고] 식약처, 축.수산물 동물용의약품 시험.검사 역량 강화 심포지엄 개최',\n",
       "  'title_detail': {'type': 'text/plain',\n",
       "   'language': None,\n",
       "   'base': '',\n",
       "   'value': '[보도참고] 식약처, 축.수산물 동물용의약품 시험.검사 역량 강화 심포지엄 개최'},\n",
       "  'links': [{'rel': 'alternate',\n",
       "    'type': 'text/html',\n",
       "    'href': 'https://www.mfds.go.kr/brd/m_99/view.do?seq=49358'}],\n",
       "  'link': 'https://www.mfds.go.kr/brd/m_99/view.do?seq=49358',\n",
       "  'content': [{'type': 'text/html',\n",
       "    'language': None,\n",
       "    'base': '',\n",
       "    'value': '식약처, 축.수산물 동물용의약품 시험.검사 역량 강화 심포지엄 개최'}],\n",
       "  'summary': '식약처, 축.수산물 동물용의약품 시험.검사 역량 강화 심포지엄 개최',\n",
       "  'published': 'Wed, 24 Sep 2025 00:06:40 GMT',\n",
       "  'published_parsed': time.struct_time(tm_year=2025, tm_mon=9, tm_mday=24, tm_hour=0, tm_min=6, tm_sec=40, tm_wday=2, tm_yday=267, tm_isdst=0),\n",
       "  'contents': '보도참고자료 보도시점 배포 즉시 배포 2025. 9. 24.(수) 식약처, 축·수산물 동물용의약품 시험·검사 역량 강화 심포지엄 개최 - 축·수산물 시험·검사 담당자의 역량, 전문성 강화를 위한 심포지엄 개최 - 축·수산물 동물용의약품 시험법 제·개정 사항 공유 및 분석기기 유지·보수요령 등 제공 식품의약품안전처(처장 오유경)는 축·수산물 관련 업체 및 시험·검사기관에서 축·수산물 시험·검사를 수행하고 있는 담당자의 역량 강화를 위한 ‘2025년 축·수산물 중 동물용의약품 시험법 심포지엄’을 9월 24일 스페이스쉐어 회의실(서울 중구 소재)에서 개최한다. 이번 심포지엄에서는 축·수산물의 동물용의약품 시험법 제·개정 사항과 최신 분석기술 활용 강화 방안 및 분석기기 유지·보수 요령 등을 공유하고, 시험·검사 현장의 애로사항을 적극 청취할 계획이다. 축·수산물 시험·검사 담당자는 누구나 참여할 수 있으며, 현장에서도 등록 후 참석할 수 있다. 식약처는 이번 심포지엄이 축·수산물 동물용의약품 시험법에 대한 이해도를 높여 시험·검사의 전문성을 강화하는데 도움을 줄 것으로 기대하며, 앞으로도 시험·검사 현장과 지속적으로 소통하며 축·수산물 안전관리 강화를 위해 최선을 다할 계획이다. 담당 부서 식품기준기획관 책임자 과 장 박성관 (043-719-3851) 유해물질기준과 담당자 연구관 김용무 (043-719-3852) 붙임 축·수산물 중 동물용의약품 시험법 심포지엄 일정 □ 일시 : 2025. 9. 24.(수), 10:00~17:00 □ 장소 : 스페이스쉐어 서울중부센터(서울시 중구) □ 주제 : 축·수산물 중 동물용의약품 시험법 심포지엄 □ 대상 : 관련 업체 및 시험·검사기관 축·수산물 시험·검사 담당자 □ 세부 일정 시간 주요내용 비고 09:40 ~ 10:00 등록 10:00 ~ 10:10 주관부서 인사말 식품의약품안전처 Session Ⅰ 동물용의약품 시험법 10:10 ~ 11:00 축·수산물 중 동물용의약품 시험법 현황 (시험법 최신 제·개정 사항 등) 식품의약품안전처 Session Ⅱ 분석기기 이론 11:10 ~ 12:00 동물용의약품 분석을 위한 분석이론 및 기기분석 원리 ㈜씨티케이 12:00 ~ 13:30 점심 Session Ⅲ Session Ⅳ Session Ⅴ 13:30 ~ 14:50 동물용의약품 분석을 위한 기기 운용 (축·수산물 중 동물용의약품 동시 다성분 시험법 세팅 등) 분석기기업체 14:50 ~ 15:10 휴식 15:10 ~ 16:30 최신 분석기술(LC MS/MS) 활용성 강화 및 유지 보수 요령 (분석스킬 교육, 주요 고장발생 원인 및 해결방안 등) 16:30 ~ 17:00 질의응답 및 만족도 조사 푸드원텍(주) * 각 Session Ⅲ, Ⅳ, Ⅴ의 경우 장비 브랜드별로 운영'},\n",
       " {'title': '[보도참고] “질 염증의 치료, 건조증·가려움증 완화” 표방 화장품의 허위·과대 광고 75건 적발',\n",
       "  'title_detail': {'type': 'text/plain',\n",
       "   'language': None,\n",
       "   'base': '',\n",
       "   'value': '[보도참고] “질 염증의 치료, 건조증·가려움증 완화” 표방 화장품의 허위·과대 광고 75건 적발'},\n",
       "  'links': [{'rel': 'alternate',\n",
       "    'type': 'text/html',\n",
       "    'href': 'https://www.mfds.go.kr/brd/m_99/view.do?seq=49357'}],\n",
       "  'link': 'https://www.mfds.go.kr/brd/m_99/view.do?seq=49357',\n",
       "  'content': [{'type': 'text/html',\n",
       "    'language': None,\n",
       "    'base': '',\n",
       "    'value': '“질 염증의 치료, 건조증·가려움증 완화” 표방 화장품의 허위·과대 광고 75건 적발'}],\n",
       "  'summary': '“질 염증의 치료, 건조증·가려움증 완화” 표방 화장품의 허위·과대 광고 75건 적발',\n",
       "  'published': 'Wed, 24 Sep 2025 00:04:16 GMT',\n",
       "  'published_parsed': time.struct_time(tm_year=2025, tm_mon=9, tm_mday=24, tm_hour=0, tm_min=4, tm_sec=16, tm_wday=2, tm_yday=267, tm_isdst=0),\n",
       "  'contents': '보도참고자료 보도시점 배포 즉시 배포 2025. 9. 24.(수) “질 염증의 치료, 건조증·가려움증 완화” 표방 화장품의 허위·과대 광고 75건 적발 - 판매누리집 차단, 21개소는 현장점검 및 행정처분 진행 예정 식품의약품안전처(처장 오유경)는 온라인에서 유통·판매하고 있는 외음부세정제, 미스트 화장품의 광고·판매게시물을 점검한 결과, ｢화장품법｣을 위반*한 허위·과대광고 75건을 적발하여 방송통신심의위원회 등에 접속 차단을 요청했다고 밝혔다. * 「화장품법」 제13조(부당한 표시·광고 행위 등의 금지) 이번 점검은 일부 업체가 화장품에 대해 질염 치료와 같은 의학적 효능·효과를 내세우거나 질 내에서 사용을 유도·암시하는 등 부당한 광고를 하고 있어, 이로 인한 소비자 피해를 최소화하기 위한 목적이다. * 「화장품법」 제2조(정의) “화장품”이란 인체를 청결·미화하여 매력을 더하고 용모를 밝게 변화시키거나 피부·모발의 건강을 유지 또는 증진하기 위하여 인체에 바르고 문지르거나 뿌리는 등 이와 유사한 방법으로 사용되는 물품으로서 인체에 대한 작용이 경미한 것(의약품 제외) 적발된 광고들의 경우 ▲화장품을 의약품으로 잘못 인식할 우려가 있는 문구(60건, 80%) ▲화장품의 범위를 벗어난 사용방법 등 소비자 오인 우려 문구(14건, 19%) ▲기능성화장품이 아닌 화장품을 기능성화장품으로 잘못 인식할 우려가 있는 문구(1건, 1%) 등이 문제가 되었다. < 위반 유형 및 광고 문구·유형 > 위반 유형 광고 문구(발췌)·유형 의약품 오인 우려 광고 질염에 진짜 도움이 되는, 피부 면역력 증진, 생리 통증 완화, 염증과 가려움 완화, 질 건조증 개선 등 소비자 오인 우려 광고 유해균 생성을 억제, 산부인과 전문의가 선택 또는 개발, 뿌리는 질유산균 등 기능성화장품 오인 우려 광고 (일반화장품에 대해) 주름개선 이번 점검은 1차 적발된 일반판매업체의 부당광고 69건에 대해 해당 제품의 화장품책임판매업체를 추적·조사하여, 책임판매업체의 부당광고 6건을 추가로 적발해 총 75건을 차단했다. 적발된 책임판매업체 21개소(27건)에 대해서는 관할 지방식품의약품안전청에서 현장점검 및 행정처분을 진행할 예정이다. * 화장품책임판매업자: 화장품의 안전성·품질관리·표시 광고 등에 대한 책임을 지는 업체로 화장품법령에 따라 식약처장에게 화장품책임판매업을 등록한 업체 ** 일반판매업체: 온라인 화장품 단순 판매자로 통신판매업을 신고한 업체 신준수 바이오생약국장은 “질 내 세정·소독 또는 관련 질병 예방·치료가 필요한 경우 전문가의 도움을 받아 안전성 및 유효성이 검증된 의약품 또는 의료기기를 사용해야 한다.”며, “의학적 효능·효과를 내세우는 제품 광고는 일단 의심하고 현혹되지 않는 소비자들의 현명한 화장품 구매를 당부드린다.”고 강조했다. 식약처는 앞으로도 온라인상 일반판매업체의 허위·과대 불법 광고 차단뿐만 아니라 책임판매업자의 광고까지 추적하여 불법 광고로 인한 소비자 피해를 최소화하고 시장의 공정한 경쟁 환경을 조성하기 위해 최선을 다하겠다고 밝혔다. <붙임> 1. 주요 적발 사례 2. 의약품·의료기기·화장품 구분 기준 3. 질 세정, 질염 치료 제품 관련 카드뉴스 \\uf0fc 국내·외 최신 화장품 규제 동향 및 제도 등에 대한 궁금증, ‘화장품 글로벌 규제조화 지원센터’에서 확인하세요! * 인허가, 원료 규제정보, 수출안내서, AI 상담 챗봇 ‘코스봇’ 등 ▸(누리집) https://helpcosmetic.or.kr/ 담당 부서 바이오생약국 책임자 과 장 고지훈 (043-719-3401) 화장품정책과 담당자 사무관 김대기 (043-719-3404) 담당 부서 사이버조사팀 책임자 팀 장 박영민 (043-719-1901) 담당자 사무관 최주영 (043-719-1920) 붙임 1 주요 적발 사례 의약품 오인 소비자 오인 기능성오인 붙임 2 의약품·의료기기·화장품 구분 기준 □ 여성의 질 내·외부 치료(의약품), 또는 질 내부 세정(의료기기), 외음부 바깥 부분 세정(화장품)을 위해 사용하는 제품은 다음과 같다. ① (의약품) 질염 등 질병의 치료·경감·처치 등을 위해 의약적 효능이 있는 성분을 함유하고 있으며, 질 내·외부에 사용할 수 있다. ② (의료기기) 물(정제수)과 같이 의약적 효능이 없는 액상 성분과 질 세정기*와 함께 구성돼 질 내부 세정 목적으로 사용하는 것을 말한다. * 튜브와 노즐이 있는 병 또는 자루 형태의 세정기구. 질 세정기 자체도 의료기기 ③ (화장품) 외음부의 세정 목적으로만 사용하는 제품으로 질 내부에는 사용할 수 없다. \\uf0fc 의약품·의료기기·화장품 구분 구분 의약품 의료기기 (질 세정기) 화장품 (외음부 세정제) 사용 부위 질 내부, 외음부 질 내부 외음부 사용목적 (성능, 효능･효과 등) 질염 등 질병의 치료·경감·처치 등 질 세정 외음부의 세정 식약처 심사 여부 품질, 안전성·유효성 등 심사하여 허가 식약처 심사대상 아님 \\uf0fc 물품별 허가 정보 확인 방법 ▸(질염 치료제, 의약품) 의약품안전나라(https://nedrug.mfds.go.kr) → 의약품 등 검색 → 상세검색 창에 \\'효능·효과\\' 란에 \"질염\"으로 검색 ▸(질세정기, 의료기기) 의료기기 전자민원창구(https://emed.mfds.go.kr) → 정보마당 → 제품정보방 → 업체/제품정보 → 제품정보 창에 \\'품목조건\\'을 \\'품목분류명(한글)\\'로 선택하고 “질세정기”로 검색 (단, 검색된 제품 중 제품명에 \\'수출용\\'으로 기재됐거나, \\'상태\\'가 \\'취소\\' 또는 \\'취하\\' 제품은 제외) 붙임 3 질 세정, 질염 치료 제품 관련 카드뉴스'},\n",
       " {'title': '가르시니아캄보지아 추출물 이상사례 해당 제품 회수',\n",
       "  'title_detail': {'type': 'text/plain',\n",
       "   'language': None,\n",
       "   'base': '',\n",
       "   'value': '가르시니아캄보지아 추출물 이상사례 해당 제품 회수'},\n",
       "  'links': [{'rel': 'alternate',\n",
       "    'type': 'text/html',\n",
       "    'href': 'https://www.mfds.go.kr/brd/m_99/view.do?seq=49356'}],\n",
       "  'link': 'https://www.mfds.go.kr/brd/m_99/view.do?seq=49356',\n",
       "  'content': [{'type': 'text/html',\n",
       "    'language': None,\n",
       "    'base': '',\n",
       "    'value': '가르시니아캄보지아 추출물 이상사례 해당 제품 회수'}],\n",
       "  'summary': '가르시니아캄보지아 추출물 이상사례 해당 제품 회수',\n",
       "  'published': 'Tue, 23 Sep 2025 02:00:18 GMT',\n",
       "  'published_parsed': time.struct_time(tm_year=2025, tm_mon=9, tm_mday=23, tm_hour=2, tm_min=0, tm_sec=18, tm_wday=1, tm_yday=266, tm_isdst=0),\n",
       "  'contents': \"보도자료 보도시점 2025. 9. 23.(화) 11:00 배포 2025. 9. 23.(화) 가르시니아캄보지아 추출물 이상사례 해당 제품 회수 - 이상사례 인과관계가 매우 높은 것으로 나타난 제품에 대해 회수 조치 -｢건강기능식품 기준 및 규격｣ <섭취 시 주의사항>에 “드물게 간에 해를 끼칠 수 있으며, 섭취기간 중 알코올 섭취를 피해야” 한다는 내용을 추가 예정 식품의약품안전처(처장 오유경)는 간기능 관련한 이상사례*(2건)가 발생한 ‘가르시니아캄보지아 추출물’**로 만든 건강기능식품에 대해 건강기능식품심의위원회 심의를 거쳐 해당 제품을 회수 조치하고, 가르시니아캄보지아 추출물의 ‘섭취시 주의사항’(｢건강기능식품 기준 및 규격｣)에 ‘드물게 간에 해를 끼칠 수 있으며 섭취 기간 중 알코올 섭취를 피해야 한다’는 소비자 안내 사항을 추가할 예정이라고 밝혔다. * ‘이상사례’는 건강기능식품으로 인해 발생하였다고 의심되는 바람직하지 아니한 징후, 증상 또는 질병으로, 섭취한 건강기능식품과 반드시 인과관계가 성립하는 것은 아님 ** 탄수화물이 지방으로 합성되는 것을 억제하여 체지방 감소에 도움을 줄 수 있는 기능성 원료이고, 기능성분(또는 지표성분)의 함량은 총 Hydroxycitric acid 600mg/g 이상 함유되어야 함(「건강기능식품 기준 및 규격」) < 회수 대상 제품 > 제조업체 (소재지) 유통전문 판매업체 제품명 (기능성원료) 내용량 소비기한 ㈜네추럴웨이 (경기 포천시) ㈜대웅제약 (서울 강남구) 가르시니아 (가르시니아캄보지아 추출물) 54g 2027. 4. 17. 2027. 4. 18. 이상사례 발생 보고(8.25, 8.27. 각각 신고)에 따르면 해당 제품을 섭취한 서로 다른 2명에게 유사한 간염 증상이 발생했고, 이에 식약처는 8월 28일 영업자에게 해당 제품 잠정 판매중단 권고를 하였다. 식약처는 해당 제품과 사용된 원료를 수거하여 검사한 결과 기준․규격에 부적합한 항목은 발견되지 않았으나, 건강기능식품심의위원회에서 이상사례와 해당 제품과의 인과관계 가능성이 매우 높은 수준으로 소비자 위해 우려가 있다는 판단을 내림에 따라 소비자의 안심을 위해 9월 23일자로 해당 제품을 회수 조치한다고 밝혔다. 식약처는 해당 제품을 구매한 소비자는 섭취를 중단하고 구입처에 반품할 것과 체지방 감소 기능성 식품의 과다 섭취나 병용 섭취 시 이상사례 발생 우려가 높을 수 있으니 제품에 표시된 섭취량, 섭취방법, 섭취 시 주의사항을 꼭 지킬 것을 당부했다. 한편 식약처는 알코올 등 병용 섭취로 인한 이상사례가 보고됨에 따라 ｢건강기능식품 기준 및 규격｣을 개정, ‘가르시니아캄보지아 추출물’의 섭취 시 주의사항에 ‘드물게 간에 해를 끼칠 수 있으며 섭취 기간 중 알코올 섭취를 피해야 한다’는 내용을 추가할 예정이다. 소비자는 건강기능식품 섭취 시 주의사항 정보를 식품안전나라 누리집*에서 확인할 수 있으며, 섭취 과정에서 이상사례가 발생한 경우 1577-2488 또는 식품안전나라(www.foodsafety-korea.go.kr)를 통해 신고할 수 있다. * 식품안전나라 누리집 (https://www.foodsafetykorea.go.kr) > 식품‧안전 > 건강기능식품 > 건강기능식품 섭취 주의사항 담당 부서 식품소비안전국 책임자 과 장 임창근 (043-719-2451) 건강기능식품정책과 담당자 사무관 최은주 (043-719-2461) 담당 부서 식품기준기획관 책임자 과 장 문귀임 (043-719-2411) 식품기준과 담당자 연구관 선남규 (043-719-2441) 붙임 1 회수 대상 제품 정보 제품정보 제품 사진 • 제품명: 가르시니아 • 유형: 건강기능식품 (가르시니아캄보지아 추출물) • 제조업체(소재지): ㈜네추럴웨이 (경기 포천시) • 유통전문판매업체(소재지): ㈜대웅제약 (서울 강남구) • 내용량: 54g • 소비기한: 2027. 4. 17., 2027. 4. 18 붙임 2 「건강기능식품 기준 및 규격」개정안 □ ‘가르시니아캄보지아 추출물’ 현행 개정안 <제조기준> <제조기준> - 체지방 감소 기능성을 가진 다른 기능성 원료와 함께 제조하여서는 아니됨 (7.23.~9.22. 행정예고) <섭취 시 주의사항> - 어린이, 임산부 및 수유부 섭취를 피할 것 - 간·신장·심장질환, 알레르기 및 천식이 있거나 의약품 복용 시 전문가와 상담할 것 - 남성의 경우 과다 섭취를 피할 것 - 이상사례 발생 시 섭취를 중단하고 전문가와 상담할 것 <섭취 시 주의사항> - 어린이, 임산부 및 수유부 섭취를 피할 것 - 간·신장·심장질환, 알레르기 및 천식이 있거나 의약품 복용 시 전문가와 상담할 것 - 남성의 경우 과다 섭취를 피할 것 - 이상사례 발생 시 섭취를 중단하고 전문가와 상담할 것 - 체지방 감소 기능성의 건강기능식품과 함께 섭취를 피할 것(7.23.~9.22. 행정예고) - 드물게 간에 해를 끼칠 수 있고, 섭취 기간 중 알코올 섭취를 피할 것(추가 개정) 붙임 3 ‘가르시니아캄보지아 추출물’ 주의·권고사항 □ 소비자 주의사항 ㅇ 구매 시 인증 마크 및 식품안전나라(www.foodsafetykorea.go.kr)의 건강기능식품 정보를 통해 정식 허가·신고 제품인지 확인 <인증 마크> 건강기능식품 도안 GMP 도안(국내제품, 선택표시) <허가·신고 제품 확인> ◇ 국내 건강기능식품 : 식약처 식품안전나라 누리집 (https://www.foodsafetykorea.go.kr) > 식품‧안전 > 건강기능식품 > 건강기능식품 검색에서 확인 가능 ◇ 수입 건강기능식품 : 수입식품 정보마루(https://impfood.mfds.go.kr)에서 확인 가능 ㅇ 비만, 당뇨병 치료 효과 등 허위·과대광고에 현혹되지 않도록 주의 ㅇ 제품에 표시된 일일섭취량, 섭취방법, 섭취 시 주의사항을 반드시 확인하여 과다섭취를 피할 것 ㅇ 간질환이나 의약품 섭취 시 전문가와 상의할 것 ㅇ 알코올, 다른 체지방감소 건강기능식품과 병용 섭취를 피할 것 ㅇ 섭취 과정에서 이상사례가 발생한 경우 즉시 섭취를 중단하고, 영업자나 1577-2488 또는 식품안전나라를 통해 신고 □ 제조·판매 영업자 권고사항 ㅇ 제품 홍보·판매 시, 다음 사항을 소비자가 준수하도록 적극 안내(제품 판매 홈페이지, 매장 등) ① 일일섭취량(HCA 750mg~1,500mg), 섭취 방법(1회 1정 또는 2정), 섭취 시 주의사항 <섭취 시 주의사항> - 어린이, 임산부 및 수유부 섭취를 피할 것 - 간·신장·심장질환, 알레르기 및 천식이 있거나 의약품 복용 시 전문가와 상담할 것 - 남성의 경우 과다 섭취를 피할 것 - 이상사례 발생 시 섭취를 중단하고 전문가와 상담할 것 - 체지방 감소 기능성의 건강기능식품과 함께 섭취를 피할 것(7.23.~9.22. 행정예고) - 드물게 간에 해를 끼칠 수 있고, 섭취 기간 중 알코올 섭취를 피할 것(추가 개정) ② 최신 이상사례 정보 ex) 알코올과 함께 해당 제품 섭취 시 간염 발생 위험이 있음 붙임 4 가르시니아 제품 관련 질의응답 Q1 이상사례 발생자의 증상과 현재 상태는? ㅇ 2명이 동일제품을 섭취하고 발생한 주요 이상사례 증상은 급성간염이고, 입원 후 증상이 호전되어 7~8일 후 퇴원하였음 Q2 이상사례 발생경위 및 조치경과는? ㅇ 해당 제품 섭취로 인한 2건의 이상사례 신고 접수(1차 8.25. 2차 8.27.) 후 인과관계 조사* 실시(~9.15) * 발생자 정보, 발생 경위, 병용 섭취 제품, 병력 등 조사 ㅇ 8.27. 해당 제조업체 점검과 제품 수거검사 착수 - 점검 및 수거검사 결과 적합(9.8) ㅇ 8.28. 해당 영업자에게 유통 중 제품의 잠정 판매 중단 권고 - 8.29. 영업자는 유통 중인 제품 자율회수 진행 ㅇ 9.16. 인과관계 평가를 위한 건강기능식품심의위원회(법 제27조) 개최 - 해당제품과 인과관계 가능성이 매우 높아 5등급으로 평가 ㅇ 9.19. 해당 제품에 대한 위해성 검토를 위한 건강기능식품심의위원회 개최 - 인체 위해 발생 우려가 있다고 판단 ㅇ 9.23. 제품정보 공개 및 회수 조치 Q3 이상사례 인과관계 평가 방법은? ㅇ 이상사례란 건강기능식품으로 인해 발생하였다고 의심되는 바람직하지 아니한 징후, 증상 또는 질병을 말하는 것으로, 섭취한 건강기능식품과 반드시 인과관계가 성립하는 것은 아님 ㅇ 건강기능식품심의위원회가 안전성 정보 분석 및 전문가의 자문내용, 환자의 진료기록 등의 자료를 근거로 섭취 제품과 이상사례와의 인과관계를 심의를 통해 종합적으로 판단하고 있음 ㅇ 이번 이상사례의 경우, 동일 제품에서 유사한 시기에 유사한 2건의 급성간염이 발생하였고, 음주 관련성은 배제할 수 없으나 해당 제품으로 인한 유발이 직접적 원인으로 인과관계 가능성이 매우 높은 수준인 5등급으로 평가 < 건강기능식품 이상사례 등급별 판단기준 > 등 급 5등급 인과관계 가능성 매우 높은 수준으로, 증상이 심각하며 다수의 유사 이상사례가 신고된 이력이 있어 국민에게 즉시 알릴 필요 있다고 판단한 경우 * 제품으로 인한 이상사례 가능성 확실 or 매우 높으면서 다른 원인으로 인한 발생 가능성 희박 4등급 인과관계 가능성이 높은 수준으로 판단한 경우 * 다른 원인을 전혀 배제하기 어려움 3등급 인과관계 가능성이 높지 않은 수준으로 판단한 경우 * 제품과 다른 원인 중 어느 가능성이 크다고 보기 어려움 2등급 인과관계 가능성이 매우 낮은 수준으로 판단한 경우 * 다른 원인일 가능성이 높으나, 전혀 배제할 수 없음 1등급 인과관계 불명확 또는 없다고 판단한 경우 * 기저질환 등 다른 원인으로 인정 Q4 가르시니아캄보지아 추출물 안전관리 및 향후 조치계획은? ㅇ 가르시니아캄보지아의 안전성과 관련하여 재평가(2회), 독성연구를 진행하여 섭취시 주의사항*을 신설(‘19.4월 시행)하고 일일섭취량을 하향 조정(750~2,800mg/일 → 750~1,500mg/일, ’25.1월 시행)하였음 * 어린이, 임산부 및 수유부는 섭취를 피할 것 간·신장·심장질환, 알레르기 및 천식이 있거나 의약품 복용시 전문가와 상담할 것 이상사례 발생 시 섭취를 중단하고 전문가와 상담할 것 남성의 경우 과다 섭취를 피할 것 ㅇ 또한, 다른 체지방감소 기능성 원료와 함께 제조 및 섭취를 금지하기 위한 규정을 마련하기 위해 개정 중에 있으며, - 이번 이상사례를 계기로, ‘섭취 시 드물게 간에 해를 끼칠 수 있고, 섭취 기간 중 알코올 섭취를 피할 것’을 섭취 시 주의사항에 추가할 계획임(‘25) ㅇ 향후, 최신의 국내 및 해외 이상사례 정보를 추가로 확보하여 병용섭취로 인한 이상사례 간 인과성을 조사･연구 할 계획임(~’26) Q5 해당 제품을 구매한 소비자의 반품 또는 환불 방법은? ㅇ 해당 제품을 구입처나 제품을 구매한 판매업체에서 반품이나 환불을 문의 요청하시기 바람 ㅇ 반품이나 환불이 원활하게 진행되지 않는 경우 소비자원(1372)에 문의하여 도움을 받을 수 있음 ㅇ 반품 제품에 대한 상세한 정보는 식약처 건강기능식품정책과(043-719-2457)로 문의할 수 있음 보도자료 보도시점 2025. 9. 23.(화) 11:00 배포 2025. 9. 23.(화) 가르시니아캄보지아 추출물 이상사례 해당 제품 회수 - 이상사례 인과관계가 매우 높은 것으로 나타난 제품에 대해 회수 조치 -｢건강기능식품 기준 및 규격｣ <섭취 시 주의사항>에 “드물게 간에 해를 끼칠 수 있으며, 섭취기간 중 알코올 섭취를 피해야” 한다는 내용을 추가 예정 식품의약품안전처(처장 오유경)는 간기능 관련한 이상사례*(2건)가 발생한 ‘가르시니아캄보지아 추출물’**로 만든 건강기능식품에 대해 건강기능식품심의위원회 심의를 거쳐 해당 제품을 회수 조치하고, 가르시니아캄보지아 추출물의 ‘섭취시 주의사항’(｢건강기능식품 기준 및 규격｣)에 ‘드물게 간에 해를 끼칠 수 있으며 섭취 기간 중 알코올 섭취를 피해야 한다’는 소비자 안내 사항을 추가할 예정이라고 밝혔다. * ‘이상사례’는 건강기능식품으로 인해 발생하였다고 의심되는 바람직하지 아니한 징후, 증상 또는 질병으로, 섭취한 건강기능식품과 반드시 인과관계가 성립하는 것은 아님 ** 탄수화물이 지방으로 합성되는 것을 억제하여 체지방 감소에 도움을 줄 수 있는 기능성 원료이고, 기능성분(또는 지표성분)의 함량은 총 Hydroxycitric acid 600mg/g 이상 함유되어야 함(「건강기능식품 기준 및 규격」) < 회수 대상 제품 > 제조업체 (소재지) 유통전문 판매업체 제품명 (기능성원료) 내용량 소비기한 ㈜네추럴웨이 (경기 포천시) ㈜대웅제약 (서울 강남구) 가르시니아 (가르시니아캄보지아 추출물) 54g 2027. 4. 17. 2027. 4. 18. 이상사례 발생 보고(8.25, 8.27. 각각 신고)에 따르면 해당 제품을 섭취한 서로 다른 2명에게 유사한 간염 증상이 발생했고, 이에 식약처는 8월 28일 영업자에게 해당 제품 잠정 판매중단 권고를 하였다. 식약처는 해당 제품과 사용된 원료를 수거하여 검사한 결과 기준․규격에 부적합한 항목은 발견되지 않았으나, 건강기능식품심의위원회에서 이상사례와 해당 제품과의 인과관계 가능성이 매우 높은 수준으로 소비자 위해 우려가 있다는 판단을 내림에 따라 소비자의 안심을 위해 9월 23일자로 해당 제품을 회수 조치한다고 밝혔다. 식약처는 해당 제품을 구매한 소비자는 섭취를 중단하고 구입처에 반품할 것과 체지방 감소 기능성 식품의 과다 섭취나 병용 섭취 시 이상사례 발생 우려가 높을 수 있으니 제품에 표시된 섭취량, 섭취방법, 섭취 시 주의사항을 꼭 지킬 것을 당부했다. 한편 식약처는 알코올 등 병용 섭취로 인한 이상사례가 보고됨에 따라 ｢건강기능식품 기준 및 규격｣을 개정, ‘가르시니아캄보지아 추출물’의 섭취 시 주의사항에 ‘드물게 간에 해를 끼칠 수 있으며 섭취 기간 중 알코올 섭취를 피해야 한다’는 내용을 추가할 예정이다. 소비자는 건강기능식품 섭취 시 주의사항 정보를 식품안전나라 누리집*에서 확인할 수 있으며, 섭취 과정에서 이상사례가 발생한 경우 1577-2488 또는 식품안전나라(www.foodsafety-korea.go.kr)를 통해 신고할 수 있다. * 식품안전나라 누리집 (https://www.foodsafetykorea.go.kr) > 식품‧안전 > 건강기능식품 > 건강기능식품 섭취 주의사항 담당 부서 식품소비안전국 책임자 과 장 임창근 (043-719-2451) 건강기능식품정책과 담당자 사무관 최은주 (043-719-2461) 담당 부서 식품기준기획관 책임자 과 장 문귀임 (043-719-2411) 식품기준과 담당자 연구관 선남규 (043-719-2441) 붙임 1 회수 대상 제품 정보 제품정보 제품 사진 • 제품명: 가르시니아 • 유형: 건강기능식품 (가르시니아캄보지아 추출물) • 제조업체(소재지): ㈜네추럴웨이 (경기 포천시) • 유통전문판매업체(소재지): ㈜대웅제약 (서울 강남구) • 내용량: 54g • 소비기한: 2027. 4. 17., 2027. 4. 18 붙임 2 「건강기능식품 기준 및 규격」개정안 □ ‘가르시니아캄보지아 추출물’ 현행 개정안 <제조기준> <제조기준> - 체지방 감소 기능성을 가진 다른 기능성 원료와 함께 제조하여서는 아니됨 (7.23.~9.22. 행정예고) <섭취 시 주의사항> - 어린이, 임산부 및 수유부 섭취를 피할 것 - 간·신장·심장질환, 알레르기 및 천식이 있거나 의약품 복용 시 전문가와 상담할 것 - 남성의 경우 과다 섭취를 피할 것 - 이상사례 발생 시 섭취를 중단하고 전문가와 상담할 것 <섭취 시 주의사항> - 어린이, 임산부 및 수유부 섭취를 피할 것 - 간·신장·심장질환, 알레르기 및 천식이 있거나 의약품 복용 시 전문가와 상담할 것 - 남성의 경우 과다 섭취를 피할 것 - 이상사례 발생 시 섭취를 중단하고 전문가와 상담할 것 - 체지방 감소 기능성의 건강기능식품과 함께 섭취를 피할 것(7.23.~9.22. 행정예고) - 드물게 간에 해를 끼칠 수 있고, 섭취 기간 중 알코올 섭취를 피할 것(추가 개정) 붙임 3 ‘가르시니아캄보지아 추출물’ 주의·권고사항 □ 소비자 주의사항 ㅇ 구매 시 인증 마크 및 식품안전나라(www.foodsafetykorea.go.kr)의 건강기능식품 정보를 통해 정식 허가·신고 제품인지 확인 <인증 마크> 건강기능식품 도안 GMP 도안(국내제품, 선택표시) <허가·신고 제품 확인> ◇ 국내 건강기능식품 : 식약처 식품안전나라 누리집 (https://www.foodsafetykorea.go.kr) > 식품‧안전 > 건강기능식품 > 건강기능식품 검색에서 확인 가능 ◇ 수입 건강기능식품 : 수입식품 정보마루(https://impfood.mfds.go.kr)에서 확인 가능 ㅇ 비만, 당뇨병 치료 효과 등 허위·과대광고에 현혹되지 않도록 주의 ㅇ 제품에 표시된 일일섭취량, 섭취방법, 섭취 시 주의사항을 반드시 확인하여 과다섭취를 피할 것 ㅇ 간질환이나 의약품 섭취 시 전문가와 상의할 것 ㅇ 알코올, 다른 체지방감소 건강기능식품과 병용 섭취를 피할 것 ㅇ 섭취 과정에서 이상사례가 발생한 경우 즉시 섭취를 중단하고, 영업자나 1577-2488 또는 식품안전나라를 통해 신고 □ 제조·판매 영업자 권고사항 ㅇ 제품 홍보·판매 시, 다음 사항을 소비자가 준수하도록 적극 안내(제품 판매 홈페이지, 매장 등) ① 일일섭취량(HCA 750mg~1,500mg), 섭취 방법(1회 1정 또는 2정), 섭취 시 주의사항 <섭취 시 주의사항> - 어린이, 임산부 및 수유부 섭취를 피할 것 - 간·신장·심장질환, 알레르기 및 천식이 있거나 의약품 복용 시 전문가와 상담할 것 - 남성의 경우 과다 섭취를 피할 것 - 이상사례 발생 시 섭취를 중단하고 전문가와 상담할 것 - 체지방 감소 기능성의 건강기능식품과 함께 섭취를 피할 것(7.23.~9.22. 행정예고) - 드물게 간에 해를 끼칠 수 있고, 섭취 기간 중 알코올 섭취를 피할 것(추가 개정) ② 최신 이상사례 정보 ex) 알코올과 함께 해당 제품 섭취 시 간염 발생 위험이 있음 붙임 4 가르시니아 제품 관련 질의응답 Q1 이상사례 발생자의 증상과 현재 상태는? ㅇ 2명이 동일제품을 섭취하고 발생한 주요 이상사례 증상은 급성간염이고, 입원 후 증상이 호전되어 7~8일 후 퇴원하였음 Q2 이상사례 발생경위 및 조치경과는? ㅇ 해당 제품 섭취로 인한 2건의 이상사례 신고 접수(1차 8.25. 2차 8.27.) 후 인과관계 조사* 실시(~9.15) * 발생자 정보, 발생 경위, 병용 섭취 제품, 병력 등 조사 ㅇ 8.27. 해당 제조업체 점검과 제품 수거검사 착수 - 점검 및 수거검사 결과 적합(9.8) ㅇ 8.28. 해당 영업자에게 유통 중 제품의 잠정 판매 중단 권고 - 8.29. 영업자는 유통 중인 제품 자율회수 진행 ㅇ 9.16. 인과관계 평가를 위한 건강기능식품심의위원회(법 제27조) 개최 - 해당제품과 인과관계 가능성이 매우 높아 5등급으로 평가 ㅇ 9.19. 해당 제품에 대한 위해성 검토를 위한 건강기능식품심의위원회 개최 - 인체 위해 발생 우려가 있다고 판단 ㅇ 9.23. 제품정보 공개 및 회수 조치 Q3 이상사례 인과관계 평가 방법은? ㅇ 이상사례란 건강기능식품으로 인해 발생하였다고 의심되는 바람직하지 아니한 징후, 증상 또는 질병을 말하는 것으로, 섭취한 건강기능식품과 반드시 인과관계가 성립하는 것은 아님 ㅇ 건강기능식품심의위원회가 안전성 정보 분석 및 전문가의 자문내용, 환자의 진료기록 등의 자료를 근거로 섭취 제품과 이상사례와의 인과관계를 심의를 통해 종합적으로 판단하고 있음 ㅇ 이번 이상사례의 경우, 동일 제품에서 유사한 시기에 유사한 2건의 급성간염이 발생하였고, 음주 관련성은 배제할 수 없으나 해당 제품으로 인한 유발이 직접적 원인으로 인과관계 가능성이 매우 높은 수준인 5등급으로 평가 < 건강기능식품 이상사례 등급별 판단기준 > 등 급 5등급 인과관계 가능성 매우 높은 수준으로, 증상이 심각하며 다수의 유사 이상사례가 신고된 이력이 있어 국민에게 즉시 알릴 필요 있다고 판단한 경우 * 제품으로 인한 이상사례 가능성 확실 or 매우 높으면서 다른 원인으로 인한 발생 가능성 희박 4등급 인과관계 가능성이 높은 수준으로 판단한 경우 * 다른 원인을 전혀 배제하기 어려움 3등급 인과관계 가능성이 높지 않은 수준으로 판단한 경우 * 제품과 다른 원인 중 어느 가능성이 크다고 보기 어려움 2등급 인과관계 가능성이 매우 낮은 수준으로 판단한 경우 * 다른 원인일 가능성이 높으나, 전혀 배제할 수 없음 1등급 인과관계 불명확 또는 없다고 판단한 경우 * 기저질환 등 다른 원인으로 인정 Q4 가르시니아캄보지아 추출물 안전관리 및 향후 조치계획은? ㅇ 가르시니아캄보지아의 안전성과 관련하여 재평가(2회), 독성연구를 진행하여 섭취시 주의사항*을 신설(‘19.4월 시행)하고 일일섭취량을 하향 조정(750~2,800mg/일 → 750~1,500mg/일, ’25.1월 시행)하였음 * 어린이, 임산부 및 수유부는 섭취를 피할 것 간·신장·심장질환, 알레르기 및 천식이 있거나 의약품 복용시 전문가와 상담할 것 이상사례 발생 시 섭취를 중단하고 전문가와 상담할 것 남성의 경우 과다 섭취를 피할 것 ㅇ 또한, 다른 체지방감소 기능성 원료와 함께 제조 및 섭취를 금지하기 위한 규정을 마련하기 위해 개정 중에 있으며, - 이번 이상사례를 계기로, ‘섭취 시 드물게 간에 해를 끼칠 수 있고, 섭취 기간 중 알코올 섭취를 피할 것’을 섭취 시 주의사항에 추가할 계획임(‘25) ㅇ 향후, 최신의 국내 및 해외 이상사례 정보를 추가로 확보하여 병용섭취로 인한 이상사례 간 인과성을 조사･연구 할 계획임(~’26) Q5 해당 제품을 구매한 소비자의 반품 또는 환불 방법은? ㅇ 해당 제품을 구입처나 제품을 구매한 판매업체에서 반품이나 환불을 문의 요청하시기 바람 ㅇ 반품이나 환불이 원활하게 진행되지 않는 경우 소비자원(1372)에 문의하여 도움을 받을 수 있음 ㅇ 반품 제품에 대한 상세한 정보는 식약처 건강기능식품정책과(043-719-2457)로 문의할 수 있음 Q6 가르시니아 이상사례 통계는? □ 이상사례 신고(‘06.1~’25.8) 구분 계(건) ~'20 '21 '22 '23 '24 '25.8 건강기능식품 17,716 8,777 1,413 1,273 1,564 2,430 2,259 가르시니아 656 476 22 28 40 43 47 □ 이상사례 증상(‘06.1~’25.8) 계(건) 위장관 피부 간 신장/ 비뇨기 뇌신경/정신관련 심혈관/ 호흡기 대사성 장애 기타 소화불량 등 가려움등 간염 등 배뇨곤란 등 두통 등 가슴답답 등 갈증 등 1,427* 559 221 30 63 172 107 66 209 * 증상이 2개 이상인 경우가 있어 신고 건수(656건)와는 상이함 □ 건강기능식품 이상사례 신고 상위 10개 품목(‘06.1.~’25.8) 순위 구 분 계(건) ~ʹ20 ʹ21 ʹ22 ʹ23 ʹ24 ‘25.8 전체 17,716 8,777 1,413 1,273 1,564 2,430 2,259 1 영양보충용 4,395 1,928 499 421 421 565 561 2 유산균(프로바이오틱스) 1,697 1,227 127 93 64 105 81 3 EPA 및 DHA 함유 유지 1,314 567 159 152 125 148 163 4 Lactobacillus gasseri BNR17 659 0 2 9 65 317 266 5 가르시니아캄보지아 추출물 656 476 22 28 40 43 47 6 차전자피식이섬유 530 127 32 69 181 63 58 7 프락토올리고당 530 297 116 33 27 35 22 8 엠에스엠 459 220 71 61 43 46 18 9 백수오등복합추출물 454 453 0 1 0 0 0 10 홍삼 452 340 20 23 20 30 19\"},\n",
       " {'title': '[보도참고] 수입 과·채가공품에 대한 검사명령 시행',\n",
       "  'title_detail': {'type': 'text/plain',\n",
       "   'language': None,\n",
       "   'base': '',\n",
       "   'value': '[보도참고] 수입 과·채가공품에 대한 검사명령 시행'},\n",
       "  'links': [{'rel': 'alternate',\n",
       "    'type': 'text/html',\n",
       "    'href': 'https://www.mfds.go.kr/brd/m_99/view.do?seq=49355'}],\n",
       "  'link': 'https://www.mfds.go.kr/brd/m_99/view.do?seq=49355',\n",
       "  'content': [{'type': 'text/html',\n",
       "    'language': None,\n",
       "    'base': '',\n",
       "    'value': '수입 과·채가공품에 대한 검사명령 시행'}],\n",
       "  'summary': '수입 과·채가공품에 대한 검사명령 시행',\n",
       "  'published': 'Tue, 23 Sep 2025 00:07:58 GMT',\n",
       "  'published_parsed': time.struct_time(tm_year=2025, tm_mon=9, tm_mday=23, tm_hour=0, tm_min=7, tm_sec=58, tm_wday=1, tm_yday=266, tm_isdst=0),\n",
       "  'contents': '보도참고자료 보도시점 배포 즉시 배포 2025. 9. 23.(화) 수입 과·채가공품에 대한 검사명령 시행 - 베트남산 과·채가공품(냉동제품)에 대해 반입 전 세균수 검사결과(적합)를 제출해야만 수입신고 허용 식품의약품안전처(처장 오유경)는 베트남의 7개 제조업소*에서 수입되는 과·채가공품**(냉동제품)에 대해 수입자가 사전에 안전성을 입증해야만 국내로 들여올 수 있는 ‘검사명령’을 9월 30일부터 시행한다고 밝혔다. * ①LEE&KIM COMPANY LIMITED, ②DUNG DAT AGRICULTURE INVESTMENT AND DEVEOPMENT CO.,LTD, ③YEN LINH PRIVATE ENTERPRISE ④MINH KHOI TRADING IMPORT EXPORT CORPORATION, ⑤HANOI GREEN FOODS CO.,LTD ⑥ATL GLOBAL COMPANY LIMITED, ⑦AMEII VIETNAM JOINT STOCK COMPANY ** 과·채가공품 : 과일류, 채소류 또는 버섯류를 주원료로 하여 제조·가공한거나 이에 식품 또는 식품첨가물을 가하여 가공한 것 √ 검사명령이란? - ｢수입식품안전관리 특별법｣ 제22조에 따라 유해물질이 검출되거나 부적합이 반복적으로 발생하는 수입식품 등을 선정하여 수입자가 식약처장이 지정한 시험‧검사기관에서 정밀검사를 받고 적합한 경우에만 수입신고를 하도록 하는 제도 이번 검사명령은 최근 베트남산 과·채가공품(냉동제품)에 대한 통관검사결과 세균수* 검사항목에서 반복적으로 부적합이 발생함에 따라, 수입자의 안전관리 책임을 강화하고 과·채가공품의 안전성을 확보하기 위한 조치이다. * 식품에 존재하는 총 미생물 수를 측정하는 지표로, 가공 위생관리 전반적인 청결 수준과 유통 중 미생물 증식 상태를 확인할 수 있는 지표 참고로 식약처는 2012년부터 총 27개국 42품목에 대해 검사명령을 시행하고, 시행 기간동안 부적합 이력이 없는 품목은 해제하여 왔다. 오는 9월 30일부터는 이번 베트남산 과·채가공품을 포함해 총 17개 품목에 대한 검사명령이 운영된다. 검사명령 이후 대상 수입식품 등을 수입·판매하려는 영업자는 식약처장이 지정한 식품전문 시험·검사기관에 해당 제품의 검사를 의뢰한 후 그 결과(시험성적서)를 수입신고 시 관할 지방식약청에 제출해야 한다. 식약처는 앞으로도 안전한 수입식품이 공급·유통될 수 있는 환경을 조성하기 위해 부적합이 반복적으로 발생하거나 위해우려가 있는 식품을 중심으로 안전관리를 더욱 강화해 나갈 계획이다. 검사명령의 자세한 내용은 식약처 누리집(www.mfds.go.kr>알림>공지/공고>공지)에서 확인할 수 있다. <붙임> 수입식품 등 검사명령 운영 현황 담당 부서 수입식품안전정책국 책임자 과 장 손영욱 (043-719-2201) 수입검사관리과 담당자 사무관 유행일 (043-719-2210) 붙임 수입식품 등 검사명령 운영 현황 순번 시행일자 대상식품 국가 검사항목 1 ‘16.2.29.~’26.2.28. 천연향신료 중 분말형태의 제품 인도 금속성이물 2 ‘18.10.22.~’25.10.21. 베리류(블루베리, 링곤베리, 빌베리) 및 이를 원료로 제조한 잼류, 과․채가공품 폴란드, 프랑스, 이탈리아, 독일, 핀란드, 오스트리아, 스웨덴 방사능 (요오드, 세슘) 3 ‘19.4.23.~’26.4.22. 능이버섯 러시아 우크라이나 방사능 (요오드, 세슘) 4 ‘20.10.22.~’25.10.21. 천연향신료 중 분말형태의 제품 중국 (2개 제조업소) 금속성이물 5 ‘21.3.31.~’26.3.30. 참다랑어 (생식용 수산물) 일본(수출국) 살모넬라 6 ‘21.10.22.~‘25.10.21. 과자 (밀봉제품에 한하며, 발효제품 또는 유산균 함유제품 제외) 인도 (4개 제조업소) 세균수 7 ‘22.3.31.~’26.3.30. 기타소금 파키스탄 불용분 8 ‘22.12.24.~’25.12.23. 목이버섯(자실체, 건조) 중국 잔류농약 1종 (카벤다짐) 9 ‘23.3.31.~’26.3.30. 고추(열매) 베트남 잔류농약 8종 (디니코나졸,톨펜피라드, 트리사이클라졸, 퍼메트린, 디메토에이트, 아이소프로티올레인, 메토미노스트로빈, 모노크로토포스) 10 ‘23.6.30.~‘26.6.29 침출차 중국 잔류농약 5종 (피리다벤, 디노테퓨란, 오쏘페닐페놀, 프로클로라즈, 클로르피리포스) 11 ‘24.3.29.~‘26.3.28. 과·채가공품 (비살균 제품) 중국 (2개 제조업소) 대장균 12 ‘24.6.28.~‘26.3.27. 빵류 중국 (4개 제조업소) 보존료 13 ‘24.9.30.~‘26.9.29. 당절임 (밀봉 및 가열 살균 또는 멸균 처리한 제품은 제외) 베트남 (2개 제조업소) 타르색소 14 ‘24.12.30.~‘25.12.29. 냉동부세 중국 에톡시퀸 15 ‘25.3.31.~‘26.3.30. 불로초 중국 잔류농약 15종 (말라티온, 사이퍼메트린, 사이할로트린, 아세타미프리드, 아세토클로르, 이미다클로포프리드, 이프로디온, 카벤다짐, 클로르페나피르, 클로르피리포스, 트리아조포스, 트리폴록시스트로빈, 펜프로파트린, 포레이트, 프로클로라즈) 16 ‘25.6.30.~‘26.6.29 새우 및 기타 수산물가공품(새우 함유량 30% 이상) 베트남 (3개 제조업소) 독시싸이클린 17 ‘25.9.30.~‘26.9.29. 과·채가공품(냉동제품) 베트남 (7개 제조업소) 세균수'},\n",
       " {'title': \"[보도참고] 식약처 글로벌 규제조화센터, 'ICH 가이드라인 교육' 개최\",\n",
       "  'title_detail': {'type': 'text/plain',\n",
       "   'language': None,\n",
       "   'base': '',\n",
       "   'value': \"[보도참고] 식약처 글로벌 규제조화센터, 'ICH 가이드라인 교육' 개최\"},\n",
       "  'links': [{'rel': 'alternate',\n",
       "    'type': 'text/html',\n",
       "    'href': 'https://www.mfds.go.kr/brd/m_99/view.do?seq=49354'}],\n",
       "  'link': 'https://www.mfds.go.kr/brd/m_99/view.do?seq=49354',\n",
       "  'content': [{'type': 'text/html',\n",
       "    'language': None,\n",
       "    'base': '',\n",
       "    'value': \"식약처 글로벌 규제조화센터, 'ICH 가이드라인 교육' 개최\"}],\n",
       "  'summary': \"식약처 글로벌 규제조화센터, 'ICH 가이드라인 교육' 개최\",\n",
       "  'published': 'Tue, 23 Sep 2025 00:05:28 GMT',\n",
       "  'published_parsed': time.struct_time(tm_year=2025, tm_mon=9, tm_mday=23, tm_hour=0, tm_min=5, tm_sec=28, tm_wday=1, tm_yday=266, tm_isdst=0),\n",
       "  'contents': \"보도참고자료 보도시점 배포 즉시 배포 2025. 9. 23.(화) <GHC, Global Harmonization Center> 식약처 글로벌 규제조화센터, 'ICH 가이드라인 교육‘ 개최 - 품질(Q), 안전성(S), 유효성(E), 복합(M) 분야 현장 사례 중심 심층 강의 - 국내 제약·바이오 업계의 글로벌 규제 역량 향상 기대 식품의약품안전처(처장 오유경) 소속 식품의약품안전평가원(원장 강석연) 글로벌 규제조화센터(GHC)*는 제약·바이오 산업계 종사자 등 300여 명을 대상으로 ICH(국제의약품규제조화위원회)** 가이드라인 교육을 9월 23일부터 24일까지 이틀간 서울 양재 엘타워에서 개최한다고 밝혔다. * 글로벌 규제조화센터(GHC, Global Harmonization Center): 의료제품 등 안전관리 규제역량을 강화하고 국제 규제조화를 선도하기 위한 목적으로 APEC 규제조화센터를 확대·개편하여 식품의약품안전평가원에 설치된 기구(‘25.1월 출범) ** The International Council for Harmonisation of Technical Requirements for Pharmaceutical for Human Use: 1990년 설립돼 의약품 품질·안전성·유효성 관련 기준의 국제조화를 주도(ICH 가이드라인 마련 등)하고 있는 국제협력 기구 이번 ICH 교육은 최신 가이드라인을 중심으로 산업계 종사자들의 실질적인 가이드라인 적용능력을 향상시키고 가이드라인 국내 도입을 추진하기 위해 마련되었다. 특히 국제제약협회연맹(IFPMA) 등과의 협력으로 ICH 전문가위원회(EWG)* 전문가를 비롯해 세계 유수 제약기업과 규제기관 전문가들이 참여하여 현장 중심 사례와 글로벌 규제 동향을 공유한다. * 전문가위원회(Expert Working Group): 과학적 근거를 바탕으로 ICH 가이드라인 제·개정 업무 수행 첫째 날(9.23)에는 국내외 전문가들이 ‘위해관리 기반 품질관리’를 주제로 품질 및 복합분야 가이드라인 중 ▲불순물 관리(Q3C(9개정), Q3D(2개정), M7(2개정)) ▲품질위해관리(Q9(1개정)) ▲분석법 개발(Q2(2개정)/Q14)에 대한 현장 적용사례를 생생하게 전달한다. 둘째 날(9.24)에는 ‘안전성·유효성 평가’를 주제로 안전성 및 유효성 가이드라인 중 ▲정기적인 유익성-위해성 평가보고(E2C(2개정)) ▲임상시험관리기준(E6(3개정)) ▲QT/QTc 간격 연장 및 부정맥 평가(E14/S7B) ▲광안전성 평가(S10)에 대한 교육이 진행된다. 또한, ICH 전문가위원회 리더로 활동하는 로렌스 유 박사(Lawrence Yu, 미국 FDA), 페트리시아 파리스(Patricia Parris, 화이자제약) 등 전문가를 초빙하여 제·개정 중인 ▲추출물·용출물 평가(Q3E) ▲국제공통기술문서(M4Q(2개정)) ▲RWD 의약품 안전성 평가(M14) ▲모델 기반 의약품 개발(M15)에 관한 가이드라인의 최신 규제 동향 등을 특별세션에서 집중적으로 다룬다. 참고로, 글로벌 규제조화센터(GHC)는 지난 1월 출범 이후 최신 규제 동향을 국내 업계에 신속히 공유할 수 있도록 웨비나 등 다양한 교육 프로그램을 운영하여 전세계 18개국 규제기관 및 산업계 관련 전문가가 1,500명 이상 참여하고 있다. 식약처는 이번 교육을 통해 제약·바이오 업계와 학계, 연구기관 종사자들이 국제 가이드라인을 정확히 이해하고 실무에 활용하여 글로벌 신약 개발에 실질적인 도움을 얻고 국제조화 흐름에 부합하는 규제 대응 역량을 강화할 수 있을 것으로 기대한다고 밝혔다. 담당 부서 사전상담과 책임자 과 장 김희성 (043-719-2911) 담당자 연구관 전형옥 (043-719-2913) 붙임 1 ‘2025년 ICH 가이드라인 교육 포스터 붙임 2 [GHC] ICH 가이드라인 교육 프로그램 DAY 1 – 9.23 (화) ▶교육 내용: ICH개요 / 품질(Quality) 및 복합(Multidisciplinary) 가이드라인 · 좌장 : 손여원 교수 (성균관대학교) , 김훈주 교수(전북대학교) 시간 분야 프로그램 연사 09:00-09:25 25’ 등록 09:25-09:30 5‘ 개회 개회사 강석연 원장 NIFDS 09:30-10:00 30‘ ICH 한국의 ICH활동 및 가이드라인 이행 현황 ICH Cooperation activity and Implementation status of ICH guidelines in Korea 김희성 과장 사전상담과 Session 1. 위해관리 기반 품질 관리 – 실사례 중심 Risk-Based Quality Management – Practical Case Studies 10:00-10:40 40’ Q3C (R9) Risk based 기반 의약품 잔류용매 평가 및 관리 전략 A Risk-Based Approach Strategy to Evaluate and Control Residual Solvent 유지선 박사 대웅제약연구본부 10:40-10:55 15’ Break 10:55-11:25 30’ Q3D (R2) 효과적인 금속 불순물 및 변이원성 불순물 관리 Effective Management of Elemental and Mutagenic Impurities Andrew Teasdale * Astrazenaca 자문위원 11:25-12:15 50’ M7 (R2) 유전독성 불순물 사례 연구 (I) – 니트로사민 류 Nitrosamines - Focused Case Study 12:15-13:30 75’ 점심시간 13:30-14:10 40’ M7 (R2) 유전독성 불순물 사례 연구 (II) 실제사례(제조공정포함)을 활용한 변이원성 불순물의 위험기반 평가 및 관리 전략 ICH M7(R2) Risk-Based Assessment and Control strategies for Mutagenic Impurities Using Real-World Case Studies(including Manufacturing Process) Kazusei Komatsu * 시오노기 14:10-14:50 40‘ Q9 (R1) QMS(Quality Management System) 에서 품질위해관리 방법 (다양한 품질관리도구 실적용 사례) Quality Risk Management in QMS(Quality Management System) : Practical Applications of Various Quality Tools Marion de la Cruz-Kuo MSD 14:50-15:05 15’ Break 15:05-15:45 40‘ Q2(R2) /Q14 ICH Q14 가이드라인에서의 분석 절차 개발 및 변경 관리 Analytical Procedure Development and Change Management Concepts in ICH Q14 Nina Cauchon * Amgen 15:45-16:25 40’ Q2(R2) /Q14 ICH Q2(R2)/Q14 교육 (Training materials 기반) ICH Q2(R2)/Q14 Training based on Training Materials Yukio Hiyama * NIHS 16:25-16:40 15’ Break Session 2. ICH EWG Special Session – 글로벌 동향 중심 ICH EWG Special Session – Focus on Global Trends 16:40-17:20 40’ Q3E EWG Q3E 추출물 및 용출물 평가 가이드라인(안) ICH Q3E Guideline for Extractable and Leachables Patricia Parris * Pfizer 17:20-18:00 40’ M4Q (R2) EWG M4Q(R2) 가이드라인(안) 소개와 앞으로의 발전 방향 ICH M4Q(R2) and the Way Forward Lawrence Yu * FDA DAY 2 – 9.24 (수) ▶교육 내용: 안전성(Safety) 및 유효성(Efficacy 가이드라인 · 좌장 : 임창선 임상정보위원장(한국임상개발협회) , 김동환 교수(건양대학교) 한종성 교수(전북대학교) 시간 분야 프로그램 연사 09:00-09:30 30‘ 등록 Session 1. 안전성 · 유효성 평가 – 실사례 중심 Assessment of Safety and Efficacy – Practical Case Studies 09:30-10:10 40’ E2C (R2) PBRER 작성 실무 및 국내외 규제 대응 사례 Mastering PBRER Preparation :Best Practices and Global Regulatory insights 신민경 대표 셀타스퀘어 10:10-10:25 15‘ Break 10:25-11:25 60’ E6 (R3) ICH E6(R3) 가이드라인 이행과 적용 ICH E6(R3) - The Implementation Rebecca stanbrook * Novartis Pharma AG 11:25-13:00 95’ 점심시간 13:00-13:40 40’ E14 /S7B In vitro 심장이온채널 전류시험과 in vivo QT 시험을 위한 권장사항 (S7B Q&A, Best practice) Best practice consideration for the in vitro cardiac ion channel and in vivo QT studies (S7B Q&A, Best practice) 서정욱 박사 국가독성과학연구소 13:40-14:20 40’ S2 (R1) 유전독성 시험 데이터 해석, 판단기준 및 규제 대응 사례 Interpretation of S2(R1) Genotoxicity Data, Decision Criteria, and Regulatory Response Cases 이현걸 박사 코아스템켐온(주) 자문위원 14:20-14:30 10’ Break 14:30-15:10 40’ S10 ICH S10 가이드라인 도입이후 의약품 광안전성 평가 Photosafety Evaluation of Pharmaceuticals since implementation of ICH S10 Daniel Bauer Novartis Pharma AG Session 2. ICH EWG Special Session – 글로벌 동향 중심 ICH EWG Special Session – Focus on Global Trends 15:10-15:50 40’ M14 EWG ICH M14 가이드라인(안) 소개 (Step3) Introduction to the ICH M14 Guideline (Step3) 최봉규 상무 GC 녹십자 15:50-16:00 10’ Break 16:00-17:00 60‘ M15 EWG MIDD의 글로벌 조화 구현을 위한 전망: ICH M15 가이드라인(안) 적용의 기회와 도전 과제 Envisioning Global Harmonization of MIDD* : Opportunities and Challenges in the Implementation of the New ICH M15 MIDD Guidelines * Model Informed Drug Development Jiawei Wei * Novartis Daisuke Iwata * PMDA 17:00-17:05 5‘ 폐회사 김희성 과장 사전상담과 * 전, 현직 ICH EWG 전문가\"}]"
      ]
     },
     "execution_count": 15,
     "metadata": {},
     "output_type": "execute_result"
    }
   ],
   "source": [
    "all_articles['식약처']"
   ]
  },
  {
   "cell_type": "code",
   "execution_count": 14,
   "id": "758b9f95",
   "metadata": {},
   "outputs": [],
   "source": [
    "with open('hwpx_output.json', 'w', encoding='utf-8') as outfile:\n",
    "        json.dump(all_articles, outfile)"
   ]
  },
  {
   "cell_type": "markdown",
   "id": "ab414c10",
   "metadata": {},
   "source": [
    "# rss sources"
   ]
  },
  {
   "cell_type": "code",
   "execution_count": null,
   "id": "ee7d018e",
   "metadata": {},
   "outputs": [
    {
     "name": "stdout",
     "output_type": "stream",
     "text": [
      "'식품음료신문 - 전체기사' RSS 피드에서 가져온 기사 목록입니다.\n",
      "\n",
      "제목: 오뚜기, “한국 떡 문화의 매력 발산”…K-푸드쇼 ‘떡의 나라’ 10월 공개\n",
      "링크: http://www.thinkfood.co.kr/news/articleView.html?idxno=103586\n",
      "--------------------\n",
      "제목: ‘K-푸드’ 수출액 최단 기간 100억 달러 돌파\n",
      "링크: http://www.thinkfood.co.kr/news/articleView.html?idxno=103584\n",
      "--------------------\n",
      "제목: 일동후디스 하이뮨, 100명에게 ‘혼합 선물세트’ 쏜다…신규 TVC 온에어 기념 이벤트\n",
      "링크: http://www.thinkfood.co.kr/news/articleView.html?idxno=103583\n",
      "--------------------\n",
      "제목: 월드푸드테크협의회-농기평, 푸드테크 산업 글로벌 경쟁력 강화를 위한 업무협약 체결\n",
      "링크: http://www.thinkfood.co.kr/news/articleView.html?idxno=103582\n",
      "--------------------\n",
      "제목: 푸드테크 미래 ‘푸드테크연구지원센터’ 착공\n",
      "링크: http://www.thinkfood.co.kr/news/articleView.html?idxno=103580\n",
      "--------------------\n",
      "제목: 전 세계 소비자 눈으로 ‘K-푸드 짝퉁’ 근절한다\n",
      "링크: http://www.thinkfood.co.kr/news/articleView.html?idxno=103579\n",
      "--------------------\n",
      "제목: 맥도날드, 로코노미 표본 ‘한국의 맛’ 내년부터 확대 시행\n",
      "링크: http://www.thinkfood.co.kr/news/articleView.html?idxno=103578\n",
      "--------------------\n",
      "제목: 편의점 ‘천원 커피’에 저가 커피 시장 흔들\n",
      "링크: http://www.thinkfood.co.kr/news/articleView.html?idxno=103465\n",
      "--------------------\n",
      "제목: 한미양행, ‘고소애’ 근력 개선 효과 입증…국내 유일 식용곤충 건기식 상용화 눈 앞\n",
      "링크: http://www.thinkfood.co.kr/news/articleView.html?idxno=103577\n",
      "--------------------\n",
      "제목: 작년 농산물 소득 ‘시금치, 가을배추’ 늘고 ‘감자, 고구마’ 줄었다\n",
      "링크: http://www.thinkfood.co.kr/news/articleView.html?idxno=103576\n",
      "--------------------\n",
      "제목: 나명석 웰빙푸드 회장, 프랜차이즈산업협회장 선거 단독 출마\n",
      "링크: http://www.thinkfood.co.kr/news/articleView.html?idxno=103574\n",
      "--------------------\n",
      "제목: 올해 ‘K-푸드+ 수출탑’ 주인공을 찾습니다!\n",
      "링크: http://www.thinkfood.co.kr/news/articleView.html?idxno=103564\n",
      "--------------------\n",
      "제목: [09/30 오늘의 새상품] 농심 ‘라이필 더마콜라겐 시그니처RN’\n",
      "링크: http://www.thinkfood.co.kr/news/articleView.html?idxno=103569\n",
      "--------------------\n",
      "제목: 일화, 선사·자라섬 마라톤에 음료 등 후원…2030 러너들과 호흡\n",
      "링크: http://www.thinkfood.co.kr/news/articleView.html?idxno=103568\n",
      "--------------------\n",
      "제목: 롯데칠성, 플라스틱·탄소 감축 '결실'…ESG 경영으로 미래 경쟁력 잡는다\n",
      "링크: http://www.thinkfood.co.kr/news/articleView.html?idxno=103567\n",
      "--------------------\n",
      "제목: 롯데칠성 ‘칠성사이다’, 美 IDEA 디자인상 수상…‘K-사이다’의 디자인 쾌거\n",
      "링크: http://www.thinkfood.co.kr/news/articleView.html?idxno=103566\n",
      "--------------------\n",
      "제목: 테트라팩·노원구 맞손, “버려지던 종이팩, 고급 자원으로 재탄생”\n",
      "링크: http://www.thinkfood.co.kr/news/articleView.html?idxno=103565\n",
      "--------------------\n",
      "제목: 샘표, 뉴욕서 셰프들에게 ‘콩 발효 깊은 감칠맛’ 전파\n",
      "링크: http://www.thinkfood.co.kr/news/articleView.html?idxno=103563\n",
      "--------------------\n",
      "제목: SPC그룹, 150명에게 ‘행복한 장학금’ 2억5000만원 전달\n",
      "링크: http://www.thinkfood.co.kr/news/articleView.html?idxno=103562\n",
      "--------------------\n",
      "제목: CJ ‘햇반 라이스플랜’, 누적 1000만개 돌파…연매출 700억 제품군 성장 기대\n",
      "링크: http://www.thinkfood.co.kr/news/articleView.html?idxno=103561\n",
      "--------------------\n",
      "제목: [특별기고] K 프리미엄을 선도하는 K-푸드 브랜드 전략\n",
      "링크: http://www.thinkfood.co.kr/news/articleView.html?idxno=103508\n",
      "--------------------\n",
      "제목: 미국의 세포배양육 규제 갈등, 혁신의 시험대에 서다-이주형의 글로벌 푸드트렌드(14)\n",
      "링크: http://www.thinkfood.co.kr/news/articleView.html?idxno=103521\n",
      "--------------------\n",
      "제목: [기고] 요구르트, 소재 다변화 필요\n",
      "링크: http://www.thinkfood.co.kr/news/articleView.html?idxno=103533\n",
      "--------------------\n",
      "제목: 유럽 식품 업계, 韓 정부에 “글로벌 스탠더드에 맞는 규제 환경 필요”\n",
      "링크: http://www.thinkfood.co.kr/news/articleView.html?idxno=103560\n",
      "--------------------\n",
      "제목: ‘기능성을 표방한 일반식품 시장 현황 및 관리 방안’ 세미나 성료\n",
      "링크: http://www.thinkfood.co.kr/news/articleView.html?idxno=103558\n",
      "--------------------\n",
      "제목: 제주 물의 미래, 시민과 함께 그린다…‘제주물 세계포럼’ 30일 개막\n",
      "링크: http://www.thinkfood.co.kr/news/articleView.html?idxno=103557\n",
      "--------------------\n",
      "제목: 수도권 맛집서 ‘노르웨이 연어 위크’ 열린다…캐치테이블서 예약\n",
      "링크: http://www.thinkfood.co.kr/news/articleView.html?idxno=103556\n",
      "--------------------\n",
      "제목: ‘말차’ 입은 연세 디저트, 3주 만에 100만 개 팔리며 ‘열풍’ 입증\n",
      "링크: http://www.thinkfood.co.kr/news/articleView.html?idxno=103555\n",
      "--------------------\n",
      "제목: “식량안보가 곧 국가안보”…식량위기 체계적 대응 위한 ‘식량안보 기본법’ 발의\n",
      "링크: http://www.thinkfood.co.kr/news/articleView.html?idxno=103554\n",
      "--------------------\n",
      "제목: “허리가 건강해야 물류도 건강하다!”…롯데웰푸드 ‘플렉스리프트’ 도입\n",
      "링크: http://www.thinkfood.co.kr/news/articleView.html?idxno=103553\n",
      "--------------------\n",
      "제목: [09/29 오늘의 새상품] 농심 ‘포테토칩 K-양념치킨맛’, 크라운제과 ‘참 알프스’, 오뚜기 ‘LIGHT&JOY 저칼로리 현미·흑미 누룽지죽’, 던킨 ‘디어 샌드’, 롯데칠성음료 ‘핫식스 더킹 아이스피치 제로’\n",
      "링크: http://www.thinkfood.co.kr/news/articleView.html?idxno=103552\n",
      "--------------------\n",
      "제목: [창간 29주년 특집 Ⅲ] ‘K푸드 지식재산권’ 짝퉁과의 전쟁\n",
      "링크: http://www.thinkfood.co.kr/news/articleView.html?idxno=103517\n",
      "--------------------\n",
      "제목: 건강기능식품 산업의 성장 가능성과 한계-하상도의 식품 바로보기(423)\n",
      "링크: http://www.thinkfood.co.kr/news/articleView.html?idxno=103518\n",
      "--------------------\n",
      "제목: ‘2026 민텔 최고 혁신상’ 개최…연말까지 혁신 소비재 공모\n",
      "링크: http://www.thinkfood.co.kr/news/articleView.html?idxno=103549\n",
      "--------------------\n",
      "제목: 미국 패스트푸드, 인플레이션 속 ‘생존 전략’은\n",
      "링크: http://www.thinkfood.co.kr/news/articleView.html?idxno=103520\n",
      "--------------------\n",
      "제목: 롯데칠성음료, 5년 연속 ‘IR 우수기업’ 선정\n",
      "링크: http://www.thinkfood.co.kr/news/articleView.html?idxno=103548\n",
      "--------------------\n",
      "제목: 맥도날드, 서울역점 리뉴얼…‘빠른 이동, 편리한 주문’ 특화\n",
      "링크: http://www.thinkfood.co.kr/news/articleView.html?idxno=103547\n",
      "--------------------\n",
      "제목: 서울우유협동조합, 육군 제72사단에 ‘서울우유 아이스크림’ 기증\n",
      "링크: http://www.thinkfood.co.kr/news/articleView.html?idxno=103546\n",
      "--------------------\n",
      "제목: [09/26 오늘의 새상품] 오뚜기 ‘톡톡톡 진라면 스틱’, 차오차이 ‘어향가지소스’, 농심 ‘라이필 더마콜라겐 시그니처RN’\n",
      "링크: http://www.thinkfood.co.kr/news/articleView.html?idxno=103545\n",
      "--------------------\n",
      "제목: 삼양식품, 짱구 친구 ‘맹구’도 가세…캐릭터 IP 마케팅 박차\n",
      "링크: http://www.thinkfood.co.kr/news/articleView.html?idxno=103544\n",
      "--------------------\n",
      "제목: 코카콜라와 현대카드 쿠킹 라이브러리의 만남, '코-크 쿡북' 팝업 오픈\n",
      "링크: http://www.thinkfood.co.kr/news/articleView.html?idxno=103543\n",
      "--------------------\n",
      "제목: 식사빵·찌개 등 10종-초콜릿·초코과자 등 5종 나트륨·당류 저감 표시 가능\n",
      "링크: http://www.thinkfood.co.kr/news/articleView.html?idxno=103542\n",
      "--------------------\n",
      "제목: 샘표, 한돈 소비 촉진에 팔소매 걷는다\n",
      "링크: http://www.thinkfood.co.kr/news/articleView.html?idxno=103541\n",
      "--------------------\n",
      "제목: 롯데웰푸드, 카카오·팜유 등 원재료 시세 예측 AI 시스템 도입\n",
      "링크: http://www.thinkfood.co.kr/news/articleView.html?idxno=103539\n",
      "--------------------\n",
      "제목: [09/25 오늘의 새상품] CJ제일제당 ‘습떡볶이·습김치덮밥’, BBQ ‘뿜치킹’, 풀무원푸드앤컬처 ‘플랜튜드’ 가을 신메뉴 3종, 매일헬스뉴트리션 ‘셀렉스 밀세라 콜라겐’ 3종, 롯데칠성음료 ‘델몬트 선물세트’ 7종, 몽고식품 ‘송표 1905’ 추석 선물세트\n",
      "링크: http://www.thinkfood.co.kr/news/articleView.html?idxno=103538\n",
      "--------------------\n",
      "제목: [2025 추석 선물] ‘가심비’에 ‘프리미엄’…‘이색 협업’으로 Z세대까지 공략\n",
      "링크: http://www.thinkfood.co.kr/news/articleView.html?idxno=103477\n",
      "--------------------\n",
      "제목: 홈플러스, ‘벼랑 끝 M&A’ 중대 분수령…MBK 2000억 추가 투입\n",
      "링크: http://www.thinkfood.co.kr/news/articleView.html?idxno=103537\n",
      "--------------------\n",
      "제목: ‘천원의 아침밥’, 이제 근로자도 즐긴다\n",
      "링크: http://www.thinkfood.co.kr/news/articleView.html?idxno=103536\n",
      "--------------------\n",
      "제목: “2300만 엄마의 선택” 후디스 산양유아식, 대규모 이벤트로 1위 위상 증명\n",
      "링크: http://www.thinkfood.co.kr/news/articleView.html?idxno=103535\n",
      "--------------------\n",
      "제목: ‘2% 부족할 때’의 새로운 변신…안효섭·김민주와 함께 Z세대 공략\n",
      "링크: http://www.thinkfood.co.kr/news/articleView.html?idxno=103534\n",
      "--------------------\n",
      "50개 수집!\n",
      "'푸드아이콘-FOODICON - 전체기사' RSS 피드에서 가져온 기사 목록입니다.\n",
      "\n",
      "제목: ‘원조에서 협력으로’... 농식품부, 식량원조 및 UN 식품시장 첫 진출 기념\n",
      "링크: http://www.foodicon.co.kr/news/articleView.html?idxno=31029\n",
      "--------------------\n",
      "제목: 농진청, ‘표현체 영상분석 기술’로 농업 디지털 혁신 앞당긴다\n",
      "링크: http://www.foodicon.co.kr/news/articleView.html?idxno=31022\n",
      "--------------------\n",
      "제목: 삼양식품, MEP 브랜드 글로벌 앰배서더로 엔하이픈 발탁… “글로벌 시장 공략 강화”\n",
      "링크: http://www.foodicon.co.kr/news/articleView.html?idxno=31028\n",
      "--------------------\n",
      "제목: K-푸드 수출, 역대 최단 기간(9月) 100억 불 돌파\n",
      "링크: http://www.foodicon.co.kr/news/articleView.html?idxno=31027\n",
      "--------------------\n",
      "제목: 농기평, 푸드테크 글로벌 경쟁력 강화 위해 월드푸드테크협의회와 업무협약 체결\n",
      "링크: http://www.foodicon.co.kr/news/articleView.html?idxno=31026\n",
      "--------------------\n",
      "제목: 축평원, ‘축산상품 판로개척’ 교육 개설\n",
      "링크: http://www.foodicon.co.kr/news/articleView.html?idxno=31025\n",
      "--------------------\n",
      "제목: 식품연, ‘비특허 연구성과 기반 기술산업화’ 첫 결실\n",
      "링크: http://www.foodicon.co.kr/news/articleView.html?idxno=31024\n",
      "--------------------\n",
      "제목: 정부-농가-기업-지자체 힘 합쳐 재생유기농업 실천기반 마련\n",
      "링크: http://www.foodicon.co.kr/news/articleView.html?idxno=31021\n",
      "--------------------\n",
      "제목: 농진청, 추석 선물로 좋은 양봉산물·국산 양봉산물로 만든 별미 요리 추천\n",
      "링크: http://www.foodicon.co.kr/news/articleView.html?idxno=31020\n",
      "--------------------\n",
      "제목: 더위에도 잘 자라는 ‘이지플’, 추석 사과 새 주자로 뜬다\n",
      "링크: http://www.foodicon.co.kr/news/articleView.html?idxno=31019\n",
      "--------------------\n",
      "제목: 식품진흥원, ‘푸드테크연구지원센터‘ 첫 삽\n",
      "링크: http://www.foodicon.co.kr/news/articleView.html?idxno=31023\n",
      "--------------------\n",
      "제목: 추석 앞두고 ‘송이 닮은 독버섯’ 중독사고 주의\n",
      "링크: http://www.foodicon.co.kr/news/articleView.html?idxno=31018\n",
      "--------------------\n",
      "제목: [업계단신] CJ제일제당 ‘퀴진케이’, 남도 바다 주제 마스터 클래스 성료/bhc, 1인분 무료배달 서비스 제휴\n",
      "링크: http://www.foodicon.co.kr/news/articleView.html?idxno=31016\n",
      "--------------------\n",
      "제목: aT, 전 세계 소비자 참여로 K-푸드 모방품 근절 나선다\n",
      "링크: http://www.foodicon.co.kr/news/articleView.html?idxno=31015\n",
      "--------------------\n",
      "제목: 산림청·aT, 추석 앞두고 임산물 수출 기업 현장 점검\n",
      "링크: http://www.foodicon.co.kr/news/articleView.html?idxno=31014\n",
      "--------------------\n",
      "제목: 커피박, 우분을 친환경 연료로 바꾸다...축산 악취 줄이고 신재생에너지 확보까지\n",
      "링크: http://www.foodicon.co.kr/news/articleView.html?idxno=31010\n",
      "--------------------\n",
      "제목: 축평원, 하반기 신규직원 46명 채용\n",
      "링크: http://www.foodicon.co.kr/news/articleView.html?idxno=31009\n",
      "--------------------\n",
      "제목: 추석 밥상에 오르는 ‘우리흑돈’…풍미와 영양을 갖춘 새로운 한돈\n",
      "링크: http://www.foodicon.co.kr/news/articleView.html?idxno=31008\n",
      "--------------------\n",
      "제목: 한미양행, 곤충으로 노인 근력 개선 해법 찾아… 국내 최초 식용곤충 건강기능식품 개발\n",
      "링크: http://www.foodicon.co.kr/news/articleView.html?idxno=31007\n",
      "--------------------\n",
      "제목: 농진원, 지치 신품종 ‘대홍’ 종자 농가 분양\n",
      "링크: http://www.foodicon.co.kr/news/articleView.html?idxno=31006\n",
      "--------------------\n",
      "제목: 식품진흥원, 글로벌 푸드 얼라이언스 제3회 세미나 개최\n",
      "링크: http://www.foodicon.co.kr/news/articleView.html?idxno=31004\n",
      "--------------------\n",
      "제목: 농진청·코레일유통 협업 음료 ‘홍천 사과주스’ 선보여\n",
      "링크: http://www.foodicon.co.kr/news/articleView.html?idxno=31002\n",
      "--------------------\n",
      "제목: “10아르당 소득 1위 작목은 토마토“ 농진청, 2024년도 농산물소득조사 결과 발표\n",
      "링크: http://www.foodicon.co.kr/news/articleView.html?idxno=31001\n",
      "--------------------\n",
      "제목: 제3회 ‘K-푸드+ 수출탑’ 수상 희망 기업 모집\n",
      "링크: http://www.foodicon.co.kr/news/articleView.html?idxno=30998\n",
      "--------------------\n",
      "제목: 농식품부, 저탄소 농축산물 인증 확대 및 유통·소비 활성화 집중 추진\n",
      "링크: http://www.foodicon.co.kr/news/articleView.html?idxno=30997\n",
      "--------------------\n",
      "제목: 식봄, ‘추가 주문’ 기능 도입... 깜빡 놓친 주문, 추가 비용 없이 배송\n",
      "링크: http://www.foodicon.co.kr/news/articleView.html?idxno=30999\n",
      "--------------------\n",
      "제목: 국민바이오, 차세대 건강식품 브랜드 ‘K-CARE’ 국내 첫 론칭\n",
      "링크: http://www.foodicon.co.kr/news/articleView.html?idxno=30996\n",
      "--------------------\n",
      "제목: CJ제일제당 햇반 라이스플랜, 누적판매량 1,000만개 돌파… ‘슬로우 러닝’ 이벤트 성료\n",
      "링크: http://www.foodicon.co.kr/news/articleView.html?idxno=30995\n",
      "--------------------\n",
      "제목: 농진청-홍성군-KT-홍동농협, 저탄소 농업기술 보급·활성화 위한 업무협약 맺어\n",
      "링크: http://www.foodicon.co.kr/news/articleView.html?idxno=30994\n",
      "--------------------\n",
      "제목: 농진청, 수출 유망 농업기술 발굴·활성화 방안 논의\n",
      "링크: http://www.foodicon.co.kr/news/articleView.html?idxno=30993\n",
      "--------------------\n",
      "제목: 쌀 신수요 창출… 장립종 벼 생육·밥맛 평가회 개최\n",
      "링크: http://www.foodicon.co.kr/news/articleView.html?idxno=30992\n",
      "--------------------\n",
      "제목: 농진청, 배추 수급안정 위한 저장기술 연구 협의체 출범\n",
      "링크: http://www.foodicon.co.kr/news/articleView.html?idxno=30991\n",
      "--------------------\n",
      "제목: 해썹인증원, 추석 맞아 ‘우리 농축임산물 애용 캠페인’ 추진\n",
      "링크: http://www.foodicon.co.kr/news/articleView.html?idxno=30990\n",
      "--------------------\n",
      "제목: 축평원 대전충남지원, 농관원-지자체와 추석 합동점검 실시\n",
      "링크: http://www.foodicon.co.kr/news/articleView.html?idxno=30989\n",
      "--------------------\n",
      "제목: 함께 그리는 스마트농업의 미래, ‘K-스마트팜 추진단‘ 운영\n",
      "링크: http://www.foodicon.co.kr/news/articleView.html?idxno=30985\n",
      "--------------------\n",
      "제목: 추석 선물세트, ‘위장 할인’ 주의보...정가 인상·할인율 조정 꼼수\n",
      "링크: http://www.foodicon.co.kr/news/articleView.html?idxno=30988\n",
      "--------------------\n",
      "제목: CJ제일제당, ‘2025 UN피스코 SDGs 대상’서 해양생태계 보전 부문 수상\n",
      "링크: http://www.foodicon.co.kr/news/articleView.html?idxno=30987\n",
      "--------------------\n",
      "제목: 농축산물 불법 휴대 수입 시 형사 처벌로 엄정대응\n",
      "링크: http://www.foodicon.co.kr/news/articleView.html?idxno=30984\n",
      "--------------------\n",
      "제목: 제77호 A벤처스로 ‘주식회사 아이티테크‘ 선정\n",
      "링크: http://www.foodicon.co.kr/news/articleView.html?idxno=30983\n",
      "--------------------\n",
      "제목: ‘화분매개벌 기술’로 산불 피해 사과 안정 생산 돕는다\n",
      "링크: http://www.foodicon.co.kr/news/articleView.html?idxno=30982\n",
      "--------------------\n",
      "제목: ‘KOPIA센터, 몽골에서 40년 만에 최초 벼 재배 성공 ‘쾌거’\n",
      "링크: http://www.foodicon.co.kr/news/articleView.html?idxno=30981\n",
      "--------------------\n",
      "제목: aT·천안시, 아워홈과 우수농산물 구매상담회 개최\n",
      "링크: http://www.foodicon.co.kr/news/articleView.html?idxno=30986\n",
      "--------------------\n",
      "제목: 롯데웰푸드, 중량물 이송 보조기구 ‘플렉스리프트’ 본격 도입\n",
      "링크: http://www.foodicon.co.kr/news/articleView.html?idxno=30980\n",
      "--------------------\n",
      "제목: 오리온, 2025년 하반기 신입사원 채용\n",
      "링크: http://www.foodicon.co.kr/news/articleView.html?idxno=30978\n",
      "--------------------\n",
      "제목: K-외식, 싱가포르 국제 프랜차이즈 박람회서 MOU 6건 체결\n",
      "링크: http://www.foodicon.co.kr/news/articleView.html?idxno=30977\n",
      "--------------------\n",
      "제목: [오늘의 새상품] 농심 ‘포테토칩 K-양념치킨맛’\n",
      "링크: http://www.foodicon.co.kr/news/articleView.html?idxno=30976\n",
      "--------------------\n",
      "제목: [FI창간8주년특집Ⅰ-미국 식용대두산업 현장] ④ 데이비드 블랙 팜, Non-GMO 대두로 여는 지속가능 농업의 길\n",
      "링크: http://www.foodicon.co.kr/news/articleView.html?idxno=30960\n",
      "--------------------\n",
      "제목: 농진청, 푸드업사이클링 산업 위해 민관 협력 본격화\n",
      "링크: http://www.foodicon.co.kr/news/articleView.html?idxno=30975\n",
      "--------------------\n",
      "제목: 한국산 신선 포도, CA 기술로 베트남 유통망 본격 진입\n",
      "링크: http://www.foodicon.co.kr/news/articleView.html?idxno=30973\n",
      "--------------------\n",
      "제목: 중앙-지방 농촌진흥기관장, 농업·농촌 국정과제 이행지원 방안 모색\n",
      "링크: http://www.foodicon.co.kr/news/articleView.html?idxno=30972\n",
      "--------------------\n",
      "50개 수집!\n",
      "'세이프타임즈 - 보건안전' RSS 피드에서 가져온 기사 목록입니다.\n",
      "\n",
      "제목: 임상병리사협회 '간호사 진료지원업무' 고시 환영\n",
      "링크: https://www.safetimes.co.kr/news/articleView.html?idxno=235241\n",
      "--------------------\n",
      "제목: 고려대 연구팀 \"초고령사회 현장진단검사 제도화 필요\"\n",
      "링크: https://www.safetimes.co.kr/news/articleView.html?idxno=235233\n",
      "--------------------\n",
      "제목: 질병청 '생물테러' 대비 안전한국훈련\n",
      "링크: https://www.safetimes.co.kr/news/articleView.html?idxno=235232\n",
      "--------------------\n",
      "제목: 농식품부 '2025 K-푸드 플러스 수출탑' 공모\n",
      "링크: https://www.safetimes.co.kr/news/articleView.html?idxno=235229\n",
      "--------------------\n",
      "제목: 박셀바이오, 다발골수종 '치료 신기술' 특허\n",
      "링크: https://www.safetimes.co.kr/news/articleView.html?idxno=235230\n",
      "--------------------\n",
      "제목: 오유경 처장 지역상생 '자매결연·나눔' 실천\n",
      "링크: https://www.safetimes.co.kr/news/articleView.html?idxno=235225\n",
      "--------------------\n",
      "제목: 마약류 민생 유통 차단 … 범정부 특별단속\n",
      "링크: https://www.safetimes.co.kr/news/articleView.html?idxno=235220\n",
      "--------------------\n",
      "제목: 식약처 \"대만산 냉동틸라피아서 식중독균 검출\"\n",
      "링크: https://www.safetimes.co.kr/news/articleView.html?idxno=235217\n",
      "--------------------\n",
      "제목: 김남희 의원 \"식약처 내부 기강 붕괴\"\n",
      "링크: https://www.safetimes.co.kr/news/articleView.html?idxno=235212\n",
      "--------------------\n",
      "제목: 경찰 대웅제약 '불법 리베이트' 재차 압수수색\n",
      "링크: https://www.safetimes.co.kr/news/articleView.html?idxno=235208\n",
      "--------------------\n",
      "제목: 남부발전·GS칼텍스 '탄소 중립' 기술 교류 MOU\n",
      "링크: https://www.safetimes.co.kr/news/articleView.html?idxno=235195\n",
      "--------------------\n",
      "제목: 서울대·중앙대 '16년 미상' 질병 원인 규명\n",
      "링크: https://www.safetimes.co.kr/news/articleView.html?idxno=235193\n",
      "--------------------\n",
      "제목: 식약처 서울역서 '식품 안전' 공모 작품 전시\n",
      "링크: https://www.safetimes.co.kr/news/articleView.html?idxno=235189\n",
      "--------------------\n",
      "제목: 소울푸드의 배신 … 동대문엽떡 위생법 위반 1위 '불명예'\n",
      "링크: https://www.safetimes.co.kr/news/articleView.html?idxno=235184\n",
      "--------------------\n",
      "제목: 박셀바이오, 골수침윤림프구 기반 항암기술 특허 등록\n",
      "링크: https://www.safetimes.co.kr/news/articleView.html?idxno=235179\n",
      "--------------------\n",
      "제목: \"위고비 사용은 이렇게\" 식약처 안내서 배포\n",
      "링크: https://www.safetimes.co.kr/news/articleView.html?idxno=235180\n",
      "--------------------\n",
      "제목: 농식품부 LPG 화물자동차 면세유 배정량 '확대'\n",
      "링크: https://www.safetimes.co.kr/news/articleView.html?idxno=235172\n",
      "--------------------\n",
      "제목: 동서발전 '친환경 비누로 환경 지켜요'\n",
      "링크: https://www.safetimes.co.kr/news/articleView.html?idxno=235168\n",
      "--------------------\n",
      "제목: 농식품부 \"올해 쌀 작황, 평년보다 양호\"\n",
      "링크: https://www.safetimes.co.kr/news/articleView.html?idxno=235142\n",
      "--------------------\n",
      "제목: 송미령 장관 '농축산물 할인' 현장 점검\n",
      "링크: https://www.safetimes.co.kr/news/articleView.html?idxno=235139\n",
      "--------------------\n",
      "20개 수집!\n",
      "'식약일보 KFDN 식품과 의약 뉴스' RSS 피드에서 가져온 기사 목록입니다.\n",
      "\n",
      "제목: 재생유기농업 실천…민·관·지자체까지 나서\n",
      "링크: http://www.kfdn.co.kr/70827\n",
      "--------------------\n",
      "제목: 가파른 증가 ‘롱코비드’…인플루엔자보다 중증도↑\n",
      "링크: http://www.kfdn.co.kr/70826\n",
      "--------------------\n",
      "제목: “약사의 커리어, 어디까지 확장될까”\n",
      "링크: http://www.kfdn.co.kr/70825\n",
      "--------------------\n",
      "제목: 경계선지능 병무판정 '매년 1,020명' 집계\n",
      "링크: http://www.kfdn.co.kr/70824\n",
      "--------------------\n",
      "제목: ‘세노바메이트’ 동북아 뇌전증 시장 확장 본격화\n",
      "링크: http://www.kfdn.co.kr/70823\n",
      "--------------------\n",
      "제목: 한미 ‘GLP-1 비만 신약’, 당뇨병 치료제 확대\n",
      "링크: http://www.kfdn.co.kr/70822\n",
      "--------------------\n",
      "제목: 보령-사노피, ‘탁소텔’ 19개국 판권 인수계약 체결\n",
      "링크: http://www.kfdn.co.kr/70821\n",
      "--------------------\n",
      "제목: 한림대춘천병원, ‘심뇌혈관질환 인적 네트워크 시범사업’ 평가 만점!\n",
      "링크: http://www.kfdn.co.kr/70820\n",
      "--------------------\n",
      "제목: 평소보다 음주량 ↑ ‘위암’ 주의\n",
      "링크: http://www.kfdn.co.kr/70819\n",
      "--------------------\n",
      "제목: 유한양행, 업계 최초 ‘인베스트먼트 데이’ 열어\n",
      "링크: http://www.kfdn.co.kr/70818\n",
      "--------------------\n",
      "제목: 고도근시, 망막 건강의 위험 신호\n",
      "링크: http://www.kfdn.co.kr/70817\n",
      "--------------------\n",
      "제목: ‘커피 냅’, 이상하지만 똑똑한 피로 해소법\n",
      "링크: http://www.kfdn.co.kr/70816\n",
      "--------------------\n",
      "제목: 떡볶이 프랜차이즈 식품위생법 위반 1위는… ‘엽기떡볶이’\n",
      "링크: http://www.kfdn.co.kr/70815\n",
      "--------------------\n",
      "제목: 충북대병원, 추석 연휴에도 응급실 24시간 가동\n",
      "링크: http://www.kfdn.co.kr/70814\n",
      "--------------------\n",
      "제목: 심평원 경기남부본부, 지역사회 따뜻한 나눔 실천\n",
      "링크: http://www.kfdn.co.kr/70813\n",
      "--------------------\n",
      "제목: 심평원, 국정자원 화재 관련 신속 조치로 정상 운영 유지 노력\n",
      "링크: http://www.kfdn.co.kr/70812\n",
      "--------------------\n",
      "제목: ADHD 치료제 안전사용 정보 담은 ‘마약류 안전정보지’ 발간\n",
      "링크: http://www.kfdn.co.kr/70811\n",
      "--------------------\n",
      "제목: 건대병원, AI 뇌영상 분석 ‘뉴로핏 아쿠아’ 도입\n",
      "링크: http://www.kfdn.co.kr/70810\n",
      "--------------------\n",
      "제목: 한국인 불안제·수면제 처방 600만명 넘어\n",
      "링크: http://www.kfdn.co.kr/70809\n",
      "--------------------\n",
      "제목: 담도암 진행 늦출 항암요법 효과 확인\n",
      "링크: http://www.kfdn.co.kr/70808\n",
      "--------------------\n",
      "제목: 세브란스병원, ‘민윤기치료센터’ 오픈\n",
      "링크: http://www.kfdn.co.kr/70807\n",
      "--------------------\n",
      "제목: 2030 여성, 다이어트 위해 마약류 식욕억제제 복용\n",
      "링크: http://www.kfdn.co.kr/70806\n",
      "--------------------\n",
      "제목: 통증으로 시작되는 무릎 관절염, ‘맞춤 치료와 관리’가 핵심\n",
      "링크: http://www.kfdn.co.kr/70805\n",
      "--------------------\n",
      "제목: BBQ, 신메뉴 ‘뿜치킹’ 출시 기념… 5만원 쿠폰팩 쏜다\n",
      "링크: http://www.kfdn.co.kr/70804\n",
      "--------------------\n",
      "제목: 바이엘 코리아, ICDM 2025 런천 심포지엄서 케렌디아 최신 임상 가치 공유\n",
      "링크: http://www.kfdn.co.kr/70803\n",
      "--------------------\n",
      "제목: “자가 혈소판 풍부 혈장 관절강 내 주사, 통증 감소·기능 개선 도움”\n",
      "링크: http://www.kfdn.co.kr/70802\n",
      "--------------------\n",
      "제목: 노르웨이수산물위원회, ‘노르웨이 연어 위크’ 개최\n",
      "링크: http://www.kfdn.co.kr/70801\n",
      "--------------------\n",
      "제목: 병원 진료비 ·의료질 정보 아직도\n",
      "링크: http://www.kfdn.co.kr/70800\n",
      "--------------------\n",
      "제목: 식약처, ’24년 화장품 유해사례 1,926건 분석\n",
      "링크: http://www.kfdn.co.kr/70799\n",
      "--------------------\n",
      "제목: ‘GLP-1 계열 비만치료제 안전 사용 안내서’ 배포\n",
      "링크: http://www.kfdn.co.kr/70798\n",
      "--------------------\n",
      "제목: 식약처, 중독 예방을 위한 올바른 사용정보 제공\n",
      "링크: http://www.kfdn.co.kr/70797\n",
      "--------------------\n",
      "제목: “타이레놀, 임신부는 전문가와 상의 후 복용하세요”\n",
      "링크: http://www.kfdn.co.kr/70796\n",
      "--------------------\n",
      "제목: 담배의 유해성 관리에 관한 법률 하위 규정 고시 제정안 행정예고\n",
      "링크: http://www.kfdn.co.kr/70795\n",
      "--------------------\n",
      "제목: 화장품인데… “질 염증 치료” 등 허위·과대 광고 적발\n",
      "링크: http://www.kfdn.co.kr/70794\n",
      "--------------------\n",
      "제목: 아플라톡신 초과 ‘땅콩 또는 견과류가공품’ 회수 조치\n",
      "링크: http://www.kfdn.co.kr/70793\n",
      "--------------------\n",
      "제목: 가르시니아캄보지아 추출물 이상사례 제품 회수\n",
      "링크: http://www.kfdn.co.kr/70791\n",
      "--------------------\n",
      "제목: ‘의약품 최신 해외 규제정보’ 식약처 홈페이지 게시\n",
      "링크: http://www.kfdn.co.kr/70790\n",
      "--------------------\n",
      "제목: 경기도약, 제5차 상임이사회 개최\n",
      "링크: http://www.kfdn.co.kr/70789\n",
      "--------------------\n",
      "제목: 광동제약, 액상형 종합감기약 ‘콜에스액’ 출시\n",
      "링크: http://www.kfdn.co.kr/70788\n",
      "--------------------\n",
      "제목: 함소아제약, ‘닥터.비타민C 상큼톡톡’ 출시\n",
      "링크: http://www.kfdn.co.kr/70787\n",
      "--------------------\n",
      "제목: 외국인 미용·성형 부가세, 상반기만 작년 전체 86% 수준\n",
      "링크: http://www.kfdn.co.kr/70786\n",
      "--------------------\n",
      "제목: 올해 해수욕장 이용객, 코로나팬데믹 이후 최다\n",
      "링크: http://www.kfdn.co.kr/70785\n",
      "--------------------\n",
      "제목: 큐리언트-시나픽스, 차세대 이중 페이로드 ADC 개발 속도↑\n",
      "링크: http://www.kfdn.co.kr/70784\n",
      "--------------------\n",
      "제목: 식약처, 나트륨·당류 저감표시 지속 확대\n",
      "링크: http://www.kfdn.co.kr/70783\n",
      "--------------------\n",
      "제목: 보령, 임직원 위한 웰니스 융복합공간 ‘BR Lounge’ 오픈\n",
      "링크: http://www.kfdn.co.kr/70782\n",
      "--------------------\n",
      "제목: 식약처, ‘부산국제의료기기 전시회’ 참가\n",
      "링크: http://www.kfdn.co.kr/70781\n",
      "--------------------\n",
      "제목: 식약처, 턱밑 지방 개선 치료제 허가\n",
      "링크: http://www.kfdn.co.kr/70780\n",
      "--------------------\n",
      "제목: CA기술 활용, 신선 농산물 수출 전략 한자리에\n",
      "링크: http://www.kfdn.co.kr/70779\n",
      "--------------------\n",
      "제목: 모더나코리아, ‘샷케어(ShotCare)’ 본격 운영\n",
      "링크: http://www.kfdn.co.kr/70777\n",
      "--------------------\n",
      "제목: 대약, '한약사 문제해결 촉구 대정부 투쟁' 선포\n",
      "링크: http://www.kfdn.co.kr/70776\n",
      "--------------------\n",
      "50개 수집!\n",
      "'메디컬투데이' RSS 피드에서 가져온 기사 목록입니다.\n",
      "\n",
      "제목: 정부, PA 간호사 업무 범위 43개로 결정…흉관삽입은 제외\n",
      "링크: https://mdtoday.co.kr/news/view/1065575976097446\n",
      "--------------------\n",
      "제목: 1인 시위 나선 의협 김택우 회장 “성분명 처방 강행은 의약분업 파기 선언”\n",
      "링크: https://mdtoday.co.kr/news/view/1065577714680269\n",
      "--------------------\n",
      "제목: 차바이오텍, 제이준코스메틱 인수 추진\n",
      "링크: https://mdtoday.co.kr/news/view/1065587329927902\n",
      "--------------------\n",
      "제목: 건보공단, 불법 개설 기관 고액 체납자 58명 인적 사항 공개\n",
      "링크: https://mdtoday.co.kr/news/view/1065578973181109\n",
      "--------------------\n",
      "제목: 복지위, 국정감사 증인·참고인 명단 의결...열린의료재단·현대백화점 등\n",
      "링크: https://mdtoday.co.kr/news/view/1065581857831041\n",
      "--------------------\n",
      "제목: 오비맥주, 잇단 법률 리스크 속 '82년생 중국인' 신임 대표 선임\n",
      "링크: https://mdtoday.co.kr/news/view/1065592898925822\n",
      "--------------------\n",
      "제목: 리브스메드, 아침해의료기 특허 분쟁서 최종 승소\n",
      "링크: https://mdtoday.co.kr/news/view/1065593424569110\n",
      "--------------------\n",
      "제목: 관절 통증 치료에 적용하는 자가 혈소판 풍부 혈장 활용 ‘PRP치료’란?\n",
      "링크: https://mdtoday.co.kr/news/view/1065595928710274\n",
      "--------------------\n",
      "제목: '치매 치료 개발사' 바이오텍 아델, 기술성 평가 미달로 상장 무산\n",
      "링크: https://mdtoday.co.kr/news/view/1065586252171663\n",
      "--------------------\n",
      "제목: 뷰티 시술의 새로운 기준, 세계가 주목하다\n",
      "링크: https://mdtoday.co.kr/news/view/1065595098900045\n",
      "--------------------\n",
      "제목: 수면의 질이 떨어진다면 ‘수면다원검사’ 필요\n",
      "링크: https://mdtoday.co.kr/news/view/1065594526758360\n",
      "--------------------\n",
      "제목: 메가커피, 가맹점주에 수수료 전가…22억대 과징금 부과\n",
      "링크: https://mdtoday.co.kr/news/view/1065591188923424\n",
      "--------------------\n",
      "제목: 보령, 사노피와 탁소텔 글로벌 사업 인수 계약 체결\n",
      "링크: https://mdtoday.co.kr/news/view/1065590920251427\n",
      "--------------------\n",
      "제목: 건조한 날씨… ‘고도난시라섹’으로 시력교정 고려하는 사람 늘어\n",
      "링크: https://mdtoday.co.kr/news/view/1065590678141325\n",
      "--------------------\n",
      "제목: 나노엔텍, AI 기반 건강상담 플랫폼 출시\n",
      "링크: https://mdtoday.co.kr/news/view/1065590692311879\n",
      "--------------------\n",
      "제목: K-MEDI hub, 대웅제약 베르시포로신 임상용 의약품 생산 지원\n",
      "링크: https://mdtoday.co.kr/news/view/1065590423603387\n",
      "--------------------\n",
      "제목: 알지노믹스, 연내 코스닥 상장 계획...증권신고서 제출\n",
      "링크: https://mdtoday.co.kr/news/view/1065586891870118\n",
      "--------------------\n",
      "제목: 온코닉테라퓨틱스, 난소암 치료 새 지평 열 임상 돌입\n",
      "링크: https://mdtoday.co.kr/news/view/1065590140949267\n",
      "--------------------\n",
      "제목: 딥슨바이오, MEDITEK Innovation Awards 엑설런트상 수상\n",
      "링크: https://mdtoday.co.kr/news/view/1065589726033192\n",
      "--------------------\n",
      "제목: 셀트리온, 불법파견 소송 최종 '승소'\n",
      "링크: https://mdtoday.co.kr/news/view/1065585728046543\n",
      "--------------------\n",
      "제목: 365mc, 미국 LA점 개원하며 지방흡입 시장 본격 진출\n",
      "링크: https://mdtoday.co.kr/news/view/1065589443827615\n",
      "--------------------\n",
      "제목: 씨티씨바이오,  조창선·김신규 각자 대표 체제 돌입\n",
      "링크: https://mdtoday.co.kr/news/view/1065585488629038\n",
      "--------------------\n",
      "제목: 앱클론, 360억 규모 영구 CB·CPS 발행 결정\n",
      "링크: https://mdtoday.co.kr/news/view/1065588863882822\n",
      "--------------------\n",
      "제목: 근막과 근육 치료, 얼굴 리프팅의 새로운 해법\n",
      "링크: https://mdtoday.co.kr/news/view/1065587541339707\n",
      "--------------------\n",
      "제목: 매복 사랑니 발치, 조기 진단과 신중한 치료가 관건\n",
      "링크: https://mdtoday.co.kr/news/view/1065582534668410\n",
      "--------------------\n",
      "제목: 한국유나이티드제약, 제7회 KUP 몽골 Medical Road-Show 개최\n",
      "링크: https://mdtoday.co.kr/news/view/1065588587049878\n",
      "--------------------\n",
      "제목: 이오스안과, 유럽굴절학회서 초고도근시 투데이라섹 연구결과 공식 채택 발표\n",
      "링크: https://mdtoday.co.kr/news/view/1065582237269104\n",
      "--------------------\n",
      "제목: 파마리서치, 미국 LA 'SONG OF SKIN CAMP' 성료\n",
      "링크: https://mdtoday.co.kr/news/view/1065584845641736\n",
      "--------------------\n",
      "제목: 하이트진로, 필라이트 후레쉬 신규 용량 3종 한정 출시\n",
      "링크: https://mdtoday.co.kr/news/view/1065584517435268\n",
      "--------------------\n",
      "제목: SK매직, 40% 축소한 초소형 직수 정수기 사전예약 돌입\n",
      "링크: https://mdtoday.co.kr/news/view/1065584154789907\n",
      "--------------------\n",
      "제목: 글로벌 코카-콜라 재단, WWF 통해 3개 저수지 준설 지원\n",
      "링크: https://mdtoday.co.kr/news/view/1065583706148159\n",
      "--------------------\n",
      "제목: 바디텍메드, 사우디아라비아 진단키트 26종 SFDA 인증 획득과 8억 입찰 성공\n",
      "링크: https://mdtoday.co.kr/news/view/1065583383999071\n",
      "--------------------\n",
      "제목: 대웅제약, 세마글루타이드 마이크로니들 패치 임상 1상 승인\n",
      "링크: https://mdtoday.co.kr/news/view/1065583175061081\n",
      "--------------------\n",
      "제목: 롯데칠성음료 밀키스, 글로벌서 두 자릿수 성장세 지속\n",
      "링크: https://mdtoday.co.kr/news/view/1065582965830006\n",
      "--------------------\n",
      "제목: 케어젠, 태국 유니파이케미컬과 350억 규모 독점 공급 계약 체결\n",
      "링크: https://mdtoday.co.kr/news/view/1065580601534506\n",
      "--------------------\n",
      "제목: 종근당, 바이엘과 만성 심부전 치료제 '베르쿠보' 국내 독점 판매 계약\n",
      "링크: https://mdtoday.co.kr/news/view/1065580446609220\n",
      "--------------------\n",
      "제목: 현대약품, 고혈압 복합제 '칸데바로정' 출시\n",
      "링크: https://mdtoday.co.kr/news/view/1065576005516154\n",
      "--------------------\n",
      "제목: 중년 눈 성형, 상·하안검·눈밑지방재배치로 환절기 눈가 노화 개선\n",
      "링크: https://mdtoday.co.kr/news/view/1065574112444213\n",
      "--------------------\n",
      "제목: 솔타메디칼코리아, 써마지 500만 시술 달성 기념 드론쇼 개최\n",
      "링크: https://mdtoday.co.kr/news/view/1065574392644824\n",
      "--------------------\n",
      "제목: 고대구로병원 연구팀, 재발성 방광염과 불안 상관관계 규명 우수논문상 수상\n",
      "링크: https://mdtoday.co.kr/news/view/1065575555038797\n",
      "--------------------\n",
      "40개 수집!\n",
      "'한국영농신문 - 푸드&라이프' RSS 피드에서 가져온 기사 목록입니다.\n",
      "\n",
      "제목: 글로우엠', '하이퍼 글로우 샷' 예약 판매 .... HIFU-고주파 이용한 올인원 리프팅 디바이스\n",
      "링크: http://www.youngnong.co.kr/news/articleView.html?idxno=54847\n",
      "--------------------\n",
      "제목: 스위치온, ‘나나’와 손잡고 TVC 공개… 멀티채널 캠페인 전개\n",
      "링크: http://www.youngnong.co.kr/news/articleView.html?idxno=54606\n",
      "--------------------\n",
      "제목: 농촌에서 일하며, 쉰다… ‘일과 휴식의 조화’ 농촌 워케이션\n",
      "링크: http://www.youngnong.co.kr/news/articleView.html?idxno=54317\n",
      "--------------------\n",
      "제목: 에듀피디, 농촌지도사·농업연구사 대비 ‘작물생리학’ 기본서 교재 개정 2판 출간\n",
      "링크: http://www.youngnong.co.kr/news/articleView.html?idxno=54135\n",
      "--------------------\n",
      "제목: 매월 둘째 주엔, '농촌관광' 간다\n",
      "링크: http://www.youngnong.co.kr/news/articleView.html?idxno=53856\n",
      "--------------------\n",
      "제목: 제일 잘 나가는 '스타' 농촌마을은 어디?\n",
      "링크: http://www.youngnong.co.kr/news/articleView.html?idxno=53705\n",
      "--------------------\n",
      "제목: 한국 농촌의 온기, 세계 무대에 오르다\n",
      "링크: http://www.youngnong.co.kr/news/articleView.html?idxno=53729\n",
      "--------------------\n",
      "제목: '쉐이크베이비’ 역대급 할인전 진행... 할인광 단독 특가 행사 열어\n",
      "링크: http://www.youngnong.co.kr/news/articleView.html?idxno=53674\n",
      "--------------------\n",
      "제목: 보람 한 스푼, 힐링 두 스푼... 농촌일손여행으로 떠나볼까\n",
      "링크: http://www.youngnong.co.kr/news/articleView.html?idxno=53530\n",
      "--------------------\n",
      "제목: 모두의 취향을 담은, \"지금은 농촌여행 시대\"\n",
      "링크: http://www.youngnong.co.kr/news/articleView.html?idxno=53169\n",
      "--------------------\n",
      "제목: 나리여성병원, 개원 28주년 기념행사 개최… ‘나리영상제’ 시상식 열려\n",
      "링크: http://www.youngnong.co.kr/news/articleView.html?idxno=53106\n",
      "--------------------\n",
      "제목: 농촌관광 활성화 해법을 찾아라\n",
      "링크: http://www.youngnong.co.kr/news/articleView.html?idxno=52825\n",
      "--------------------\n",
      "제목: 색다른 여행 즐기고 싶으면, 농촌체험 어때?\n",
      "링크: http://www.youngnong.co.kr/news/articleView.html?idxno=52394\n",
      "--------------------\n",
      "제목: 5월, 농촌여행 가기 딱 좋은 달이네\n",
      "링크: http://www.youngnong.co.kr/news/articleView.html?idxno=52003\n",
      "--------------------\n",
      "제목: 동원 김재철 명예회장, 에세이 '인생의 파도를 넘는 법' 출간\n",
      "링크: http://www.youngnong.co.kr/news/articleView.html?idxno=51756\n",
      "--------------------\n",
      "제목: 치유농업, 정신의료기관 실증으로 효과 입증\n",
      "링크: http://www.youngnong.co.kr/news/articleView.html?idxno=51741\n",
      "--------------------\n",
      "제목: 애그유니 권미진 대표, APEC 정상회의 워크숍 한국 대표 참여\n",
      "링크: http://www.youngnong.co.kr/news/articleView.html?idxno=51590\n",
      "--------------------\n",
      "제목: 국산 자생식물 활용 한약재로 농가와 상생\n",
      "링크: http://www.youngnong.co.kr/news/articleView.html?idxno=50911\n",
      "--------------------\n",
      "제목: 노는법, 농어촌공사와 3월 '여행가는달' 단독 프로모션 실시\n",
      "링크: http://www.youngnong.co.kr/news/articleView.html?idxno=50787\n",
      "--------------------\n",
      "제목: 샤넬, 샤인 피니쉬 립밤 ‘루쥬 코코 밤 샤인’ 선보여\n",
      "링크: http://www.youngnong.co.kr/news/articleView.html?idxno=50022\n",
      "--------------------\n",
      "20개 수집!\n",
      "'회수판매중지' RSS 피드에서 가져온 기사 목록입니다.\n",
      "\n",
      "제목: 주식회사 물맑은고기팜푸드시스템\n",
      "링크: /portal/suspensionDetail.do?search_keyword=3000213663\n",
      "--------------------\n",
      "제목: 주식회사 성원에프앤디\n",
      "링크: /portal/suspensionDetail.do?search_keyword=3000213600\n",
      "--------------------\n",
      "제목: 주식회사 성원에프앤디\n",
      "링크: /portal/suspensionDetail.do?search_keyword=3000213545\n",
      "--------------------\n",
      "제목: 주식회사 성원에프앤디\n",
      "링크: /portal/suspensionDetail.do?search_keyword=3000213515\n",
      "--------------------\n",
      "제목: 티앤에스트레이딩\n",
      "링크: /portal/suspensionDetail.do?search_keyword=3000213807\n",
      "--------------------\n",
      "제목: 주식회사 한소반\n",
      "링크: /portal/suspensionDetail.do?search_keyword=3000213737\n",
      "--------------------\n",
      "제목: (주)디에이치푸드농업회사법인\n",
      "링크: /portal/suspensionDetail.do?search_keyword=3000213569\n",
      "--------------------\n",
      "제목: (주)디에이치푸드농업회사법인\n",
      "링크: /portal/suspensionDetail.do?search_keyword=3000213568\n",
      "--------------------\n",
      "제목: (주)디에이치푸드농업회사법인\n",
      "링크: /portal/suspensionDetail.do?search_keyword=3000213559\n",
      "--------------------\n",
      "제목: (주)우농\n",
      "링크: /portal/suspensionDetail.do?search_keyword=3000213435\n",
      "--------------------\n",
      "제목: 주식회사 네추럴웨이\n",
      "링크: /portal/suspensionDetail.do?search_keyword=3000213388\n",
      "--------------------\n",
      "제목: 성원\n",
      "링크: /portal/suspensionDetail.do?search_keyword=3000213368\n",
      "--------------------\n",
      "제목: 주식회사 소셜빈\n",
      "링크: /portal/suspensionDetail.do?search_keyword=3000212895\n",
      "--------------------\n",
      "제목: 주식회사 내담에프앤비(NAEDAM F&B)\n",
      "링크: /portal/suspensionDetail.do?search_keyword=3000212863\n",
      "--------------------\n",
      "제목: 주식회사 양주도가 농업회사법인\n",
      "링크: /portal/suspensionDetail.do?search_keyword=3000212839\n",
      "--------------------\n",
      "제목: (주)통라이프\n",
      "링크: /portal/suspensionDetail.do?search_keyword=3000212523\n",
      "--------------------\n",
      "제목: 새싹원식품\n",
      "링크: /portal/suspensionDetail.do?search_keyword=3000212452\n",
      "--------------------\n",
      "제목: 완주로컬푸드과실생산자협동조합\n",
      "링크: /portal/suspensionDetail.do?search_keyword=3000212408\n",
      "--------------------\n",
      "제목: 굼벵이브라더스\n",
      "링크: /portal/suspensionDetail.do?search_keyword=3000212131\n",
      "--------------------\n",
      "제목: 비타민뱅크(주)\n",
      "링크: /portal/suspensionDetail.do?search_keyword=3000212327\n",
      "--------------------\n",
      "20개 수집!\n",
      "'행정처분' RSS 피드에서 가져온 기사 목록입니다.\n",
      "\n",
      "제목: 베트남산 수입식품(건파파야, 건망고)을 수입신고하면서 해외제조업소를 사실과 다르게 수입신고한 사실이 있음\n",
      "링크: /portal/administMeasureDetail.do?seq=4687715\n",
      "--------------------\n",
      "제목: 해외식품을 구매대행할 목적으로 인터넷 판매 사이트에 관련 광고글을 게시하면서, 건강기능식품이 아닌 것을 건강기능식품으로 인식할 우려가 있는 표시 또는 광고를 한 사실이 있음\n",
      "링크: /portal/administMeasureDetail.do?seq=4687195\n",
      "--------------------\n",
      "제목: 태국산 수입식품(달콤한옥수수)을 수입신고하면서 해외제조업소를 사실과 다르게 수입신고한 사실이 있음\n",
      "링크: /portal/administMeasureDetail.do?seq=4687716\n",
      "--------------------\n",
      "제목: 수입한 중국산 위생용품[제품명: 사각면봉, 유형: 성인용 면봉, 제조일자: 2024. 5. 20.]에 대하여 수거·검사한 결과 세균수 항목이 부적합 판정된 사실이 있음.\n",
      "링크: /portal/administMeasureDetail.do?seq=4686947\n",
      "--------------------\n",
      "제목: 네팔산 수입식품 '군드르크(GUNDRUK)'를 수입하면서 해당 식품의 원재료를 사실과 다르게 수입신고하였음.\n",
      "링크: /portal/administMeasureDetail.do?seq=4685467\n",
      "--------------------\n",
      "제목: 스페인산 수입식품(제품명: 야생 올리브오일 도미너스 아쎄부체 냉추출 엑스트라 버진 올리브유 250m[원산지: 스페인])을 수입신고를 하지 아니하고 인터넷 쇼핑몰에 판매한 사실이 있음.\n",
      "링크: /portal/administMeasureDetail.do?seq=4686945\n",
      "--------------------\n",
      "제목: 프랑스산‘해초 소금(SEL DE GUERANDE AUX ALGUES)’ 제품을 수거․검사한 결과 ‘중금속(비소)’ 허용 기준 초과로 부적합 판정된 사실이 있음.\n",
      "링크: /portal/administMeasureDetail.do?seq=4686946\n",
      "--------------------\n",
      "제목: 폴란드산 수입식품 14종[①멜라 초코코팅 오렌지 젤리, ②멜라 초코코팅 체리 젤리③멜라 초코코팅 레몬 젤리, ④멜라 초코코팅 블랙커런트 젤리, ⑤캔디드 플럼 인 코코아크림 커버초코, ⑥밀크 크림 퍼지, ⑦제지키 카페, ⑧제지키 클래식, ⑨다크 초코, ⑩밀크초콜릿, ⑪미스터 론, ⑫토피노 초코, ⑬밀크 초코 코티드 헤이즐넛, ⑭그르제스키 티씨]을 수입신고하면서 해외제조업소 소재지를 사실과 다르게 수입신고한 사실이 있음.\n",
      "링크: /portal/administMeasureDetail.do?seq=4687007\n",
      "--------------------\n",
      "제목: 건강기능식품 “멀티비타민 올인원(소비기한: 2027. 2. 10.)”의 수거· 검사 결과 기능성분(요오드)의 함량이 기준치에 대하여 10퍼센트 초과로 넘는 경우로 부적합 판정된 사실이 있음\n",
      "링크: /portal/administMeasureDetail.do?seq=4687139\n",
      "--------------------\n",
      "제목: 중국산 ‘신선당근’ 제품을 수거․검사한 결과 ‘잔류농약(클로티아니딘)’ 허용 기준 초과로 부적합 판정된 사실이 있음.\n",
      "링크: /portal/administMeasureDetail.do?seq=4686542\n",
      "--------------------\n",
      "제목: 중국산 수입 식품(제품명: 줄줄이 비스킷 초코맛)을 수입신고하면서 알레르기를 유발할 수 있는 원재료가 포함되어 있음에도 그 원재료명을 표시하지 않고 수입하여 판매한 사실이 있음.\n",
      "링크: /portal/administMeasureDetail.do?seq=4686541\n",
      "--------------------\n",
      "제목: ○ 식품 첨가물 사용기준 위반\n",
      " - 상기업체에서 제조(‘25. 5. 20.)한 식품(제품명:비틀16, 식품유형:약주, 품목제조번호:202100160212)을 우리 청에서 수거(‘25. 7. 18)하여 검사한 결과, 약주에서는 검출되서는 안되는 허용외 식품첨가물인 사카린나트륨이 0.149g/kg 검출되어 식품첨가물의 사용기준을 위반한 사실이 있음\n",
      "링크: /portal/administMeasureDetail.do?seq=4684099\n",
      "--------------------\n",
      "제목: 수입하여 유통중인 중국산 '신선당근'에 대한 유통농산물 수거.검사 결과 잔류농약 허용기준 부적함으로 판정됨.\n",
      "링크: /portal/administMeasureDetail.do?seq=4685468\n",
      "--------------------\n",
      "제목: 상기 영업자는 해당 영업소 소재지의 관련 영업시설을 전부 철거하고, 변경등록을 하지 않은 사실이 있음\n",
      "링크: /portal/administMeasureDetail.do?seq=4683028\n",
      "--------------------\n",
      "제목: 상기 영업자는 해당 영업소 소재지의 관련 영업시설을 전부 철거하고, 변경등록을 하지 않은 사실이 있음\n",
      "링크: /portal/administMeasureDetail.do?seq=4683029\n",
      "--------------------\n",
      "제목: 중국산 수입식품[❶빅호두대추 월넛데이트(‘25. 1. 6. 제조), ❷미니호두대추 월넛데이트(‘25. 3. 20. 제조)]을 수입신고를 하지 아니하고 판매한 사실이 있음.\n",
      "링크: /portal/administMeasureDetail.do?seq=4685950\n",
      "--------------------\n",
      "제목: ○ 거짓이나 그 밖의 부정한 방법으로 수입신고\n",
      "- 상기 업체는 2024. 7. 11.부터 2024. 12. 26.까지 “유기농 레몬주스 NFC(ORGANIC LEMON JUICE NFC)[유형: 과.채주스]”제품을 총 8건 수입하면서 해외제조업소의 제조업소명 및 소재지를 사실과 다르게 수입신고한 사실이 있음\n",
      "링크: /portal/administMeasureDetail.do?seq=4683319\n",
      "--------------------\n",
      "제목: 상기업체는 수입신고된 수입식품등에 대하여 관계공무원의 검사를 방해한 사실이 있음.\n",
      "링크: /portal/administMeasureDetail.do?seq=4683809\n",
      "--------------------\n",
      "제목: 식품 또는 식품첨가물은 그 기준에 따라 제조·수입·가공·사용·조리·보존하여야 하며, 그 기준과 규격에 맞지 아니하는 식품 또는 식품첨가물은 판매하거나 판매할 목적으로 제조·수입·가공·사용·조리·저장·소분·운반·보존 또는 진열하여서는 아니 되나,\n",
      "    - 상기 당사자는 기준과 규격이 맞지 않는 농산물을 수입·판매한 경우로서, 유통 수거·검사 결과 상기 당사자가 수입·판매한 농산물(제품명: 포멜로)이「식품의 기준 및 규격」의 잔류농약 허용기준을 위반하여 부적합 판정된 사실이 있음\n",
      "링크: /portal/administMeasureDetail.do?seq=4685805\n",
      "--------------------\n",
      "제목: ○ 거짓이나 그 밖의 부정한 방법으로 수입신고\n",
      " - 상기 업체는 2024. 8. 9.부터 2025. 6. 2.까지 “꼬꼬마 파인애플 푸레(KOKOMA PINEAPPLE PHU LAE)[유형: 신선편의식품]”제품을 총 23건 수입하면서 해외제조업소의 제조업소명 및 소재지를 사실과 다르게 수입신고한 사실이 있음\n",
      "링크: /portal/administMeasureDetail.do?seq=4683320\n",
      "--------------------\n",
      "20개 수집!\n"
     ]
    }
   ],
   "source": [
    "with open('config.json', 'r', encoding='utf-8') as f:\n",
    "    json_data = json.load(f)\n",
    "\n",
    "all_articles = {}\n",
    "for rss_source in json_data['rss_sources']:\n",
    "    name = rss_source['name']\n",
    "    rss_url = rss_source['url']\n",
    "\n",
    "    # 1. 일반 브라우저인 것처럼 위장할 User-Agent 헤더를 만듭니다.\n",
    "    #    '명찰'을 달아주는 것과 같습니다.\n",
    "    headers = {\n",
    "        'User-Agent': 'Mozilla/5.0 (Windows NT 10.0; Win64; x64) AppleWebKit/537.36 (KHTML, like Gecko) Chrome/91.0.4472.124 Safari/537.36'\n",
    "    }\n",
    "\n",
    "    # 2. 헤더를 포함하여 요청 객체를 생성합니다.\n",
    "    req = urllib.request.Request(rss_url, headers=headers)\n",
    "\n",
    "    # 3. 이 요청으로 URL을 열고, 그 결과를 feedparser로 파싱합니다.\n",
    "    try:\n",
    "        with urllib.request.urlopen(req) as response:\n",
    "            feed = feedparser.parse(response)\n",
    "\n",
    "            # 정상적으로 파싱되었는지 확인\n",
    "            if feed.bozo:\n",
    "                print(\"RSS 피드 파싱에 실패했습니다.\")\n",
    "                # 어떤 에러인지 구체적으로 확인\n",
    "                print(f\"에러 원인: {feed.bozo_exception}\")\n",
    "            else:\n",
    "                print(f\"'{feed.feed.title}' RSS 피드에서 가져온 기사 목록입니다.\\n\")\n",
    "                for entry in feed.entries:\n",
    "                    print(f\"제목: {entry.title}\")\n",
    "                    # print(f\"카테고리: {entry.section_k} | {entry.section2}\")\n",
    "                    print(f\"링크: {entry.link}\")\n",
    "                    print(\"-\" * 20)\n",
    "\n",
    "    except Exception as e:\n",
    "        print(f\"URL을 여는 중 에러가 발생했습니다: {e}\")\n",
    "\n",
    "    print(f'{len(feed.entries)}개 수집!')\n",
    "    all_articles[name] = feed.entries\n",
    "    "
   ]
  },
  {
   "cell_type": "code",
   "execution_count": 45,
   "id": "f944ea2e",
   "metadata": {},
   "outputs": [
    {
     "data": {
      "text/plain": [
       "[{'title': '주식회사 물맑은고기팜푸드시스템',\n",
       "  'title_detail': {'type': 'text/plain',\n",
       "   'language': None,\n",
       "   'base': '',\n",
       "   'value': '주식회사 물맑은고기팜푸드시스템'},\n",
       "  'links': [{'rel': 'alternate',\n",
       "    'type': 'text/html',\n",
       "    'href': '/portal/suspensionDetail.do?search_keyword=3000213663'}],\n",
       "  'link': '/portal/suspensionDetail.do?search_keyword=3000213663',\n",
       "  'summary': '한우먹는날 한우 뼈없는 갈비탕',\n",
       "  'summary_detail': {'type': 'text/html',\n",
       "   'language': None,\n",
       "   'base': '',\n",
       "   'value': '한우먹는날 한우 뼈없는 갈비탕'},\n",
       "  'published': 'Fri Sep 26 00:00:00 KST 2025',\n",
       "  'published_parsed': time.struct_time(tm_year=2025, tm_mon=9, tm_mday=26, tm_hour=0, tm_min=0, tm_sec=0, tm_wday=4, tm_yday=269, tm_isdst=0)},\n",
       " {'title': '주식회사 성원에프앤디',\n",
       "  'title_detail': {'type': 'text/plain',\n",
       "   'language': None,\n",
       "   'base': '',\n",
       "   'value': '주식회사 성원에프앤디'},\n",
       "  'links': [{'rel': 'alternate',\n",
       "    'type': 'text/html',\n",
       "    'href': '/portal/suspensionDetail.do?search_keyword=3000213600'}],\n",
       "  'link': '/portal/suspensionDetail.do?search_keyword=3000213600',\n",
       "  'summary': '강성원우유',\n",
       "  'summary_detail': {'type': 'text/html',\n",
       "   'language': None,\n",
       "   'base': '',\n",
       "   'value': '강성원우유'},\n",
       "  'published': 'Thu Sep 25 00:00:00 KST 2025',\n",
       "  'published_parsed': time.struct_time(tm_year=2025, tm_mon=9, tm_mday=25, tm_hour=0, tm_min=0, tm_sec=0, tm_wday=3, tm_yday=268, tm_isdst=0)},\n",
       " {'title': '주식회사 성원에프앤디',\n",
       "  'title_detail': {'type': 'text/plain',\n",
       "   'language': None,\n",
       "   'base': '',\n",
       "   'value': '주식회사 성원에프앤디'},\n",
       "  'links': [{'rel': 'alternate',\n",
       "    'type': 'text/html',\n",
       "    'href': '/portal/suspensionDetail.do?search_keyword=3000213545'}],\n",
       "  'link': '/portal/suspensionDetail.do?search_keyword=3000213545',\n",
       "  'summary': '강성원우유',\n",
       "  'summary_detail': {'type': 'text/html',\n",
       "   'language': None,\n",
       "   'base': '',\n",
       "   'value': '강성원우유'},\n",
       "  'published': 'Wed Sep 24 00:00:00 KST 2025',\n",
       "  'published_parsed': time.struct_time(tm_year=2025, tm_mon=9, tm_mday=24, tm_hour=0, tm_min=0, tm_sec=0, tm_wday=2, tm_yday=267, tm_isdst=0)},\n",
       " {'title': '주식회사 성원에프앤디',\n",
       "  'title_detail': {'type': 'text/plain',\n",
       "   'language': None,\n",
       "   'base': '',\n",
       "   'value': '주식회사 성원에프앤디'},\n",
       "  'links': [{'rel': 'alternate',\n",
       "    'type': 'text/html',\n",
       "    'href': '/portal/suspensionDetail.do?search_keyword=3000213515'}],\n",
       "  'link': '/portal/suspensionDetail.do?search_keyword=3000213515',\n",
       "  'summary': '강성원우유플레인요구르트저지방',\n",
       "  'summary_detail': {'type': 'text/html',\n",
       "   'language': None,\n",
       "   'base': '',\n",
       "   'value': '강성원우유플레인요구르트저지방'},\n",
       "  'published': 'Wed Sep 24 00:00:00 KST 2025',\n",
       "  'published_parsed': time.struct_time(tm_year=2025, tm_mon=9, tm_mday=24, tm_hour=0, tm_min=0, tm_sec=0, tm_wday=2, tm_yday=267, tm_isdst=0)},\n",
       " {'title': '티앤에스트레이딩',\n",
       "  'title_detail': {'type': 'text/plain',\n",
       "   'language': None,\n",
       "   'base': '',\n",
       "   'value': '티앤에스트레이딩'},\n",
       "  'links': [{'rel': 'alternate',\n",
       "    'type': 'text/html',\n",
       "    'href': '/portal/suspensionDetail.do?search_keyword=3000213807'}],\n",
       "  'link': '/portal/suspensionDetail.do?search_keyword=3000213807',\n",
       "  'summary': '냉동틸라피아(F.포장횟감용)',\n",
       "  'summary_detail': {'type': 'text/html',\n",
       "   'language': None,\n",
       "   'base': '',\n",
       "   'value': '냉동틸라피아(F.포장횟감용)'},\n",
       "  'published': 'Mon Sep 29 00:00:00 KST 2025',\n",
       "  'published_parsed': time.struct_time(tm_year=2025, tm_mon=9, tm_mday=29, tm_hour=0, tm_min=0, tm_sec=0, tm_wday=0, tm_yday=272, tm_isdst=0)},\n",
       " {'title': '주식회사 한소반',\n",
       "  'title_detail': {'type': 'text/plain',\n",
       "   'language': None,\n",
       "   'base': '',\n",
       "   'value': '주식회사 한소반'},\n",
       "  'links': [{'rel': 'alternate',\n",
       "    'type': 'text/html',\n",
       "    'href': '/portal/suspensionDetail.do?search_keyword=3000213737'}],\n",
       "  'link': '/portal/suspensionDetail.do?search_keyword=3000213737',\n",
       "  'summary': '한우잡뼈골드육수',\n",
       "  'summary_detail': {'type': 'text/html',\n",
       "   'language': None,\n",
       "   'base': '',\n",
       "   'value': '한우잡뼈골드육수'},\n",
       "  'published': 'Mon Sep 29 00:00:00 KST 2025',\n",
       "  'published_parsed': time.struct_time(tm_year=2025, tm_mon=9, tm_mday=29, tm_hour=0, tm_min=0, tm_sec=0, tm_wday=0, tm_yday=272, tm_isdst=0)},\n",
       " {'title': '(주)디에이치푸드농업회사법인',\n",
       "  'title_detail': {'type': 'text/plain',\n",
       "   'language': None,\n",
       "   'base': '',\n",
       "   'value': '(주)디에이치푸드농업회사법인'},\n",
       "  'links': [{'rel': 'alternate',\n",
       "    'type': 'text/html',\n",
       "    'href': '/portal/suspensionDetail.do?search_keyword=3000213569'}],\n",
       "  'link': '/portal/suspensionDetail.do?search_keyword=3000213569',\n",
       "  'summary': '옥수수 쫀드기',\n",
       "  'summary_detail': {'type': 'text/html',\n",
       "   'language': None,\n",
       "   'base': '',\n",
       "   'value': '옥수수 쫀드기'},\n",
       "  'published': 'Thu Sep 25 00:00:00 KST 2025',\n",
       "  'published_parsed': time.struct_time(tm_year=2025, tm_mon=9, tm_mday=25, tm_hour=0, tm_min=0, tm_sec=0, tm_wday=3, tm_yday=268, tm_isdst=0)},\n",
       " {'title': '(주)디에이치푸드농업회사법인',\n",
       "  'title_detail': {'type': 'text/plain',\n",
       "   'language': None,\n",
       "   'base': '',\n",
       "   'value': '(주)디에이치푸드농업회사법인'},\n",
       "  'links': [{'rel': 'alternate',\n",
       "    'type': 'text/html',\n",
       "    'href': '/portal/suspensionDetail.do?search_keyword=3000213568'}],\n",
       "  'link': '/portal/suspensionDetail.do?search_keyword=3000213568',\n",
       "  'summary': '호박 쫀드기',\n",
       "  'summary_detail': {'type': 'text/html',\n",
       "   'language': None,\n",
       "   'base': '',\n",
       "   'value': '호박 쫀드기'},\n",
       "  'published': 'Thu Sep 25 00:00:00 KST 2025',\n",
       "  'published_parsed': time.struct_time(tm_year=2025, tm_mon=9, tm_mday=25, tm_hour=0, tm_min=0, tm_sec=0, tm_wday=3, tm_yday=268, tm_isdst=0)},\n",
       " {'title': '(주)디에이치푸드농업회사법인',\n",
       "  'title_detail': {'type': 'text/plain',\n",
       "   'language': None,\n",
       "   'base': '',\n",
       "   'value': '(주)디에이치푸드농업회사법인'},\n",
       "  'links': [{'rel': 'alternate',\n",
       "    'type': 'text/html',\n",
       "    'href': '/portal/suspensionDetail.do?search_keyword=3000213559'}],\n",
       "  'link': '/portal/suspensionDetail.do?search_keyword=3000213559',\n",
       "  'summary': '호박 쫀드기',\n",
       "  'summary_detail': {'type': 'text/html',\n",
       "   'language': None,\n",
       "   'base': '',\n",
       "   'value': '호박 쫀드기'},\n",
       "  'published': 'Thu Sep 25 00:00:00 KST 2025',\n",
       "  'published_parsed': time.struct_time(tm_year=2025, tm_mon=9, tm_mday=25, tm_hour=0, tm_min=0, tm_sec=0, tm_wday=3, tm_yday=268, tm_isdst=0)},\n",
       " {'title': '(주)우농',\n",
       "  'title_detail': {'type': 'text/plain',\n",
       "   'language': None,\n",
       "   'base': '',\n",
       "   'value': '(주)우농'},\n",
       "  'links': [{'rel': 'alternate',\n",
       "    'type': 'text/html',\n",
       "    'href': '/portal/suspensionDetail.do?search_keyword=3000213435'}],\n",
       "  'link': '/portal/suspensionDetail.do?search_keyword=3000213435',\n",
       "  'summary': '볶음땅콩',\n",
       "  'summary_detail': {'type': 'text/html',\n",
       "   'language': None,\n",
       "   'base': '',\n",
       "   'value': '볶음땅콩'},\n",
       "  'published': 'Tue Sep 23 00:00:00 KST 2025',\n",
       "  'published_parsed': time.struct_time(tm_year=2025, tm_mon=9, tm_mday=23, tm_hour=0, tm_min=0, tm_sec=0, tm_wday=1, tm_yday=266, tm_isdst=0)},\n",
       " {'title': '주식회사 네추럴웨이',\n",
       "  'title_detail': {'type': 'text/plain',\n",
       "   'language': None,\n",
       "   'base': '',\n",
       "   'value': '주식회사 네추럴웨이'},\n",
       "  'links': [{'rel': 'alternate',\n",
       "    'type': 'text/html',\n",
       "    'href': '/portal/suspensionDetail.do?search_keyword=3000213388'}],\n",
       "  'link': '/portal/suspensionDetail.do?search_keyword=3000213388',\n",
       "  'summary': '가르시니아',\n",
       "  'summary_detail': {'type': 'text/html',\n",
       "   'language': None,\n",
       "   'base': '',\n",
       "   'value': '가르시니아'},\n",
       "  'published': 'Mon Sep 22 00:00:00 KST 2025',\n",
       "  'published_parsed': time.struct_time(tm_year=2025, tm_mon=9, tm_mday=22, tm_hour=0, tm_min=0, tm_sec=0, tm_wday=0, tm_yday=265, tm_isdst=0)},\n",
       " {'title': '성원',\n",
       "  'title_detail': {'type': 'text/plain',\n",
       "   'language': None,\n",
       "   'base': '',\n",
       "   'value': '성원'},\n",
       "  'links': [{'rel': 'alternate',\n",
       "    'type': 'text/html',\n",
       "    'href': '/portal/suspensionDetail.do?search_keyword=3000213368'}],\n",
       "  'link': '/portal/suspensionDetail.do?search_keyword=3000213368',\n",
       "  'summary': '오주원 가마솥 손두부',\n",
       "  'summary_detail': {'type': 'text/html',\n",
       "   'language': None,\n",
       "   'base': '',\n",
       "   'value': '오주원 가마솥 손두부'},\n",
       "  'published': 'Mon Sep 22 00:00:00 KST 2025',\n",
       "  'published_parsed': time.struct_time(tm_year=2025, tm_mon=9, tm_mday=22, tm_hour=0, tm_min=0, tm_sec=0, tm_wday=0, tm_yday=265, tm_isdst=0)},\n",
       " {'title': '주식회사 소셜빈',\n",
       "  'title_detail': {'type': 'text/plain',\n",
       "   'language': None,\n",
       "   'base': '',\n",
       "   'value': '주식회사 소셜빈'},\n",
       "  'links': [{'rel': 'alternate',\n",
       "    'type': 'text/html',\n",
       "    'href': '/portal/suspensionDetail.do?search_keyword=3000212895'}],\n",
       "  'link': '/portal/suspensionDetail.do?search_keyword=3000212895',\n",
       "  'summary': '퍼기통3중 스텐 이유식냄비',\n",
       "  'summary_detail': {'type': 'text/html',\n",
       "   'language': None,\n",
       "   'base': '',\n",
       "   'value': '퍼기통3중 스텐 이유식냄비'},\n",
       "  'published': 'Tue Sep 16 00:00:00 KST 2025',\n",
       "  'published_parsed': time.struct_time(tm_year=2025, tm_mon=9, tm_mday=16, tm_hour=0, tm_min=0, tm_sec=0, tm_wday=1, tm_yday=259, tm_isdst=0)},\n",
       " {'title': '주식회사 내담에프앤비(NAEDAM F&B)',\n",
       "  'title_detail': {'type': 'text/plain',\n",
       "   'language': None,\n",
       "   'base': '',\n",
       "   'value': '주식회사 내담에프앤비(NAEDAM F&B)'},\n",
       "  'links': [{'rel': 'alternate',\n",
       "    'type': 'text/html',\n",
       "    'href': '/portal/suspensionDetail.do?search_keyword=3000212863'}],\n",
       "  'link': '/portal/suspensionDetail.do?search_keyword=3000212863',\n",
       "  'summary': '한우듬뿍시금치아기밥',\n",
       "  'summary_detail': {'type': 'text/html',\n",
       "   'language': None,\n",
       "   'base': '',\n",
       "   'value': '한우듬뿍시금치아기밥'},\n",
       "  'published': 'Mon Sep 15 00:00:00 KST 2025',\n",
       "  'published_parsed': time.struct_time(tm_year=2025, tm_mon=9, tm_mday=15, tm_hour=0, tm_min=0, tm_sec=0, tm_wday=0, tm_yday=258, tm_isdst=0)},\n",
       " {'title': '주식회사 양주도가 농업회사법인',\n",
       "  'title_detail': {'type': 'text/plain',\n",
       "   'language': None,\n",
       "   'base': '',\n",
       "   'value': '주식회사 양주도가 농업회사법인'},\n",
       "  'links': [{'rel': 'alternate',\n",
       "    'type': 'text/html',\n",
       "    'href': '/portal/suspensionDetail.do?search_keyword=3000212839'}],\n",
       "  'link': '/portal/suspensionDetail.do?search_keyword=3000212839',\n",
       "  'summary': '복숭아막끌림',\n",
       "  'summary_detail': {'type': 'text/html',\n",
       "   'language': None,\n",
       "   'base': '',\n",
       "   'value': '복숭아막끌림'},\n",
       "  'published': 'Mon Sep 15 00:00:00 KST 2025',\n",
       "  'published_parsed': time.struct_time(tm_year=2025, tm_mon=9, tm_mday=15, tm_hour=0, tm_min=0, tm_sec=0, tm_wday=0, tm_yday=258, tm_isdst=0)},\n",
       " {'title': '(주)통라이프',\n",
       "  'title_detail': {'type': 'text/plain',\n",
       "   'language': None,\n",
       "   'base': '',\n",
       "   'value': '(주)통라이프'},\n",
       "  'links': [{'rel': 'alternate',\n",
       "    'type': 'text/html',\n",
       "    'href': '/portal/suspensionDetail.do?search_keyword=3000212523'}],\n",
       "  'link': '/portal/suspensionDetail.do?search_keyword=3000212523',\n",
       "  'summary': '루테인 밸런스',\n",
       "  'summary_detail': {'type': 'text/html',\n",
       "   'language': None,\n",
       "   'base': '',\n",
       "   'value': '루테인 밸런스'},\n",
       "  'published': 'Tue Sep 09 00:00:00 KST 2025',\n",
       "  'published_parsed': time.struct_time(tm_year=2025, tm_mon=9, tm_mday=9, tm_hour=0, tm_min=0, tm_sec=0, tm_wday=1, tm_yday=252, tm_isdst=0)},\n",
       " {'title': '새싹원식품',\n",
       "  'title_detail': {'type': 'text/plain',\n",
       "   'language': None,\n",
       "   'base': '',\n",
       "   'value': '새싹원식품'},\n",
       "  'links': [{'rel': 'alternate',\n",
       "    'type': 'text/html',\n",
       "    'href': '/portal/suspensionDetail.do?search_keyword=3000212452'}],\n",
       "  'link': '/portal/suspensionDetail.do?search_keyword=3000212452',\n",
       "  'summary': '미스타교자 고기만두소',\n",
       "  'summary_detail': {'type': 'text/html',\n",
       "   'language': None,\n",
       "   'base': '',\n",
       "   'value': '미스타교자 고기만두소'},\n",
       "  'published': 'Mon Sep 08 00:00:00 KST 2025',\n",
       "  'published_parsed': time.struct_time(tm_year=2025, tm_mon=9, tm_mday=8, tm_hour=0, tm_min=0, tm_sec=0, tm_wday=0, tm_yday=251, tm_isdst=0)},\n",
       " {'title': '완주로컬푸드과실생산자협동조합',\n",
       "  'title_detail': {'type': 'text/plain',\n",
       "   'language': None,\n",
       "   'base': '',\n",
       "   'value': '완주로컬푸드과실생산자협동조합'},\n",
       "  'links': [{'rel': 'alternate',\n",
       "    'type': 'text/html',\n",
       "    'href': '/portal/suspensionDetail.do?search_keyword=3000212408'}],\n",
       "  'link': '/portal/suspensionDetail.do?search_keyword=3000212408',\n",
       "  'summary': '자연에퐁당빠져든딸기소르베',\n",
       "  'summary_detail': {'type': 'text/html',\n",
       "   'language': None,\n",
       "   'base': '',\n",
       "   'value': '자연에퐁당빠져든딸기소르베'},\n",
       "  'published': 'Fri Sep 05 00:00:00 KST 2025',\n",
       "  'published_parsed': time.struct_time(tm_year=2025, tm_mon=9, tm_mday=5, tm_hour=0, tm_min=0, tm_sec=0, tm_wday=4, tm_yday=248, tm_isdst=0)},\n",
       " {'title': '굼벵이브라더스',\n",
       "  'title_detail': {'type': 'text/plain',\n",
       "   'language': None,\n",
       "   'base': '',\n",
       "   'value': '굼벵이브라더스'},\n",
       "  'links': [{'rel': 'alternate',\n",
       "    'type': 'text/html',\n",
       "    'href': '/portal/suspensionDetail.do?search_keyword=3000212131'}],\n",
       "  'link': '/portal/suspensionDetail.do?search_keyword=3000212131',\n",
       "  'summary': '굼벵이브라더스',\n",
       "  'summary_detail': {'type': 'text/html',\n",
       "   'language': None,\n",
       "   'base': '',\n",
       "   'value': '굼벵이브라더스'},\n",
       "  'published': 'Tue Sep 02 00:00:00 KST 2025',\n",
       "  'published_parsed': time.struct_time(tm_year=2025, tm_mon=9, tm_mday=2, tm_hour=0, tm_min=0, tm_sec=0, tm_wday=1, tm_yday=245, tm_isdst=0)},\n",
       " {'title': '비타민뱅크(주)',\n",
       "  'title_detail': {'type': 'text/plain',\n",
       "   'language': None,\n",
       "   'base': '',\n",
       "   'value': '비타민뱅크(주)'},\n",
       "  'links': [{'rel': 'alternate',\n",
       "    'type': 'text/html',\n",
       "    'href': '/portal/suspensionDetail.do?search_keyword=3000212327'}],\n",
       "  'link': '/portal/suspensionDetail.do?search_keyword=3000212327',\n",
       "  'summary': '조인트케어 글루코사민 알파',\n",
       "  'summary_detail': {'type': 'text/html',\n",
       "   'language': None,\n",
       "   'base': '',\n",
       "   'value': '조인트케어 글루코사민 알파'},\n",
       "  'published': 'Thu Sep 04 00:00:00 KST 2025',\n",
       "  'published_parsed': time.struct_time(tm_year=2025, tm_mon=9, tm_mday=4, tm_hour=0, tm_min=0, tm_sec=0, tm_wday=3, tm_yday=247, tm_isdst=0)}]"
      ]
     },
     "execution_count": 45,
     "metadata": {},
     "output_type": "execute_result"
    }
   ],
   "source": [
    "all_articles['식품안전나라_회수']"
   ]
  },
  {
   "cell_type": "code",
   "execution_count": 44,
   "id": "7dcfff99",
   "metadata": {},
   "outputs": [
    {
     "data": {
      "text/plain": [
       "dict_keys(['식품음료신문', '푸드아이콘', '세이프타임즈', '식약일보', '메디컬투데이', '한국영농신문', '식품안전나라_회수', '식품안전나라_행정처분'])"
      ]
     },
     "execution_count": 44,
     "metadata": {},
     "output_type": "execute_result"
    }
   ],
   "source": [
    "all_articles.keys()"
   ]
  },
  {
   "cell_type": "markdown",
   "id": "1745ed02",
   "metadata": {},
   "source": [
    "# scraping sources"
   ]
  },
  {
   "cell_type": "code",
   "execution_count": 39,
   "id": "ed539ddb",
   "metadata": {},
   "outputs": [
    {
     "name": "stdout",
     "output_type": "stream",
     "text": [
      "--------------------\n",
      "한국소비자원\n",
      "뉴스 기사 목록 사이트: https://www.kca.go.kr/home/sub.do?page={}&menukey=4002\n",
      "Base URL: https://www.kca.go.kr\n",
      "--------------------\n",
      "식품저널\n",
      "뉴스 기사 목록 사이트: https://www.foodnews.co.kr/news/articleList.html?page={}&total=97243&sc_section_code=&sc_sub_section_code=&sc_serial_code=&sc_area=&sc_level=&sc_article_type=&sc_view_level=&sc_sdate=&sc_edate=&sc_serial_number=&sc_word=&box_idxno=&sc_multi_code=&sc_is_image=&sc_is_movie=&sc_user_name=&sc_order_by=E\n",
      "Base URL: https://www.foodnews.co.kr\n",
      "--- 📚 현재 1 페이지 수집 중 (https://www.foodnews.co.kr/news/articleList.html?page=1&total=97243&sc_section_code=&sc_sub_section_code=&sc_serial_code=&sc_area=&sc_level=&sc_article_type=&sc_view_level=&sc_sdate=&sc_edate=&sc_serial_number=&sc_word=&box_idxno=&sc_multi_code=&sc_is_image=&sc_is_movie=&sc_user_name=&sc_order_by=E) ---\n",
      "✅ 1 페이지에서 기사 20개 수집\n",
      "   - [P1-1] 군산서 식량원조 15만톤 출항ㆍ영양강화립 첫 수출 기념...\n",
      "   - [P1-2] 이 대통령 “식료품 물가 지나치게 상승…원인부터 꼼꼼히...\n",
      "   - [P1-3] 오리온, 재생유기농업 활성화 나서...\n",
      "   - [P1-4] CJ제일제당, 사료축산 자회사 CJ Feed&Care ...\n",
      "   - [P1-5] aT, 국제교육원과 협약…K-푸드 글로벌 홍보 등 협력...\n",
      "   - [P1-6] 넷플릭스에서 만나는 한국 떡 문화의 매력…‘떡의 나라’...\n",
      "   - [P1-7] K-푸드 수출, 역대 최단 기간 100억 달러 돌파...\n",
      "   - [P1-8] 공정위, 가맹점 갑질 ‘메가MGC커피’에 시정명령·과징...\n",
      "   - [P1-9] 행사장서 한시적 영업 음식점, 외부 음식 재판매하면 행...\n",
      "   - [P1-10] 축산물품질평가원, 30~31일 ‘축산상품 판로개척’ 교...\n",
      "   - [P1-11] 롯데웰푸드, ‘스트레이 키즈’ 손잡고 ‘빼빼로데이’ 세...\n",
      "   - [P1-12] 롯데칠성 ‘밀키스’, 해외에서 잘 나가네...\n",
      "   - [P1-13] 월드푸드테크협의회-농기평, 푸드테크 육성 MOU...\n",
      "   - [P1-14] 정식품, ‘간단요리사 29역숏폼왕’ 영상 공모전...\n",
      "   - [P1-15] 맥도날드, ‘한국의 맛’ 프로젝트 확대 시행...\n",
      "   - [P1-16] CJ제일제당 ‘퀴진케이’ 영셰프, 남도 식재료 탐구 마...\n",
      "   - [P1-17] 식품연구원, 종근당건강과 차세대 프로바이오틱스 연구 협...\n",
      "   - [P1-18] 아워홈, 하반기 영양사ㆍ조리사 공개 채용...\n",
      "   - [P1-19] 식품진흥원, 푸드테크연구지원센터 착공...\n",
      "   - [P1-20] aT, K-푸드 위ㆍ모방품 관련 인식 제고 글로벌 캠페...\n",
      "\n",
      "=== ✨ 최종 수집 완료 === \n",
      "총 수집된 기사 수: 0개\n",
      "--------------------\n",
      "식품안전정보원\n",
      "뉴스 기사 목록 사이트: https://www.foodinfo.or.kr/portal/bbs/selectBoardList.do?bbsId=10000000000000000500&goMenuNo=9000001102&topMenuNo=9000001080&upperMenuNo=9000001101\n",
      "Base URL: https://www.foodinfo.or.kr\n",
      "식품안전정보원 건너뜀\n",
      "--------------------\n",
      "한국농어민신문\n",
      "뉴스 기사 목록 사이트: https://www.agrinet.co.kr/news/articleList.html?page={}&total=208678&sc_section_code=&sc_sub_section_code=&sc_serial_code=&sc_area=&sc_level=&sc_article_type=&sc_view_level=&sc_sdate=&sc_edate=&sc_serial_number=&sc_word=&box_idxno=&sc_multi_code=&sc_is_image=&sc_is_movie=&sc_user_name=&sc_order_by=E\n",
      "Base URL: https://www.agrinet.co.kr\n",
      "--- 📚 현재 1 페이지 수집 중 (https://www.agrinet.co.kr/news/articleList.html?page=1&total=208678&sc_section_code=&sc_sub_section_code=&sc_serial_code=&sc_area=&sc_level=&sc_article_type=&sc_view_level=&sc_sdate=&sc_edate=&sc_serial_number=&sc_word=&box_idxno=&sc_multi_code=&sc_is_image=&sc_is_movie=&sc_user_name=&sc_order_by=E) ---\n",
      "✅ 1 페이지에서 기사 20개 수집\n",
      "   - [P1-1] '벼 깨씨무늬병' 급속 확산···\"골든타임 놓칠라\" 수...\n",
      "   - [P1-2] 영덕 ‘해양생물종복원센터’ 건립 첫삽...\n",
      "   - [P1-3] 2025 음성명작페스티벌 성황리 종료...\n",
      "   - [P1-4] 충북도, 곤충 사육 농가 확산세 뚜렷...\n",
      "   - [P1-5] 한농연괴산군연합회, 풍년 기원 ‘농심대제’ 개최...\n",
      "   - [P1-6] 김재철 전남도의원, 로컬푸드 직매장 부실 운영 ‘질타’...\n",
      "   - [P1-7] 전남농업기술원에 ‘치유농업센터’ 개관...\n",
      "   - [P1-8] 전남한농연-전남농협, 농심천심 운동 동참 다짐...\n",
      "   - [P1-9] 한농연전북도, 시민과 함께 ‘도농 상생의 장’ 눈길...\n",
      "   - [P1-10] 경기도, 농·축산물 구매 할인쿠폰 행사 진행...\n",
      "   - [P1-11] ‘대왕님표 여주 쌀’ 4년 만에 조기 완판...\n",
      "   - [P1-12] 이천시, ‘농업인 건강보험료’ 지원대상 확대...\n",
      "   - [P1-13] 한농연군산시연합회, 제25회 가족체육대회 ‘성황’...\n",
      "   - [P1-14] ‘전북형 케어푸드’ 산업 발전 전략 모색...\n",
      "   - [P1-15] 한농연천안시 ‘농특산물 한마당 큰잔치’ 60만명 방문 ...\n",
      "   - [P1-16] 충남도, 친환경 농기계산업 육성 ‘가속 페달’...\n",
      "   - [P1-17] 제주 레드향 열과 예방 최적 재배환경 찾는다...\n",
      "   - [P1-18] 제주도·농협, 농업 혁신으로 지속가능한 농업 함께 이끈...\n",
      "   - [P1-19] 강원도, 해난어업인 유가족에 ‘생활안정비’  지급...\n",
      "   - [P1-20] 강원 옥수수 종자산업 활성화 방안 논의...\n",
      "\n",
      "=== ✨ 최종 수집 완료 === \n",
      "--------------------\n",
      "기능식품신문\n",
      "뉴스 기사 목록 사이트: https://www.nutradex.co.kr/news/news.html?nStart={}&KeyWord=&&cat=\n",
      "Base URL: https://www.nutradex.co.kr\n",
      "--- 📚 현재 1 페이지 수집 중 (https://www.nutradex.co.kr/news/news.html?nStart=10&KeyWord=&&cat=) ---\n",
      "완료: 1 페이지에서 기사 10개 수집\n",
      "   - [P1-1] “합성 지아잔틴 관리, 식약처 관심 필요하다”...\n",
      "   - [P1-2] 美, 곡물ㆍ사료업계 경제 생산량 4,017억弗 규모...\n",
      "   - [P1-3] 호흡을 편하게 해주는, 양박주가리...\n",
      "   - [P1-4] 삼시세끼? 끼니와 간식 구분 갈수록 모호해져.....\n",
      "   - [P1-5] 네슬레, CEO 전격교체 이어 이사회 의장 사퇴...\n",
      "   - [P1-6] 美 타이슨 푸드, 액상과당ㆍ수크랄로스 등 퇴출...\n",
      "   - [P1-7] 제조업소 1/3, 작년 건기식 생산 전무...\n",
      "   - [P1-8] 美 외식업소 경영자, 2년 내 매장 20% 증설계획...\n",
      "   - [P1-9] 인지기능 개선 디오스게닌 함유, 마...\n",
      "   - [P1-10] 美 치폴레, 亞 진출..내년 한국서 레스토랑 개설...\n",
      "\n",
      "=== ✨ 최종 수집 완료 === \n",
      "--------------------\n",
      "소비자주권시민회의\n",
      "뉴스 기사 목록 사이트: http://cucs.or.kr/?page_id=7433&paged={}\n",
      "Base URL: http://cucs.or.kr\n",
      "--- 현재 1 페이지 수집 중 (http://cucs.or.kr/?page_id=7433&paged=1) ---\n",
      "감지: WordPress/Raven 스타일 사이트\n",
      "완료: 1 페이지에서 기사 8개 발견\n",
      "   - [P1-1] [성명] 고용노동부, SPC ‘종이 대책’ 개선 마련 ...\n",
      "   - [P1-2] [보도자료] 식약처, 위고비 청소년 적응증 확대 위해서...\n",
      "   - [P1-3] [성명] 보건복지부, 위고비 오처방 집계 등 철저한 관...\n",
      "   - [P1-4] [보도자료] SPC삼립 대표이사 형사고발 고발장 제출...\n",
      "   - [P1-5] [성명] SPC삼립 압수수색 영장 잇따른 기각, 진상규...\n",
      "   - [P1-6] [성명] SPC삼립 황종현 대표, 한국식품산업협회 후보...\n",
      "   - [P1-7] [성명] 식약처, 디카페인 표시 기준 90%에서 97%...\n",
      "   - [P1-8] [성명] 식약처, GMO 완전표시제로 소비자 알권리ㆍ선...\n",
      "\n",
      "=== 최종 수집 완료 === \n",
      "--------------------\n",
      "소비자가만드는신문\n",
      "뉴스 기사 목록 사이트: https://www.consumernews.co.kr/news/articleList.html?page={}&total=3840&box_idxno=&sc_sub_section_code=S2N1&view_type=sm\n",
      "Base URL: https://www.consumernews.co.kr\n",
      "--- 현재 1 페이지 수집 중 (https://www.consumernews.co.kr/news/articleList.html?page=1&total=3840&box_idxno=&sc_sub_section_code=S2N1&view_type=sm) ---\n",
      "감지: list-block 스타일\n",
      "완료: 20개 기사 발견\n",
      "   - [P1-1] 교촌F&B 송종화·하남F&B 장보환·명륜당 이종근 대표...\n",
      "   - [P1-2] [소비자의눈] ‘당일 아침 수확’ 믿고 산 추석 선물용...\n",
      "   - [P1-3] 스팸·리챔 등 캔햄 추석 선물세트 가격 크게 올라…CJ...\n",
      "   - [P1-4] [소비자의눈] 가공식품 속 들어있는 '돌'처럼 딱딱한 ...\n",
      "   - [P1-5] \"먹으라고 보냈나, 버리라고 보냈나\"…온라인몰서 산 ‘...\n",
      "   - [P1-6] 9년째 극심한 노사 갈등 이어온 페르노리카, 타쉬긴 신...\n",
      "   - [P1-7] [소비자의눈] 통조림 골뱅이 안에 까맣고 돌처럼 단단한...\n",
      "   - [P1-8] 종근당, 당뇨 3제 복합제 듀비엠폴 복용 편의성 높인다...\n",
      "   - [P1-9] 건기식 '가르시니아' 간기능 이상 사례로 회수 조치.....\n",
      "   - [P1-10] [K-신약 유망주] 동아쏘시오그룹 DA-1241, MA...\n",
      "   - [P1-11] CDO 플랫폼 구축 드라이브 건 삼성바이오로직스, 1년...\n",
      "   - [P1-12] 10대 제약사 오너일가 지분 25%는 '담보'...한미...\n",
      "   - [P1-13] 보톡스·성장호르몬을 파스처럼 붙여 투약?...대웅제약,...\n",
      "   - [P1-14] 모바일상품권 최대 100% 환불 가능…공정위, 불공정약...\n",
      "   - [P1-15] 냉동 돈가스 단백질 함량 제품별로 최대 1.5배 차이....\n",
      "   - [P1-16] 대웅제약·HK이노엔·온코닉, P-CAB 신약 적응증 확...\n",
      "   - [P1-17] [소비자의눈] 순살 치킨이라 안심했다가 치아 부상......\n",
      "   - [P1-18] [AI 경영] 한미약품 \"AI 플랫폼으로 비만치료제 전...\n",
      "   - [P1-19] [포토뉴스] '순살 생선' 이라더니 커다란 가시 수두룩...\n",
      "   - [P1-20] [소비자의눈] 참치캔에서 나온 날카로운 참치뼈에 아이 ...\n",
      "\n",
      "=== 최종 수집 완료 ===\n",
      "--------------------\n",
      "메디파나뉴스\n",
      "뉴스 기사 목록 사이트: https://www.medipana.com/article/list.php?page={}&sch_menu=1&sch_cate=I\n",
      "Base URL: https://www.medipana.com\n",
      "--- 현재 1 페이지 수집 중 (https://www.medipana.com/article/list.php?page=1&sch_menu=1&sch_cate=I) ---\n"
     ]
    },
    {
     "name": "stderr",
     "output_type": "stream",
     "text": [
      "Some characters could not be decoded, and were replaced with REPLACEMENT CHARACTER.\n"
     ]
    },
    {
     "name": "stdout",
     "output_type": "stream",
     "text": [
      "완료: 20개 기사 발견\n",
      "   - [P1-1] 아리바이오 탈모 기능성화장품 '텔로액트 (Teloact...\n",
      "   - [P1-2] 콜마비앤에이치, 글로벌 ESG 평가 '에코바디스 골드'...\n",
      "   - [P1-3] 마켄, 인천국제공항에 바이오의약품 전용 보세물류센터 오...\n",
      "   - [P1-4] 대웅제약, 복합 건기식 '합쎈' 와디즈 펀딩 10000...\n",
      "   - [P1-5] 의약품유통협회, '제14회 사랑.나눔 후원 골프대회' ...\n",
      "   - [P1-6] 지오영 '인천센터', 리모델링 통해 3PL·4PL '게...\n",
      "   - [P1-7] JW신약, 佛 듀크레이 '케르티올 컨센트레이트 크림' ...\n",
      "   - [P1-8] 콜마비앤에이치, 말레이 코스웨이社와 MOU‥동남아 진출...\n",
      "   - [P1-9] 알피바이오, 제주특산 '덖음귤피' 사업화‥1조 다이어트...\n",
      "   - [P1-10] 대웅, '에너씨슬 집중샷' 샤인머스켓맛 출시…수험생 라...\n",
      "   - [P1-11] 현대약품, '미에로화이바 스파클링 제로' 500ml 캔...\n",
      "   - [P1-12] 대원제약, 약국 전용 건강기능식품 브랜드 '멘토라이프'...\n",
      "   - [P1-13] 대웅제약, 추석 맞아 '선물 기획전' 진행…최대 78%...\n",
      "   - [P1-14] 동아제약-국립원예특작과학원, 황해쑥 산업화 확대 MOU...\n",
      "   - [P1-15] 종근당건강 클리덤, '리포좀 비타민C 라인' 출시...\n",
      "   - [P1-16] 삼진제약, 관절 건강 ‘콘드로이친 6년 홍삼 진액스틱’...\n",
      "   - [P1-17] 동국제약, 헤어 클렌징 패드 '마데카 정수리를 닦자' ...\n",
      "   - [P1-18] 지오영, 의약품 유통업계 최초 'SBTi 온실가스 감축...\n",
      "   - [P1-19] 알피바이오, '애사비' 생산량 1년 새 10배 급증…올...\n",
      "   - [P1-20] 일동바사, '비타푸드 아시아' 참가‥포스트바이오틱스 시...\n",
      "\n",
      "=== 최종 수집 완료 ===\n",
      "--------------------\n",
      "푸드투데이\n",
      "뉴스 기사 목록 사이트: https://www.foodtoday.or.kr/news/article_list_all.html?page={}\n",
      "Base URL: https://www.foodtoday.or.kr\n",
      "--- 현재 1 페이지 수집 중 (https://www.foodtoday.or.kr/news/article_list_all.html?page=1) ---\n",
      "완료: 10개 기사 발견\n",
      "   - [P1-1] [포토] 농식품부·aT, 추석맞이 전통시장 온누리상품권...\n",
      "   - [P1-2] aT–국립국제교육원 맞손…K-푸드·유학생 네트워크로 글...\n",
      "   - [P1-3] “일·가정 양립 지원 강화” 풀무원, 본사 어린이집 증...\n",
      "   - [P1-4] 메가커피, 가맹점주에 수수료·설비 강매…공정위 ‘23억...\n",
      "   - [P1-5] 맹견사육허가제 손본다…중성화 면제·번식 제한, 교육제도...\n",
      "   - [P1-6] [포토] 이재영 증평군수, 추석맞이 장뜰시장 장보기 나...\n",
      "   - [P1-7] [2025 국감] 서울우유 문진섭 조합장, 국감 증인석...\n",
      "   - [P1-8] [2025 국감] 공금 유용 의혹 문영표 서울시농수산식...\n",
      "   - [P1-9] “제주로 놀러옵써!” 제주 면세점 품목 늘린다...\n",
      "   - [P1-10] 하림·이마트 협업, ‘닭구이닭 부드러운 닭가슴살 스테이...\n",
      "\n",
      "=== 최종 수집 완료 ===\n"
     ]
    }
   ],
   "source": [
    "with open('extended_config.json', 'r', encoding='utf-8') as f:\n",
    "    json_data = json.load(f)\n",
    "\n",
    "all_articles = {}\n",
    "for scrape_source in json_data['scraping_sources']:\n",
    "    name = scrape_source['name']\n",
    "    list_base_url = scrape_source['url']\n",
    "    END_PAGE = scrape_source.get('pagenum', 1)\n",
    "    print('-'*20)\n",
    "    print(name)\n",
    "    print('뉴스 기사 목록 사이트:', list_base_url)\n",
    "    parsed_url = urllib.parse.urlparse(list_base_url)\n",
    "    base_url = f\"{parsed_url.scheme}://{parsed_url.netloc}\"\n",
    "    print(f\"Base URL: {base_url}\") \n",
    "    # 페이지 반복 루프\n",
    "    START_PAGE = 1\n",
    "    if name == '식품저널':\n",
    "        articles = []\n",
    "        for page_num in range(START_PAGE, END_PAGE + 1):\n",
    "            # 1. 현재 페이지 URL 생성\n",
    "            current_list_url = list_base_url.format(page_num)\n",
    "            print(f\"--- 📚 현재 {page_num} 페이지 수집 중 ({current_list_url}) ---\")\n",
    "\n",
    "            try:\n",
    "                # 2. 기사 목록 페이지 요청\n",
    "                init_response = requests.get(current_list_url, timeout=10)\n",
    "                soup = BeautifulSoup(init_response.content, 'html.parser')\n",
    "                \n",
    "                ul_tag = soup.select_one('ul.type1')\n",
    "                \n",
    "                # 목록이 없는 경우 (마지막 페이지에 도달한 것으로 간주)\n",
    "                if not ul_tag:\n",
    "                    print(f\"⚠️ {page_num} 페이지에서 기사 목록을 찾을 수 없습니다. 반복을 종료합니다.\")\n",
    "                    break\n",
    "\n",
    "                list_items = ul_tag.select('li')\n",
    "                print(f'✅ {page_num} 페이지에서 기사 {len(list_items)}개 수집')\n",
    "\n",
    "                # 3. 각 기사 항목 순회 (기존 코드)\n",
    "                for i, item in enumerate(list_items):\n",
    "                    keyword = item.select_one('em.info.category').get_text(strip=True)\n",
    "                    journalist = item.select_one('em.info.name').get_text(strip=True)\n",
    "                    pubdate = item.select_one('em.info.dated').get_text(strip=True)\n",
    "\n",
    "\n",
    "                    # A. 제목/URL 추출\n",
    "                    a_tag = item.select_one('a')\n",
    "                    if not a_tag:\n",
    "                        continue\n",
    "\n",
    "                    title = a_tag.text.strip()\n",
    "                    relative_url = a_tag['href']\n",
    "                    full_url = base_url + relative_url\n",
    "\n",
    "                    # B. 상세 페이지 요청 및 본문 추출\n",
    "                    contents_response = requests.get(full_url, timeout=10)\n",
    "                    contents_html = BeautifulSoup(contents_response.content, 'html.parser')\n",
    "\n",
    "                    article_tag = contents_html.select_one('article#article-view-content-div')\n",
    "                    \n",
    "                    # 불필요한 태그 제거 및 텍스트 추출 (좀 더 정교한 방식 권장)\n",
    "                    if article_tag:\n",
    "                        contents = article_tag.get_text(strip=True, separator='\\n')\n",
    "                    else:\n",
    "                        contents = \"본문 추출 실패\"\n",
    "\n",
    "                    # C. 결과 저장\n",
    "                    article_data = {\n",
    "                        'page': page_num,\n",
    "                        'index': i + 1,\n",
    "                        'title': title,\n",
    "                        'link': full_url,\n",
    "                        'content': contents,\n",
    "                        'keyword': keyword,\n",
    "                        'journalist': journalist,\n",
    "                        'pubdate': pubdate\n",
    "                    }\n",
    "                    articles.append(article_data)\n",
    "\n",
    "                    # 중간 출력\n",
    "                    print(f'   - [P{page_num}-{i+1}] {title[:30]}...')\n",
    "\n",
    "                    # 서버 부하를 줄이기 위한 지연 시간 추가 (선택 사항이지만 권장)\n",
    "                    time.sleep(0.5)\n",
    "\n",
    "            except requests.exceptions.RequestException as e:\n",
    "                print(f\"❌ 요청 오류 발생 ({current_list_url}): {e}\")\n",
    "                time.sleep(2) # 오류 발생 시 잠시 대기\n",
    "            except Exception as e:\n",
    "                print(f\"❌ 처리 중 오류 발생: {e}\")\n",
    "                \n",
    "        print(\"\\n=== ✨ 최종 수집 완료 === \")\n",
    "        print(f\"총 수집된 기사 수: {len(all_articles)}개\")\n",
    "        all_articles[name] = articles\n",
    "    elif name == '식품안전정보원':\n",
    "        print(name, '건너뜀')\n",
    "        continue\n",
    "        # 페이지 반복 루프\n",
    "        for page_num in range(START_PAGE, END_PAGE + 1):\n",
    "            # 1. 현재 페이지 URL 생성\n",
    "            current_list_url = list_base_url.format(page_num)\n",
    "            print(f\"--- 📚 현재 {page_num} 페이지 수집 중 ({current_list_url}) ---\")\n",
    "\n",
    "            try:\n",
    "                # 2. 기사 목록 페이지 요청\n",
    "                init_response = requests.get(current_list_url, timeout=10)\n",
    "                soup = BeautifulSoup(init_response.content, 'html.parser')\n",
    "                \n",
    "                ul_tag = soup.select_one('ul.type1')\n",
    "                \n",
    "                # 목록이 없는 경우 (마지막 페이지에 도달한 것으로 간주)\n",
    "                if not ul_tag:\n",
    "                    print(f\"⚠️ {page_num} 페이지에서 기사 목록을 찾을 수 없습니다. 반복을 종료합니다.\")\n",
    "                    break\n",
    "\n",
    "                list_items = ul_tag.select('li')\n",
    "                print(f'✅ {page_num} 페이지에서 기사 {len(list_items)}개 수집')\n",
    "\n",
    "                # 3. 각 기사 항목 순회 (기존 코드)\n",
    "                for i, item in enumerate(list_items):\n",
    "                    keyword = item.select_one('em.info.category').get_text(strip=True)\n",
    "                    journalist = item.select_one('em.info.name').get_text(strip=True)\n",
    "                    pubdate = item.select_one('em.info.dated').get_text(strip=True)\n",
    "\n",
    "\n",
    "                    # A. 제목/URL 추출\n",
    "                    a_tag = item.select_one('a')\n",
    "                    if not a_tag:\n",
    "                        continue\n",
    "\n",
    "                    title = a_tag.text.strip()\n",
    "                    relative_url = a_tag['href']\n",
    "                    full_url = base_url + relative_url\n",
    "\n",
    "                    # B. 상세 페이지 요청 및 본문 추출\n",
    "                    contents_response = requests.get(full_url, timeout=10)\n",
    "                    contents_html = BeautifulSoup(contents_response.content, 'html.parser')\n",
    "\n",
    "                    article_tag = contents_html.select_one('article#article-view-content-div')\n",
    "                    \n",
    "                    # 불필요한 태그 제거 및 텍스트 추출 (좀 더 정교한 방식 권장)\n",
    "                    if article_tag:\n",
    "                        contents = article_tag.get_text(strip=True, separator='\\n')\n",
    "                    else:\n",
    "                        contents = \"본문 추출 실패\"\n",
    "\n",
    "                    # C. 결과 저장\n",
    "                    article_data = {\n",
    "                        'page': page_num,\n",
    "                        'index': i + 1,\n",
    "                        'title': title,\n",
    "                        'link': full_url,\n",
    "                        'content': contents,\n",
    "                        'keyword': keyword,\n",
    "                        'journalist': journalist,\n",
    "                        'pubdate': pubdate\n",
    "                    }\n",
    "                    articles.extend(article_data)\n",
    "\n",
    "                    # 중간 출력\n",
    "                    print(f'   - [P{page_num}-{i+1}] {title[:30]}...')\n",
    "\n",
    "                    # 서버 부하를 줄이기 위한 지연 시간 추가 (선택 사항이지만 권장)\n",
    "                    time.sleep(0.5)\n",
    "                    break\n",
    "\n",
    "            except requests.exceptions.RequestException as e:\n",
    "                print(f\"❌ 요청 오류 발생 ({current_list_url}): {e}\")\n",
    "                time.sleep(2) # 오류 발생 시 잠시 대기\n",
    "            except Exception as e:\n",
    "                print(f\"❌ 처리 중 오류 발생: {e}\")\n",
    "                \n",
    "        print(\"\\n=== ✨ 최종 수집 완료 === \")\n",
    "        print(f\"총 수집된 기사 수: {len(all_articles)}개\")\n",
    "        all_articles[name] = articles\n",
    "        # pprint.pprint(all_articles) # 최종 결과 확인\n",
    "    elif name == '한국농어민신문':\n",
    "        articles = [] # 모든 페이지의 기사 데이터를 저장할 리스트\n",
    "        # 페이지 반복 루프\n",
    "        for page_num in range(START_PAGE, END_PAGE + 1):\n",
    "            # 1. 현재 페이지 URL 생성\n",
    "            current_list_url = list_base_url.format(page_num)\n",
    "            print(f\"--- 📚 현재 {page_num} 페이지 수집 중 ({current_list_url}) ---\")\n",
    "            \n",
    "            \n",
    "            # 2. 기사 목록 페이지 요청\n",
    "            try:\n",
    "                init_response = requests.get(current_list_url, timeout=10)\n",
    "                soup = BeautifulSoup(init_response.content, 'html.parser')\n",
    "                \n",
    "                ul_tag = soup.select_one('ul.type1')\n",
    "                # print(ul_tag)\n",
    "                # 목록이 없는 경우 (마지막 페이지에 도달한 것으로 간주)\n",
    "                if not ul_tag:\n",
    "                    print(f\"⚠️ {page_num} 페이지에서 기사 목록을 찾을 수 없습니다. 반복을 종료합니다.\")\n",
    "                    break\n",
    "\n",
    "                list_items = ul_tag.select('li')\n",
    "                print(f'✅ {page_num} 페이지에서 기사 {len(list_items)}개 수집')\n",
    "\n",
    "                # 3. 각 기사 항목 순회 (기존 코드)\n",
    "                for i, item in enumerate(list_items):\n",
    "                    keyword = item.select_one('em.info.category').get_text(strip=True)\n",
    "                    journalist = item.select_one('em.info.name').get_text(strip=True)\n",
    "                    pubdate = item.select_one('em.info.dated').get_text(strip=True)\n",
    "\n",
    "\n",
    "                    # A. 제목/URL 추출\n",
    "                    a_tag = item.select_one('a')\n",
    "                    if not a_tag:\n",
    "                        continue\n",
    "\n",
    "                    title = a_tag.text.strip()\n",
    "                    relative_url = a_tag['href']\n",
    "                    full_url = base_url + relative_url\n",
    "\n",
    "                    # B. 상세 페이지 요청 및 본문 추출\n",
    "                    contents_response = requests.get(full_url, timeout=10)\n",
    "                    contents_html = BeautifulSoup(contents_response.content, 'html.parser')\n",
    "\n",
    "                    article_tag = contents_html.select_one('article#article-view-content-div')\n",
    "                    \n",
    "                    # 불필요한 태그 제거 및 텍스트 추출 (좀 더 정교한 방식 권장)\n",
    "                    if article_tag:\n",
    "                        contents = article_tag.get_text(strip=True, separator='\\n')\n",
    "                    else:\n",
    "                        contents = \"본문 추출 실패\"\n",
    "\n",
    "                    # C. 결과 저장\n",
    "                    article_data = {\n",
    "                        'page': page_num,\n",
    "                        'index': i + 1,\n",
    "                        'title': title,\n",
    "                        'link': full_url,\n",
    "                        'content': contents,\n",
    "                        'keyword': keyword,\n",
    "                        'journalist': journalist,\n",
    "                        'pubdate': pubdate\n",
    "                    }\n",
    "                    articles.append(article_data)\n",
    "\n",
    "                    # 중간 출력\n",
    "                    print(f'   - [P{page_num}-{i+1}] {title[:30]}...')\n",
    "\n",
    "                    # 서버 부하를 줄이기 위한 지연 시간 추가 (선택 사항이지만 권장)\n",
    "                    time.sleep(0.5)\n",
    "\n",
    "            except requests.exceptions.RequestException as e:\n",
    "                print(f\"❌ 요청 오류 발생 ({current_list_url}): {e}\")\n",
    "                time.sleep(2) # 오류 발생 시 잠시 대기\n",
    "            except Exception as e:\n",
    "                print(f\"❌ 처리 중 오류 발생: {e}\")\n",
    "                \n",
    "        print(\"\\n=== ✨ 최종 수집 완료 === \")\n",
    "        all_articles[name] = articles\n",
    "        # pprint.pprint(all_articles) # 최종 결과 확인\n",
    "    elif name == '기능식품신문':\n",
    "        articles = []\n",
    "        for page_num in range(START_PAGE, END_PAGE + 1):\n",
    "            # 1. 현재 페이지 URL 생성\n",
    "            current_list_url = list_base_url.format((page_num)*10)\n",
    "            print(f\"--- 📚 현재 {page_num} 페이지 수집 중 ({current_list_url}) ---\")            \n",
    "            # 2. 기사 목록 페이지 요청\n",
    "            try:\n",
    "                init_response = requests.get(current_list_url, timeout=10)\n",
    "                soup = BeautifulSoup(init_response.content, 'html.parser')\n",
    "                # 뉴스 목록의 메인 테이블을 먼저 찾고, 그 안에서 각 뉴스 항목 찾기\n",
    "                main_table = soup.select_one('td[style*=\"padding:8px 10px 8px 10px\"] > table')\n",
    "                \n",
    "                if not main_table:\n",
    "                    print(f\"경고: {page_num} 페이지에서 기사 목록을 찾을 수 없습니다. 반복을 종료합니다.\")\n",
    "                    break\n",
    "                \n",
    "                # 각 뉴스 항목은 tr > td[width=\"580px\"] > table 구조\n",
    "                news_containers = main_table.select('tr > td[width=\"580px\"]')\n",
    "                \n",
    "                # 페이지네이션 등 불필요한 요소 제외 (높이가 30인 tr 제외)\n",
    "                news_containers = [container for container in news_containers \n",
    "                                if container.find('table') and container.find('strong', id='news_title')]\n",
    "\n",
    "                print(f'완료: {page_num} 페이지에서 기사 {len(news_containers)}개 수집')\n",
    "\n",
    "                # 3. 각 기사 항목 순회\n",
    "                for i, container in enumerate(news_containers):\n",
    "                    # A. 제목/URL/날짜 추출\n",
    "                    inner_table = container.find('table')\n",
    "                    title_element = inner_table.select_one('strong#news_title')\n",
    "                    link_element = inner_table.select_one('a[href*=\"/news/news.html?mode=view\"]')\n",
    "                    date_element = inner_table.select_one('span#news_date')\n",
    "                    summary_element = inner_table.select_one('span#news_summary')\n",
    "                    \n",
    "                    if not title_element or not link_element:\n",
    "                        continue\n",
    "\n",
    "                    title = title_element.get_text(strip=True)\n",
    "                    relative_url = link_element['href']\n",
    "                    # HTML 엔티티 디코딩 (&amp; -> &)\n",
    "                    relative_url = relative_url.replace('&amp;', '&')\n",
    "                    full_url = base_url + relative_url\n",
    "                    \n",
    "                    # 날짜 추출 (대괄호 제거)\n",
    "                    pubdate = date_element.get_text(strip=True).replace('[', '').replace(']', '') if date_element else \"\"\n",
    "                    \n",
    "                    # 요약 내용 추출 및 정리\n",
    "                    summary = summary_element.get_text(strip=True) if summary_element else \"\"\n",
    "\n",
    "                    # B. 상세 페이지 요청 및 본문 추출\n",
    "                    try:\n",
    "                        contents_response = requests.get(full_url, timeout=10)\n",
    "                        contents_html = BeautifulSoup(contents_response.content, 'html.parser')\n",
    "\n",
    "                        # 본문 추출 (실제 사이트 구조에 맞게 조정 필요)\n",
    "                        article_tag = contents_html.select_one('div.article_content, div.content, article')\n",
    "                        \n",
    "                        if article_tag:\n",
    "                            # 불필요한 태그 제거\n",
    "                            for unwanted in article_tag.select('script, style, .ad, .advertisement'):\n",
    "                                unwanted.decompose()\n",
    "                            contents = article_tag.get_text(strip=True, separator='\\n')\n",
    "                        else:\n",
    "                            contents = summary  # 본문 추출 실패시 요약 사용\n",
    "                            \n",
    "                    except Exception as content_error:\n",
    "                        print(f\"   본문 추출 실패: {content_error}\")\n",
    "                        contents = summary\n",
    "\n",
    "                    # C. 결과 저장\n",
    "                    article_data = {\n",
    "                        'page': page_num,\n",
    "                        'index': i + 1,\n",
    "                        'title': title,\n",
    "                        'link': full_url,\n",
    "                        'summary': summary,\n",
    "                        'pubdate': pubdate\n",
    "                    }\n",
    "                    articles.append(article_data)\n",
    "\n",
    "                    # 중간 출력\n",
    "                    print(f'   - [P{page_num}-{i+1}] {title[:30]}...')\n",
    "\n",
    "                    # 서버 부하를 줄이기 위한 지연 시간 추가\n",
    "                    time.sleep(0.5)\n",
    "\n",
    "            except requests.exceptions.RequestException as e:\n",
    "                print(f\"❌ 요청 오류 발생 ({current_list_url}): {e}\")\n",
    "                time.sleep(2) # 오류 발생 시 잠시 대기\n",
    "            except Exception as e:\n",
    "                print(f\"❌ 처리 중 오류 발생: {e}\")\n",
    "                \n",
    "        print(\"\\n=== ✨ 최종 수집 완료 === \")\n",
    "        all_articles[name] = articles\n",
    "    elif name == '소비자주권시민회의':\n",
    "        articles = []\n",
    "        for page_num in range(START_PAGE, END_PAGE + 1):\n",
    "            # 1. 현재 페이지 URL 생성\n",
    "            current_list_url = list_base_url.format(page_num)\n",
    "            print(f\"--- 현재 {page_num} 페이지 수집 중 ({current_list_url}) ---\")\n",
    "\n",
    "            # 2. 기사 목록 페이지 요청\n",
    "            try:\n",
    "                init_response = requests.get(current_list_url, timeout=10)\n",
    "                soup = BeautifulSoup(init_response.content, 'html.parser')\n",
    "                \n",
    "                # 사이트 구조 감지 및 뉴스 항목 추출\n",
    "                news_items = []\n",
    "                \n",
    "                # 첫 번째 사이트 (nutradex) 구조 시도\n",
    "                main_table = soup.select_one('td[style*=\"padding:8px 10px 8px 10px\"] > table')\n",
    "                if main_table:\n",
    "                    print(\"감지: nutradex 스타일 사이트\")\n",
    "                    containers = main_table.select('tr > td[width=\"580px\"]')\n",
    "                    news_items = [c for c in containers \n",
    "                                if c.find('table') and c.find('strong', id='news_title')]\n",
    "                \n",
    "                # 두 번째 사이트 (cucs) 구조 시도\n",
    "                else:\n",
    "                    raven_posts = soup.select('div.raven-post-item')\n",
    "                    if raven_posts:\n",
    "                        print(\"감지: WordPress/Raven 스타일 사이트\")\n",
    "                        news_items = raven_posts\n",
    "                \n",
    "                # 목록이 없는 경우\n",
    "                if not news_items:\n",
    "                    print(f\"경고: {page_num} 페이지에서 기사 목록을 찾을 수 없습니다. 반복을 종료합니다.\")\n",
    "                    break\n",
    "\n",
    "                print(f'완료: {page_num} 페이지에서 기사 {len(news_items)}개 발견')\n",
    "\n",
    "                # 3. 각 기사 항목 순회\n",
    "                for i, item in enumerate(news_items):\n",
    "                    # nutradex 스타일 파싱\n",
    "                    if item.name == 'td':\n",
    "                        inner_table = item.find('table')\n",
    "                        title_element = inner_table.select_one('strong#news_title')\n",
    "                        link_element = inner_table.select_one('a[href*=\"/news/news.html?mode=view\"]')\n",
    "                        date_element = inner_table.select_one('span#news_date')\n",
    "                        summary_element = inner_table.select_one('span#news_summary')\n",
    "                        \n",
    "                        if not title_element or not link_element:\n",
    "                            continue\n",
    "                        \n",
    "                        title = title_element.get_text(strip=True)\n",
    "                        relative_url = link_element['href'].replace('&amp;', '&')\n",
    "                        full_url = base_url + relative_url\n",
    "                        pubdate = date_element.get_text(strip=True).replace('[', '').replace(']', '') if date_element else \"\"\n",
    "                        summary = summary_element.get_text(strip=True) if summary_element else \"\"\n",
    "                    \n",
    "                    # WordPress/Raven 스타일 파싱\n",
    "                    elif 'raven-post-item' in item.get('class', []):\n",
    "                        title_element = item.select_one('h5.raven-post-title a')\n",
    "                        date_element = item.select_one('a.raven-post-date')\n",
    "                        summary_element = item.select_one('div.raven-post-excerpt')\n",
    "                        \n",
    "                        if not title_element:\n",
    "                            continue\n",
    "                        \n",
    "                        title = title_element.get_text(strip=True)\n",
    "                        full_url = title_element['href']\n",
    "                        pubdate = date_element.get_text(strip=True) if date_element else \"\"\n",
    "                        summary = summary_element.get_text(strip=True) if summary_element else \"\"\n",
    "                    \n",
    "                    else:\n",
    "                        continue\n",
    "\n",
    "                    # B. 상세 페이지 요청 및 본문 추출\n",
    "                    try:\n",
    "                        contents_response = requests.get(full_url, timeout=10)\n",
    "                        contents_html = BeautifulSoup(contents_response.content, 'html.parser')\n",
    "\n",
    "                        # 다양한 본문 셀렉터 시도\n",
    "                        article_tag = (\n",
    "                            contents_html.select_one('div.entry-content') or\n",
    "                            contents_html.select_one('article.post-content') or\n",
    "                            contents_html.select_one('div.article_content') or\n",
    "                            contents_html.select_one('div.content') or\n",
    "                            contents_html.select_one('article')\n",
    "                        )\n",
    "                        \n",
    "                        if article_tag:\n",
    "                            # 불필요한 태그 제거\n",
    "                            for unwanted in article_tag.select('script, style, .ad, .advertisement'):\n",
    "                                unwanted.decompose()\n",
    "                            contents = article_tag.get_text(strip=True, separator='\\n')\n",
    "                        else:\n",
    "                            contents = summary\n",
    "                            \n",
    "                    except Exception as content_error:\n",
    "                        print(f\"   본문 추출 실패: {content_error}\")\n",
    "                        contents = summary\n",
    "\n",
    "                    # C. 결과 저장\n",
    "                    article_data = {\n",
    "                        'page': page_num,\n",
    "                        'index': i + 1,\n",
    "                        'title': title,\n",
    "                        'link': full_url,\n",
    "                        'content': contents,\n",
    "                        'summary': summary,\n",
    "                        'pubdate': pubdate\n",
    "                    }\n",
    "                    articles.append(article_data)\n",
    "\n",
    "                    # 중간 출력\n",
    "                    print(f'   - [P{page_num}-{i+1}] {title[:30]}...')\n",
    "\n",
    "                    # 서버 부하를 줄이기 위한 지연 시간\n",
    "                    time.sleep(0.5)\n",
    "\n",
    "            except requests.exceptions.RequestException as e:\n",
    "                print(f\"오류: 요청 오류 발생 ({current_list_url}): {e}\")\n",
    "                time.sleep(2)\n",
    "            except Exception as e:\n",
    "                print(f\"오류: 처리 중 오류 발생: {e}\")\n",
    "                import traceback\n",
    "                traceback.print_exc()\n",
    "                \n",
    "        print(\"\\n=== 최종 수집 완료 === \")\n",
    "        all_articles[name] = articles\n",
    "        pass\n",
    "    elif name == '소비자가만드는신문':\n",
    "        articles = []\n",
    "        for page_num in range(START_PAGE, END_PAGE + 1):\n",
    "            # 1. 현재 페이지 URL 생성\n",
    "            if '{}' in list_base_url:\n",
    "                if 'nStart' in list_base_url:\n",
    "                    # Nutradex: nStart 파라미터 (0, 10, 20...)\n",
    "                    current_list_url = list_base_url.format((page_num - 1) * 10)\n",
    "                else:\n",
    "                    # 일반 페이지 번호\n",
    "                    current_list_url = list_base_url.format(page_num)\n",
    "            else:\n",
    "                current_list_url = list_base_url\n",
    "                if page_num > 1:\n",
    "                    print(f\"경고: AJAX 페이지네이션. Selenium 필요.\")\n",
    "                    break\n",
    "            \n",
    "            print(f\"--- 현재 {page_num} 페이지 수집 중 ({current_list_url}) ---\")\n",
    "\n",
    "            try:\n",
    "                init_response = requests.get(current_list_url, timeout=10)\n",
    "                soup = BeautifulSoup(init_response.content, 'html.parser')\n",
    "                \n",
    "                news_items = []\n",
    "                site_type = None\n",
    "                \n",
    "                # 1. Nutradex 구조\n",
    "                main_table = soup.select_one('td[style*=\"padding:8px 10px 8px 10px\"] > table')\n",
    "                if main_table:\n",
    "                    site_type = \"nutradex\"\n",
    "                    print(\"감지: Nutradex\")\n",
    "                    containers = main_table.select('tr > td[width=\"580px\"]')\n",
    "                    news_items = [c for c in containers \n",
    "                                if c.find('table') and c.find('strong', id='news_title')]\n",
    "                \n",
    "                # 2. WordPress/Raven 구조\n",
    "                elif soup.select('div.raven-post-item'):\n",
    "                    site_type = \"wordpress\"\n",
    "                    print(\"감지: WordPress/Raven\")\n",
    "                    news_items = soup.select('div.raven-post-item')\n",
    "                \n",
    "                # 3. list-block 구조 (소비자고발센터 등)\n",
    "                elif soup.select('div.list-block'):\n",
    "                    site_type = \"list-block\"\n",
    "                    print(\"감지: list-block 스타일\")\n",
    "                    news_items = soup.select('div.list-block')\n",
    "                \n",
    "                if not news_items:\n",
    "                    print(f\"경고: {page_num} 페이지에서 기사를 찾을 수 없습니다.\")\n",
    "                    break\n",
    "\n",
    "                print(f'완료: {len(news_items)}개 기사 발견')\n",
    "\n",
    "                # 각 기사 처리\n",
    "                for i, item in enumerate(news_items):\n",
    "                    # Nutradex 파싱\n",
    "                    if item.name == 'td':\n",
    "                        inner_table = item.find('table')\n",
    "                        title_element = inner_table.select_one('strong#news_title')\n",
    "                        link_element = inner_table.select_one('a[href*=\"/news/news.html?mode=view\"]')\n",
    "                        date_element = inner_table.select_one('span#news_date')\n",
    "                        summary_element = inner_table.select_one('span#news_summary')\n",
    "                        \n",
    "                        if not title_element or not link_element:\n",
    "                            continue\n",
    "                        \n",
    "                        title = title_element.get_text(strip=True)\n",
    "                        relative_url = link_element['href'].replace('&amp;', '&')\n",
    "                        full_url = base_url + relative_url\n",
    "                        pubdate = date_element.get_text(strip=True).replace('[', '').replace(']', '') if date_element else \"\"\n",
    "                        summary = summary_element.get_text(strip=True) if summary_element else \"\"\n",
    "                    \n",
    "                    # WordPress/Raven 파싱\n",
    "                    elif 'raven-post-item' in item.get('class', []):\n",
    "                        title_element = item.select_one('h5.raven-post-title a, a.raven-post-title-link')\n",
    "                        date_element = item.select_one('a.raven-post-date')\n",
    "                        summary_element = item.select_one('div.raven-post-excerpt')\n",
    "                        \n",
    "                        if not title_element:\n",
    "                            continue\n",
    "                        \n",
    "                        title = title_element.get_text(strip=True)\n",
    "                        full_url = title_element['href']\n",
    "                        pubdate = date_element.get_text(strip=True) if date_element else \"\"\n",
    "                        summary = summary_element.get_text(strip=True) if summary_element else \"\"\n",
    "                    \n",
    "                    # list-block 파싱\n",
    "                    elif 'list-block' in item.get('class', []):\n",
    "                        title_element = item.select_one('div.list-titles a strong')\n",
    "                        link_element = item.select_one('div.list-titles a')\n",
    "                        date_element = item.select_one('div.list-dated')\n",
    "                        summary_element = item.select_one('p.list-summary a')\n",
    "                        \n",
    "                        if not title_element or not link_element:\n",
    "                            continue\n",
    "                        \n",
    "                        title = title_element.get_text(strip=True)\n",
    "                        relative_url = link_element['href']\n",
    "                        \n",
    "                        # 상대 URL인 경우 base_url 추가\n",
    "                        if relative_url.startswith('/'):\n",
    "                            full_url = base_url + relative_url\n",
    "                        else:\n",
    "                            full_url = relative_url\n",
    "                        \n",
    "                        # 날짜 파싱 (예: \"식품 | 정현철 기자 | 2025-09-04 06:10\")\n",
    "                        if date_element:\n",
    "                            date_text = date_element.get_text(strip=True)\n",
    "                            parts = date_text.split('|')\n",
    "                            pubdate = parts[-1].strip() if len(parts) > 0 else date_text\n",
    "                        else:\n",
    "                            pubdate = \"\"\n",
    "                        \n",
    "                        category = parts[0].strip() if len(parts) > 0 else date_text\n",
    "                        summary = summary_element.get_text(strip=True) if summary_element else \"\"\n",
    "                    \n",
    "                    else:\n",
    "                        continue\n",
    "\n",
    "                    # 본문 추출\n",
    "                    try:\n",
    "                        contents_response = requests.get(full_url, timeout=10)\n",
    "                        contents_html = BeautifulSoup(contents_response.content, 'html.parser')\n",
    "\n",
    "                        # 다양한 본문 셀렉터 시도\n",
    "                        article_tag = (\n",
    "                            contents_html.select_one('div.user-snp') or  # 소비자고발센터\n",
    "                            contents_html.select_one('div.entry-content') or\n",
    "                            contents_html.select_one('article.post-content') or\n",
    "                            contents_html.select_one('div.article_content') or\n",
    "                            contents_html.select_one('div.content') or\n",
    "                            contents_html.select_one('article')\n",
    "                        )\n",
    "                        \n",
    "                        if article_tag:\n",
    "                            for unwanted in article_tag.select('script, style, .ad, .advertisement'):\n",
    "                                unwanted.decompose()\n",
    "                            contents = article_tag.get_text(strip=True, separator='\\n')\n",
    "                        else:\n",
    "                            contents = summary\n",
    "                            \n",
    "                    except Exception as content_error:\n",
    "                        print(f\"   본문 추출 실패: {content_error}\")\n",
    "                        contents = summary\n",
    "\n",
    "                    article_data = {\n",
    "                        'page': page_num,\n",
    "                        'index': i + 1,\n",
    "                        'title': title,\n",
    "                        'link': full_url,\n",
    "                        'category': category,\n",
    "                        'summary': summary,\n",
    "                        'pubdate': pubdate\n",
    "                    }\n",
    "                    articles.append(article_data)\n",
    "\n",
    "                    print(f'   - [P{page_num}-{i+1}] {title[:30]}...')\n",
    "                    time.sleep(0.5)\n",
    "\n",
    "            except requests.exceptions.RequestException as e:\n",
    "                print(f\"오류: 요청 오류 ({current_list_url}): {e}\")\n",
    "                time.sleep(2)\n",
    "            except Exception as e:\n",
    "                print(f\"오류: 처리 중 오류: {e}\")\n",
    "                import traceback\n",
    "                traceback.print_exc()\n",
    "                \n",
    "        print(\"\\n=== 최종 수집 완료 ===\")\n",
    "        all_articles[name] = articles\n",
    "        pass        \n",
    "    elif name == '메디파나뉴스':\n",
    "        articles = []\n",
    "        for page_num in range(START_PAGE, END_PAGE + 1):\n",
    "            # 1. 현재 페이지 URL 생성\n",
    "            if '{}' in list_base_url:\n",
    "                current_list_url = list_base_url.format(page_num)\n",
    "            else:\n",
    "                current_list_url = list_base_url\n",
    "            \n",
    "            print(f\"--- 현재 {page_num} 페이지 수집 중 ({current_list_url}) ---\")\n",
    "\n",
    "            try:\n",
    "                init_response = requests.get(current_list_url, timeout=10)\n",
    "                soup = BeautifulSoup(init_response.content, 'html.parser')\n",
    "                \n",
    "                # 뉴스 항목 선택\n",
    "                news_list = soup.select('div.lst_feature1 > ul > li')\n",
    "                \n",
    "                if not news_list:\n",
    "                    print(f\"경고: {page_num} 페이지에서 기사를 찾을 수 없습니다.\")\n",
    "                    break\n",
    "\n",
    "                print(f'완료: {len(news_list)}개 기사 발견')\n",
    "\n",
    "                # 각 기사 처리\n",
    "                for i, item in enumerate(news_list):\n",
    "                    # 링크 추출\n",
    "                    link_element = item.select_one('a')\n",
    "                    if not link_element:\n",
    "                        continue\n",
    "                    \n",
    "                    relative_url = link_element['href']\n",
    "                    \n",
    "                    # 상대 URL 처리\n",
    "                    if relative_url.startswith('./'):\n",
    "                        relative_url = relative_url[2:]  # ./ 제거\n",
    "                    \n",
    "                    if relative_url.startswith('/'):\n",
    "                        full_url = base_url + relative_url\n",
    "                    else:\n",
    "                        full_url = base_url + '/' + relative_url\n",
    "                    \n",
    "                    # 제목 추출\n",
    "                    title_element = item.select_one('div.tx p.h1')\n",
    "                    if not title_element:\n",
    "                        continue\n",
    "                    title = title_element.get_text(strip=True)\n",
    "                    \n",
    "                    # 날짜와 카테고리 추출\n",
    "                    tit_div = item.select_one('div.tit')\n",
    "                    category = \"\"\n",
    "                    author = \"\"\n",
    "                    pubdate = \"\"\n",
    "                    \n",
    "                    if tit_div:\n",
    "                        tit_paragraphs = tit_div.select('p')\n",
    "                        if len(tit_paragraphs) >= 3:\n",
    "                            category = tit_paragraphs[0].get_text(strip=True)  # 예: \"유통ㆍ건기식\"\n",
    "                            author = tit_paragraphs[1].get_text(strip=True)     # 예: \"최봉선 기자\"\n",
    "                            pubdate = tit_paragraphs[2].get_text(strip=True)   # 예: \"25.09.29 09:55\"\n",
    "                    \n",
    "                    # 요약 추출\n",
    "                    summary_element = item.select_one('div.tx p.t1')\n",
    "                    summary = summary_element.get_text(strip=True) if summary_element else \"\"\n",
    "\n",
    "                    # 본문 추출\n",
    "                    try:\n",
    "                        contents_response = requests.get(full_url, timeout=10)\n",
    "                        contents_html = BeautifulSoup(contents_response.content, 'html.parser')\n",
    "\n",
    "                        # 본문 셀렉터 시도\n",
    "                        article_tag = (\n",
    "                            contents_html.select_one('div.article_view') or\n",
    "                            contents_html.select_one('div.content') or\n",
    "                            contents_html.select_one('article')\n",
    "                        )\n",
    "                        \n",
    "                        if article_tag:\n",
    "                            for unwanted in article_tag.select('script, style, .ad, .advertisement'):\n",
    "                                unwanted.decompose()\n",
    "                            contents = article_tag.get_text(strip=True, separator='\\n')\n",
    "                        else:\n",
    "                            contents = summary\n",
    "                            \n",
    "                    except Exception as content_error:\n",
    "                        print(f\"   본문 추출 실패: {content_error}\")\n",
    "                        contents = summary\n",
    "\n",
    "                    article_data = {\n",
    "                        'page': page_num,\n",
    "                        'index': i + 1,\n",
    "                        'title': title,\n",
    "                        'link': full_url,\n",
    "                        'content': contents,\n",
    "                        'summary': summary,\n",
    "                        'category': category,\n",
    "                        'author': author,\n",
    "                        'pubdate': pubdate\n",
    "                    }\n",
    "                    articles.append(article_data)\n",
    "\n",
    "                    print(f'   - [P{page_num}-{i+1}] {title[:30]}...')\n",
    "                    time.sleep(0.5)\n",
    "\n",
    "            except requests.exceptions.RequestException as e:\n",
    "                print(f\"오류: 요청 오류 ({current_list_url}): {e}\")\n",
    "                time.sleep(2)\n",
    "            except Exception as e:\n",
    "                print(f\"오류: 처리 중 오류: {e}\")\n",
    "                import traceback\n",
    "                traceback.print_exc()\n",
    "                \n",
    "        print(\"\\n=== 최종 수집 완료 ===\")\n",
    "        all_articles[name] = articles\n",
    "    elif name == '푸드투데이':\n",
    "        articles = []\n",
    "        for page_num in range(START_PAGE, END_PAGE + 1):\n",
    "            # 1. 현재 페이지 URL 생성\n",
    "            if '{}' in list_base_url:\n",
    "                current_list_url = list_base_url.format(page_num)\n",
    "            else:\n",
    "                current_list_url = list_base_url\n",
    "            \n",
    "            print(f\"--- 현재 {page_num} 페이지 수집 중 ({current_list_url}) ---\")\n",
    "\n",
    "            try:\n",
    "                init_response = requests.get(current_list_url, timeout=10)\n",
    "                soup = BeautifulSoup(init_response.content, 'html.parser')\n",
    "                \n",
    "                # 뉴스 항목 선택\n",
    "                news_list = soup.select('ul.art_list_all > li')\n",
    "                \n",
    "                if not news_list:\n",
    "                    print(f\"경고: {page_num} 페이지에서 기사를 찾을 수 없습니다.\")\n",
    "                    break\n",
    "\n",
    "                print(f'완료: {len(news_list)}개 기사 발견')\n",
    "\n",
    "                # 각 기사 처리\n",
    "                for i, item in enumerate(news_list):\n",
    "                    # 링크 추출\n",
    "                    link_element = item.select_one('a')\n",
    "                    if not link_element:\n",
    "                        continue\n",
    "                    \n",
    "                    relative_url = link_element['href']\n",
    "                    \n",
    "                    # 상대 URL 처리\n",
    "                    if relative_url.startswith('/'):\n",
    "                        full_url = base_url + relative_url\n",
    "                    else:\n",
    "                        full_url = base_url + '/' + relative_url\n",
    "                    \n",
    "                    # 제목 추출\n",
    "                    title_element = item.select_one('h2')\n",
    "                    if not title_element:\n",
    "                        continue\n",
    "                    title = title_element.get_text(strip=True)\n",
    "                    \n",
    "                    # 요약 추출\n",
    "                    summary_element = item.select_one('p.ffd')\n",
    "                    summary = summary_element.get_text(strip=True) if summary_element else \"\"\n",
    "                    \n",
    "                    # 작성자와 날짜 추출\n",
    "                    author = \"\"\n",
    "                    pubdate = \"\"\n",
    "                    \n",
    "                    art_info = item.select('ul.art_info > li')\n",
    "                    if len(art_info) >= 2:\n",
    "                        author = art_info[0].get_text(strip=True)   # 예: \"황인선 기자\"\n",
    "                        pubdate = art_info[1].get_text(strip=True)  # 예: \"2025-09-29 08:55\"\n",
    "\n",
    "                    # 본문 추출\n",
    "                    try:\n",
    "                        contents_response = requests.get(full_url, timeout=10)\n",
    "                        contents_html = BeautifulSoup(contents_response.content, 'html.parser')\n",
    "\n",
    "                        # 본문 셀렉터 시도\n",
    "                        article_tag = (\n",
    "                            contents_html.select_one('div.article_body') or\n",
    "                            contents_html.select_one('div.art_body') or\n",
    "                            contents_html.select_one('div.content') or\n",
    "                            contents_html.select_one('article')\n",
    "                        )\n",
    "                        \n",
    "                        if article_tag:\n",
    "                            for unwanted in article_tag.select('script, style, .ad, .advertisement'):\n",
    "                                unwanted.decompose()\n",
    "                            contents = article_tag.get_text(strip=True, separator='\\n')\n",
    "                        else:\n",
    "                            contents = summary\n",
    "                            \n",
    "                    except Exception as content_error:\n",
    "                        print(f\"   본문 추출 실패: {content_error}\")\n",
    "                        contents = summary\n",
    "\n",
    "                    article_data = {\n",
    "                        'page': page_num,\n",
    "                        'index': i + 1,\n",
    "                        'title': title,\n",
    "                        'link': full_url,\n",
    "                        'content': contents,\n",
    "                        'summary': summary,\n",
    "                        'author': author,\n",
    "                        'pubdate': pubdate\n",
    "                    }\n",
    "                    articles.append(article_data)\n",
    "\n",
    "                    print(f'   - [P{page_num}-{i+1}] {title[:30]}...')\n",
    "                    time.sleep(0.5)\n",
    "\n",
    "            except requests.exceptions.RequestException as e:\n",
    "                print(f\"오류: 요청 오류 ({current_list_url}): {e}\")\n",
    "                time.sleep(2)\n",
    "            except Exception as e:\n",
    "                print(f\"오류: 처리 중 오류: {e}\")\n",
    "                import traceback\n",
    "                traceback.print_exc()\n",
    "                \n",
    "        print(\"\\n=== 최종 수집 완료 ===\")\n",
    "        all_articles[name] = articles\n",
    "        pass\n",
    "        "
   ]
  },
  {
   "cell_type": "code",
   "execution_count": null,
   "id": "c9d533d1",
   "metadata": {},
   "outputs": [],
   "source": [
    "\n"
   ]
  }
 ],
 "metadata": {
  "kernelspec": {
   "display_name": "Python 3",
   "language": "python",
   "name": "python3"
  },
  "language_info": {
   "codemirror_mode": {
    "name": "ipython",
    "version": 3
   },
   "file_extension": ".py",
   "mimetype": "text/x-python",
   "name": "python",
   "nbconvert_exporter": "python",
   "pygments_lexer": "ipython3",
   "version": "3.13.4"
  }
 },
 "nbformat": 4,
 "nbformat_minor": 5
}
